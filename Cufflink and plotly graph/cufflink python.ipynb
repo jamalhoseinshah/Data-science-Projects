{
 "cells": [
  {
   "cell_type": "markdown",
   "id": "c78edcae",
   "metadata": {},
   "source": [
    "## Cufflink\n",
    "\n",
    "Cufflink is also a python library that connects plotly with pandas so that we can create charts directly on data frames. It basically acts as a plugin.\n",
    "\n",
    "This is created by jamal hussain shah topic Cufflink"
   ]
  },
  {
   "cell_type": "code",
   "execution_count": 5,
   "id": "a920056d",
   "metadata": {},
   "outputs": [
    {
     "data": {
      "text/html": [
       "        <script type=\"text/javascript\">\n",
       "        window.PlotlyConfig = {MathJaxConfig: 'local'};\n",
       "        if (window.MathJax) {MathJax.Hub.Config({SVG: {font: \"STIX-Web\"}});}\n",
       "        if (typeof require !== 'undefined') {\n",
       "        require.undef(\"plotly\");\n",
       "        requirejs.config({\n",
       "            paths: {\n",
       "                'plotly': ['https://cdn.plot.ly/plotly-2.9.0.min']\n",
       "            }\n",
       "        });\n",
       "        require(['plotly'], function(Plotly) {\n",
       "            window._Plotly = Plotly;\n",
       "        });\n",
       "        }\n",
       "        </script>\n",
       "        "
      ]
     },
     "metadata": {},
     "output_type": "display_data"
    }
   ],
   "source": [
    "import cufflinks as cf\n",
    "import plotly.offline as pyo\n",
    "import pandas as pd\n",
    "import numpy as np\n",
    "cf.go_offline()"
   ]
  },
  {
   "cell_type": "code",
   "execution_count": 6,
   "id": "e20c99c9",
   "metadata": {},
   "outputs": [
    {
     "data": {
      "application/vnd.plotly.v1+json": {
       "config": {
        "linkText": "Export to plot.ly",
        "plotlyServerURL": "https://plot.ly",
        "showLink": true
       },
       "data": [
        {
         "colorscale": [
          [
           0,
           "rgb(255, 153, 51)"
          ],
          [
           0.1111111111111111,
           "rgb(55, 128, 191)"
          ],
          [
           0.2222222222222222,
           "rgb(50, 171, 96)"
          ],
          [
           0.3333333333333333,
           "rgb(128, 0, 128)"
          ],
          [
           0.4444444444444444,
           "rgb(219, 64, 82)"
          ],
          [
           0.5555555555555556,
           "rgb(0, 128, 128)"
          ],
          [
           0.6666666666666666,
           "rgb(255, 255, 51)"
          ],
          [
           0.7777777777777778,
           "rgb(128, 128, 0)"
          ],
          [
           0.8888888888888888,
           "rgb(251, 128, 114)"
          ],
          [
           1,
           "rgb(128, 177, 211)"
          ]
         ],
         "type": "surface",
         "x": [
          0,
          1,
          2,
          3,
          4
         ],
         "y": [
          "id",
          "name",
          "remarks"
         ],
         "z": [
          [
           1,
           2,
           3,
           4,
           5
          ],
          [
           10,
           20,
           30,
           40,
           50
          ],
          [
           5,
           4,
           3,
           2,
           1
          ]
         ]
        }
       ],
       "layout": {
        "legend": {
         "bgcolor": "#F5F6F9",
         "font": {
          "color": "#4D5663"
         }
        },
        "paper_bgcolor": "#F5F6F9",
        "plot_bgcolor": "#F5F6F9",
        "template": {
         "data": {
          "bar": [
           {
            "error_x": {
             "color": "#2a3f5f"
            },
            "error_y": {
             "color": "#2a3f5f"
            },
            "marker": {
             "line": {
              "color": "#E5ECF6",
              "width": 0.5
             },
             "pattern": {
              "fillmode": "overlay",
              "size": 10,
              "solidity": 0.2
             }
            },
            "type": "bar"
           }
          ],
          "barpolar": [
           {
            "marker": {
             "line": {
              "color": "#E5ECF6",
              "width": 0.5
             },
             "pattern": {
              "fillmode": "overlay",
              "size": 10,
              "solidity": 0.2
             }
            },
            "type": "barpolar"
           }
          ],
          "carpet": [
           {
            "aaxis": {
             "endlinecolor": "#2a3f5f",
             "gridcolor": "white",
             "linecolor": "white",
             "minorgridcolor": "white",
             "startlinecolor": "#2a3f5f"
            },
            "baxis": {
             "endlinecolor": "#2a3f5f",
             "gridcolor": "white",
             "linecolor": "white",
             "minorgridcolor": "white",
             "startlinecolor": "#2a3f5f"
            },
            "type": "carpet"
           }
          ],
          "choropleth": [
           {
            "colorbar": {
             "outlinewidth": 0,
             "ticks": ""
            },
            "type": "choropleth"
           }
          ],
          "contour": [
           {
            "colorbar": {
             "outlinewidth": 0,
             "ticks": ""
            },
            "colorscale": [
             [
              0,
              "#0d0887"
             ],
             [
              0.1111111111111111,
              "#46039f"
             ],
             [
              0.2222222222222222,
              "#7201a8"
             ],
             [
              0.3333333333333333,
              "#9c179e"
             ],
             [
              0.4444444444444444,
              "#bd3786"
             ],
             [
              0.5555555555555556,
              "#d8576b"
             ],
             [
              0.6666666666666666,
              "#ed7953"
             ],
             [
              0.7777777777777778,
              "#fb9f3a"
             ],
             [
              0.8888888888888888,
              "#fdca26"
             ],
             [
              1,
              "#f0f921"
             ]
            ],
            "type": "contour"
           }
          ],
          "contourcarpet": [
           {
            "colorbar": {
             "outlinewidth": 0,
             "ticks": ""
            },
            "type": "contourcarpet"
           }
          ],
          "heatmap": [
           {
            "colorbar": {
             "outlinewidth": 0,
             "ticks": ""
            },
            "colorscale": [
             [
              0,
              "#0d0887"
             ],
             [
              0.1111111111111111,
              "#46039f"
             ],
             [
              0.2222222222222222,
              "#7201a8"
             ],
             [
              0.3333333333333333,
              "#9c179e"
             ],
             [
              0.4444444444444444,
              "#bd3786"
             ],
             [
              0.5555555555555556,
              "#d8576b"
             ],
             [
              0.6666666666666666,
              "#ed7953"
             ],
             [
              0.7777777777777778,
              "#fb9f3a"
             ],
             [
              0.8888888888888888,
              "#fdca26"
             ],
             [
              1,
              "#f0f921"
             ]
            ],
            "type": "heatmap"
           }
          ],
          "heatmapgl": [
           {
            "colorbar": {
             "outlinewidth": 0,
             "ticks": ""
            },
            "colorscale": [
             [
              0,
              "#0d0887"
             ],
             [
              0.1111111111111111,
              "#46039f"
             ],
             [
              0.2222222222222222,
              "#7201a8"
             ],
             [
              0.3333333333333333,
              "#9c179e"
             ],
             [
              0.4444444444444444,
              "#bd3786"
             ],
             [
              0.5555555555555556,
              "#d8576b"
             ],
             [
              0.6666666666666666,
              "#ed7953"
             ],
             [
              0.7777777777777778,
              "#fb9f3a"
             ],
             [
              0.8888888888888888,
              "#fdca26"
             ],
             [
              1,
              "#f0f921"
             ]
            ],
            "type": "heatmapgl"
           }
          ],
          "histogram": [
           {
            "marker": {
             "pattern": {
              "fillmode": "overlay",
              "size": 10,
              "solidity": 0.2
             }
            },
            "type": "histogram"
           }
          ],
          "histogram2d": [
           {
            "colorbar": {
             "outlinewidth": 0,
             "ticks": ""
            },
            "colorscale": [
             [
              0,
              "#0d0887"
             ],
             [
              0.1111111111111111,
              "#46039f"
             ],
             [
              0.2222222222222222,
              "#7201a8"
             ],
             [
              0.3333333333333333,
              "#9c179e"
             ],
             [
              0.4444444444444444,
              "#bd3786"
             ],
             [
              0.5555555555555556,
              "#d8576b"
             ],
             [
              0.6666666666666666,
              "#ed7953"
             ],
             [
              0.7777777777777778,
              "#fb9f3a"
             ],
             [
              0.8888888888888888,
              "#fdca26"
             ],
             [
              1,
              "#f0f921"
             ]
            ],
            "type": "histogram2d"
           }
          ],
          "histogram2dcontour": [
           {
            "colorbar": {
             "outlinewidth": 0,
             "ticks": ""
            },
            "colorscale": [
             [
              0,
              "#0d0887"
             ],
             [
              0.1111111111111111,
              "#46039f"
             ],
             [
              0.2222222222222222,
              "#7201a8"
             ],
             [
              0.3333333333333333,
              "#9c179e"
             ],
             [
              0.4444444444444444,
              "#bd3786"
             ],
             [
              0.5555555555555556,
              "#d8576b"
             ],
             [
              0.6666666666666666,
              "#ed7953"
             ],
             [
              0.7777777777777778,
              "#fb9f3a"
             ],
             [
              0.8888888888888888,
              "#fdca26"
             ],
             [
              1,
              "#f0f921"
             ]
            ],
            "type": "histogram2dcontour"
           }
          ],
          "mesh3d": [
           {
            "colorbar": {
             "outlinewidth": 0,
             "ticks": ""
            },
            "type": "mesh3d"
           }
          ],
          "parcoords": [
           {
            "line": {
             "colorbar": {
              "outlinewidth": 0,
              "ticks": ""
             }
            },
            "type": "parcoords"
           }
          ],
          "pie": [
           {
            "automargin": true,
            "type": "pie"
           }
          ],
          "scatter": [
           {
            "marker": {
             "colorbar": {
              "outlinewidth": 0,
              "ticks": ""
             }
            },
            "type": "scatter"
           }
          ],
          "scatter3d": [
           {
            "line": {
             "colorbar": {
              "outlinewidth": 0,
              "ticks": ""
             }
            },
            "marker": {
             "colorbar": {
              "outlinewidth": 0,
              "ticks": ""
             }
            },
            "type": "scatter3d"
           }
          ],
          "scattercarpet": [
           {
            "marker": {
             "colorbar": {
              "outlinewidth": 0,
              "ticks": ""
             }
            },
            "type": "scattercarpet"
           }
          ],
          "scattergeo": [
           {
            "marker": {
             "colorbar": {
              "outlinewidth": 0,
              "ticks": ""
             }
            },
            "type": "scattergeo"
           }
          ],
          "scattergl": [
           {
            "marker": {
             "colorbar": {
              "outlinewidth": 0,
              "ticks": ""
             }
            },
            "type": "scattergl"
           }
          ],
          "scattermapbox": [
           {
            "marker": {
             "colorbar": {
              "outlinewidth": 0,
              "ticks": ""
             }
            },
            "type": "scattermapbox"
           }
          ],
          "scatterpolar": [
           {
            "marker": {
             "colorbar": {
              "outlinewidth": 0,
              "ticks": ""
             }
            },
            "type": "scatterpolar"
           }
          ],
          "scatterpolargl": [
           {
            "marker": {
             "colorbar": {
              "outlinewidth": 0,
              "ticks": ""
             }
            },
            "type": "scatterpolargl"
           }
          ],
          "scatterternary": [
           {
            "marker": {
             "colorbar": {
              "outlinewidth": 0,
              "ticks": ""
             }
            },
            "type": "scatterternary"
           }
          ],
          "surface": [
           {
            "colorbar": {
             "outlinewidth": 0,
             "ticks": ""
            },
            "colorscale": [
             [
              0,
              "#0d0887"
             ],
             [
              0.1111111111111111,
              "#46039f"
             ],
             [
              0.2222222222222222,
              "#7201a8"
             ],
             [
              0.3333333333333333,
              "#9c179e"
             ],
             [
              0.4444444444444444,
              "#bd3786"
             ],
             [
              0.5555555555555556,
              "#d8576b"
             ],
             [
              0.6666666666666666,
              "#ed7953"
             ],
             [
              0.7777777777777778,
              "#fb9f3a"
             ],
             [
              0.8888888888888888,
              "#fdca26"
             ],
             [
              1,
              "#f0f921"
             ]
            ],
            "type": "surface"
           }
          ],
          "table": [
           {
            "cells": {
             "fill": {
              "color": "#EBF0F8"
             },
             "line": {
              "color": "white"
             }
            },
            "header": {
             "fill": {
              "color": "#C8D4E3"
             },
             "line": {
              "color": "white"
             }
            },
            "type": "table"
           }
          ]
         },
         "layout": {
          "annotationdefaults": {
           "arrowcolor": "#2a3f5f",
           "arrowhead": 0,
           "arrowwidth": 1
          },
          "autotypenumbers": "strict",
          "coloraxis": {
           "colorbar": {
            "outlinewidth": 0,
            "ticks": ""
           }
          },
          "colorscale": {
           "diverging": [
            [
             0,
             "#8e0152"
            ],
            [
             0.1,
             "#c51b7d"
            ],
            [
             0.2,
             "#de77ae"
            ],
            [
             0.3,
             "#f1b6da"
            ],
            [
             0.4,
             "#fde0ef"
            ],
            [
             0.5,
             "#f7f7f7"
            ],
            [
             0.6,
             "#e6f5d0"
            ],
            [
             0.7,
             "#b8e186"
            ],
            [
             0.8,
             "#7fbc41"
            ],
            [
             0.9,
             "#4d9221"
            ],
            [
             1,
             "#276419"
            ]
           ],
           "sequential": [
            [
             0,
             "#0d0887"
            ],
            [
             0.1111111111111111,
             "#46039f"
            ],
            [
             0.2222222222222222,
             "#7201a8"
            ],
            [
             0.3333333333333333,
             "#9c179e"
            ],
            [
             0.4444444444444444,
             "#bd3786"
            ],
            [
             0.5555555555555556,
             "#d8576b"
            ],
            [
             0.6666666666666666,
             "#ed7953"
            ],
            [
             0.7777777777777778,
             "#fb9f3a"
            ],
            [
             0.8888888888888888,
             "#fdca26"
            ],
            [
             1,
             "#f0f921"
            ]
           ],
           "sequentialminus": [
            [
             0,
             "#0d0887"
            ],
            [
             0.1111111111111111,
             "#46039f"
            ],
            [
             0.2222222222222222,
             "#7201a8"
            ],
            [
             0.3333333333333333,
             "#9c179e"
            ],
            [
             0.4444444444444444,
             "#bd3786"
            ],
            [
             0.5555555555555556,
             "#d8576b"
            ],
            [
             0.6666666666666666,
             "#ed7953"
            ],
            [
             0.7777777777777778,
             "#fb9f3a"
            ],
            [
             0.8888888888888888,
             "#fdca26"
            ],
            [
             1,
             "#f0f921"
            ]
           ]
          },
          "colorway": [
           "#636efa",
           "#EF553B",
           "#00cc96",
           "#ab63fa",
           "#FFA15A",
           "#19d3f3",
           "#FF6692",
           "#B6E880",
           "#FF97FF",
           "#FECB52"
          ],
          "font": {
           "color": "#2a3f5f"
          },
          "geo": {
           "bgcolor": "white",
           "lakecolor": "white",
           "landcolor": "#E5ECF6",
           "showlakes": true,
           "showland": true,
           "subunitcolor": "white"
          },
          "hoverlabel": {
           "align": "left"
          },
          "hovermode": "closest",
          "mapbox": {
           "style": "light"
          },
          "paper_bgcolor": "white",
          "plot_bgcolor": "#E5ECF6",
          "polar": {
           "angularaxis": {
            "gridcolor": "white",
            "linecolor": "white",
            "ticks": ""
           },
           "bgcolor": "#E5ECF6",
           "radialaxis": {
            "gridcolor": "white",
            "linecolor": "white",
            "ticks": ""
           }
          },
          "scene": {
           "xaxis": {
            "backgroundcolor": "#E5ECF6",
            "gridcolor": "white",
            "gridwidth": 2,
            "linecolor": "white",
            "showbackground": true,
            "ticks": "",
            "zerolinecolor": "white"
           },
           "yaxis": {
            "backgroundcolor": "#E5ECF6",
            "gridcolor": "white",
            "gridwidth": 2,
            "linecolor": "white",
            "showbackground": true,
            "ticks": "",
            "zerolinecolor": "white"
           },
           "zaxis": {
            "backgroundcolor": "#E5ECF6",
            "gridcolor": "white",
            "gridwidth": 2,
            "linecolor": "white",
            "showbackground": true,
            "ticks": "",
            "zerolinecolor": "white"
           }
          },
          "shapedefaults": {
           "line": {
            "color": "#2a3f5f"
           }
          },
          "ternary": {
           "aaxis": {
            "gridcolor": "white",
            "linecolor": "white",
            "ticks": ""
           },
           "baxis": {
            "gridcolor": "white",
            "linecolor": "white",
            "ticks": ""
           },
           "bgcolor": "#E5ECF6",
           "caxis": {
            "gridcolor": "white",
            "linecolor": "white",
            "ticks": ""
           }
          },
          "title": {
           "x": 0.05
          },
          "xaxis": {
           "automargin": true,
           "gridcolor": "white",
           "linecolor": "white",
           "ticks": "",
           "title": {
            "standoff": 15
           },
           "zerolinecolor": "white",
           "zerolinewidth": 2
          },
          "yaxis": {
           "automargin": true,
           "gridcolor": "white",
           "linecolor": "white",
           "ticks": "",
           "title": {
            "standoff": 15
           },
           "zerolinecolor": "white",
           "zerolinewidth": 2
          }
         }
        },
        "title": {
         "font": {
          "color": "#4D5663"
         }
        },
        "xaxis": {
         "gridcolor": "#E1E5ED",
         "showgrid": true,
         "tickfont": {
          "color": "#4D5663"
         },
         "title": {
          "font": {
           "color": "#4D5663"
          },
          "text": ""
         },
         "zerolinecolor": "#E1E5ED"
        },
        "yaxis": {
         "gridcolor": "#E1E5ED",
         "showgrid": true,
         "tickfont": {
          "color": "#4D5663"
         },
         "title": {
          "font": {
           "color": "#4D5663"
          },
          "text": ""
         },
         "zerolinecolor": "#E1E5ED"
        }
       }
      },
      "text/html": [
       "<div>                            <div id=\"33d9a605-497a-4cee-87e6-a229284e5ee0\" class=\"plotly-graph-div\" style=\"height:525px; width:100%;\"></div>            <script type=\"text/javascript\">                require([\"plotly\"], function(Plotly) {                    window.PLOTLYENV=window.PLOTLYENV || {};\n",
       "                    window.PLOTLYENV.BASE_URL='https://plot.ly';                                    if (document.getElementById(\"33d9a605-497a-4cee-87e6-a229284e5ee0\")) {                    Plotly.newPlot(                        \"33d9a605-497a-4cee-87e6-a229284e5ee0\",                        [{\"colorscale\":[[0.0,\"rgb(255, 153, 51)\"],[0.1111111111111111,\"rgb(55, 128, 191)\"],[0.2222222222222222,\"rgb(50, 171, 96)\"],[0.3333333333333333,\"rgb(128, 0, 128)\"],[0.4444444444444444,\"rgb(219, 64, 82)\"],[0.5555555555555556,\"rgb(0, 128, 128)\"],[0.6666666666666666,\"rgb(255, 255, 51)\"],[0.7777777777777778,\"rgb(128, 128, 0)\"],[0.8888888888888888,\"rgb(251, 128, 114)\"],[1.0,\"rgb(128, 177, 211)\"]],\"x\":[0,1,2,3,4],\"y\":[\"id\",\"name\",\"remarks\"],\"z\":[[1,2,3,4,5],[10,20,30,40,50],[5,4,3,2,1]],\"type\":\"surface\"}],                        {\"legend\":{\"bgcolor\":\"#F5F6F9\",\"font\":{\"color\":\"#4D5663\"}},\"paper_bgcolor\":\"#F5F6F9\",\"plot_bgcolor\":\"#F5F6F9\",\"template\":{\"data\":{\"barpolar\":[{\"marker\":{\"line\":{\"color\":\"#E5ECF6\",\"width\":0.5},\"pattern\":{\"fillmode\":\"overlay\",\"size\":10,\"solidity\":0.2}},\"type\":\"barpolar\"}],\"bar\":[{\"error_x\":{\"color\":\"#2a3f5f\"},\"error_y\":{\"color\":\"#2a3f5f\"},\"marker\":{\"line\":{\"color\":\"#E5ECF6\",\"width\":0.5},\"pattern\":{\"fillmode\":\"overlay\",\"size\":10,\"solidity\":0.2}},\"type\":\"bar\"}],\"carpet\":[{\"aaxis\":{\"endlinecolor\":\"#2a3f5f\",\"gridcolor\":\"white\",\"linecolor\":\"white\",\"minorgridcolor\":\"white\",\"startlinecolor\":\"#2a3f5f\"},\"baxis\":{\"endlinecolor\":\"#2a3f5f\",\"gridcolor\":\"white\",\"linecolor\":\"white\",\"minorgridcolor\":\"white\",\"startlinecolor\":\"#2a3f5f\"},\"type\":\"carpet\"}],\"choropleth\":[{\"colorbar\":{\"outlinewidth\":0,\"ticks\":\"\"},\"type\":\"choropleth\"}],\"contourcarpet\":[{\"colorbar\":{\"outlinewidth\":0,\"ticks\":\"\"},\"type\":\"contourcarpet\"}],\"contour\":[{\"colorbar\":{\"outlinewidth\":0,\"ticks\":\"\"},\"colorscale\":[[0.0,\"#0d0887\"],[0.1111111111111111,\"#46039f\"],[0.2222222222222222,\"#7201a8\"],[0.3333333333333333,\"#9c179e\"],[0.4444444444444444,\"#bd3786\"],[0.5555555555555556,\"#d8576b\"],[0.6666666666666666,\"#ed7953\"],[0.7777777777777778,\"#fb9f3a\"],[0.8888888888888888,\"#fdca26\"],[1.0,\"#f0f921\"]],\"type\":\"contour\"}],\"heatmapgl\":[{\"colorbar\":{\"outlinewidth\":0,\"ticks\":\"\"},\"colorscale\":[[0.0,\"#0d0887\"],[0.1111111111111111,\"#46039f\"],[0.2222222222222222,\"#7201a8\"],[0.3333333333333333,\"#9c179e\"],[0.4444444444444444,\"#bd3786\"],[0.5555555555555556,\"#d8576b\"],[0.6666666666666666,\"#ed7953\"],[0.7777777777777778,\"#fb9f3a\"],[0.8888888888888888,\"#fdca26\"],[1.0,\"#f0f921\"]],\"type\":\"heatmapgl\"}],\"heatmap\":[{\"colorbar\":{\"outlinewidth\":0,\"ticks\":\"\"},\"colorscale\":[[0.0,\"#0d0887\"],[0.1111111111111111,\"#46039f\"],[0.2222222222222222,\"#7201a8\"],[0.3333333333333333,\"#9c179e\"],[0.4444444444444444,\"#bd3786\"],[0.5555555555555556,\"#d8576b\"],[0.6666666666666666,\"#ed7953\"],[0.7777777777777778,\"#fb9f3a\"],[0.8888888888888888,\"#fdca26\"],[1.0,\"#f0f921\"]],\"type\":\"heatmap\"}],\"histogram2dcontour\":[{\"colorbar\":{\"outlinewidth\":0,\"ticks\":\"\"},\"colorscale\":[[0.0,\"#0d0887\"],[0.1111111111111111,\"#46039f\"],[0.2222222222222222,\"#7201a8\"],[0.3333333333333333,\"#9c179e\"],[0.4444444444444444,\"#bd3786\"],[0.5555555555555556,\"#d8576b\"],[0.6666666666666666,\"#ed7953\"],[0.7777777777777778,\"#fb9f3a\"],[0.8888888888888888,\"#fdca26\"],[1.0,\"#f0f921\"]],\"type\":\"histogram2dcontour\"}],\"histogram2d\":[{\"colorbar\":{\"outlinewidth\":0,\"ticks\":\"\"},\"colorscale\":[[0.0,\"#0d0887\"],[0.1111111111111111,\"#46039f\"],[0.2222222222222222,\"#7201a8\"],[0.3333333333333333,\"#9c179e\"],[0.4444444444444444,\"#bd3786\"],[0.5555555555555556,\"#d8576b\"],[0.6666666666666666,\"#ed7953\"],[0.7777777777777778,\"#fb9f3a\"],[0.8888888888888888,\"#fdca26\"],[1.0,\"#f0f921\"]],\"type\":\"histogram2d\"}],\"histogram\":[{\"marker\":{\"pattern\":{\"fillmode\":\"overlay\",\"size\":10,\"solidity\":0.2}},\"type\":\"histogram\"}],\"mesh3d\":[{\"colorbar\":{\"outlinewidth\":0,\"ticks\":\"\"},\"type\":\"mesh3d\"}],\"parcoords\":[{\"line\":{\"colorbar\":{\"outlinewidth\":0,\"ticks\":\"\"}},\"type\":\"parcoords\"}],\"pie\":[{\"automargin\":true,\"type\":\"pie\"}],\"scatter3d\":[{\"line\":{\"colorbar\":{\"outlinewidth\":0,\"ticks\":\"\"}},\"marker\":{\"colorbar\":{\"outlinewidth\":0,\"ticks\":\"\"}},\"type\":\"scatter3d\"}],\"scattercarpet\":[{\"marker\":{\"colorbar\":{\"outlinewidth\":0,\"ticks\":\"\"}},\"type\":\"scattercarpet\"}],\"scattergeo\":[{\"marker\":{\"colorbar\":{\"outlinewidth\":0,\"ticks\":\"\"}},\"type\":\"scattergeo\"}],\"scattergl\":[{\"marker\":{\"colorbar\":{\"outlinewidth\":0,\"ticks\":\"\"}},\"type\":\"scattergl\"}],\"scattermapbox\":[{\"marker\":{\"colorbar\":{\"outlinewidth\":0,\"ticks\":\"\"}},\"type\":\"scattermapbox\"}],\"scatterpolargl\":[{\"marker\":{\"colorbar\":{\"outlinewidth\":0,\"ticks\":\"\"}},\"type\":\"scatterpolargl\"}],\"scatterpolar\":[{\"marker\":{\"colorbar\":{\"outlinewidth\":0,\"ticks\":\"\"}},\"type\":\"scatterpolar\"}],\"scatter\":[{\"marker\":{\"colorbar\":{\"outlinewidth\":0,\"ticks\":\"\"}},\"type\":\"scatter\"}],\"scatterternary\":[{\"marker\":{\"colorbar\":{\"outlinewidth\":0,\"ticks\":\"\"}},\"type\":\"scatterternary\"}],\"surface\":[{\"colorbar\":{\"outlinewidth\":0,\"ticks\":\"\"},\"colorscale\":[[0.0,\"#0d0887\"],[0.1111111111111111,\"#46039f\"],[0.2222222222222222,\"#7201a8\"],[0.3333333333333333,\"#9c179e\"],[0.4444444444444444,\"#bd3786\"],[0.5555555555555556,\"#d8576b\"],[0.6666666666666666,\"#ed7953\"],[0.7777777777777778,\"#fb9f3a\"],[0.8888888888888888,\"#fdca26\"],[1.0,\"#f0f921\"]],\"type\":\"surface\"}],\"table\":[{\"cells\":{\"fill\":{\"color\":\"#EBF0F8\"},\"line\":{\"color\":\"white\"}},\"header\":{\"fill\":{\"color\":\"#C8D4E3\"},\"line\":{\"color\":\"white\"}},\"type\":\"table\"}]},\"layout\":{\"annotationdefaults\":{\"arrowcolor\":\"#2a3f5f\",\"arrowhead\":0,\"arrowwidth\":1},\"autotypenumbers\":\"strict\",\"coloraxis\":{\"colorbar\":{\"outlinewidth\":0,\"ticks\":\"\"}},\"colorscale\":{\"diverging\":[[0,\"#8e0152\"],[0.1,\"#c51b7d\"],[0.2,\"#de77ae\"],[0.3,\"#f1b6da\"],[0.4,\"#fde0ef\"],[0.5,\"#f7f7f7\"],[0.6,\"#e6f5d0\"],[0.7,\"#b8e186\"],[0.8,\"#7fbc41\"],[0.9,\"#4d9221\"],[1,\"#276419\"]],\"sequential\":[[0.0,\"#0d0887\"],[0.1111111111111111,\"#46039f\"],[0.2222222222222222,\"#7201a8\"],[0.3333333333333333,\"#9c179e\"],[0.4444444444444444,\"#bd3786\"],[0.5555555555555556,\"#d8576b\"],[0.6666666666666666,\"#ed7953\"],[0.7777777777777778,\"#fb9f3a\"],[0.8888888888888888,\"#fdca26\"],[1.0,\"#f0f921\"]],\"sequentialminus\":[[0.0,\"#0d0887\"],[0.1111111111111111,\"#46039f\"],[0.2222222222222222,\"#7201a8\"],[0.3333333333333333,\"#9c179e\"],[0.4444444444444444,\"#bd3786\"],[0.5555555555555556,\"#d8576b\"],[0.6666666666666666,\"#ed7953\"],[0.7777777777777778,\"#fb9f3a\"],[0.8888888888888888,\"#fdca26\"],[1.0,\"#f0f921\"]]},\"colorway\":[\"#636efa\",\"#EF553B\",\"#00cc96\",\"#ab63fa\",\"#FFA15A\",\"#19d3f3\",\"#FF6692\",\"#B6E880\",\"#FF97FF\",\"#FECB52\"],\"font\":{\"color\":\"#2a3f5f\"},\"geo\":{\"bgcolor\":\"white\",\"lakecolor\":\"white\",\"landcolor\":\"#E5ECF6\",\"showlakes\":true,\"showland\":true,\"subunitcolor\":\"white\"},\"hoverlabel\":{\"align\":\"left\"},\"hovermode\":\"closest\",\"mapbox\":{\"style\":\"light\"},\"paper_bgcolor\":\"white\",\"plot_bgcolor\":\"#E5ECF6\",\"polar\":{\"angularaxis\":{\"gridcolor\":\"white\",\"linecolor\":\"white\",\"ticks\":\"\"},\"bgcolor\":\"#E5ECF6\",\"radialaxis\":{\"gridcolor\":\"white\",\"linecolor\":\"white\",\"ticks\":\"\"}},\"scene\":{\"xaxis\":{\"backgroundcolor\":\"#E5ECF6\",\"gridcolor\":\"white\",\"gridwidth\":2,\"linecolor\":\"white\",\"showbackground\":true,\"ticks\":\"\",\"zerolinecolor\":\"white\"},\"yaxis\":{\"backgroundcolor\":\"#E5ECF6\",\"gridcolor\":\"white\",\"gridwidth\":2,\"linecolor\":\"white\",\"showbackground\":true,\"ticks\":\"\",\"zerolinecolor\":\"white\"},\"zaxis\":{\"backgroundcolor\":\"#E5ECF6\",\"gridcolor\":\"white\",\"gridwidth\":2,\"linecolor\":\"white\",\"showbackground\":true,\"ticks\":\"\",\"zerolinecolor\":\"white\"}},\"shapedefaults\":{\"line\":{\"color\":\"#2a3f5f\"}},\"ternary\":{\"aaxis\":{\"gridcolor\":\"white\",\"linecolor\":\"white\",\"ticks\":\"\"},\"baxis\":{\"gridcolor\":\"white\",\"linecolor\":\"white\",\"ticks\":\"\"},\"bgcolor\":\"#E5ECF6\",\"caxis\":{\"gridcolor\":\"white\",\"linecolor\":\"white\",\"ticks\":\"\"}},\"title\":{\"x\":0.05},\"xaxis\":{\"automargin\":true,\"gridcolor\":\"white\",\"linecolor\":\"white\",\"ticks\":\"\",\"title\":{\"standoff\":15},\"zerolinecolor\":\"white\",\"zerolinewidth\":2},\"yaxis\":{\"automargin\":true,\"gridcolor\":\"white\",\"linecolor\":\"white\",\"ticks\":\"\",\"title\":{\"standoff\":15},\"zerolinecolor\":\"white\",\"zerolinewidth\":2}}},\"title\":{\"font\":{\"color\":\"#4D5663\"}},\"xaxis\":{\"gridcolor\":\"#E1E5ED\",\"showgrid\":true,\"tickfont\":{\"color\":\"#4D5663\"},\"title\":{\"font\":{\"color\":\"#4D5663\"},\"text\":\"\"},\"zerolinecolor\":\"#E1E5ED\"},\"yaxis\":{\"gridcolor\":\"#E1E5ED\",\"showgrid\":true,\"tickfont\":{\"color\":\"#4D5663\"},\"title\":{\"font\":{\"color\":\"#4D5663\"},\"text\":\"\"},\"zerolinecolor\":\"#E1E5ED\"}},                        {\"showLink\": true, \"linkText\": \"Export to plot.ly\", \"plotlyServerURL\": \"https://plot.ly\", \"responsive\": true}                    ).then(function(){\n",
       "                            \n",
       "var gd = document.getElementById('33d9a605-497a-4cee-87e6-a229284e5ee0');\n",
       "var x = new MutationObserver(function (mutations, observer) {{\n",
       "        var display = window.getComputedStyle(gd).display;\n",
       "        if (!display || display === 'none') {{\n",
       "            console.log([gd, 'removed!']);\n",
       "            Plotly.purge(gd);\n",
       "            observer.disconnect();\n",
       "        }}\n",
       "}});\n",
       "\n",
       "// Listen for the removal of the full notebook cells\n",
       "var notebookContainer = gd.closest('#notebook-container');\n",
       "if (notebookContainer) {{\n",
       "    x.observe(notebookContainer, {childList: true});\n",
       "}}\n",
       "\n",
       "// Listen for the clearing of the current output cell\n",
       "var outputEl = gd.closest('.output');\n",
       "if (outputEl) {{\n",
       "    x.observe(outputEl, {childList: true});\n",
       "}}\n",
       "\n",
       "                        })                };                });            </script>        </div>"
      ]
     },
     "metadata": {},
     "output_type": "display_data"
    }
   ],
   "source": [
    "x1 =[1,2,3,4,5]\n",
    "y1 = [10,20,30,40,50]\n",
    "z1= [5,4,3,2,1]\n",
    "dataset = pd.DataFrame({'id':x1,'name':y1,'remarks':z1})\n",
    "dataset.iplot(kind='surface')"
   ]
  },
  {
   "cell_type": "code",
   "execution_count": 7,
   "id": "24c37b1e",
   "metadata": {},
   "outputs": [
    {
     "data": {
      "application/vnd.plotly.v1+json": {
       "config": {
        "plotlyServerURL": "https://plot.ly"
       },
       "data": [
        {
         "line": {
          "color": "rgba(255, 153, 51, 1.0)",
          "dash": "solid",
          "shape": "linear",
          "width": 1.3
         },
         "mode": "lines",
         "name": "X",
         "text": "",
         "type": "scatter",
         "x": [
          0,
          1,
          2,
          3,
          4,
          5,
          6,
          7,
          8,
          9,
          10,
          11,
          12,
          13,
          14,
          15,
          16,
          17,
          18,
          19,
          20,
          21,
          22,
          23,
          24,
          25,
          26,
          27,
          28,
          29,
          30,
          31,
          32,
          33,
          34,
          35,
          36,
          37,
          38,
          39,
          40,
          41,
          42,
          43,
          44,
          45,
          46,
          47,
          48,
          49,
          50,
          51,
          52,
          53,
          54,
          55,
          56,
          57,
          58,
          59,
          60,
          61,
          62,
          63,
          64,
          65,
          66,
          67,
          68,
          69,
          70,
          71,
          72,
          73,
          74,
          75,
          76,
          77,
          78,
          79,
          80,
          81,
          82,
          83,
          84,
          85,
          86,
          87,
          88,
          89,
          90,
          91,
          92,
          93,
          94,
          95,
          96,
          97,
          98,
          99,
          100,
          101,
          102,
          103,
          104,
          105,
          106,
          107,
          108,
          109,
          110,
          111,
          112,
          113,
          114,
          115,
          116,
          117,
          118,
          119,
          120,
          121,
          122,
          123,
          124,
          125,
          126,
          127,
          128,
          129,
          130,
          131,
          132,
          133,
          134,
          135,
          136,
          137,
          138,
          139,
          140,
          141,
          142,
          143,
          144,
          145,
          146,
          147,
          148,
          149,
          150,
          151,
          152,
          153,
          154,
          155,
          156,
          157,
          158,
          159,
          160,
          161,
          162,
          163,
          164,
          165,
          166,
          167,
          168,
          169,
          170,
          171,
          172,
          173,
          174,
          175,
          176,
          177,
          178,
          179,
          180,
          181,
          182,
          183,
          184,
          185,
          186,
          187,
          188,
          189,
          190,
          191,
          192,
          193,
          194,
          195,
          196,
          197,
          198,
          199
         ],
         "y": [
          0.14197113938652536,
          -0.9085079540607396,
          -0.8562860612339684,
          -1.1055862057789738,
          -1.0299894954600182,
          -1.5168052292500516,
          -0.8461795826570433,
          -0.19491638386791432,
          -0.42808793637554654,
          -0.40144153048209424,
          -1.5983274859433962,
          -2.0179603588818686,
          -0.12216581148592542,
          0.2736649529373083,
          0.16141114761172304,
          1.3572528694030201,
          2.7396920828525806,
          2.7150131561254502,
          1.5986233068155549,
          1.256304759789289,
          0.33935418729955924,
          0.9675784290710975,
          0.7372096988624453,
          -1.35504629546503,
          -3.325448656657999,
          -4.457391960802026,
          -4.116260008915836,
          -3.1753591851746283,
          -4.571607771805285,
          -3.284143053355691,
          -4.443492782722203,
          -3.852848971451923,
          -2.651286143101494,
          -0.9380636139977028,
          -1.353971328273516,
          -0.43296151608068456,
          -2.4278970635685306,
          -4.264010015448268,
          -3.590301765063978,
          -4.102433077878482,
          -4.209893755516179,
          -4.374619842768348,
          -5.253838422529282,
          -6.317077029477186,
          -6.446115182450458,
          -7.761525315158826,
          -6.734214984714912,
          -7.492283726576011,
          -7.161687793932306,
          -7.342698466234359,
          -7.99981385808832,
          -7.0604132576903815,
          -8.30866313856346,
          -9.147285447662309,
          -10.104954804882095,
          -10.751174135052754,
          -10.972015755243365,
          -11.576228483645227,
          -12.87411032259731,
          -14.467166599360468,
          -16.6161592254859,
          -17.987567975008048,
          -19.997370953174567,
          -19.859074557536513,
          -19.64848694550843,
          -21.582689548107087,
          -20.134840799074393,
          -19.360612581208724,
          -20.723932280064727,
          -20.298848934980466,
          -20.709830144227364,
          -21.81782694647685,
          -21.210580200115892,
          -21.627000125322994,
          -20.071911673576196,
          -17.66815518853585,
          -18.265876476300978,
          -17.446500447060032,
          -17.269018318584763,
          -16.75655756051571,
          -15.306924723068203,
          -14.12422583011868,
          -13.515985665630959,
          -13.121320450196924,
          -12.802759867704312,
          -13.126112977373289,
          -11.637047464358774,
          -9.534435703353966,
          -11.828765278130504,
          -11.951907234744088,
          -10.313901191741651,
          -11.541009300086557,
          -11.274390615239788,
          -10.78566344983853,
          -11.32151832443801,
          -8.794358107087163,
          -9.19880177209122,
          -11.871586338559084,
          -11.510946483023575,
          -10.548206494994789,
          -9.546547026380757,
          -9.414406099255395,
          -8.392153428015227,
          -7.170814852957823,
          -6.774527979185958,
          -8.62060984987772,
          -8.600393131494302,
          -9.283440451321734,
          -8.401560206776335,
          -10.124209714525346,
          -10.757560714212081,
          -10.967719488611863,
          -11.331795530244042,
          -12.9200707367638,
          -11.42873964666366,
          -12.427218685838811,
          -13.81916714797082,
          -12.833716319609088,
          -13.959086103106735,
          -15.259803616181665,
          -15.58904191967191,
          -15.058541466060372,
          -16.481621830795167,
          -16.744604944487865,
          -18.3294901994417,
          -19.058890875653464,
          -19.475955063467463,
          -19.014513874500707,
          -19.26655788581655,
          -18.013195401661026,
          -18.235262795377103,
          -17.625837690274018,
          -17.51885208689973,
          -18.92216522852296,
          -18.95100296718944,
          -18.101483369012204,
          -17.126415281815245,
          -16.26929646996944,
          -16.111436783130063,
          -15.54512886861041,
          -18.031969538706544,
          -19.387072040388496,
          -20.694159796067815,
          -20.434242474893416,
          -20.61690765003094,
          -19.40064611205304,
          -20.11513205972035,
          -22.06372944946687,
          -23.002076591439167,
          -22.354898175677707,
          -22.076220168805254,
          -21.916632723623195,
          -21.67412461736418,
          -21.584264181995167,
          -21.243714471246808,
          -21.568581277954742,
          -20.316500803890737,
          -21.735249289873746,
          -21.776934239666634,
          -20.705528983942372,
          -19.69348251921324,
          -16.590670365396985,
          -17.85193629526402,
          -17.37667503863793,
          -17.869046546223185,
          -18.05041750667797,
          -18.11821751461483,
          -17.974697447251263,
          -16.454342687803784,
          -15.18548844553725,
          -15.982399009760824,
          -16.084028280234964,
          -17.363055556643253,
          -17.771589719922737,
          -16.219860008151826,
          -14.764398112262919,
          -13.753407227573508,
          -12.514937646827184,
          -12.198170398512117,
          -11.516129256136052,
          -10.547003370092899,
          -9.913623673358858,
          -10.399377911093582,
          -10.99547851397578,
          -9.26638035774341,
          -8.899860271927334,
          -7.743643898427406,
          -6.931425970924504,
          -6.901140529006443,
          -7.2895004338549505,
          -7.507524933989587,
          -9.487321283035909,
          -8.188227426095994,
          -8.839854359681324,
          -8.148449407817422,
          -10.6360696405353,
          -11.081744253877757,
          -12.289477819285123,
          -12.304572799589817,
          -12.677074866637046
         ]
        },
        {
         "line": {
          "color": "rgba(55, 128, 191, 1.0)",
          "dash": "solid",
          "shape": "linear",
          "width": 1.3
         },
         "mode": "lines",
         "name": "Y",
         "text": "",
         "type": "scatter",
         "x": [
          0,
          1,
          2,
          3,
          4,
          5,
          6,
          7,
          8,
          9,
          10,
          11,
          12,
          13,
          14,
          15,
          16,
          17,
          18,
          19,
          20,
          21,
          22,
          23,
          24,
          25,
          26,
          27,
          28,
          29,
          30,
          31,
          32,
          33,
          34,
          35,
          36,
          37,
          38,
          39,
          40,
          41,
          42,
          43,
          44,
          45,
          46,
          47,
          48,
          49,
          50,
          51,
          52,
          53,
          54,
          55,
          56,
          57,
          58,
          59,
          60,
          61,
          62,
          63,
          64,
          65,
          66,
          67,
          68,
          69,
          70,
          71,
          72,
          73,
          74,
          75,
          76,
          77,
          78,
          79,
          80,
          81,
          82,
          83,
          84,
          85,
          86,
          87,
          88,
          89,
          90,
          91,
          92,
          93,
          94,
          95,
          96,
          97,
          98,
          99,
          100,
          101,
          102,
          103,
          104,
          105,
          106,
          107,
          108,
          109,
          110,
          111,
          112,
          113,
          114,
          115,
          116,
          117,
          118,
          119,
          120,
          121,
          122,
          123,
          124,
          125,
          126,
          127,
          128,
          129,
          130,
          131,
          132,
          133,
          134,
          135,
          136,
          137,
          138,
          139,
          140,
          141,
          142,
          143,
          144,
          145,
          146,
          147,
          148,
          149,
          150,
          151,
          152,
          153,
          154,
          155,
          156,
          157,
          158,
          159,
          160,
          161,
          162,
          163,
          164,
          165,
          166,
          167,
          168,
          169,
          170,
          171,
          172,
          173,
          174,
          175,
          176,
          177,
          178,
          179,
          180,
          181,
          182,
          183,
          184,
          185,
          186,
          187,
          188,
          189,
          190,
          191,
          192,
          193,
          194,
          195,
          196,
          197,
          198,
          199
         ],
         "y": [
          -0.014657064324735002,
          -0.18328378644977414,
          -0.04938355960745869,
          -0.8062180168453352,
          -1.6408796839963824,
          -1.5412604018512281,
          -0.7089214466295576,
          -0.048393108103010674,
          -0.7523455967886488,
          0.2472588483466116,
          1.0648649549958957,
          -0.3060607907102928,
          0.8086789791055331,
          0.0949331684019954,
          -0.9295091907645316,
          -0.22937726696770977,
          0.4701356562857196,
          -0.17917461537253,
          -0.28747850578892253,
          -1.012514369213562,
          -2.4560087313755696,
          -3.210343248214082,
          -2.521275956415302,
          -1.7795356865883099,
          -2.725941621892117,
          -2.627679447508821,
          -1.8921596291052767,
          -0.9714746899157966,
          -1.4498672003932738,
          -0.8411045836350698,
          -1.1273764491616212,
          0.24436741850132337,
          1.5273761147712481,
          1.3436727343283612,
          0.6431230592166111,
          -0.08487732177834995,
          0.2852084300118412,
          -1.520764119853055,
          -1.3399229689114556,
          -3.2183557396271496,
          -3.1281457499931116,
          -3.9167616397787803,
          -2.852228997112314,
          -1.6944539731203965,
          -1.6893624552586093,
          -1.570190057440671,
          -3.4436123110618526,
          -2.4632535696166933,
          -2.5560389477896632,
          -3.149911105229388,
          -2.89838295989854,
          -4.362122208674959,
          -4.497355293991733,
          -5.402129545788722,
          -4.254362004073188,
          -3.496345672930452,
          -4.659915393140368,
          -3.491557709755279,
          -5.429323502576052,
          -7.325243790051029,
          -7.97186731625891,
          -6.553789527239945,
          -6.930579618686385,
          -7.28144562835064,
          -9.146474896264875,
          -8.398872639696181,
          -9.149765374550505,
          -9.594179266985508,
          -9.309487208431973,
          -8.613844093681578,
          -7.780230750847163,
          -6.545596377875291,
          -4.8447834240930145,
          -3.2326058407429814,
          -1.6607616639628489,
          -2.320043404456752,
          -2.990416036392454,
          -3.0842794250218617,
          -2.252281485010342,
          -2.731722909242296,
          -2.6712105017475105,
          -3.4162896124479767,
          -1.8724186680254524,
          -2.2053876379009423,
          -1.38908452667923,
          -1.0345228253092773,
          -0.2901030036696788,
          -0.5906336896993691,
          -1.2591130016010994,
          -1.8014687012053567,
          -0.10229107235333812,
          -1.626658171355158,
          -2.718724739590782,
          -2.63948895409048,
          -1.6181051981376733,
          -2.339264803854044,
          -2.784860078454452,
          -3.079709916704384,
          -3.9731527313184203,
          -6.288662001280006,
          -6.451793323580578,
          -7.259860053476958,
          -7.29904186672264,
          -6.230783466239931,
          -7.4385063718123146,
          -7.081679796002076,
          -7.976394002138646,
          -9.04707109898714,
          -8.89237840086011,
          -7.651435947389195,
          -10.328049124985252,
          -10.120236950305415,
          -11.350436999361131,
          -11.051844234876347,
          -10.606581473871918,
          -12.014838255687078,
          -11.99878851043634,
          -13.073535635391226,
          -12.279212171201284,
          -12.061602412541841,
          -11.257737023847774,
          -11.460381324495861,
          -12.239845508081359,
          -12.737064121930047,
          -12.686752842590717,
          -13.9744604154832,
          -12.995021027669777,
          -12.375401984658192,
          -11.638253542981362,
          -10.805360882005282,
          -10.706967919182942,
          -11.650109630996926,
          -10.973601774431861,
          -11.954846876701346,
          -12.636646554474016,
          -12.635841986215775,
          -10.605893507653082,
          -8.486599747260499,
          -8.94661635551493,
          -9.470316492268143,
          -11.493747526590585,
          -9.65256715614302,
          -9.365656544744203,
          -9.354376339516275,
          -9.179478012926364,
          -8.7508728610332,
          -7.158320536785553,
          -7.655699680156411,
          -6.358291332870309,
          -7.873767907790566,
          -8.063114354093315,
          -7.462815473303092,
          -6.596384919966595,
          -6.048036127493036,
          -5.6651906738200255,
          -5.860889172275694,
          -6.190985969367263,
          -6.893703429647293,
          -7.0546500588632535,
          -7.778849023206398,
          -7.315852367216603,
          -7.997329725564446,
          -8.301646655116464,
          -7.585501623494917,
          -8.393037075981741,
          -7.911028408677221,
          -8.870522649537131,
          -8.754571330284897,
          -11.175565090692537,
          -13.116783672447479,
          -12.969417241866562,
          -13.24664286838747,
          -11.57444601681156,
          -10.81128259348207,
          -12.405711101530635,
          -13.440853226118136,
          -14.73557659232801,
          -15.06677927586984,
          -13.308576944546974,
          -13.33967945360298,
          -13.604659605112314,
          -13.411336657007691,
          -13.045418821825754,
          -12.541595683838386,
          -12.337222095277083,
          -12.470764960236195,
          -14.274471963729187,
          -14.32678357430561,
          -14.912373638146356,
          -15.102281981568318,
          -15.12368981635565,
          -14.472272330203726,
          -14.17438604497995,
          -15.34218142026475,
          -14.328969960106395,
          -15.334322894539447,
          -15.363581135117894,
          -15.31492348381292,
          -15.379647473318242,
          -16.625524203915695
         ]
        }
       ],
       "layout": {
        "legend": {
         "bgcolor": "#F5F6F9",
         "font": {
          "color": "#4D5663"
         }
        },
        "paper_bgcolor": "#F5F6F9",
        "plot_bgcolor": "#F5F6F9",
        "template": {
         "data": {
          "bar": [
           {
            "error_x": {
             "color": "#2a3f5f"
            },
            "error_y": {
             "color": "#2a3f5f"
            },
            "marker": {
             "line": {
              "color": "#E5ECF6",
              "width": 0.5
             },
             "pattern": {
              "fillmode": "overlay",
              "size": 10,
              "solidity": 0.2
             }
            },
            "type": "bar"
           }
          ],
          "barpolar": [
           {
            "marker": {
             "line": {
              "color": "#E5ECF6",
              "width": 0.5
             },
             "pattern": {
              "fillmode": "overlay",
              "size": 10,
              "solidity": 0.2
             }
            },
            "type": "barpolar"
           }
          ],
          "carpet": [
           {
            "aaxis": {
             "endlinecolor": "#2a3f5f",
             "gridcolor": "white",
             "linecolor": "white",
             "minorgridcolor": "white",
             "startlinecolor": "#2a3f5f"
            },
            "baxis": {
             "endlinecolor": "#2a3f5f",
             "gridcolor": "white",
             "linecolor": "white",
             "minorgridcolor": "white",
             "startlinecolor": "#2a3f5f"
            },
            "type": "carpet"
           }
          ],
          "choropleth": [
           {
            "colorbar": {
             "outlinewidth": 0,
             "ticks": ""
            },
            "type": "choropleth"
           }
          ],
          "contour": [
           {
            "colorbar": {
             "outlinewidth": 0,
             "ticks": ""
            },
            "colorscale": [
             [
              0,
              "#0d0887"
             ],
             [
              0.1111111111111111,
              "#46039f"
             ],
             [
              0.2222222222222222,
              "#7201a8"
             ],
             [
              0.3333333333333333,
              "#9c179e"
             ],
             [
              0.4444444444444444,
              "#bd3786"
             ],
             [
              0.5555555555555556,
              "#d8576b"
             ],
             [
              0.6666666666666666,
              "#ed7953"
             ],
             [
              0.7777777777777778,
              "#fb9f3a"
             ],
             [
              0.8888888888888888,
              "#fdca26"
             ],
             [
              1,
              "#f0f921"
             ]
            ],
            "type": "contour"
           }
          ],
          "contourcarpet": [
           {
            "colorbar": {
             "outlinewidth": 0,
             "ticks": ""
            },
            "type": "contourcarpet"
           }
          ],
          "heatmap": [
           {
            "colorbar": {
             "outlinewidth": 0,
             "ticks": ""
            },
            "colorscale": [
             [
              0,
              "#0d0887"
             ],
             [
              0.1111111111111111,
              "#46039f"
             ],
             [
              0.2222222222222222,
              "#7201a8"
             ],
             [
              0.3333333333333333,
              "#9c179e"
             ],
             [
              0.4444444444444444,
              "#bd3786"
             ],
             [
              0.5555555555555556,
              "#d8576b"
             ],
             [
              0.6666666666666666,
              "#ed7953"
             ],
             [
              0.7777777777777778,
              "#fb9f3a"
             ],
             [
              0.8888888888888888,
              "#fdca26"
             ],
             [
              1,
              "#f0f921"
             ]
            ],
            "type": "heatmap"
           }
          ],
          "heatmapgl": [
           {
            "colorbar": {
             "outlinewidth": 0,
             "ticks": ""
            },
            "colorscale": [
             [
              0,
              "#0d0887"
             ],
             [
              0.1111111111111111,
              "#46039f"
             ],
             [
              0.2222222222222222,
              "#7201a8"
             ],
             [
              0.3333333333333333,
              "#9c179e"
             ],
             [
              0.4444444444444444,
              "#bd3786"
             ],
             [
              0.5555555555555556,
              "#d8576b"
             ],
             [
              0.6666666666666666,
              "#ed7953"
             ],
             [
              0.7777777777777778,
              "#fb9f3a"
             ],
             [
              0.8888888888888888,
              "#fdca26"
             ],
             [
              1,
              "#f0f921"
             ]
            ],
            "type": "heatmapgl"
           }
          ],
          "histogram": [
           {
            "marker": {
             "pattern": {
              "fillmode": "overlay",
              "size": 10,
              "solidity": 0.2
             }
            },
            "type": "histogram"
           }
          ],
          "histogram2d": [
           {
            "colorbar": {
             "outlinewidth": 0,
             "ticks": ""
            },
            "colorscale": [
             [
              0,
              "#0d0887"
             ],
             [
              0.1111111111111111,
              "#46039f"
             ],
             [
              0.2222222222222222,
              "#7201a8"
             ],
             [
              0.3333333333333333,
              "#9c179e"
             ],
             [
              0.4444444444444444,
              "#bd3786"
             ],
             [
              0.5555555555555556,
              "#d8576b"
             ],
             [
              0.6666666666666666,
              "#ed7953"
             ],
             [
              0.7777777777777778,
              "#fb9f3a"
             ],
             [
              0.8888888888888888,
              "#fdca26"
             ],
             [
              1,
              "#f0f921"
             ]
            ],
            "type": "histogram2d"
           }
          ],
          "histogram2dcontour": [
           {
            "colorbar": {
             "outlinewidth": 0,
             "ticks": ""
            },
            "colorscale": [
             [
              0,
              "#0d0887"
             ],
             [
              0.1111111111111111,
              "#46039f"
             ],
             [
              0.2222222222222222,
              "#7201a8"
             ],
             [
              0.3333333333333333,
              "#9c179e"
             ],
             [
              0.4444444444444444,
              "#bd3786"
             ],
             [
              0.5555555555555556,
              "#d8576b"
             ],
             [
              0.6666666666666666,
              "#ed7953"
             ],
             [
              0.7777777777777778,
              "#fb9f3a"
             ],
             [
              0.8888888888888888,
              "#fdca26"
             ],
             [
              1,
              "#f0f921"
             ]
            ],
            "type": "histogram2dcontour"
           }
          ],
          "mesh3d": [
           {
            "colorbar": {
             "outlinewidth": 0,
             "ticks": ""
            },
            "type": "mesh3d"
           }
          ],
          "parcoords": [
           {
            "line": {
             "colorbar": {
              "outlinewidth": 0,
              "ticks": ""
             }
            },
            "type": "parcoords"
           }
          ],
          "pie": [
           {
            "automargin": true,
            "type": "pie"
           }
          ],
          "scatter": [
           {
            "marker": {
             "colorbar": {
              "outlinewidth": 0,
              "ticks": ""
             }
            },
            "type": "scatter"
           }
          ],
          "scatter3d": [
           {
            "line": {
             "colorbar": {
              "outlinewidth": 0,
              "ticks": ""
             }
            },
            "marker": {
             "colorbar": {
              "outlinewidth": 0,
              "ticks": ""
             }
            },
            "type": "scatter3d"
           }
          ],
          "scattercarpet": [
           {
            "marker": {
             "colorbar": {
              "outlinewidth": 0,
              "ticks": ""
             }
            },
            "type": "scattercarpet"
           }
          ],
          "scattergeo": [
           {
            "marker": {
             "colorbar": {
              "outlinewidth": 0,
              "ticks": ""
             }
            },
            "type": "scattergeo"
           }
          ],
          "scattergl": [
           {
            "marker": {
             "colorbar": {
              "outlinewidth": 0,
              "ticks": ""
             }
            },
            "type": "scattergl"
           }
          ],
          "scattermapbox": [
           {
            "marker": {
             "colorbar": {
              "outlinewidth": 0,
              "ticks": ""
             }
            },
            "type": "scattermapbox"
           }
          ],
          "scatterpolar": [
           {
            "marker": {
             "colorbar": {
              "outlinewidth": 0,
              "ticks": ""
             }
            },
            "type": "scatterpolar"
           }
          ],
          "scatterpolargl": [
           {
            "marker": {
             "colorbar": {
              "outlinewidth": 0,
              "ticks": ""
             }
            },
            "type": "scatterpolargl"
           }
          ],
          "scatterternary": [
           {
            "marker": {
             "colorbar": {
              "outlinewidth": 0,
              "ticks": ""
             }
            },
            "type": "scatterternary"
           }
          ],
          "surface": [
           {
            "colorbar": {
             "outlinewidth": 0,
             "ticks": ""
            },
            "colorscale": [
             [
              0,
              "#0d0887"
             ],
             [
              0.1111111111111111,
              "#46039f"
             ],
             [
              0.2222222222222222,
              "#7201a8"
             ],
             [
              0.3333333333333333,
              "#9c179e"
             ],
             [
              0.4444444444444444,
              "#bd3786"
             ],
             [
              0.5555555555555556,
              "#d8576b"
             ],
             [
              0.6666666666666666,
              "#ed7953"
             ],
             [
              0.7777777777777778,
              "#fb9f3a"
             ],
             [
              0.8888888888888888,
              "#fdca26"
             ],
             [
              1,
              "#f0f921"
             ]
            ],
            "type": "surface"
           }
          ],
          "table": [
           {
            "cells": {
             "fill": {
              "color": "#EBF0F8"
             },
             "line": {
              "color": "white"
             }
            },
            "header": {
             "fill": {
              "color": "#C8D4E3"
             },
             "line": {
              "color": "white"
             }
            },
            "type": "table"
           }
          ]
         },
         "layout": {
          "annotationdefaults": {
           "arrowcolor": "#2a3f5f",
           "arrowhead": 0,
           "arrowwidth": 1
          },
          "autotypenumbers": "strict",
          "coloraxis": {
           "colorbar": {
            "outlinewidth": 0,
            "ticks": ""
           }
          },
          "colorscale": {
           "diverging": [
            [
             0,
             "#8e0152"
            ],
            [
             0.1,
             "#c51b7d"
            ],
            [
             0.2,
             "#de77ae"
            ],
            [
             0.3,
             "#f1b6da"
            ],
            [
             0.4,
             "#fde0ef"
            ],
            [
             0.5,
             "#f7f7f7"
            ],
            [
             0.6,
             "#e6f5d0"
            ],
            [
             0.7,
             "#b8e186"
            ],
            [
             0.8,
             "#7fbc41"
            ],
            [
             0.9,
             "#4d9221"
            ],
            [
             1,
             "#276419"
            ]
           ],
           "sequential": [
            [
             0,
             "#0d0887"
            ],
            [
             0.1111111111111111,
             "#46039f"
            ],
            [
             0.2222222222222222,
             "#7201a8"
            ],
            [
             0.3333333333333333,
             "#9c179e"
            ],
            [
             0.4444444444444444,
             "#bd3786"
            ],
            [
             0.5555555555555556,
             "#d8576b"
            ],
            [
             0.6666666666666666,
             "#ed7953"
            ],
            [
             0.7777777777777778,
             "#fb9f3a"
            ],
            [
             0.8888888888888888,
             "#fdca26"
            ],
            [
             1,
             "#f0f921"
            ]
           ],
           "sequentialminus": [
            [
             0,
             "#0d0887"
            ],
            [
             0.1111111111111111,
             "#46039f"
            ],
            [
             0.2222222222222222,
             "#7201a8"
            ],
            [
             0.3333333333333333,
             "#9c179e"
            ],
            [
             0.4444444444444444,
             "#bd3786"
            ],
            [
             0.5555555555555556,
             "#d8576b"
            ],
            [
             0.6666666666666666,
             "#ed7953"
            ],
            [
             0.7777777777777778,
             "#fb9f3a"
            ],
            [
             0.8888888888888888,
             "#fdca26"
            ],
            [
             1,
             "#f0f921"
            ]
           ]
          },
          "colorway": [
           "#636efa",
           "#EF553B",
           "#00cc96",
           "#ab63fa",
           "#FFA15A",
           "#19d3f3",
           "#FF6692",
           "#B6E880",
           "#FF97FF",
           "#FECB52"
          ],
          "font": {
           "color": "#2a3f5f"
          },
          "geo": {
           "bgcolor": "white",
           "lakecolor": "white",
           "landcolor": "#E5ECF6",
           "showlakes": true,
           "showland": true,
           "subunitcolor": "white"
          },
          "hoverlabel": {
           "align": "left"
          },
          "hovermode": "closest",
          "mapbox": {
           "style": "light"
          },
          "paper_bgcolor": "white",
          "plot_bgcolor": "#E5ECF6",
          "polar": {
           "angularaxis": {
            "gridcolor": "white",
            "linecolor": "white",
            "ticks": ""
           },
           "bgcolor": "#E5ECF6",
           "radialaxis": {
            "gridcolor": "white",
            "linecolor": "white",
            "ticks": ""
           }
          },
          "scene": {
           "xaxis": {
            "backgroundcolor": "#E5ECF6",
            "gridcolor": "white",
            "gridwidth": 2,
            "linecolor": "white",
            "showbackground": true,
            "ticks": "",
            "zerolinecolor": "white"
           },
           "yaxis": {
            "backgroundcolor": "#E5ECF6",
            "gridcolor": "white",
            "gridwidth": 2,
            "linecolor": "white",
            "showbackground": true,
            "ticks": "",
            "zerolinecolor": "white"
           },
           "zaxis": {
            "backgroundcolor": "#E5ECF6",
            "gridcolor": "white",
            "gridwidth": 2,
            "linecolor": "white",
            "showbackground": true,
            "ticks": "",
            "zerolinecolor": "white"
           }
          },
          "shapedefaults": {
           "line": {
            "color": "#2a3f5f"
           }
          },
          "ternary": {
           "aaxis": {
            "gridcolor": "white",
            "linecolor": "white",
            "ticks": ""
           },
           "baxis": {
            "gridcolor": "white",
            "linecolor": "white",
            "ticks": ""
           },
           "bgcolor": "#E5ECF6",
           "caxis": {
            "gridcolor": "white",
            "linecolor": "white",
            "ticks": ""
           }
          },
          "title": {
           "x": 0.05
          },
          "xaxis": {
           "automargin": true,
           "gridcolor": "white",
           "linecolor": "white",
           "ticks": "",
           "title": {
            "standoff": 15
           },
           "zerolinecolor": "white",
           "zerolinewidth": 2
          },
          "yaxis": {
           "automargin": true,
           "gridcolor": "white",
           "linecolor": "white",
           "ticks": "",
           "title": {
            "standoff": 15
           },
           "zerolinecolor": "white",
           "zerolinewidth": 2
          }
         }
        },
        "title": {
         "font": {
          "color": "#4D5663"
         },
         "text": "The Figure Title"
        },
        "xaxis": {
         "gridcolor": "#E1E5ED",
         "showgrid": true,
         "tickfont": {
          "color": "#4D5663"
         },
         "title": {
          "font": {
           "color": "#4D5663"
          },
          "text": "The X Axis"
         },
         "zerolinecolor": "#E1E5ED"
        },
        "yaxis": {
         "gridcolor": "#E1E5ED",
         "showgrid": true,
         "tickfont": {
          "color": "#4D5663"
         },
         "title": {
          "font": {
           "color": "#4D5663"
          },
          "text": "The Y Axis"
         },
         "zerolinecolor": "#E1E5ED"
        }
       }
      },
      "text/html": [
       "<div>                            <div id=\"4f1de32e-a56a-48c3-8063-f92da8563294\" class=\"plotly-graph-div\" style=\"height:525px; width:100%;\"></div>            <script type=\"text/javascript\">                require([\"plotly\"], function(Plotly) {                    window.PLOTLYENV=window.PLOTLYENV || {};                                    if (document.getElementById(\"4f1de32e-a56a-48c3-8063-f92da8563294\")) {                    Plotly.newPlot(                        \"4f1de32e-a56a-48c3-8063-f92da8563294\",                        [{\"line\":{\"color\":\"rgba(255, 153, 51, 1.0)\",\"dash\":\"solid\",\"shape\":\"linear\",\"width\":1.3},\"mode\":\"lines\",\"name\":\"X\",\"text\":\"\",\"x\":[0,1,2,3,4,5,6,7,8,9,10,11,12,13,14,15,16,17,18,19,20,21,22,23,24,25,26,27,28,29,30,31,32,33,34,35,36,37,38,39,40,41,42,43,44,45,46,47,48,49,50,51,52,53,54,55,56,57,58,59,60,61,62,63,64,65,66,67,68,69,70,71,72,73,74,75,76,77,78,79,80,81,82,83,84,85,86,87,88,89,90,91,92,93,94,95,96,97,98,99,100,101,102,103,104,105,106,107,108,109,110,111,112,113,114,115,116,117,118,119,120,121,122,123,124,125,126,127,128,129,130,131,132,133,134,135,136,137,138,139,140,141,142,143,144,145,146,147,148,149,150,151,152,153,154,155,156,157,158,159,160,161,162,163,164,165,166,167,168,169,170,171,172,173,174,175,176,177,178,179,180,181,182,183,184,185,186,187,188,189,190,191,192,193,194,195,196,197,198,199],\"y\":[0.14197113938652536,-0.9085079540607396,-0.8562860612339684,-1.1055862057789738,-1.0299894954600182,-1.5168052292500516,-0.8461795826570433,-0.19491638386791432,-0.42808793637554654,-0.40144153048209424,-1.5983274859433962,-2.0179603588818686,-0.12216581148592542,0.2736649529373083,0.16141114761172304,1.3572528694030201,2.7396920828525806,2.7150131561254502,1.5986233068155549,1.256304759789289,0.33935418729955924,0.9675784290710975,0.7372096988624453,-1.35504629546503,-3.325448656657999,-4.457391960802026,-4.116260008915836,-3.1753591851746283,-4.571607771805285,-3.284143053355691,-4.443492782722203,-3.852848971451923,-2.651286143101494,-0.9380636139977028,-1.353971328273516,-0.43296151608068456,-2.4278970635685306,-4.264010015448268,-3.590301765063978,-4.102433077878482,-4.209893755516179,-4.374619842768348,-5.253838422529282,-6.317077029477186,-6.446115182450458,-7.761525315158826,-6.734214984714912,-7.492283726576011,-7.161687793932306,-7.342698466234359,-7.99981385808832,-7.0604132576903815,-8.30866313856346,-9.147285447662309,-10.104954804882095,-10.751174135052754,-10.972015755243365,-11.576228483645227,-12.87411032259731,-14.467166599360468,-16.6161592254859,-17.987567975008048,-19.997370953174567,-19.859074557536513,-19.64848694550843,-21.582689548107087,-20.134840799074393,-19.360612581208724,-20.723932280064727,-20.298848934980466,-20.709830144227364,-21.81782694647685,-21.210580200115892,-21.627000125322994,-20.071911673576196,-17.66815518853585,-18.265876476300978,-17.446500447060032,-17.269018318584763,-16.75655756051571,-15.306924723068203,-14.12422583011868,-13.515985665630959,-13.121320450196924,-12.802759867704312,-13.126112977373289,-11.637047464358774,-9.534435703353966,-11.828765278130504,-11.951907234744088,-10.313901191741651,-11.541009300086557,-11.274390615239788,-10.78566344983853,-11.32151832443801,-8.794358107087163,-9.19880177209122,-11.871586338559084,-11.510946483023575,-10.548206494994789,-9.546547026380757,-9.414406099255395,-8.392153428015227,-7.170814852957823,-6.774527979185958,-8.62060984987772,-8.600393131494302,-9.283440451321734,-8.401560206776335,-10.124209714525346,-10.757560714212081,-10.967719488611863,-11.331795530244042,-12.9200707367638,-11.42873964666366,-12.427218685838811,-13.81916714797082,-12.833716319609088,-13.959086103106735,-15.259803616181665,-15.58904191967191,-15.058541466060372,-16.481621830795167,-16.744604944487865,-18.3294901994417,-19.058890875653464,-19.475955063467463,-19.014513874500707,-19.26655788581655,-18.013195401661026,-18.235262795377103,-17.625837690274018,-17.51885208689973,-18.92216522852296,-18.95100296718944,-18.101483369012204,-17.126415281815245,-16.26929646996944,-16.111436783130063,-15.54512886861041,-18.031969538706544,-19.387072040388496,-20.694159796067815,-20.434242474893416,-20.61690765003094,-19.40064611205304,-20.11513205972035,-22.06372944946687,-23.002076591439167,-22.354898175677707,-22.076220168805254,-21.916632723623195,-21.67412461736418,-21.584264181995167,-21.243714471246808,-21.568581277954742,-20.316500803890737,-21.735249289873746,-21.776934239666634,-20.705528983942372,-19.69348251921324,-16.590670365396985,-17.85193629526402,-17.37667503863793,-17.869046546223185,-18.05041750667797,-18.11821751461483,-17.974697447251263,-16.454342687803784,-15.18548844553725,-15.982399009760824,-16.084028280234964,-17.363055556643253,-17.771589719922737,-16.219860008151826,-14.764398112262919,-13.753407227573508,-12.514937646827184,-12.198170398512117,-11.516129256136052,-10.547003370092899,-9.913623673358858,-10.399377911093582,-10.99547851397578,-9.26638035774341,-8.899860271927334,-7.743643898427406,-6.931425970924504,-6.901140529006443,-7.2895004338549505,-7.507524933989587,-9.487321283035909,-8.188227426095994,-8.839854359681324,-8.148449407817422,-10.6360696405353,-11.081744253877757,-12.289477819285123,-12.304572799589817,-12.677074866637046],\"type\":\"scatter\"},{\"line\":{\"color\":\"rgba(55, 128, 191, 1.0)\",\"dash\":\"solid\",\"shape\":\"linear\",\"width\":1.3},\"mode\":\"lines\",\"name\":\"Y\",\"text\":\"\",\"x\":[0,1,2,3,4,5,6,7,8,9,10,11,12,13,14,15,16,17,18,19,20,21,22,23,24,25,26,27,28,29,30,31,32,33,34,35,36,37,38,39,40,41,42,43,44,45,46,47,48,49,50,51,52,53,54,55,56,57,58,59,60,61,62,63,64,65,66,67,68,69,70,71,72,73,74,75,76,77,78,79,80,81,82,83,84,85,86,87,88,89,90,91,92,93,94,95,96,97,98,99,100,101,102,103,104,105,106,107,108,109,110,111,112,113,114,115,116,117,118,119,120,121,122,123,124,125,126,127,128,129,130,131,132,133,134,135,136,137,138,139,140,141,142,143,144,145,146,147,148,149,150,151,152,153,154,155,156,157,158,159,160,161,162,163,164,165,166,167,168,169,170,171,172,173,174,175,176,177,178,179,180,181,182,183,184,185,186,187,188,189,190,191,192,193,194,195,196,197,198,199],\"y\":[-0.014657064324735002,-0.18328378644977414,-0.04938355960745869,-0.8062180168453352,-1.6408796839963824,-1.5412604018512281,-0.7089214466295576,-0.048393108103010674,-0.7523455967886488,0.2472588483466116,1.0648649549958957,-0.3060607907102928,0.8086789791055331,0.0949331684019954,-0.9295091907645316,-0.22937726696770977,0.4701356562857196,-0.17917461537253,-0.28747850578892253,-1.012514369213562,-2.4560087313755696,-3.210343248214082,-2.521275956415302,-1.7795356865883099,-2.725941621892117,-2.627679447508821,-1.8921596291052767,-0.9714746899157966,-1.4498672003932738,-0.8411045836350698,-1.1273764491616212,0.24436741850132337,1.5273761147712481,1.3436727343283612,0.6431230592166111,-0.08487732177834995,0.2852084300118412,-1.520764119853055,-1.3399229689114556,-3.2183557396271496,-3.1281457499931116,-3.9167616397787803,-2.852228997112314,-1.6944539731203965,-1.6893624552586093,-1.570190057440671,-3.4436123110618526,-2.4632535696166933,-2.5560389477896632,-3.149911105229388,-2.89838295989854,-4.362122208674959,-4.497355293991733,-5.402129545788722,-4.254362004073188,-3.496345672930452,-4.659915393140368,-3.491557709755279,-5.429323502576052,-7.325243790051029,-7.97186731625891,-6.553789527239945,-6.930579618686385,-7.28144562835064,-9.146474896264875,-8.398872639696181,-9.149765374550505,-9.594179266985508,-9.309487208431973,-8.613844093681578,-7.780230750847163,-6.545596377875291,-4.8447834240930145,-3.2326058407429814,-1.6607616639628489,-2.320043404456752,-2.990416036392454,-3.0842794250218617,-2.252281485010342,-2.731722909242296,-2.6712105017475105,-3.4162896124479767,-1.8724186680254524,-2.2053876379009423,-1.38908452667923,-1.0345228253092773,-0.2901030036696788,-0.5906336896993691,-1.2591130016010994,-1.8014687012053567,-0.10229107235333812,-1.626658171355158,-2.718724739590782,-2.63948895409048,-1.6181051981376733,-2.339264803854044,-2.784860078454452,-3.079709916704384,-3.9731527313184203,-6.288662001280006,-6.451793323580578,-7.259860053476958,-7.29904186672264,-6.230783466239931,-7.4385063718123146,-7.081679796002076,-7.976394002138646,-9.04707109898714,-8.89237840086011,-7.651435947389195,-10.328049124985252,-10.120236950305415,-11.350436999361131,-11.051844234876347,-10.606581473871918,-12.014838255687078,-11.99878851043634,-13.073535635391226,-12.279212171201284,-12.061602412541841,-11.257737023847774,-11.460381324495861,-12.239845508081359,-12.737064121930047,-12.686752842590717,-13.9744604154832,-12.995021027669777,-12.375401984658192,-11.638253542981362,-10.805360882005282,-10.706967919182942,-11.650109630996926,-10.973601774431861,-11.954846876701346,-12.636646554474016,-12.635841986215775,-10.605893507653082,-8.486599747260499,-8.94661635551493,-9.470316492268143,-11.493747526590585,-9.65256715614302,-9.365656544744203,-9.354376339516275,-9.179478012926364,-8.7508728610332,-7.158320536785553,-7.655699680156411,-6.358291332870309,-7.873767907790566,-8.063114354093315,-7.462815473303092,-6.596384919966595,-6.048036127493036,-5.6651906738200255,-5.860889172275694,-6.190985969367263,-6.893703429647293,-7.0546500588632535,-7.778849023206398,-7.315852367216603,-7.997329725564446,-8.301646655116464,-7.585501623494917,-8.393037075981741,-7.911028408677221,-8.870522649537131,-8.754571330284897,-11.175565090692537,-13.116783672447479,-12.969417241866562,-13.24664286838747,-11.57444601681156,-10.81128259348207,-12.405711101530635,-13.440853226118136,-14.73557659232801,-15.06677927586984,-13.308576944546974,-13.33967945360298,-13.604659605112314,-13.411336657007691,-13.045418821825754,-12.541595683838386,-12.337222095277083,-12.470764960236195,-14.274471963729187,-14.32678357430561,-14.912373638146356,-15.102281981568318,-15.12368981635565,-14.472272330203726,-14.17438604497995,-15.34218142026475,-14.328969960106395,-15.334322894539447,-15.363581135117894,-15.31492348381292,-15.379647473318242,-16.625524203915695],\"type\":\"scatter\"}],                        {\"legend\":{\"bgcolor\":\"#F5F6F9\",\"font\":{\"color\":\"#4D5663\"}},\"paper_bgcolor\":\"#F5F6F9\",\"plot_bgcolor\":\"#F5F6F9\",\"title\":{\"text\":\"The Figure Title\",\"font\":{\"color\":\"#4D5663\"}},\"xaxis\":{\"gridcolor\":\"#E1E5ED\",\"showgrid\":true,\"tickfont\":{\"color\":\"#4D5663\"},\"title\":{\"text\":\"The X Axis\",\"font\":{\"color\":\"#4D5663\"}},\"zerolinecolor\":\"#E1E5ED\"},\"yaxis\":{\"gridcolor\":\"#E1E5ED\",\"showgrid\":true,\"tickfont\":{\"color\":\"#4D5663\"},\"title\":{\"text\":\"The Y Axis\",\"font\":{\"color\":\"#4D5663\"}},\"zerolinecolor\":\"#E1E5ED\"},\"template\":{\"data\":{\"bar\":[{\"error_x\":{\"color\":\"#2a3f5f\"},\"error_y\":{\"color\":\"#2a3f5f\"},\"marker\":{\"line\":{\"color\":\"#E5ECF6\",\"width\":0.5},\"pattern\":{\"fillmode\":\"overlay\",\"size\":10,\"solidity\":0.2}},\"type\":\"bar\"}],\"barpolar\":[{\"marker\":{\"line\":{\"color\":\"#E5ECF6\",\"width\":0.5},\"pattern\":{\"fillmode\":\"overlay\",\"size\":10,\"solidity\":0.2}},\"type\":\"barpolar\"}],\"carpet\":[{\"aaxis\":{\"endlinecolor\":\"#2a3f5f\",\"gridcolor\":\"white\",\"linecolor\":\"white\",\"minorgridcolor\":\"white\",\"startlinecolor\":\"#2a3f5f\"},\"baxis\":{\"endlinecolor\":\"#2a3f5f\",\"gridcolor\":\"white\",\"linecolor\":\"white\",\"minorgridcolor\":\"white\",\"startlinecolor\":\"#2a3f5f\"},\"type\":\"carpet\"}],\"choropleth\":[{\"colorbar\":{\"outlinewidth\":0,\"ticks\":\"\"},\"type\":\"choropleth\"}],\"contour\":[{\"colorbar\":{\"outlinewidth\":0,\"ticks\":\"\"},\"colorscale\":[[0.0,\"#0d0887\"],[0.1111111111111111,\"#46039f\"],[0.2222222222222222,\"#7201a8\"],[0.3333333333333333,\"#9c179e\"],[0.4444444444444444,\"#bd3786\"],[0.5555555555555556,\"#d8576b\"],[0.6666666666666666,\"#ed7953\"],[0.7777777777777778,\"#fb9f3a\"],[0.8888888888888888,\"#fdca26\"],[1.0,\"#f0f921\"]],\"type\":\"contour\"}],\"contourcarpet\":[{\"colorbar\":{\"outlinewidth\":0,\"ticks\":\"\"},\"type\":\"contourcarpet\"}],\"heatmap\":[{\"colorbar\":{\"outlinewidth\":0,\"ticks\":\"\"},\"colorscale\":[[0.0,\"#0d0887\"],[0.1111111111111111,\"#46039f\"],[0.2222222222222222,\"#7201a8\"],[0.3333333333333333,\"#9c179e\"],[0.4444444444444444,\"#bd3786\"],[0.5555555555555556,\"#d8576b\"],[0.6666666666666666,\"#ed7953\"],[0.7777777777777778,\"#fb9f3a\"],[0.8888888888888888,\"#fdca26\"],[1.0,\"#f0f921\"]],\"type\":\"heatmap\"}],\"heatmapgl\":[{\"colorbar\":{\"outlinewidth\":0,\"ticks\":\"\"},\"colorscale\":[[0.0,\"#0d0887\"],[0.1111111111111111,\"#46039f\"],[0.2222222222222222,\"#7201a8\"],[0.3333333333333333,\"#9c179e\"],[0.4444444444444444,\"#bd3786\"],[0.5555555555555556,\"#d8576b\"],[0.6666666666666666,\"#ed7953\"],[0.7777777777777778,\"#fb9f3a\"],[0.8888888888888888,\"#fdca26\"],[1.0,\"#f0f921\"]],\"type\":\"heatmapgl\"}],\"histogram\":[{\"marker\":{\"pattern\":{\"fillmode\":\"overlay\",\"size\":10,\"solidity\":0.2}},\"type\":\"histogram\"}],\"histogram2d\":[{\"colorbar\":{\"outlinewidth\":0,\"ticks\":\"\"},\"colorscale\":[[0.0,\"#0d0887\"],[0.1111111111111111,\"#46039f\"],[0.2222222222222222,\"#7201a8\"],[0.3333333333333333,\"#9c179e\"],[0.4444444444444444,\"#bd3786\"],[0.5555555555555556,\"#d8576b\"],[0.6666666666666666,\"#ed7953\"],[0.7777777777777778,\"#fb9f3a\"],[0.8888888888888888,\"#fdca26\"],[1.0,\"#f0f921\"]],\"type\":\"histogram2d\"}],\"histogram2dcontour\":[{\"colorbar\":{\"outlinewidth\":0,\"ticks\":\"\"},\"colorscale\":[[0.0,\"#0d0887\"],[0.1111111111111111,\"#46039f\"],[0.2222222222222222,\"#7201a8\"],[0.3333333333333333,\"#9c179e\"],[0.4444444444444444,\"#bd3786\"],[0.5555555555555556,\"#d8576b\"],[0.6666666666666666,\"#ed7953\"],[0.7777777777777778,\"#fb9f3a\"],[0.8888888888888888,\"#fdca26\"],[1.0,\"#f0f921\"]],\"type\":\"histogram2dcontour\"}],\"mesh3d\":[{\"colorbar\":{\"outlinewidth\":0,\"ticks\":\"\"},\"type\":\"mesh3d\"}],\"parcoords\":[{\"line\":{\"colorbar\":{\"outlinewidth\":0,\"ticks\":\"\"}},\"type\":\"parcoords\"}],\"pie\":[{\"automargin\":true,\"type\":\"pie\"}],\"scatter\":[{\"marker\":{\"colorbar\":{\"outlinewidth\":0,\"ticks\":\"\"}},\"type\":\"scatter\"}],\"scatter3d\":[{\"line\":{\"colorbar\":{\"outlinewidth\":0,\"ticks\":\"\"}},\"marker\":{\"colorbar\":{\"outlinewidth\":0,\"ticks\":\"\"}},\"type\":\"scatter3d\"}],\"scattercarpet\":[{\"marker\":{\"colorbar\":{\"outlinewidth\":0,\"ticks\":\"\"}},\"type\":\"scattercarpet\"}],\"scattergeo\":[{\"marker\":{\"colorbar\":{\"outlinewidth\":0,\"ticks\":\"\"}},\"type\":\"scattergeo\"}],\"scattergl\":[{\"marker\":{\"colorbar\":{\"outlinewidth\":0,\"ticks\":\"\"}},\"type\":\"scattergl\"}],\"scattermapbox\":[{\"marker\":{\"colorbar\":{\"outlinewidth\":0,\"ticks\":\"\"}},\"type\":\"scattermapbox\"}],\"scatterpolar\":[{\"marker\":{\"colorbar\":{\"outlinewidth\":0,\"ticks\":\"\"}},\"type\":\"scatterpolar\"}],\"scatterpolargl\":[{\"marker\":{\"colorbar\":{\"outlinewidth\":0,\"ticks\":\"\"}},\"type\":\"scatterpolargl\"}],\"scatterternary\":[{\"marker\":{\"colorbar\":{\"outlinewidth\":0,\"ticks\":\"\"}},\"type\":\"scatterternary\"}],\"surface\":[{\"colorbar\":{\"outlinewidth\":0,\"ticks\":\"\"},\"colorscale\":[[0.0,\"#0d0887\"],[0.1111111111111111,\"#46039f\"],[0.2222222222222222,\"#7201a8\"],[0.3333333333333333,\"#9c179e\"],[0.4444444444444444,\"#bd3786\"],[0.5555555555555556,\"#d8576b\"],[0.6666666666666666,\"#ed7953\"],[0.7777777777777778,\"#fb9f3a\"],[0.8888888888888888,\"#fdca26\"],[1.0,\"#f0f921\"]],\"type\":\"surface\"}],\"table\":[{\"cells\":{\"fill\":{\"color\":\"#EBF0F8\"},\"line\":{\"color\":\"white\"}},\"header\":{\"fill\":{\"color\":\"#C8D4E3\"},\"line\":{\"color\":\"white\"}},\"type\":\"table\"}]},\"layout\":{\"annotationdefaults\":{\"arrowcolor\":\"#2a3f5f\",\"arrowhead\":0,\"arrowwidth\":1},\"autotypenumbers\":\"strict\",\"coloraxis\":{\"colorbar\":{\"outlinewidth\":0,\"ticks\":\"\"}},\"colorscale\":{\"diverging\":[[0,\"#8e0152\"],[0.1,\"#c51b7d\"],[0.2,\"#de77ae\"],[0.3,\"#f1b6da\"],[0.4,\"#fde0ef\"],[0.5,\"#f7f7f7\"],[0.6,\"#e6f5d0\"],[0.7,\"#b8e186\"],[0.8,\"#7fbc41\"],[0.9,\"#4d9221\"],[1,\"#276419\"]],\"sequential\":[[0.0,\"#0d0887\"],[0.1111111111111111,\"#46039f\"],[0.2222222222222222,\"#7201a8\"],[0.3333333333333333,\"#9c179e\"],[0.4444444444444444,\"#bd3786\"],[0.5555555555555556,\"#d8576b\"],[0.6666666666666666,\"#ed7953\"],[0.7777777777777778,\"#fb9f3a\"],[0.8888888888888888,\"#fdca26\"],[1.0,\"#f0f921\"]],\"sequentialminus\":[[0.0,\"#0d0887\"],[0.1111111111111111,\"#46039f\"],[0.2222222222222222,\"#7201a8\"],[0.3333333333333333,\"#9c179e\"],[0.4444444444444444,\"#bd3786\"],[0.5555555555555556,\"#d8576b\"],[0.6666666666666666,\"#ed7953\"],[0.7777777777777778,\"#fb9f3a\"],[0.8888888888888888,\"#fdca26\"],[1.0,\"#f0f921\"]]},\"colorway\":[\"#636efa\",\"#EF553B\",\"#00cc96\",\"#ab63fa\",\"#FFA15A\",\"#19d3f3\",\"#FF6692\",\"#B6E880\",\"#FF97FF\",\"#FECB52\"],\"font\":{\"color\":\"#2a3f5f\"},\"geo\":{\"bgcolor\":\"white\",\"lakecolor\":\"white\",\"landcolor\":\"#E5ECF6\",\"showlakes\":true,\"showland\":true,\"subunitcolor\":\"white\"},\"hoverlabel\":{\"align\":\"left\"},\"hovermode\":\"closest\",\"mapbox\":{\"style\":\"light\"},\"paper_bgcolor\":\"white\",\"plot_bgcolor\":\"#E5ECF6\",\"polar\":{\"angularaxis\":{\"gridcolor\":\"white\",\"linecolor\":\"white\",\"ticks\":\"\"},\"bgcolor\":\"#E5ECF6\",\"radialaxis\":{\"gridcolor\":\"white\",\"linecolor\":\"white\",\"ticks\":\"\"}},\"scene\":{\"xaxis\":{\"backgroundcolor\":\"#E5ECF6\",\"gridcolor\":\"white\",\"gridwidth\":2,\"linecolor\":\"white\",\"showbackground\":true,\"ticks\":\"\",\"zerolinecolor\":\"white\"},\"yaxis\":{\"backgroundcolor\":\"#E5ECF6\",\"gridcolor\":\"white\",\"gridwidth\":2,\"linecolor\":\"white\",\"showbackground\":true,\"ticks\":\"\",\"zerolinecolor\":\"white\"},\"zaxis\":{\"backgroundcolor\":\"#E5ECF6\",\"gridcolor\":\"white\",\"gridwidth\":2,\"linecolor\":\"white\",\"showbackground\":true,\"ticks\":\"\",\"zerolinecolor\":\"white\"}},\"shapedefaults\":{\"line\":{\"color\":\"#2a3f5f\"}},\"ternary\":{\"aaxis\":{\"gridcolor\":\"white\",\"linecolor\":\"white\",\"ticks\":\"\"},\"baxis\":{\"gridcolor\":\"white\",\"linecolor\":\"white\",\"ticks\":\"\"},\"bgcolor\":\"#E5ECF6\",\"caxis\":{\"gridcolor\":\"white\",\"linecolor\":\"white\",\"ticks\":\"\"}},\"title\":{\"x\":0.05},\"xaxis\":{\"automargin\":true,\"gridcolor\":\"white\",\"linecolor\":\"white\",\"ticks\":\"\",\"title\":{\"standoff\":15},\"zerolinecolor\":\"white\",\"zerolinewidth\":2},\"yaxis\":{\"automargin\":true,\"gridcolor\":\"white\",\"linecolor\":\"white\",\"ticks\":\"\",\"title\":{\"standoff\":15},\"zerolinecolor\":\"white\",\"zerolinewidth\":2}}}},                        {\"responsive\": true}                    ).then(function(){\n",
       "                            \n",
       "var gd = document.getElementById('4f1de32e-a56a-48c3-8063-f92da8563294');\n",
       "var x = new MutationObserver(function (mutations, observer) {{\n",
       "        var display = window.getComputedStyle(gd).display;\n",
       "        if (!display || display === 'none') {{\n",
       "            console.log([gd, 'removed!']);\n",
       "            Plotly.purge(gd);\n",
       "            observer.disconnect();\n",
       "        }}\n",
       "}});\n",
       "\n",
       "// Listen for the removal of the full notebook cells\n",
       "var notebookContainer = gd.closest('#notebook-container');\n",
       "if (notebookContainer) {{\n",
       "    x.observe(notebookContainer, {childList: true});\n",
       "}}\n",
       "\n",
       "// Listen for the clearing of the current output cell\n",
       "var outputEl = gd.closest('.output');\n",
       "if (outputEl) {{\n",
       "    x.observe(outputEl, {childList: true});\n",
       "}}\n",
       "\n",
       "                        })                };                });            </script>        </div>"
      ]
     },
     "metadata": {},
     "output_type": "display_data"
    }
   ],
   "source": [
    "\n",
    "\n",
    "df = pd.DataFrame(np.random.randn(200, 2), columns=['X', 'Y']).cumsum()\n",
    "fig = df.iplot(asFigure=True, xTitle=\"The X Axis\",\n",
    "                    yTitle=\"The Y Axis\", title=\"The Figure Title\")\n",
    "pyo.plot(fig,filename='timeseries.html')\n",
    "fig.show()\n",
    "\n"
   ]
  },
  {
   "cell_type": "code",
   "execution_count": 8,
   "id": "57489a1a",
   "metadata": {},
   "outputs": [
    {
     "data": {
      "application/vnd.plotly.v1+json": {
       "config": {
        "plotlyServerURL": "https://plot.ly"
       },
       "data": [
        {
         "marker": {
          "color": "rgba(255, 153, 51, 0.6)",
          "line": {
           "color": "rgba(255, 153, 51, 1.0)",
           "width": 1
          }
         },
         "name": "A",
         "orientation": "v",
         "text": "",
         "type": "bar",
         "x": [
          0,
          1,
          2,
          3,
          4,
          5,
          6,
          7,
          8,
          9
         ],
         "y": [
          0.016230768079661395,
          0.8513520075032954,
          0.7251881215385758,
          0.33114914530470285,
          0.7531561118107233,
          0.18828416381250446,
          0.8713495947138015,
          0.9734750316192916,
          0.2091748717585592,
          0.23768355983974032
         ]
        },
        {
         "marker": {
          "color": "rgba(55, 128, 191, 0.6)",
          "line": {
           "color": "rgba(55, 128, 191, 1.0)",
           "width": 1
          }
         },
         "name": "B",
         "orientation": "v",
         "text": "",
         "type": "bar",
         "x": [
          0,
          1,
          2,
          3,
          4,
          5,
          6,
          7,
          8,
          9
         ],
         "y": [
          0.3494619995697267,
          0.062734515311471,
          0.35868187695232734,
          0.9461216267250161,
          0.24769223901914483,
          0.43578995695930134,
          0.926552655522106,
          0.24325739832715332,
          0.584060075998444,
          0.8168938458053491
         ]
        },
        {
         "marker": {
          "color": "rgba(50, 171, 96, 0.6)",
          "line": {
           "color": "rgba(50, 171, 96, 1.0)",
           "width": 1
          }
         },
         "name": "C",
         "orientation": "v",
         "text": "",
         "type": "bar",
         "x": [
          0,
          1,
          2,
          3,
          4,
          5,
          6,
          7,
          8,
          9
         ],
         "y": [
          0.08661335743856247,
          0.9351236022718333,
          0.7895726575271976,
          0.8284630223269279,
          0.8590118128468823,
          0.14778257934621852,
          0.9537024272943919,
          0.3849668357663967,
          0.9090769730241332,
          0.009329713930034678
         ]
        },
        {
         "marker": {
          "color": "rgba(128, 0, 128, 0.6)",
          "line": {
           "color": "rgba(128, 0, 128, 1.0)",
           "width": 1
          }
         },
         "name": "D",
         "orientation": "v",
         "text": "",
         "type": "bar",
         "x": [
          0,
          1,
          2,
          3,
          4,
          5,
          6,
          7,
          8,
          9
         ],
         "y": [
          0.21160413316598226,
          0.8978156687323117,
          0.4110564544252019,
          0.09928562910672512,
          0.2588072694651131,
          0.2669811531602594,
          0.18910308995222713,
          0.7002128782722272,
          0.10485610315938965,
          0.7208592233150659
         ]
        }
       ],
       "layout": {
        "legend": {
         "bgcolor": "#F5F6F9",
         "font": {
          "color": "#4D5663"
         }
        },
        "paper_bgcolor": "#F5F6F9",
        "plot_bgcolor": "#F5F6F9",
        "template": {
         "data": {
          "bar": [
           {
            "error_x": {
             "color": "#2a3f5f"
            },
            "error_y": {
             "color": "#2a3f5f"
            },
            "marker": {
             "line": {
              "color": "#E5ECF6",
              "width": 0.5
             },
             "pattern": {
              "fillmode": "overlay",
              "size": 10,
              "solidity": 0.2
             }
            },
            "type": "bar"
           }
          ],
          "barpolar": [
           {
            "marker": {
             "line": {
              "color": "#E5ECF6",
              "width": 0.5
             },
             "pattern": {
              "fillmode": "overlay",
              "size": 10,
              "solidity": 0.2
             }
            },
            "type": "barpolar"
           }
          ],
          "carpet": [
           {
            "aaxis": {
             "endlinecolor": "#2a3f5f",
             "gridcolor": "white",
             "linecolor": "white",
             "minorgridcolor": "white",
             "startlinecolor": "#2a3f5f"
            },
            "baxis": {
             "endlinecolor": "#2a3f5f",
             "gridcolor": "white",
             "linecolor": "white",
             "minorgridcolor": "white",
             "startlinecolor": "#2a3f5f"
            },
            "type": "carpet"
           }
          ],
          "choropleth": [
           {
            "colorbar": {
             "outlinewidth": 0,
             "ticks": ""
            },
            "type": "choropleth"
           }
          ],
          "contour": [
           {
            "colorbar": {
             "outlinewidth": 0,
             "ticks": ""
            },
            "colorscale": [
             [
              0,
              "#0d0887"
             ],
             [
              0.1111111111111111,
              "#46039f"
             ],
             [
              0.2222222222222222,
              "#7201a8"
             ],
             [
              0.3333333333333333,
              "#9c179e"
             ],
             [
              0.4444444444444444,
              "#bd3786"
             ],
             [
              0.5555555555555556,
              "#d8576b"
             ],
             [
              0.6666666666666666,
              "#ed7953"
             ],
             [
              0.7777777777777778,
              "#fb9f3a"
             ],
             [
              0.8888888888888888,
              "#fdca26"
             ],
             [
              1,
              "#f0f921"
             ]
            ],
            "type": "contour"
           }
          ],
          "contourcarpet": [
           {
            "colorbar": {
             "outlinewidth": 0,
             "ticks": ""
            },
            "type": "contourcarpet"
           }
          ],
          "heatmap": [
           {
            "colorbar": {
             "outlinewidth": 0,
             "ticks": ""
            },
            "colorscale": [
             [
              0,
              "#0d0887"
             ],
             [
              0.1111111111111111,
              "#46039f"
             ],
             [
              0.2222222222222222,
              "#7201a8"
             ],
             [
              0.3333333333333333,
              "#9c179e"
             ],
             [
              0.4444444444444444,
              "#bd3786"
             ],
             [
              0.5555555555555556,
              "#d8576b"
             ],
             [
              0.6666666666666666,
              "#ed7953"
             ],
             [
              0.7777777777777778,
              "#fb9f3a"
             ],
             [
              0.8888888888888888,
              "#fdca26"
             ],
             [
              1,
              "#f0f921"
             ]
            ],
            "type": "heatmap"
           }
          ],
          "heatmapgl": [
           {
            "colorbar": {
             "outlinewidth": 0,
             "ticks": ""
            },
            "colorscale": [
             [
              0,
              "#0d0887"
             ],
             [
              0.1111111111111111,
              "#46039f"
             ],
             [
              0.2222222222222222,
              "#7201a8"
             ],
             [
              0.3333333333333333,
              "#9c179e"
             ],
             [
              0.4444444444444444,
              "#bd3786"
             ],
             [
              0.5555555555555556,
              "#d8576b"
             ],
             [
              0.6666666666666666,
              "#ed7953"
             ],
             [
              0.7777777777777778,
              "#fb9f3a"
             ],
             [
              0.8888888888888888,
              "#fdca26"
             ],
             [
              1,
              "#f0f921"
             ]
            ],
            "type": "heatmapgl"
           }
          ],
          "histogram": [
           {
            "marker": {
             "pattern": {
              "fillmode": "overlay",
              "size": 10,
              "solidity": 0.2
             }
            },
            "type": "histogram"
           }
          ],
          "histogram2d": [
           {
            "colorbar": {
             "outlinewidth": 0,
             "ticks": ""
            },
            "colorscale": [
             [
              0,
              "#0d0887"
             ],
             [
              0.1111111111111111,
              "#46039f"
             ],
             [
              0.2222222222222222,
              "#7201a8"
             ],
             [
              0.3333333333333333,
              "#9c179e"
             ],
             [
              0.4444444444444444,
              "#bd3786"
             ],
             [
              0.5555555555555556,
              "#d8576b"
             ],
             [
              0.6666666666666666,
              "#ed7953"
             ],
             [
              0.7777777777777778,
              "#fb9f3a"
             ],
             [
              0.8888888888888888,
              "#fdca26"
             ],
             [
              1,
              "#f0f921"
             ]
            ],
            "type": "histogram2d"
           }
          ],
          "histogram2dcontour": [
           {
            "colorbar": {
             "outlinewidth": 0,
             "ticks": ""
            },
            "colorscale": [
             [
              0,
              "#0d0887"
             ],
             [
              0.1111111111111111,
              "#46039f"
             ],
             [
              0.2222222222222222,
              "#7201a8"
             ],
             [
              0.3333333333333333,
              "#9c179e"
             ],
             [
              0.4444444444444444,
              "#bd3786"
             ],
             [
              0.5555555555555556,
              "#d8576b"
             ],
             [
              0.6666666666666666,
              "#ed7953"
             ],
             [
              0.7777777777777778,
              "#fb9f3a"
             ],
             [
              0.8888888888888888,
              "#fdca26"
             ],
             [
              1,
              "#f0f921"
             ]
            ],
            "type": "histogram2dcontour"
           }
          ],
          "mesh3d": [
           {
            "colorbar": {
             "outlinewidth": 0,
             "ticks": ""
            },
            "type": "mesh3d"
           }
          ],
          "parcoords": [
           {
            "line": {
             "colorbar": {
              "outlinewidth": 0,
              "ticks": ""
             }
            },
            "type": "parcoords"
           }
          ],
          "pie": [
           {
            "automargin": true,
            "type": "pie"
           }
          ],
          "scatter": [
           {
            "marker": {
             "colorbar": {
              "outlinewidth": 0,
              "ticks": ""
             }
            },
            "type": "scatter"
           }
          ],
          "scatter3d": [
           {
            "line": {
             "colorbar": {
              "outlinewidth": 0,
              "ticks": ""
             }
            },
            "marker": {
             "colorbar": {
              "outlinewidth": 0,
              "ticks": ""
             }
            },
            "type": "scatter3d"
           }
          ],
          "scattercarpet": [
           {
            "marker": {
             "colorbar": {
              "outlinewidth": 0,
              "ticks": ""
             }
            },
            "type": "scattercarpet"
           }
          ],
          "scattergeo": [
           {
            "marker": {
             "colorbar": {
              "outlinewidth": 0,
              "ticks": ""
             }
            },
            "type": "scattergeo"
           }
          ],
          "scattergl": [
           {
            "marker": {
             "colorbar": {
              "outlinewidth": 0,
              "ticks": ""
             }
            },
            "type": "scattergl"
           }
          ],
          "scattermapbox": [
           {
            "marker": {
             "colorbar": {
              "outlinewidth": 0,
              "ticks": ""
             }
            },
            "type": "scattermapbox"
           }
          ],
          "scatterpolar": [
           {
            "marker": {
             "colorbar": {
              "outlinewidth": 0,
              "ticks": ""
             }
            },
            "type": "scatterpolar"
           }
          ],
          "scatterpolargl": [
           {
            "marker": {
             "colorbar": {
              "outlinewidth": 0,
              "ticks": ""
             }
            },
            "type": "scatterpolargl"
           }
          ],
          "scatterternary": [
           {
            "marker": {
             "colorbar": {
              "outlinewidth": 0,
              "ticks": ""
             }
            },
            "type": "scatterternary"
           }
          ],
          "surface": [
           {
            "colorbar": {
             "outlinewidth": 0,
             "ticks": ""
            },
            "colorscale": [
             [
              0,
              "#0d0887"
             ],
             [
              0.1111111111111111,
              "#46039f"
             ],
             [
              0.2222222222222222,
              "#7201a8"
             ],
             [
              0.3333333333333333,
              "#9c179e"
             ],
             [
              0.4444444444444444,
              "#bd3786"
             ],
             [
              0.5555555555555556,
              "#d8576b"
             ],
             [
              0.6666666666666666,
              "#ed7953"
             ],
             [
              0.7777777777777778,
              "#fb9f3a"
             ],
             [
              0.8888888888888888,
              "#fdca26"
             ],
             [
              1,
              "#f0f921"
             ]
            ],
            "type": "surface"
           }
          ],
          "table": [
           {
            "cells": {
             "fill": {
              "color": "#EBF0F8"
             },
             "line": {
              "color": "white"
             }
            },
            "header": {
             "fill": {
              "color": "#C8D4E3"
             },
             "line": {
              "color": "white"
             }
            },
            "type": "table"
           }
          ]
         },
         "layout": {
          "annotationdefaults": {
           "arrowcolor": "#2a3f5f",
           "arrowhead": 0,
           "arrowwidth": 1
          },
          "autotypenumbers": "strict",
          "coloraxis": {
           "colorbar": {
            "outlinewidth": 0,
            "ticks": ""
           }
          },
          "colorscale": {
           "diverging": [
            [
             0,
             "#8e0152"
            ],
            [
             0.1,
             "#c51b7d"
            ],
            [
             0.2,
             "#de77ae"
            ],
            [
             0.3,
             "#f1b6da"
            ],
            [
             0.4,
             "#fde0ef"
            ],
            [
             0.5,
             "#f7f7f7"
            ],
            [
             0.6,
             "#e6f5d0"
            ],
            [
             0.7,
             "#b8e186"
            ],
            [
             0.8,
             "#7fbc41"
            ],
            [
             0.9,
             "#4d9221"
            ],
            [
             1,
             "#276419"
            ]
           ],
           "sequential": [
            [
             0,
             "#0d0887"
            ],
            [
             0.1111111111111111,
             "#46039f"
            ],
            [
             0.2222222222222222,
             "#7201a8"
            ],
            [
             0.3333333333333333,
             "#9c179e"
            ],
            [
             0.4444444444444444,
             "#bd3786"
            ],
            [
             0.5555555555555556,
             "#d8576b"
            ],
            [
             0.6666666666666666,
             "#ed7953"
            ],
            [
             0.7777777777777778,
             "#fb9f3a"
            ],
            [
             0.8888888888888888,
             "#fdca26"
            ],
            [
             1,
             "#f0f921"
            ]
           ],
           "sequentialminus": [
            [
             0,
             "#0d0887"
            ],
            [
             0.1111111111111111,
             "#46039f"
            ],
            [
             0.2222222222222222,
             "#7201a8"
            ],
            [
             0.3333333333333333,
             "#9c179e"
            ],
            [
             0.4444444444444444,
             "#bd3786"
            ],
            [
             0.5555555555555556,
             "#d8576b"
            ],
            [
             0.6666666666666666,
             "#ed7953"
            ],
            [
             0.7777777777777778,
             "#fb9f3a"
            ],
            [
             0.8888888888888888,
             "#fdca26"
            ],
            [
             1,
             "#f0f921"
            ]
           ]
          },
          "colorway": [
           "#636efa",
           "#EF553B",
           "#00cc96",
           "#ab63fa",
           "#FFA15A",
           "#19d3f3",
           "#FF6692",
           "#B6E880",
           "#FF97FF",
           "#FECB52"
          ],
          "font": {
           "color": "#2a3f5f"
          },
          "geo": {
           "bgcolor": "white",
           "lakecolor": "white",
           "landcolor": "#E5ECF6",
           "showlakes": true,
           "showland": true,
           "subunitcolor": "white"
          },
          "hoverlabel": {
           "align": "left"
          },
          "hovermode": "closest",
          "mapbox": {
           "style": "light"
          },
          "paper_bgcolor": "white",
          "plot_bgcolor": "#E5ECF6",
          "polar": {
           "angularaxis": {
            "gridcolor": "white",
            "linecolor": "white",
            "ticks": ""
           },
           "bgcolor": "#E5ECF6",
           "radialaxis": {
            "gridcolor": "white",
            "linecolor": "white",
            "ticks": ""
           }
          },
          "scene": {
           "xaxis": {
            "backgroundcolor": "#E5ECF6",
            "gridcolor": "white",
            "gridwidth": 2,
            "linecolor": "white",
            "showbackground": true,
            "ticks": "",
            "zerolinecolor": "white"
           },
           "yaxis": {
            "backgroundcolor": "#E5ECF6",
            "gridcolor": "white",
            "gridwidth": 2,
            "linecolor": "white",
            "showbackground": true,
            "ticks": "",
            "zerolinecolor": "white"
           },
           "zaxis": {
            "backgroundcolor": "#E5ECF6",
            "gridcolor": "white",
            "gridwidth": 2,
            "linecolor": "white",
            "showbackground": true,
            "ticks": "",
            "zerolinecolor": "white"
           }
          },
          "shapedefaults": {
           "line": {
            "color": "#2a3f5f"
           }
          },
          "ternary": {
           "aaxis": {
            "gridcolor": "white",
            "linecolor": "white",
            "ticks": ""
           },
           "baxis": {
            "gridcolor": "white",
            "linecolor": "white",
            "ticks": ""
           },
           "bgcolor": "#E5ECF6",
           "caxis": {
            "gridcolor": "white",
            "linecolor": "white",
            "ticks": ""
           }
          },
          "title": {
           "x": 0.05
          },
          "xaxis": {
           "automargin": true,
           "gridcolor": "white",
           "linecolor": "white",
           "ticks": "",
           "title": {
            "standoff": 15
           },
           "zerolinecolor": "white",
           "zerolinewidth": 2
          },
          "yaxis": {
           "automargin": true,
           "gridcolor": "white",
           "linecolor": "white",
           "ticks": "",
           "title": {
            "standoff": 15
           },
           "zerolinecolor": "white",
           "zerolinewidth": 2
          }
         }
        },
        "title": {
         "font": {
          "color": "#4D5663"
         }
        },
        "xaxis": {
         "gridcolor": "#E1E5ED",
         "showgrid": true,
         "tickfont": {
          "color": "#4D5663"
         },
         "title": {
          "font": {
           "color": "#4D5663"
          },
          "text": ""
         },
         "zerolinecolor": "#E1E5ED"
        },
        "yaxis": {
         "gridcolor": "#E1E5ED",
         "showgrid": true,
         "tickfont": {
          "color": "#4D5663"
         },
         "title": {
          "font": {
           "color": "#4D5663"
          },
          "text": ""
         },
         "zerolinecolor": "#E1E5ED"
        }
       }
      },
      "text/html": [
       "<div>                            <div id=\"410b22ff-42cd-479e-bc76-83d6e6ed93c1\" class=\"plotly-graph-div\" style=\"height:525px; width:100%;\"></div>            <script type=\"text/javascript\">                require([\"plotly\"], function(Plotly) {                    window.PLOTLYENV=window.PLOTLYENV || {};                                    if (document.getElementById(\"410b22ff-42cd-479e-bc76-83d6e6ed93c1\")) {                    Plotly.newPlot(                        \"410b22ff-42cd-479e-bc76-83d6e6ed93c1\",                        [{\"marker\":{\"color\":\"rgba(255, 153, 51, 0.6)\",\"line\":{\"color\":\"rgba(255, 153, 51, 1.0)\",\"width\":1}},\"name\":\"A\",\"orientation\":\"v\",\"text\":\"\",\"x\":[0,1,2,3,4,5,6,7,8,9],\"y\":[0.016230768079661395,0.8513520075032954,0.7251881215385758,0.33114914530470285,0.7531561118107233,0.18828416381250446,0.8713495947138015,0.9734750316192916,0.2091748717585592,0.23768355983974032],\"type\":\"bar\"},{\"marker\":{\"color\":\"rgba(55, 128, 191, 0.6)\",\"line\":{\"color\":\"rgba(55, 128, 191, 1.0)\",\"width\":1}},\"name\":\"B\",\"orientation\":\"v\",\"text\":\"\",\"x\":[0,1,2,3,4,5,6,7,8,9],\"y\":[0.3494619995697267,0.062734515311471,0.35868187695232734,0.9461216267250161,0.24769223901914483,0.43578995695930134,0.926552655522106,0.24325739832715332,0.584060075998444,0.8168938458053491],\"type\":\"bar\"},{\"marker\":{\"color\":\"rgba(50, 171, 96, 0.6)\",\"line\":{\"color\":\"rgba(50, 171, 96, 1.0)\",\"width\":1}},\"name\":\"C\",\"orientation\":\"v\",\"text\":\"\",\"x\":[0,1,2,3,4,5,6,7,8,9],\"y\":[0.08661335743856247,0.9351236022718333,0.7895726575271976,0.8284630223269279,0.8590118128468823,0.14778257934621852,0.9537024272943919,0.3849668357663967,0.9090769730241332,0.009329713930034678],\"type\":\"bar\"},{\"marker\":{\"color\":\"rgba(128, 0, 128, 0.6)\",\"line\":{\"color\":\"rgba(128, 0, 128, 1.0)\",\"width\":1}},\"name\":\"D\",\"orientation\":\"v\",\"text\":\"\",\"x\":[0,1,2,3,4,5,6,7,8,9],\"y\":[0.21160413316598226,0.8978156687323117,0.4110564544252019,0.09928562910672512,0.2588072694651131,0.2669811531602594,0.18910308995222713,0.7002128782722272,0.10485610315938965,0.7208592233150659],\"type\":\"bar\"}],                        {\"legend\":{\"bgcolor\":\"#F5F6F9\",\"font\":{\"color\":\"#4D5663\"}},\"paper_bgcolor\":\"#F5F6F9\",\"plot_bgcolor\":\"#F5F6F9\",\"title\":{\"font\":{\"color\":\"#4D5663\"}},\"xaxis\":{\"gridcolor\":\"#E1E5ED\",\"showgrid\":true,\"tickfont\":{\"color\":\"#4D5663\"},\"title\":{\"text\":\"\",\"font\":{\"color\":\"#4D5663\"}},\"zerolinecolor\":\"#E1E5ED\"},\"yaxis\":{\"gridcolor\":\"#E1E5ED\",\"showgrid\":true,\"tickfont\":{\"color\":\"#4D5663\"},\"title\":{\"text\":\"\",\"font\":{\"color\":\"#4D5663\"}},\"zerolinecolor\":\"#E1E5ED\"},\"template\":{\"data\":{\"bar\":[{\"error_x\":{\"color\":\"#2a3f5f\"},\"error_y\":{\"color\":\"#2a3f5f\"},\"marker\":{\"line\":{\"color\":\"#E5ECF6\",\"width\":0.5},\"pattern\":{\"fillmode\":\"overlay\",\"size\":10,\"solidity\":0.2}},\"type\":\"bar\"}],\"barpolar\":[{\"marker\":{\"line\":{\"color\":\"#E5ECF6\",\"width\":0.5},\"pattern\":{\"fillmode\":\"overlay\",\"size\":10,\"solidity\":0.2}},\"type\":\"barpolar\"}],\"carpet\":[{\"aaxis\":{\"endlinecolor\":\"#2a3f5f\",\"gridcolor\":\"white\",\"linecolor\":\"white\",\"minorgridcolor\":\"white\",\"startlinecolor\":\"#2a3f5f\"},\"baxis\":{\"endlinecolor\":\"#2a3f5f\",\"gridcolor\":\"white\",\"linecolor\":\"white\",\"minorgridcolor\":\"white\",\"startlinecolor\":\"#2a3f5f\"},\"type\":\"carpet\"}],\"choropleth\":[{\"colorbar\":{\"outlinewidth\":0,\"ticks\":\"\"},\"type\":\"choropleth\"}],\"contour\":[{\"colorbar\":{\"outlinewidth\":0,\"ticks\":\"\"},\"colorscale\":[[0.0,\"#0d0887\"],[0.1111111111111111,\"#46039f\"],[0.2222222222222222,\"#7201a8\"],[0.3333333333333333,\"#9c179e\"],[0.4444444444444444,\"#bd3786\"],[0.5555555555555556,\"#d8576b\"],[0.6666666666666666,\"#ed7953\"],[0.7777777777777778,\"#fb9f3a\"],[0.8888888888888888,\"#fdca26\"],[1.0,\"#f0f921\"]],\"type\":\"contour\"}],\"contourcarpet\":[{\"colorbar\":{\"outlinewidth\":0,\"ticks\":\"\"},\"type\":\"contourcarpet\"}],\"heatmap\":[{\"colorbar\":{\"outlinewidth\":0,\"ticks\":\"\"},\"colorscale\":[[0.0,\"#0d0887\"],[0.1111111111111111,\"#46039f\"],[0.2222222222222222,\"#7201a8\"],[0.3333333333333333,\"#9c179e\"],[0.4444444444444444,\"#bd3786\"],[0.5555555555555556,\"#d8576b\"],[0.6666666666666666,\"#ed7953\"],[0.7777777777777778,\"#fb9f3a\"],[0.8888888888888888,\"#fdca26\"],[1.0,\"#f0f921\"]],\"type\":\"heatmap\"}],\"heatmapgl\":[{\"colorbar\":{\"outlinewidth\":0,\"ticks\":\"\"},\"colorscale\":[[0.0,\"#0d0887\"],[0.1111111111111111,\"#46039f\"],[0.2222222222222222,\"#7201a8\"],[0.3333333333333333,\"#9c179e\"],[0.4444444444444444,\"#bd3786\"],[0.5555555555555556,\"#d8576b\"],[0.6666666666666666,\"#ed7953\"],[0.7777777777777778,\"#fb9f3a\"],[0.8888888888888888,\"#fdca26\"],[1.0,\"#f0f921\"]],\"type\":\"heatmapgl\"}],\"histogram\":[{\"marker\":{\"pattern\":{\"fillmode\":\"overlay\",\"size\":10,\"solidity\":0.2}},\"type\":\"histogram\"}],\"histogram2d\":[{\"colorbar\":{\"outlinewidth\":0,\"ticks\":\"\"},\"colorscale\":[[0.0,\"#0d0887\"],[0.1111111111111111,\"#46039f\"],[0.2222222222222222,\"#7201a8\"],[0.3333333333333333,\"#9c179e\"],[0.4444444444444444,\"#bd3786\"],[0.5555555555555556,\"#d8576b\"],[0.6666666666666666,\"#ed7953\"],[0.7777777777777778,\"#fb9f3a\"],[0.8888888888888888,\"#fdca26\"],[1.0,\"#f0f921\"]],\"type\":\"histogram2d\"}],\"histogram2dcontour\":[{\"colorbar\":{\"outlinewidth\":0,\"ticks\":\"\"},\"colorscale\":[[0.0,\"#0d0887\"],[0.1111111111111111,\"#46039f\"],[0.2222222222222222,\"#7201a8\"],[0.3333333333333333,\"#9c179e\"],[0.4444444444444444,\"#bd3786\"],[0.5555555555555556,\"#d8576b\"],[0.6666666666666666,\"#ed7953\"],[0.7777777777777778,\"#fb9f3a\"],[0.8888888888888888,\"#fdca26\"],[1.0,\"#f0f921\"]],\"type\":\"histogram2dcontour\"}],\"mesh3d\":[{\"colorbar\":{\"outlinewidth\":0,\"ticks\":\"\"},\"type\":\"mesh3d\"}],\"parcoords\":[{\"line\":{\"colorbar\":{\"outlinewidth\":0,\"ticks\":\"\"}},\"type\":\"parcoords\"}],\"pie\":[{\"automargin\":true,\"type\":\"pie\"}],\"scatter\":[{\"marker\":{\"colorbar\":{\"outlinewidth\":0,\"ticks\":\"\"}},\"type\":\"scatter\"}],\"scatter3d\":[{\"line\":{\"colorbar\":{\"outlinewidth\":0,\"ticks\":\"\"}},\"marker\":{\"colorbar\":{\"outlinewidth\":0,\"ticks\":\"\"}},\"type\":\"scatter3d\"}],\"scattercarpet\":[{\"marker\":{\"colorbar\":{\"outlinewidth\":0,\"ticks\":\"\"}},\"type\":\"scattercarpet\"}],\"scattergeo\":[{\"marker\":{\"colorbar\":{\"outlinewidth\":0,\"ticks\":\"\"}},\"type\":\"scattergeo\"}],\"scattergl\":[{\"marker\":{\"colorbar\":{\"outlinewidth\":0,\"ticks\":\"\"}},\"type\":\"scattergl\"}],\"scattermapbox\":[{\"marker\":{\"colorbar\":{\"outlinewidth\":0,\"ticks\":\"\"}},\"type\":\"scattermapbox\"}],\"scatterpolar\":[{\"marker\":{\"colorbar\":{\"outlinewidth\":0,\"ticks\":\"\"}},\"type\":\"scatterpolar\"}],\"scatterpolargl\":[{\"marker\":{\"colorbar\":{\"outlinewidth\":0,\"ticks\":\"\"}},\"type\":\"scatterpolargl\"}],\"scatterternary\":[{\"marker\":{\"colorbar\":{\"outlinewidth\":0,\"ticks\":\"\"}},\"type\":\"scatterternary\"}],\"surface\":[{\"colorbar\":{\"outlinewidth\":0,\"ticks\":\"\"},\"colorscale\":[[0.0,\"#0d0887\"],[0.1111111111111111,\"#46039f\"],[0.2222222222222222,\"#7201a8\"],[0.3333333333333333,\"#9c179e\"],[0.4444444444444444,\"#bd3786\"],[0.5555555555555556,\"#d8576b\"],[0.6666666666666666,\"#ed7953\"],[0.7777777777777778,\"#fb9f3a\"],[0.8888888888888888,\"#fdca26\"],[1.0,\"#f0f921\"]],\"type\":\"surface\"}],\"table\":[{\"cells\":{\"fill\":{\"color\":\"#EBF0F8\"},\"line\":{\"color\":\"white\"}},\"header\":{\"fill\":{\"color\":\"#C8D4E3\"},\"line\":{\"color\":\"white\"}},\"type\":\"table\"}]},\"layout\":{\"annotationdefaults\":{\"arrowcolor\":\"#2a3f5f\",\"arrowhead\":0,\"arrowwidth\":1},\"autotypenumbers\":\"strict\",\"coloraxis\":{\"colorbar\":{\"outlinewidth\":0,\"ticks\":\"\"}},\"colorscale\":{\"diverging\":[[0,\"#8e0152\"],[0.1,\"#c51b7d\"],[0.2,\"#de77ae\"],[0.3,\"#f1b6da\"],[0.4,\"#fde0ef\"],[0.5,\"#f7f7f7\"],[0.6,\"#e6f5d0\"],[0.7,\"#b8e186\"],[0.8,\"#7fbc41\"],[0.9,\"#4d9221\"],[1,\"#276419\"]],\"sequential\":[[0.0,\"#0d0887\"],[0.1111111111111111,\"#46039f\"],[0.2222222222222222,\"#7201a8\"],[0.3333333333333333,\"#9c179e\"],[0.4444444444444444,\"#bd3786\"],[0.5555555555555556,\"#d8576b\"],[0.6666666666666666,\"#ed7953\"],[0.7777777777777778,\"#fb9f3a\"],[0.8888888888888888,\"#fdca26\"],[1.0,\"#f0f921\"]],\"sequentialminus\":[[0.0,\"#0d0887\"],[0.1111111111111111,\"#46039f\"],[0.2222222222222222,\"#7201a8\"],[0.3333333333333333,\"#9c179e\"],[0.4444444444444444,\"#bd3786\"],[0.5555555555555556,\"#d8576b\"],[0.6666666666666666,\"#ed7953\"],[0.7777777777777778,\"#fb9f3a\"],[0.8888888888888888,\"#fdca26\"],[1.0,\"#f0f921\"]]},\"colorway\":[\"#636efa\",\"#EF553B\",\"#00cc96\",\"#ab63fa\",\"#FFA15A\",\"#19d3f3\",\"#FF6692\",\"#B6E880\",\"#FF97FF\",\"#FECB52\"],\"font\":{\"color\":\"#2a3f5f\"},\"geo\":{\"bgcolor\":\"white\",\"lakecolor\":\"white\",\"landcolor\":\"#E5ECF6\",\"showlakes\":true,\"showland\":true,\"subunitcolor\":\"white\"},\"hoverlabel\":{\"align\":\"left\"},\"hovermode\":\"closest\",\"mapbox\":{\"style\":\"light\"},\"paper_bgcolor\":\"white\",\"plot_bgcolor\":\"#E5ECF6\",\"polar\":{\"angularaxis\":{\"gridcolor\":\"white\",\"linecolor\":\"white\",\"ticks\":\"\"},\"bgcolor\":\"#E5ECF6\",\"radialaxis\":{\"gridcolor\":\"white\",\"linecolor\":\"white\",\"ticks\":\"\"}},\"scene\":{\"xaxis\":{\"backgroundcolor\":\"#E5ECF6\",\"gridcolor\":\"white\",\"gridwidth\":2,\"linecolor\":\"white\",\"showbackground\":true,\"ticks\":\"\",\"zerolinecolor\":\"white\"},\"yaxis\":{\"backgroundcolor\":\"#E5ECF6\",\"gridcolor\":\"white\",\"gridwidth\":2,\"linecolor\":\"white\",\"showbackground\":true,\"ticks\":\"\",\"zerolinecolor\":\"white\"},\"zaxis\":{\"backgroundcolor\":\"#E5ECF6\",\"gridcolor\":\"white\",\"gridwidth\":2,\"linecolor\":\"white\",\"showbackground\":true,\"ticks\":\"\",\"zerolinecolor\":\"white\"}},\"shapedefaults\":{\"line\":{\"color\":\"#2a3f5f\"}},\"ternary\":{\"aaxis\":{\"gridcolor\":\"white\",\"linecolor\":\"white\",\"ticks\":\"\"},\"baxis\":{\"gridcolor\":\"white\",\"linecolor\":\"white\",\"ticks\":\"\"},\"bgcolor\":\"#E5ECF6\",\"caxis\":{\"gridcolor\":\"white\",\"linecolor\":\"white\",\"ticks\":\"\"}},\"title\":{\"x\":0.05},\"xaxis\":{\"automargin\":true,\"gridcolor\":\"white\",\"linecolor\":\"white\",\"ticks\":\"\",\"title\":{\"standoff\":15},\"zerolinecolor\":\"white\",\"zerolinewidth\":2},\"yaxis\":{\"automargin\":true,\"gridcolor\":\"white\",\"linecolor\":\"white\",\"ticks\":\"\",\"title\":{\"standoff\":15},\"zerolinecolor\":\"white\",\"zerolinewidth\":2}}}},                        {\"responsive\": true}                    ).then(function(){\n",
       "                            \n",
       "var gd = document.getElementById('410b22ff-42cd-479e-bc76-83d6e6ed93c1');\n",
       "var x = new MutationObserver(function (mutations, observer) {{\n",
       "        var display = window.getComputedStyle(gd).display;\n",
       "        if (!display || display === 'none') {{\n",
       "            console.log([gd, 'removed!']);\n",
       "            Plotly.purge(gd);\n",
       "            observer.disconnect();\n",
       "        }}\n",
       "}});\n",
       "\n",
       "// Listen for the removal of the full notebook cells\n",
       "var notebookContainer = gd.closest('#notebook-container');\n",
       "if (notebookContainer) {{\n",
       "    x.observe(notebookContainer, {childList: true});\n",
       "}}\n",
       "\n",
       "// Listen for the clearing of the current output cell\n",
       "var outputEl = gd.closest('.output');\n",
       "if (outputEl) {{\n",
       "    x.observe(outputEl, {childList: true});\n",
       "}}\n",
       "\n",
       "                        })                };                });            </script>        </div>"
      ]
     },
     "metadata": {},
     "output_type": "display_data"
    }
   ],
   "source": [
    "df = pd.DataFrame(np.random.rand(10, 4), columns=['A', 'B', 'C', 'D'])\n",
    "fig = df.iplot(asFigure=True, kind=\"bar\")\n",
    "pyo.plot(fig,filename='bar.html')\n",
    "fig.show()"
   ]
  },
  {
   "cell_type": "code",
   "execution_count": 9,
   "id": "493cdcb4",
   "metadata": {},
   "outputs": [
    {
     "data": {
      "application/vnd.plotly.v1+json": {
       "config": {
        "plotlyServerURL": "https://plot.ly"
       },
       "data": [
        {
         "histfunc": "count",
         "histnorm": "",
         "marker": {
          "color": "rgba(255, 153, 51, 1.0)",
          "line": {
           "color": "#4D5663",
           "width": 1.3
          }
         },
         "name": "a",
         "opacity": 0.8,
         "orientation": "v",
         "type": "histogram",
         "x": [
          2.9445523142121415,
          0.8936398144639659,
          1.237437536522542,
          2.5135085673521385,
          2.2163780620549782,
          1.5203934968113972,
          1.226915996222895,
          1.9066280063289534,
          1.095541914076439,
          1.8806050799658725,
          2.2890858535709544,
          -0.46371966155580435,
          0.9547869570412605,
          0.7231025121339334,
          1.0939890763137732,
          0.7472776796438079,
          0.2577780167892155,
          2.2715353657148096,
          1.7464656635393836,
          0.14447553615287567,
          0.6707151663408327,
          1.0180686833200159,
          0.6557752717864367,
          3.302044405606281,
          1.2662833614645752,
          1.5998515591169975,
          0.5095915902716013,
          0.40755773534680184,
          1.094947239436555,
          0.5436117593838807,
          0.06307645759886427,
          1.8852693305678034,
          1.114198778729608,
          -0.6424571645807944,
          1.4389142412568179,
          0.9116253477589045,
          2.4872807683669285,
          0.43952836010714114,
          0.22896414931050957,
          0.8635403859154591,
          1.657124784521415,
          2.654533086700031,
          1.3682242731530405,
          1.112856540993131,
          0.9726616236539031,
          0.6147413093567431,
          0.23511008646719822,
          1.469026897988749,
          1.1432258179946413,
          1.4780639271397964,
          -0.31000528046819054,
          0.28144939424235105,
          -0.8893334389170477,
          0.7384016023848241,
          0.4734898023716315,
          0.3703494950445566,
          3.1420901488375104,
          0.02476039671219621,
          -2.206288938692641,
          2.22028115461151,
          2.3421451755743408,
          0.5371367605580165,
          -0.06131417576790832,
          0.982471278913039,
          3.0686843156198322,
          0.7894684440104949,
          0.2554603182342092,
          1.1893040580570942,
          2.1152620769066943,
          1.63900460428096,
          0.06805311849877238,
          0.9444483335898243,
          3.051878697839374,
          1.037361892595355,
          -0.4347801400193687,
          1.020051211659248,
          0.8929195672990301,
          3.1072637817958078,
          1.352664746718062,
          1.653208359775244,
          1.361882663629345,
          0.28422936367003304,
          -0.07756113625028083,
          0.30780747170226264,
          1.603073989756466,
          0.9141495222358289,
          2.666863385985457,
          1.8739353321968664,
          0.06299196073161362,
          0.8330576389935376,
          2.1620021719340645,
          2.464483206629855,
          1.6439891153838941,
          1.9143042331259172,
          0.29804115092310624,
          -0.36941598277884524,
          1.0656180572878544,
          1.4277606000105918,
          0.2403258021352006,
          1.1658874447173009,
          -0.8817602408371448,
          1.4815757786378931,
          0.7771482714132653,
          3.0009488498935584,
          0.4466225269177092,
          0.3447798864721132,
          0.21859626526895604,
          2.7440698717178895,
          0.580580084897702,
          0.4958661577244228,
          1.2096884658090064,
          1.2940504791645,
          0.4989350874754155,
          0.47476135348336246,
          1.351386807781593,
          -0.06309560047847951,
          0.6172678972423638,
          0.45226008469392587,
          0.6529236856400031,
          2.294222921710916,
          1.0253943541133612,
          0.9909210928543977,
          1.5594618906966402,
          0.8373734883805463,
          2.037565447547001,
          1.0960590979538591,
          3.945268737508589,
          0.093051565669929,
          1.543345595025087,
          0.3729180926650487,
          3.5237647058168418,
          2.301714988216547,
          0.6152803816531791,
          1.3097833847045193,
          0.1888910864725124,
          -0.38041752781906624,
          1.003751658158364,
          0.9733304413188907,
          2.1266610221753273,
          1.0973385820919022,
          0.876752735700705,
          0.9942279989579086,
          0.5521565388046963,
          2.1405484197394724,
          0.2349854231288251,
          1.8990637535981334,
          2.4389732992434823,
          1.4105118107282306,
          1.0318846091124536,
          0.6407666329706506,
          0.8170972743831917,
          1.067622043269769,
          1.3685370368608192,
          3.419313069132271,
          1.0368307772965908,
          1.5024532707604714,
          0.9803158397593517,
          -0.5280482502770856,
          1.262969065353499,
          2.157489769499582,
          2.4424836338627003,
          1.7096943606603452,
          0.622084274982108,
          0.5243379378326095,
          1.2331626547061523,
          0.8032057879849369,
          0.4055052221800196,
          1.6580296866540642,
          -1.242299051931394,
          1.3679765611550174,
          1.142472143788035,
          1.9031279451187952,
          0.7515038726141943,
          -0.5488351578273791,
          -0.37052265058072753,
          -0.4257900282541469,
          0.7911213221105694,
          0.3458603189438578,
          0.9294831151726547,
          -1.232791325087227,
          1.083300014177082,
          -0.17756538678722644,
          0.08559291608772157,
          -0.46581475533958083,
          1.799479995873571,
          1.752242441683642,
          0.9730464057374252,
          -0.07609636924175134,
          0.6875124854439085,
          -0.10813173659511488,
          1.3014650577916904,
          1.9066079884929121,
          -0.6256573697709613,
          0.8503592731509328,
          1.5493210094395415,
          2.5763176408939925,
          -0.14235402956288268,
          1.1765388801336079,
          1.8233800002489782,
          2.588535438350241,
          2.1425187587098886,
          -0.9811021999299583,
          1.153975034772095,
          -0.725894246482766,
          0.9545494531359213,
          1.7473686091414995,
          1.4758365887796705,
          -2.4156077779213927,
          -0.0036867214358380362,
          1.6358474011125905,
          2.3152028476206556,
          0.7561508918614863,
          0.10983366966065411,
          -0.1437264473622899,
          0.8309076550162455,
          0.9865821118992011,
          2.020938047314714,
          -0.5203301044251163,
          2.447028747669212,
          1.4592977789472095,
          0.08640099199182816,
          0.3836122854747447,
          2.1396140164564166,
          0.2977468005470172,
          0.43738497877768856,
          0.9330475036118999,
          1.0708175430495777,
          0.31047020874304865,
          0.005777388364799352,
          -0.24619480492005663,
          1.644634378923191,
          -0.23219863873259028,
          2.2063150263564952,
          0.09392488522904263,
          -0.20382005699435224,
          2.3236807306770073,
          1.0525852185605677,
          1.375203941939659,
          0.6328213900942916,
          2.4780828464786193,
          2.1904641140890027,
          1.8264848190103469,
          1.2839942477874215,
          -0.18402997792359854,
          -0.710323630739194,
          1.2232306193281333,
          -0.8991385609298768,
          1.3465780026712826,
          1.3744342243911998,
          1.5432274541714226,
          0.5744676215840077,
          0.4989374863561947,
          1.4533734110812653,
          0.1600396754281298,
          -0.03664446713353775,
          1.485874632564502,
          -0.7000868360196872,
          2.0394384354886155,
          -0.03745015514925498,
          -1.7224619066534506,
          1.8843748654274615,
          2.890113564110833,
          0.9127151432588846,
          1.9385066647768814,
          0.5370294276004668,
          0.06633570708024927,
          1.0121522076232112,
          2.8419192087233505,
          -0.14441361425537647,
          -0.08728570927466417,
          2.7734709772690467,
          0.3433465565217566,
          1.8448894401246179,
          0.01759300440515721,
          0.620455335626583,
          3.1674296287911656,
          -0.2308303159415439,
          -0.33569826700761074,
          -0.7150854503326227,
          0.45339881438512875,
          1.6230540347545233,
          0.07736012888901478,
          0.2148041007087167,
          1.4259332344334168,
          1.4577523485055939,
          2.3661382945551157,
          1.30930629826687,
          0.1299268289500557,
          0.3914985628491261,
          1.4833204003876013,
          2.0422281068348243,
          -0.46835807548733377,
          1.652501807932635,
          -0.17291118239913916,
          -0.1691000945340242,
          -0.7296577384206802,
          0.614942368885713,
          0.6223848735620512,
          -1.3864341762594212,
          0.6787420810051226,
          0.8762325344282104,
          -0.17328284167397268,
          0.66907145593396,
          0.44567817219326844,
          1.3536896920775503,
          -0.014255935716038781,
          0.07765594120801345,
          0.7727758843856595,
          1.9091085327153043,
          1.475767494469593,
          1.5368811836667435,
          1.4055527482782275,
          0.7645388734207734,
          0.9243425190000727,
          1.5926744172451466,
          0.7573289307690523,
          0.9049376604463327,
          1.930769499906853,
          1.3404896690873,
          0.7398660900737493,
          0.2727283959629212,
          -0.0768456222758942,
          1.553266037643148,
          2.2512984811561942,
          0.9941376954749002,
          1.0936246416440711,
          2.891612778024017,
          0.008868419963934948,
          2.8522204925595895,
          0.16976357126343844,
          1.3300316124376108,
          1.614372881795362,
          -0.0675356821035693,
          0.6844902284996843,
          1.319616922087131,
          1.939752887844315,
          1.9180948651502407,
          0.3336123588567269,
          -0.3198443538713296,
          2.1340956789553998,
          1.474613834134908,
          1.0388635539777458,
          1.2079921830740832,
          -0.8778115150237618,
          1.547315881383243,
          0.10701896982345338,
          -0.8671667770087406,
          0.6951709512996991,
          0.3840502321398199,
          1.4108817171025816,
          0.20602984581808492,
          -1.2232216055316165,
          -0.08592676172261338,
          -1.6221068752388277,
          2.539005920841698,
          4.471866722210318,
          0.7219202880908957,
          2.398678356415152,
          2.668934646432521,
          -2.5769414589268878,
          3.162730411288452,
          2.1443793138885807,
          0.9397330795689844,
          2.0673389408029905,
          1.3736310718334905,
          0.7070404432662061,
          2.8890133235782196,
          1.5838852828122145,
          0.000691236488026381,
          0.5869881871830855,
          1.9683001473956314,
          0.7234601008831196,
          -0.33464698853357167,
          1.0204130813711498,
          0.18779298368237118,
          0.8793250213060164,
          1.35396385476023,
          1.414962326714253,
          1.3277429293148246,
          1.7811588844729564,
          0.5433678729909364,
          0.42961166050385013,
          0.549983336996145,
          1.4522714813162556,
          1.5425383733430236,
          2.4642940825150834,
          0.6604044553268322,
          0.3742214982330263,
          0.34797788397593354,
          2.5674241560774327,
          1.8655557498009836,
          0.5959450150675774,
          1.5632159761775957,
          -0.04607272320381539,
          0.3545855554078493,
          -0.3237932712485858,
          0.4425766198268686,
          -0.23565338496755528,
          0.29658909161183045,
          -0.22981464233544813,
          0.2076639171839476,
          2.133925614003342,
          -0.9400442652904035,
          -0.21521399727377455,
          0.02800500323900934,
          1.1947584468099104,
          2.263217916703553,
          -0.1603259196333322,
          -0.02088243781828525,
          0.5535477440350516,
          -0.2676571360061848,
          0.7964794331762645,
          -0.24242939801437213,
          0.6045336696618422,
          0.07793077032870155,
          -0.704152349800363,
          0.4906538755422951,
          1.2916370882856527,
          -0.6606887559092298,
          1.7729414654876687,
          -1.3485992052426288,
          1.0478288455465075,
          0.4856095859685431,
          -0.1349599901514411,
          1.413833490105615,
          1.5356270629484015,
          -0.6522727850416641,
          1.9512005638530439,
          0.1671433130765615,
          1.4359982845015316,
          2.1824535127594116,
          0.25287943679249525,
          1.2494016316146501,
          -0.6912027535418694,
          2.3360815751099064,
          0.81769552282242,
          2.0499163911809486,
          1.2401076866856762,
          2.478529191894336,
          0.8737170387714224,
          0.7935778767988327,
          0.6788197664449969,
          0.7745362355961641,
          2.158295029397511,
          2.2115832114783,
          -0.8339680544672723,
          0.43744991731933036,
          1.5184098078516917,
          0.9302983669151433,
          0.6048298387715785,
          1.8393904348370311,
          3.2003617931876494,
          0.283530241865532,
          2.6991474832656013,
          1.9532368894715308,
          0.24718933998927328,
          0.5143736121209532,
          1.1415543607026863,
          1.7968730252835572,
          0.14515616286901378,
          2.7899297063492527,
          1.4736028069233045,
          1.124895651069249,
          1.9216266317992186,
          2.6951727083322568,
          1.7950339878858712,
          1.4006497207610973,
          2.315090509141048,
          1.687323808099055,
          1.1231903004857837,
          1.1992888766554914,
          1.0599734643689576,
          2.515694334146324,
          2.41636252853609,
          -0.08821769886013997,
          0.5503186600959757,
          1.9858410111982607,
          -0.18655197639013776,
          -0.009377474860695179,
          1.5282226571391577,
          -0.9546773338143126,
          1.0665323090703918,
          0.9008112913782003,
          1.0407452235023165,
          1.7643306590263235,
          0.927966609595036,
          -0.2935005357164071,
          3.138946474922379,
          1.130669225222724,
          1.4299817116462292,
          -0.7454938028813236,
          2.0005700563319166,
          0.012166907649303393,
          0.6736900329004258,
          2.130064246738295,
          1.6903373699606719,
          -0.4829282903572576,
          2.3738267818398304,
          0.43312878943807653,
          1.252248566157805
         ]
        },
        {
         "histfunc": "count",
         "histnorm": "",
         "marker": {
          "color": "rgba(55, 128, 191, 1.0)",
          "line": {
           "color": "#4D5663",
           "width": 1.3
          }
         },
         "name": "b",
         "opacity": 0.8,
         "orientation": "v",
         "type": "histogram",
         "x": [
          0.6140041860112088,
          0.6011143198910099,
          -1.4048273360114276,
          -0.20171968794122916,
          -0.13762310803912203,
          0.7584167241321225,
          1.1582908220324355,
          -1.5042414087565028,
          -0.5313703346868874,
          -0.05499028403627102,
          -0.278269055519851,
          1.540666450201908,
          -1.3372437122283427,
          0.7222894103042771,
          -0.06639487436538506,
          -0.36429453545618434,
          0.6347679646932605,
          -0.2790896179466878,
          0.6750556182958177,
          1.3836766054505116,
          1.3835954356079738,
          -0.15938652509700954,
          0.49886467011000546,
          0.9420468801008787,
          0.7871752990356272,
          0.16877551422971354,
          -0.4002782249492147,
          0.15365528566084916,
          1.4935269380017961,
          0.9897587738183454,
          -0.11742158744517875,
          0.6127043854776124,
          0.6861519397245238,
          -0.21850338537319433,
          -1.4621396741745007,
          -0.42877499940700775,
          1.1594526977297726,
          -0.43482237837958043,
          0.28201138927304614,
          0.46377733317427106,
          1.296116907560316,
          -1.266585500327303,
          0.25321676762302314,
          1.669293115012108,
          -0.7182158673139849,
          0.07879569614677266,
          0.2529892027346888,
          1.985370545506263,
          -0.47811196318198157,
          -2.046943024895031,
          1.511760041697942,
          1.804686449408406,
          0.08791469919742563,
          -0.9822799775542526,
          1.6492245848889244,
          1.136190423528202,
          -0.8065067292550112,
          1.766917362024378,
          1.6065917335992048,
          0.4586547492368775,
          -0.10244334943985389,
          1.2431675421157407,
          -1.5503631882945255,
          0.26106861254888536,
          -1.3163946149067054,
          0.22486534102039502,
          2.182976743426501,
          -1.1727491061248074,
          -1.263713670545322,
          -0.036692736817397,
          -1.4088687051368236,
          1.269768666824066,
          -0.5922128468674878,
          1.661947114268446,
          0.2524806451869489,
          -0.6136859641376463,
          -0.3855241076158843,
          -1.0132379640827636,
          0.8629466284256727,
          0.35400677939151537,
          -0.5761479739876897,
          -1.43806201573666,
          2.26904784553591,
          0.8200298675216332,
          -0.061328146332157135,
          -0.12447323544544943,
          -0.17096300156193195,
          0.6200583686471088,
          -0.261011389907288,
          0.2168905782471042,
          -0.4647265070388179,
          -0.5806883332069283,
          3.058328380958346,
          -0.04277651153901738,
          -0.3287068771675042,
          0.7936421018099471,
          1.3564114304452417,
          -1.0500006510103004,
          -0.08626068198900921,
          2.2447991529151157,
          0.09649465695009964,
          -1.0444473146949445,
          -0.4930093818800953,
          -2.5936676161798795,
          -0.851373782948533,
          0.5984704831575052,
          -0.06699825642594189,
          0.27389735592739783,
          2.13288588778984,
          -1.6347445294967722,
          -0.7049741672162232,
          0.6366780644638734,
          -0.45669962028810307,
          1.0347523119359139,
          1.071223740747887,
          1.7008725815472796,
          -0.2914924138994487,
          -1.9414369021916975,
          -1.2001557024045373,
          0.5814964444329136,
          -1.8625183091160418,
          0.2093577728262809,
          -1.0049980176028135,
          1.1975516125908532,
          -0.09562305250217516,
          -1.3038487724390746,
          0.5714403669403416,
          -0.1512549140298337,
          0.6514355235965352,
          -0.5489794284367402,
          0.35904458168877357,
          -1.3035474734975068,
          1.824027129663336,
          -0.45001165472009613,
          -1.836683054362937,
          -0.22076861035809398,
          1.3897692597475886,
          -0.27060045854072456,
          -0.8966595243771915,
          -0.19320948142269734,
          -0.67169153778742,
          0.02481227315504937,
          1.1824345695058185,
          0.4508019443141031,
          0.21072121432417895,
          2.1708122167824593,
          1.5870397543344423,
          2.1423251966744057,
          -1.2296695250796719,
          0.7624225015354823,
          -0.34499997849086855,
          0.33520979187623606,
          -0.15556236921814715,
          -0.8247971970276687,
          -1.2873723628939675,
          -0.4952830436285387,
          1.1523969891878532,
          -0.36744655926042263,
          -0.3943317020758032,
          -0.3483884864002464,
          -0.4356896373382403,
          0.8773400474881343,
          -0.15335362795709903,
          -0.18516041549306994,
          0.4333884010579354,
          -0.25716213812128635,
          1.7541114046299209,
          -0.09127377567883513,
          0.6073698341725335,
          -0.8321552370024459,
          0.6745599559968414,
          -0.5888992626624414,
          -0.6539675865231847,
          0.5726520365913519,
          -1.2814623140393402,
          -0.40633082885595795,
          0.7749480599520198,
          2.037314267323697,
          -0.4719418729068831,
          -0.3951420866485383,
          -1.2124655347638136,
          -0.9497320359662494,
          -0.8942099765415098,
          -0.24808691957139392,
          -0.5637462273178099,
          1.2298746930380882,
          0.17580839152281247,
          1.4460887518049912,
          0.4831057989378585,
          -1.706562525123076,
          -0.41473976100564763,
          -0.031773614109311864,
          -0.6636650331701961,
          -0.4044458385275715,
          -0.6228916240453328,
          1.0785952903542189,
          0.49027723586812777,
          -0.4298359824391453,
          0.5059761297958137,
          0.0408574844323819,
          0.6845493403840079,
          0.47725064091789293,
          1.16934768329822,
          1.671550407744623,
          0.13689771039694004,
          -1.114339182203308,
          -0.015201175455992819,
          0.08085130273801741,
          1.7463999566366086,
          0.05895211310268005,
          -0.3520493713961544,
          0.9133002798286892,
          -0.429094621199731,
          1.3711499001642444,
          -1.0998951926895437,
          0.11483994665109958,
          0.8591382602896361,
          0.8766435426160732,
          0.5597619030036832,
          -0.983564282207203,
          -1.484737781618607,
          0.3042449596761312,
          0.085708111983932,
          -0.24394092741952392,
          0.7351063036319458,
          0.9341144608097709,
          -1.0396704727320876,
          -0.13460376929644172,
          -1.023579958148164,
          -0.29807313110260114,
          -0.08942087001779955,
          0.3833234903752413,
          1.2735231535739415,
          0.2666278848001388,
          0.1268722936094674,
          -1.0413148624524549,
          0.9326225597667734,
          0.3766484386465826,
          0.6615326523712936,
          1.151061198992994,
          0.40443743298339957,
          0.31300705637693244,
          -0.8901709346362691,
          0.8578124978762912,
          -0.39481490140844994,
          -1.3002003081767772,
          -0.12706315378757782,
          0.0011747802360484,
          -0.9817667355804058,
          -0.8227651141125725,
          0.7610376077937611,
          1.4288843921680683,
          1.0339197208357132,
          1.9140731623272786,
          0.12522193137179055,
          -0.7193380223977963,
          0.18633032448089093,
          0.33805007353287597,
          -0.7094082174604771,
          -0.3977581904115866,
          -1.9939687611866057,
          -0.5896040684092643,
          -0.08203621773693526,
          -1.1020303445785142,
          -1.2040215362513764,
          1.3341628896260405,
          1.5829039790404011,
          0.3357427547562678,
          -0.4938584342908103,
          0.5810671982560971,
          0.8735201421138254,
          -1.5116341216211715,
          -0.9743608233677842,
          0.7002993095886246,
          -0.6514152537655046,
          0.6112806009668499,
          -0.3728478993073609,
          0.3254313118540776,
          0.9615229342482484,
          -0.864846153393121,
          0.4596816169785188,
          -0.4320169158328269,
          -1.4663844044729892,
          0.5761815196562664,
          -0.22693914082054834,
          -0.9927541955560784,
          1.9946067575274549,
          1.5589425026755495,
          -0.22045817343204147,
          -0.17879919194639263,
          1.5586341220193025,
          -1.005872853678804,
          0.5667608720729612,
          0.9046324708033201,
          0.27231294464419087,
          -0.1643650810963187,
          0.07057537019462026,
          1.5344131206828182,
          -1.2232522233656555,
          1.2350989545104771,
          0.41994664057705455,
          -0.22134015654903114,
          -0.6173292582678362,
          1.7565259818019194,
          1.1456457917911098,
          -0.25546718771801447,
          -0.5410679023882627,
          -0.7819940582467423,
          1.2433626898158472,
          -1.9056688741211931,
          -1.121015304944675,
          -0.21938387422390795,
          1.6104633733890483,
          -0.1293079095941855,
          0.017565299981831067,
          -1.4869368821545286,
          0.27633129853100186,
          -1.0691555990330337,
          -0.48649937811937377,
          -2.1336627483224184,
          -0.3642369497791172,
          0.669254676647351,
          -0.16854608493879422,
          1.0463688210249789,
          -0.5723605601515062,
          0.8771235576785358,
          0.510565653025569,
          -0.45034415943799105,
          -0.06023017185268359,
          0.17973027971734049,
          -0.7107280029496584,
          -0.8169197175902134,
          -0.6366228587836208,
          -0.5252950753281753,
          -0.9578634007049253,
          -0.5509078354240531,
          1.4398329925369755,
          -1.337419936978173,
          -1.0804117566030687,
          -1.1116121006641584,
          -0.13875728839595233,
          -0.4569507846455542,
          1.56611413528381,
          -1.7194750130774061,
          -0.2718996545268769,
          0.948788390571128,
          -0.7999759508805111,
          -0.02408394784673429,
          0.748465551516803,
          0.32299962369179613,
          -1.2074295855575086,
          0.14240410060137948,
          1.7691308333958753,
          1.0520929194734163,
          -0.3344801016446649,
          0.24947494094949296,
          1.6936196789699165,
          0.6366263357812674,
          0.23522820186062302,
          -0.9122075044604597,
          -1.055658113425341,
          0.1901290064988771,
          -0.2798911395530404,
          -0.49738446117224394,
          0.30919028646695734,
          0.24574393026920852,
          -0.11022892317292612,
          0.12625207811825312,
          1.4560427297321967,
          0.39305295943630786,
          -1.1645004129082477,
          -0.2748480602229876,
          -0.5094297324834224,
          -0.504227073685646,
          -0.8595711631894118,
          0.518024166157106,
          1.0905481616360124,
          -1.5509623248230182,
          -0.13715785085413226,
          0.18488785210037062,
          -0.14934559001077718,
          -0.6485807804379239,
          -0.2800082145707789,
          -0.495738352201251,
          0.5368524087985644,
          0.30527214894112065,
          0.2499720315521357,
          0.6976556010589907,
          -0.41869251896912046,
          0.673051888020339,
          -0.5233381512182723,
          0.4363144541589812,
          0.10338764515422076,
          0.312357322353493,
          -0.4083366595679278,
          -0.048407873526587784,
          -1.3834286095728132,
          -0.1359424983108254,
          -1.2649293117108409,
          -1.1026714216219071,
          -0.8226928207448906,
          0.49642907830183003,
          -0.4724967939434434,
          -0.1339492252819033,
          1.4998391337156889,
          -0.42316295424403816,
          0.3159500097163397,
          -0.7856276418507018,
          -0.7701031711848749,
          -0.07084919806121832,
          -0.42192703673709114,
          0.42550864213181,
          -2.2010627405749257,
          1.0317479715205948,
          0.9400099783621753,
          0.0027178078099900594,
          0.4327489808604137,
          0.5025041330927924,
          -2.146805296922958,
          1.788864690608627,
          1.7415105755271634,
          -0.9367047663079254,
          0.003597400693042379,
          1.8198910600469351,
          -0.8736399581285614,
          0.43653628717479454,
          1.390954778679128,
          -0.39708515923602894,
          -1.189795978636535,
          0.0031358819501942467,
          -1.3249450524476851,
          1.608284288428968,
          0.19200446695528678,
          -0.720826350654826,
          -0.495311232726259,
          -0.3042937173767855,
          -0.23791190862110514,
          0.08368259653053349,
          0.03177967818044487,
          -1.449442798853009,
          1.171356995322692,
          0.9222820356880602,
          -1.1278590357257108,
          0.7532157882456627,
          1.4034823452218212,
          0.4301231732629988,
          -0.39968727637186513,
          0.21104608895645482,
          -0.18127146530601673,
          -0.25347787674678707,
          -0.25482769617444206,
          -0.07185922948069678,
          -0.767229193660519,
          0.015836024974354775,
          0.052314632410957185,
          -1.0545201128085115,
          -1.196738874469661,
          -1.2126465668290909,
          -0.7827791386171662,
          0.808027589873833,
          -0.2623985741750644,
          -0.4942457046964749,
          -0.6637839034311329,
          1.464517520271835,
          1.3448171545718528,
          0.6011133693175702,
          0.1632201543378181,
          1.2248107799028884,
          0.7994906223988056,
          -0.2161736628371949,
          0.9116688822603318,
          3.902229836629033,
          0.7252182608366325,
          -1.3521321431374147,
          0.4153433825998339,
          -0.5737129011179363,
          -1.6426670020714382,
          -1.804973948145196,
          -1.363915099742037,
          -0.258895043330387,
          0.5382447248850627,
          -0.8358012519654198,
          1.074626388889294,
          2.0742221145360795,
          -1.380729633076403,
          -1.4216607550885543,
          -0.3175480747927612,
          1.3666965768306718,
          0.08871359965887121,
          1.5844371161748085,
          -0.7943909524905459,
          0.9061058209946535,
          1.820799299525298,
          -0.4111218939784008,
          -0.05226160913088098,
          -1.756087939643851,
          1.3959793705903842,
          -1.2278673917493323,
          -1.4882425560288863,
          0.6552215207296921
         ]
        },
        {
         "histfunc": "count",
         "histnorm": "",
         "marker": {
          "color": "rgba(50, 171, 96, 1.0)",
          "line": {
           "color": "#4D5663",
           "width": 1.3
          }
         },
         "name": "c",
         "opacity": 0.8,
         "orientation": "v",
         "type": "histogram",
         "x": [
          -2.712220337912532,
          0.12047862188170955,
          -1.356344955758865,
          -1.4169690055541806,
          -3.7585261023717087,
          -1.845925928961186,
          -1.8192605938145128,
          0.27244245505679987,
          -1.0362372855648307,
          -2.0319207660291485,
          -1.7946776451923112,
          -2.819973071850052,
          -1.2778546874513002,
          -2.125338194776986,
          -0.014003543726880507,
          -1.813564920105569,
          0.3204695854020194,
          -0.04359680562789903,
          0.901484346003889,
          -1.9953111385200946,
          -0.6990722783180142,
          -2.2796320072094147,
          0.5030988921244013,
          0.02858054922045916,
          1.0558300406037078,
          -2.4824605804323325,
          -0.4746150378839603,
          -0.6838333314220516,
          0.5351493183325478,
          -1.5458481012802692,
          1.4260213877925776,
          -1.7975282135636514,
          -2.020809492122967,
          -0.9821245130476395,
          -0.18364855838413607,
          -1.1352206797011788,
          -2.7692816104360913,
          -2.2115942294809035,
          -3.0476913671758683,
          0.2809994377195326,
          -0.5406352675144883,
          0.5053301024326997,
          -1.2286661109522057,
          0.720897905233185,
          2.6571397154975673,
          -2.2143609195991742,
          -0.6963942791309885,
          0.07429861091322776,
          -1.6373813193308255,
          -3.3071307827663974,
          -1.0604934912409314,
          0.3634472163010405,
          -1.9470656638314545,
          0.3050779084554396,
          -1.4284469346738007,
          -0.37510847761061095,
          0.12147461441853902,
          -1.487281340680659,
          -0.12007884386450207,
          -0.23230254883393398,
          -0.5187668016104969,
          -1.0671424745478177,
          -2.403949984800411,
          -2.203243766167697,
          -2.933366046447736,
          -1.0283176302906047,
          -2.2813290019384502,
          1.0956028077453976,
          -0.32317969798861146,
          -1.2499857777181185,
          -1.2423851086569766,
          -1.9260735612676443,
          -0.7912317324969268,
          -1.4179239433146726,
          -1.961408808981567,
          -2.1996216047916684,
          -2.967917436330886,
          -0.8295289509828505,
          -0.2636663706418717,
          -1.2422203319289147,
          -1.150909919436165,
          -1.7941583401478836,
          -1.2790804443938073,
          -2.2100024084864653,
          -0.5951965087180211,
          -1.4662367953290394,
          0.08193125188035144,
          -1.4722587129302966,
          0.998765633979174,
          -0.6774476947022081,
          -2.2697810739168363,
          -2.763937239098584,
          -0.9248912707599555,
          -1.7285701010018637,
          -0.8759538616417701,
          -2.269894719772867,
          -0.8828934614030335,
          -1.683369194575984,
          -1.142679731136562,
          -0.5788684680536771,
          -1.766203059210636,
          -0.6194519229666022,
          0.5319246410385792,
          -1.9687896654330395,
          -2.140873247232973,
          0.03989888363975713,
          -0.5293378797717031,
          -1.7507691419657498,
          -0.26251050675263754,
          0.40738518305207405,
          1.660970700607583,
          -0.9037033305575625,
          -2.0085146329526067,
          -0.041877697427488036,
          -0.32169430141950783,
          -0.8997756794057794,
          -3.14484446202972,
          -0.11435751200913769,
          -1.2737082850093315,
          -3.4656900373671005,
          -0.37937929107982304,
          0.8301212614647762,
          -0.6613143458451674,
          -1.7686930007774737,
          -0.8161893535917867,
          -1.2842867276285554,
          -2.224479148664132,
          0.14363576839177372,
          -1.0678541237507848,
          -0.27884219546716327,
          -0.14778625990498506,
          -1.8261938106242912,
          0.2577587467079858,
          -0.11733441951383083,
          -0.9123997557089496,
          -1.0914032768639372,
          -0.4792205610757917,
          0.034759570659160355,
          -1.7327833610602448,
          -1.3740265937413885,
          -0.7523956280093017,
          -0.4979938715191702,
          0.40659048640957085,
          -1.4421697319266253,
          -1.0314712795019523,
          -0.7326356935405776,
          -0.3525117467441622,
          -0.9282297295696138,
          -1.199820619234458,
          -1.72524638095082,
          -0.16817572433641326,
          -1.1026116969744362,
          -1.345393962507594,
          -1.0465923302637294,
          -2.96930503561181,
          -1.2642747499163856,
          -2.3004187608189457,
          -1.0040750529811635,
          -0.6280156067022835,
          -2.679285805805643,
          -0.25733242997835204,
          -1.464957424276442,
          -1.3859324674497324,
          0.9317586354823295,
          0.27704950642499093,
          -1.6609415075339802,
          -1.5810827927174207,
          -1.0289769864445508,
          -0.28796622261331384,
          0.916190384103929,
          -0.3003404741782023,
          -0.3829717929875137,
          -1.3550056445418315,
          -1.8947391890754388,
          -1.2313955987498206,
          -0.5682433216294508,
          -3.0972788763489025,
          -0.3472674553706714,
          -0.24177882947651264,
          0.2219332988382552,
          -1.3871699129882769,
          -1.2760058846035822,
          -1.2048047194343774,
          0.5488822169686938,
          -0.6815395211939469,
          0.41644934470199324,
          -0.5581057808013276,
          -0.19460725773428367,
          -0.4194297538251833,
          -0.3841013732678018,
          -0.9025784673579966,
          0.17708054025314146,
          0.10162332010331943,
          0.5443435532300609,
          -0.6833585180115477,
          -1.2990251454429365,
          -1.151059153735191,
          -0.13820151660317959,
          -1.4027910629492804,
          -2.4494958867824703,
          -1.5840567448802858,
          0.03507618890669062,
          -0.039549811192250095,
          0.48474386635338806,
          -0.9333170192552525,
          -3.2410218175977605,
          -2.314509159315724,
          -2.3462148052144176,
          -2.3904307823927615,
          -2.188810583912672,
          -1.084465995756426,
          0.8738926738633428,
          0.5685378896659277,
          -2.191035654191782,
          -0.7742168524986275,
          -0.1045852876922545,
          0.24382996250023603,
          -1.3327887504758487,
          -0.9506576764039455,
          -2.4862007733314098,
          -0.6364776911936474,
          -0.376773608989166,
          -0.768104111741641,
          -0.7250269395088776,
          -0.5622718662202296,
          0.5206563149266403,
          -0.4980508920834841,
          -0.35188990566975886,
          -1.1743788740514958,
          -0.49537503964537133,
          -2.640831050983892,
          -0.79451838287527,
          1.2861872179590006,
          -0.9778493593958564,
          -0.15583890087069074,
          -1.3530791806359135,
          -1.4494636759513029,
          1.1820184500490778,
          -1.5303475500927073,
          -0.5377048061295362,
          -0.6953004988065661,
          -1.3037792135932076,
          0.6889134116025419,
          -2.783548728702896,
          -2.1499281251929423,
          -0.868789049699911,
          -2.107909940023359,
          -1.9391474364740953,
          -1.3147463106457686,
          0.10762472628323749,
          -1.4071432211680608,
          -1.3848126684027324,
          -1.8520117612138727,
          -0.2729864410216477,
          -1.9535301234774503,
          0.3817080296000175,
          -0.7912524807724253,
          -1.3070279096584112,
          0.3154856551400642,
          -1.5722072806379421,
          -0.794233692795822,
          0.4793084129213516,
          0.20050106879549645,
          1.373341769440084,
          0.024300308282067418,
          -1.5923765445176086,
          -2.9554834536524606,
          -0.3594081870196869,
          -0.32199014228369394,
          -1.1797196629234912,
          -0.8335857912302196,
          -1.9181480242461295,
          -0.6773792943768072,
          -1.37851652582105,
          -0.32062247770200447,
          -0.07935969304611235,
          -1.2579387437622103,
          -1.0774249847330857,
          -2.4473148236555566,
          0.04478040129170635,
          1.9555389835943946,
          -2.546117073386699,
          -1.5938210095991554,
          -1.0702240679279738,
          -0.12601432260329948,
          -2.4306804833064204,
          -3.046457623496457,
          0.03457506869197302,
          -0.9126273508627714,
          -1.3293201280601896,
          -1.7775194904952962,
          -2.280508564339949,
          -1.3862832144591641,
          0.15138334400062425,
          -1.6098543883406222,
          -0.6730441358904635,
          -0.17830312978262763,
          -1.4376682854471021,
          -1.5811612144334986,
          -3.852428543037999,
          -1.1173878768291432,
          0.3585793671535562,
          -0.5977873790086087,
          -1.0782457343066034,
          0.5462015846297279,
          -2.602187521149351,
          -0.7636884638379241,
          -1.112808408979629,
          -1.5045810200952228,
          -0.7620972756249412,
          -0.786898218868572,
          -1.5174522455967048,
          -1.5819172300453328,
          -1.216281417481298,
          -0.27077895622268844,
          -0.4775110780667622,
          -0.23536575520301228,
          -1.5357365580840718,
          0.7303407081544642,
          -2.143392095698807,
          -0.4230061360982731,
          -1.817620175402142,
          0.05961481888395981,
          -0.9328856166380162,
          -1.678366074677297,
          0.2837925292353889,
          -1.654730243147311,
          -0.9439929926544871,
          -1.1917134557492317,
          0.1507160480822214,
          0.10070566960213045,
          -1.0956954725173824,
          -1.6016391511881491,
          -2.2344032270579497,
          -2.005355179221053,
          -0.7701069557224575,
          -0.18136869109217058,
          -1.135764105093032,
          -3.527254381630708,
          -3.372999712016471,
          -1.6625255614020729,
          0.3262021100310637,
          -1.0099281245631142,
          -2.3862953488114345,
          -1.6408173424447168,
          -0.3421786412102108,
          -1.133527350319767,
          -2.4923331068796513,
          -1.9073216808216906,
          0.02371363818926464,
          -0.15038782346183466,
          -1.3437017337882922,
          -0.30434293791897615,
          0.26217054629434555,
          -0.9452687234326799,
          -2.524496197022656,
          -1.76337982449764,
          -0.08879713236461106,
          -0.3231545164118539,
          -2.198556096700503,
          -1.5196694572726468,
          -0.345660046214321,
          -1.2022816668619714,
          -0.15851815192567897,
          -0.740909896541076,
          -2.743578512882156,
          -1.0026959137835405,
          -2.06654469282258,
          -1.4678986445688509,
          -2.804793279552292,
          -0.3941912822164808,
          -0.690185521106742,
          -0.1014770312486376,
          -0.2896580493584139,
          -0.28816375210920586,
          -0.35790619717433503,
          1.0371847936098635,
          -1.5612173882531533,
          -1.3431668387802205,
          -3.2455015747019385,
          -0.1801864083491621,
          0.08007509447778838,
          -1.1682330600806767,
          -1.049139460420878,
          -0.8035647117493664,
          -0.9286032635803373,
          0.4277540149118695,
          -1.7455587436665412,
          0.438421448067017,
          -0.4451508361701564,
          -1.063563274728162,
          -0.6016179483809663,
          0.018489600533966533,
          0.05060649452434718,
          -1.9294336767050027,
          -0.452406273270483,
          -2.6396398867658744,
          0.9960744807775535,
          -2.4665678999610616,
          -1.371275939822355,
          0.6703366267206996,
          -1.4418277224263043,
          -0.1812140656017951,
          -1.553190260829072,
          -1.978847914601623,
          0.5421273761075089,
          -0.7534859311981961,
          -0.13408895442610735,
          0.5854404238453643,
          -1.3612117161326038,
          -3.776772716474947,
          -0.5181774000050889,
          -2.245839529868812,
          -2.2123092872108563,
          -0.4408396143271459,
          -1.5308290503333688,
          -0.6747233792531483,
          -1.9364005300094096,
          -1.5676838336482615,
          -0.9842846550178627,
          -0.4793879339878896,
          -2.245063029214545,
          -0.9496498212639264,
          -0.41588694752763544,
          -1.5617447772004107,
          -0.49350274749994194,
          -1.5747806574580574,
          -2.7713533950183558,
          -2.9574319220312084,
          -2.121561721156529,
          -0.22580523982983236,
          0.09979245444954454,
          -1.2673520869830128,
          -0.115345761028261,
          -0.24709066012443825,
          -1.7585197342520789,
          -0.8434725823508705,
          -1.5458102589959912,
          0.07979349203784292,
          -0.3405905826527367,
          -1.323965889770657,
          -0.4032754866474164,
          -0.9120228742458074,
          -1.0150604484647965,
          -2.133997922788151,
          0.02797898767067286,
          -0.027976121660561293,
          -1.4575039481522079,
          -2.3310518520581534,
          -2.224751837075363,
          -0.6424324495586549,
          0.9345405662038921,
          -1.4247687226383299,
          -0.27150763379882215,
          -1.670030891672572,
          -1.6013893011042826,
          -0.8798507175752156,
          -3.043412917257176,
          -3.0610034167611397,
          -1.2915943456314198,
          -0.738167136762284,
          0.07774998490049567,
          -3.5251405807551985,
          -2.090536149263761,
          -1.4670284216949627,
          -0.6538369408556991,
          -1.039967760146783,
          -2.3602289549993873,
          -0.962110689443505,
          -2.4991788449564085,
          -1.4547542316183328,
          -2.6084454531202494,
          -0.8115657023962324,
          -2.173411107825445,
          -0.7156545055852476,
          -1.6398793386062218,
          0.2048829344330878,
          -1.1454151116250422,
          -0.385158696696816,
          -0.5487675574065709,
          -0.631010368033844,
          -1.629026983516652,
          0.10856485937651073,
          -1.57935958413029,
          0.6979980660630745,
          -0.6687240159572523,
          -2.0142573524892544,
          -1.0129567719905583,
          -0.6585599570021412,
          -0.6767003886437744,
          0.5237610145278875,
          -1.8294936585836508,
          -1.3841708076575998,
          -1.5151179271296318,
          -0.26947494096882396,
          -1.5065514028547404,
          -1.4948301860701825,
          0.18495017055075214,
          -1.9412538365424048,
          -0.4796240089285473
         ]
        }
       ],
       "layout": {
        "barmode": "overlay",
        "legend": {
         "bgcolor": "#F5F6F9",
         "font": {
          "color": "#4D5663"
         }
        },
        "paper_bgcolor": "#F5F6F9",
        "plot_bgcolor": "#F5F6F9",
        "template": {
         "data": {
          "bar": [
           {
            "error_x": {
             "color": "#2a3f5f"
            },
            "error_y": {
             "color": "#2a3f5f"
            },
            "marker": {
             "line": {
              "color": "#E5ECF6",
              "width": 0.5
             },
             "pattern": {
              "fillmode": "overlay",
              "size": 10,
              "solidity": 0.2
             }
            },
            "type": "bar"
           }
          ],
          "barpolar": [
           {
            "marker": {
             "line": {
              "color": "#E5ECF6",
              "width": 0.5
             },
             "pattern": {
              "fillmode": "overlay",
              "size": 10,
              "solidity": 0.2
             }
            },
            "type": "barpolar"
           }
          ],
          "carpet": [
           {
            "aaxis": {
             "endlinecolor": "#2a3f5f",
             "gridcolor": "white",
             "linecolor": "white",
             "minorgridcolor": "white",
             "startlinecolor": "#2a3f5f"
            },
            "baxis": {
             "endlinecolor": "#2a3f5f",
             "gridcolor": "white",
             "linecolor": "white",
             "minorgridcolor": "white",
             "startlinecolor": "#2a3f5f"
            },
            "type": "carpet"
           }
          ],
          "choropleth": [
           {
            "colorbar": {
             "outlinewidth": 0,
             "ticks": ""
            },
            "type": "choropleth"
           }
          ],
          "contour": [
           {
            "colorbar": {
             "outlinewidth": 0,
             "ticks": ""
            },
            "colorscale": [
             [
              0,
              "#0d0887"
             ],
             [
              0.1111111111111111,
              "#46039f"
             ],
             [
              0.2222222222222222,
              "#7201a8"
             ],
             [
              0.3333333333333333,
              "#9c179e"
             ],
             [
              0.4444444444444444,
              "#bd3786"
             ],
             [
              0.5555555555555556,
              "#d8576b"
             ],
             [
              0.6666666666666666,
              "#ed7953"
             ],
             [
              0.7777777777777778,
              "#fb9f3a"
             ],
             [
              0.8888888888888888,
              "#fdca26"
             ],
             [
              1,
              "#f0f921"
             ]
            ],
            "type": "contour"
           }
          ],
          "contourcarpet": [
           {
            "colorbar": {
             "outlinewidth": 0,
             "ticks": ""
            },
            "type": "contourcarpet"
           }
          ],
          "heatmap": [
           {
            "colorbar": {
             "outlinewidth": 0,
             "ticks": ""
            },
            "colorscale": [
             [
              0,
              "#0d0887"
             ],
             [
              0.1111111111111111,
              "#46039f"
             ],
             [
              0.2222222222222222,
              "#7201a8"
             ],
             [
              0.3333333333333333,
              "#9c179e"
             ],
             [
              0.4444444444444444,
              "#bd3786"
             ],
             [
              0.5555555555555556,
              "#d8576b"
             ],
             [
              0.6666666666666666,
              "#ed7953"
             ],
             [
              0.7777777777777778,
              "#fb9f3a"
             ],
             [
              0.8888888888888888,
              "#fdca26"
             ],
             [
              1,
              "#f0f921"
             ]
            ],
            "type": "heatmap"
           }
          ],
          "heatmapgl": [
           {
            "colorbar": {
             "outlinewidth": 0,
             "ticks": ""
            },
            "colorscale": [
             [
              0,
              "#0d0887"
             ],
             [
              0.1111111111111111,
              "#46039f"
             ],
             [
              0.2222222222222222,
              "#7201a8"
             ],
             [
              0.3333333333333333,
              "#9c179e"
             ],
             [
              0.4444444444444444,
              "#bd3786"
             ],
             [
              0.5555555555555556,
              "#d8576b"
             ],
             [
              0.6666666666666666,
              "#ed7953"
             ],
             [
              0.7777777777777778,
              "#fb9f3a"
             ],
             [
              0.8888888888888888,
              "#fdca26"
             ],
             [
              1,
              "#f0f921"
             ]
            ],
            "type": "heatmapgl"
           }
          ],
          "histogram": [
           {
            "marker": {
             "pattern": {
              "fillmode": "overlay",
              "size": 10,
              "solidity": 0.2
             }
            },
            "type": "histogram"
           }
          ],
          "histogram2d": [
           {
            "colorbar": {
             "outlinewidth": 0,
             "ticks": ""
            },
            "colorscale": [
             [
              0,
              "#0d0887"
             ],
             [
              0.1111111111111111,
              "#46039f"
             ],
             [
              0.2222222222222222,
              "#7201a8"
             ],
             [
              0.3333333333333333,
              "#9c179e"
             ],
             [
              0.4444444444444444,
              "#bd3786"
             ],
             [
              0.5555555555555556,
              "#d8576b"
             ],
             [
              0.6666666666666666,
              "#ed7953"
             ],
             [
              0.7777777777777778,
              "#fb9f3a"
             ],
             [
              0.8888888888888888,
              "#fdca26"
             ],
             [
              1,
              "#f0f921"
             ]
            ],
            "type": "histogram2d"
           }
          ],
          "histogram2dcontour": [
           {
            "colorbar": {
             "outlinewidth": 0,
             "ticks": ""
            },
            "colorscale": [
             [
              0,
              "#0d0887"
             ],
             [
              0.1111111111111111,
              "#46039f"
             ],
             [
              0.2222222222222222,
              "#7201a8"
             ],
             [
              0.3333333333333333,
              "#9c179e"
             ],
             [
              0.4444444444444444,
              "#bd3786"
             ],
             [
              0.5555555555555556,
              "#d8576b"
             ],
             [
              0.6666666666666666,
              "#ed7953"
             ],
             [
              0.7777777777777778,
              "#fb9f3a"
             ],
             [
              0.8888888888888888,
              "#fdca26"
             ],
             [
              1,
              "#f0f921"
             ]
            ],
            "type": "histogram2dcontour"
           }
          ],
          "mesh3d": [
           {
            "colorbar": {
             "outlinewidth": 0,
             "ticks": ""
            },
            "type": "mesh3d"
           }
          ],
          "parcoords": [
           {
            "line": {
             "colorbar": {
              "outlinewidth": 0,
              "ticks": ""
             }
            },
            "type": "parcoords"
           }
          ],
          "pie": [
           {
            "automargin": true,
            "type": "pie"
           }
          ],
          "scatter": [
           {
            "marker": {
             "colorbar": {
              "outlinewidth": 0,
              "ticks": ""
             }
            },
            "type": "scatter"
           }
          ],
          "scatter3d": [
           {
            "line": {
             "colorbar": {
              "outlinewidth": 0,
              "ticks": ""
             }
            },
            "marker": {
             "colorbar": {
              "outlinewidth": 0,
              "ticks": ""
             }
            },
            "type": "scatter3d"
           }
          ],
          "scattercarpet": [
           {
            "marker": {
             "colorbar": {
              "outlinewidth": 0,
              "ticks": ""
             }
            },
            "type": "scattercarpet"
           }
          ],
          "scattergeo": [
           {
            "marker": {
             "colorbar": {
              "outlinewidth": 0,
              "ticks": ""
             }
            },
            "type": "scattergeo"
           }
          ],
          "scattergl": [
           {
            "marker": {
             "colorbar": {
              "outlinewidth": 0,
              "ticks": ""
             }
            },
            "type": "scattergl"
           }
          ],
          "scattermapbox": [
           {
            "marker": {
             "colorbar": {
              "outlinewidth": 0,
              "ticks": ""
             }
            },
            "type": "scattermapbox"
           }
          ],
          "scatterpolar": [
           {
            "marker": {
             "colorbar": {
              "outlinewidth": 0,
              "ticks": ""
             }
            },
            "type": "scatterpolar"
           }
          ],
          "scatterpolargl": [
           {
            "marker": {
             "colorbar": {
              "outlinewidth": 0,
              "ticks": ""
             }
            },
            "type": "scatterpolargl"
           }
          ],
          "scatterternary": [
           {
            "marker": {
             "colorbar": {
              "outlinewidth": 0,
              "ticks": ""
             }
            },
            "type": "scatterternary"
           }
          ],
          "surface": [
           {
            "colorbar": {
             "outlinewidth": 0,
             "ticks": ""
            },
            "colorscale": [
             [
              0,
              "#0d0887"
             ],
             [
              0.1111111111111111,
              "#46039f"
             ],
             [
              0.2222222222222222,
              "#7201a8"
             ],
             [
              0.3333333333333333,
              "#9c179e"
             ],
             [
              0.4444444444444444,
              "#bd3786"
             ],
             [
              0.5555555555555556,
              "#d8576b"
             ],
             [
              0.6666666666666666,
              "#ed7953"
             ],
             [
              0.7777777777777778,
              "#fb9f3a"
             ],
             [
              0.8888888888888888,
              "#fdca26"
             ],
             [
              1,
              "#f0f921"
             ]
            ],
            "type": "surface"
           }
          ],
          "table": [
           {
            "cells": {
             "fill": {
              "color": "#EBF0F8"
             },
             "line": {
              "color": "white"
             }
            },
            "header": {
             "fill": {
              "color": "#C8D4E3"
             },
             "line": {
              "color": "white"
             }
            },
            "type": "table"
           }
          ]
         },
         "layout": {
          "annotationdefaults": {
           "arrowcolor": "#2a3f5f",
           "arrowhead": 0,
           "arrowwidth": 1
          },
          "autotypenumbers": "strict",
          "coloraxis": {
           "colorbar": {
            "outlinewidth": 0,
            "ticks": ""
           }
          },
          "colorscale": {
           "diverging": [
            [
             0,
             "#8e0152"
            ],
            [
             0.1,
             "#c51b7d"
            ],
            [
             0.2,
             "#de77ae"
            ],
            [
             0.3,
             "#f1b6da"
            ],
            [
             0.4,
             "#fde0ef"
            ],
            [
             0.5,
             "#f7f7f7"
            ],
            [
             0.6,
             "#e6f5d0"
            ],
            [
             0.7,
             "#b8e186"
            ],
            [
             0.8,
             "#7fbc41"
            ],
            [
             0.9,
             "#4d9221"
            ],
            [
             1,
             "#276419"
            ]
           ],
           "sequential": [
            [
             0,
             "#0d0887"
            ],
            [
             0.1111111111111111,
             "#46039f"
            ],
            [
             0.2222222222222222,
             "#7201a8"
            ],
            [
             0.3333333333333333,
             "#9c179e"
            ],
            [
             0.4444444444444444,
             "#bd3786"
            ],
            [
             0.5555555555555556,
             "#d8576b"
            ],
            [
             0.6666666666666666,
             "#ed7953"
            ],
            [
             0.7777777777777778,
             "#fb9f3a"
            ],
            [
             0.8888888888888888,
             "#fdca26"
            ],
            [
             1,
             "#f0f921"
            ]
           ],
           "sequentialminus": [
            [
             0,
             "#0d0887"
            ],
            [
             0.1111111111111111,
             "#46039f"
            ],
            [
             0.2222222222222222,
             "#7201a8"
            ],
            [
             0.3333333333333333,
             "#9c179e"
            ],
            [
             0.4444444444444444,
             "#bd3786"
            ],
            [
             0.5555555555555556,
             "#d8576b"
            ],
            [
             0.6666666666666666,
             "#ed7953"
            ],
            [
             0.7777777777777778,
             "#fb9f3a"
            ],
            [
             0.8888888888888888,
             "#fdca26"
            ],
            [
             1,
             "#f0f921"
            ]
           ]
          },
          "colorway": [
           "#636efa",
           "#EF553B",
           "#00cc96",
           "#ab63fa",
           "#FFA15A",
           "#19d3f3",
           "#FF6692",
           "#B6E880",
           "#FF97FF",
           "#FECB52"
          ],
          "font": {
           "color": "#2a3f5f"
          },
          "geo": {
           "bgcolor": "white",
           "lakecolor": "white",
           "landcolor": "#E5ECF6",
           "showlakes": true,
           "showland": true,
           "subunitcolor": "white"
          },
          "hoverlabel": {
           "align": "left"
          },
          "hovermode": "closest",
          "mapbox": {
           "style": "light"
          },
          "paper_bgcolor": "white",
          "plot_bgcolor": "#E5ECF6",
          "polar": {
           "angularaxis": {
            "gridcolor": "white",
            "linecolor": "white",
            "ticks": ""
           },
           "bgcolor": "#E5ECF6",
           "radialaxis": {
            "gridcolor": "white",
            "linecolor": "white",
            "ticks": ""
           }
          },
          "scene": {
           "xaxis": {
            "backgroundcolor": "#E5ECF6",
            "gridcolor": "white",
            "gridwidth": 2,
            "linecolor": "white",
            "showbackground": true,
            "ticks": "",
            "zerolinecolor": "white"
           },
           "yaxis": {
            "backgroundcolor": "#E5ECF6",
            "gridcolor": "white",
            "gridwidth": 2,
            "linecolor": "white",
            "showbackground": true,
            "ticks": "",
            "zerolinecolor": "white"
           },
           "zaxis": {
            "backgroundcolor": "#E5ECF6",
            "gridcolor": "white",
            "gridwidth": 2,
            "linecolor": "white",
            "showbackground": true,
            "ticks": "",
            "zerolinecolor": "white"
           }
          },
          "shapedefaults": {
           "line": {
            "color": "#2a3f5f"
           }
          },
          "ternary": {
           "aaxis": {
            "gridcolor": "white",
            "linecolor": "white",
            "ticks": ""
           },
           "baxis": {
            "gridcolor": "white",
            "linecolor": "white",
            "ticks": ""
           },
           "bgcolor": "#E5ECF6",
           "caxis": {
            "gridcolor": "white",
            "linecolor": "white",
            "ticks": ""
           }
          },
          "title": {
           "x": 0.05
          },
          "xaxis": {
           "automargin": true,
           "gridcolor": "white",
           "linecolor": "white",
           "ticks": "",
           "title": {
            "standoff": 15
           },
           "zerolinecolor": "white",
           "zerolinewidth": 2
          },
          "yaxis": {
           "automargin": true,
           "gridcolor": "white",
           "linecolor": "white",
           "ticks": "",
           "title": {
            "standoff": 15
           },
           "zerolinecolor": "white",
           "zerolinewidth": 2
          }
         }
        },
        "title": {
         "font": {
          "color": "#4D5663"
         }
        },
        "xaxis": {
         "gridcolor": "#E1E5ED",
         "showgrid": true,
         "tickfont": {
          "color": "#4D5663"
         },
         "title": {
          "font": {
           "color": "#4D5663"
          },
          "text": ""
         },
         "zerolinecolor": "#E1E5ED"
        },
        "yaxis": {
         "gridcolor": "#E1E5ED",
         "showgrid": true,
         "tickfont": {
          "color": "#4D5663"
         },
         "title": {
          "font": {
           "color": "#4D5663"
          },
          "text": ""
         },
         "zerolinecolor": "#E1E5ED"
        }
       }
      },
      "text/html": [
       "<div>                            <div id=\"a135cbe8-17f9-4d08-a83d-d35c4fdf51cc\" class=\"plotly-graph-div\" style=\"height:525px; width:100%;\"></div>            <script type=\"text/javascript\">                require([\"plotly\"], function(Plotly) {                    window.PLOTLYENV=window.PLOTLYENV || {};                                    if (document.getElementById(\"a135cbe8-17f9-4d08-a83d-d35c4fdf51cc\")) {                    Plotly.newPlot(                        \"a135cbe8-17f9-4d08-a83d-d35c4fdf51cc\",                        [{\"histfunc\":\"count\",\"histnorm\":\"\",\"marker\":{\"color\":\"rgba(255, 153, 51, 1.0)\",\"line\":{\"color\":\"#4D5663\",\"width\":1.3}},\"name\":\"a\",\"opacity\":0.8,\"orientation\":\"v\",\"x\":[2.9445523142121415,0.8936398144639659,1.237437536522542,2.5135085673521385,2.2163780620549782,1.5203934968113972,1.226915996222895,1.9066280063289534,1.095541914076439,1.8806050799658725,2.2890858535709544,-0.46371966155580435,0.9547869570412605,0.7231025121339334,1.0939890763137732,0.7472776796438079,0.2577780167892155,2.2715353657148096,1.7464656635393836,0.14447553615287567,0.6707151663408327,1.0180686833200159,0.6557752717864367,3.302044405606281,1.2662833614645752,1.5998515591169975,0.5095915902716013,0.40755773534680184,1.094947239436555,0.5436117593838807,0.06307645759886427,1.8852693305678034,1.114198778729608,-0.6424571645807944,1.4389142412568179,0.9116253477589045,2.4872807683669285,0.43952836010714114,0.22896414931050957,0.8635403859154591,1.657124784521415,2.654533086700031,1.3682242731530405,1.112856540993131,0.9726616236539031,0.6147413093567431,0.23511008646719822,1.469026897988749,1.1432258179946413,1.4780639271397964,-0.31000528046819054,0.28144939424235105,-0.8893334389170477,0.7384016023848241,0.4734898023716315,0.3703494950445566,3.1420901488375104,0.02476039671219621,-2.206288938692641,2.22028115461151,2.3421451755743408,0.5371367605580165,-0.06131417576790832,0.982471278913039,3.0686843156198322,0.7894684440104949,0.2554603182342092,1.1893040580570942,2.1152620769066943,1.63900460428096,0.06805311849877238,0.9444483335898243,3.051878697839374,1.037361892595355,-0.4347801400193687,1.020051211659248,0.8929195672990301,3.1072637817958078,1.352664746718062,1.653208359775244,1.361882663629345,0.28422936367003304,-0.07756113625028083,0.30780747170226264,1.603073989756466,0.9141495222358289,2.666863385985457,1.8739353321968664,0.06299196073161362,0.8330576389935376,2.1620021719340645,2.464483206629855,1.6439891153838941,1.9143042331259172,0.29804115092310624,-0.36941598277884524,1.0656180572878544,1.4277606000105918,0.2403258021352006,1.1658874447173009,-0.8817602408371448,1.4815757786378931,0.7771482714132653,3.0009488498935584,0.4466225269177092,0.3447798864721132,0.21859626526895604,2.7440698717178895,0.580580084897702,0.4958661577244228,1.2096884658090064,1.2940504791645,0.4989350874754155,0.47476135348336246,1.351386807781593,-0.06309560047847951,0.6172678972423638,0.45226008469392587,0.6529236856400031,2.294222921710916,1.0253943541133612,0.9909210928543977,1.5594618906966402,0.8373734883805463,2.037565447547001,1.0960590979538591,3.945268737508589,0.093051565669929,1.543345595025087,0.3729180926650487,3.5237647058168418,2.301714988216547,0.6152803816531791,1.3097833847045193,0.1888910864725124,-0.38041752781906624,1.003751658158364,0.9733304413188907,2.1266610221753273,1.0973385820919022,0.876752735700705,0.9942279989579086,0.5521565388046963,2.1405484197394724,0.2349854231288251,1.8990637535981334,2.4389732992434823,1.4105118107282306,1.0318846091124536,0.6407666329706506,0.8170972743831917,1.067622043269769,1.3685370368608192,3.419313069132271,1.0368307772965908,1.5024532707604714,0.9803158397593517,-0.5280482502770856,1.262969065353499,2.157489769499582,2.4424836338627003,1.7096943606603452,0.622084274982108,0.5243379378326095,1.2331626547061523,0.8032057879849369,0.4055052221800196,1.6580296866540642,-1.242299051931394,1.3679765611550174,1.142472143788035,1.9031279451187952,0.7515038726141943,-0.5488351578273791,-0.37052265058072753,-0.4257900282541469,0.7911213221105694,0.3458603189438578,0.9294831151726547,-1.232791325087227,1.083300014177082,-0.17756538678722644,0.08559291608772157,-0.46581475533958083,1.799479995873571,1.752242441683642,0.9730464057374252,-0.07609636924175134,0.6875124854439085,-0.10813173659511488,1.3014650577916904,1.9066079884929121,-0.6256573697709613,0.8503592731509328,1.5493210094395415,2.5763176408939925,-0.14235402956288268,1.1765388801336079,1.8233800002489782,2.588535438350241,2.1425187587098886,-0.9811021999299583,1.153975034772095,-0.725894246482766,0.9545494531359213,1.7473686091414995,1.4758365887796705,-2.4156077779213927,-0.0036867214358380362,1.6358474011125905,2.3152028476206556,0.7561508918614863,0.10983366966065411,-0.1437264473622899,0.8309076550162455,0.9865821118992011,2.020938047314714,-0.5203301044251163,2.447028747669212,1.4592977789472095,0.08640099199182816,0.3836122854747447,2.1396140164564166,0.2977468005470172,0.43738497877768856,0.9330475036118999,1.0708175430495777,0.31047020874304865,0.005777388364799352,-0.24619480492005663,1.644634378923191,-0.23219863873259028,2.2063150263564952,0.09392488522904263,-0.20382005699435224,2.3236807306770073,1.0525852185605677,1.375203941939659,0.6328213900942916,2.4780828464786193,2.1904641140890027,1.8264848190103469,1.2839942477874215,-0.18402997792359854,-0.710323630739194,1.2232306193281333,-0.8991385609298768,1.3465780026712826,1.3744342243911998,1.5432274541714226,0.5744676215840077,0.4989374863561947,1.4533734110812653,0.1600396754281298,-0.03664446713353775,1.485874632564502,-0.7000868360196872,2.0394384354886155,-0.03745015514925498,-1.7224619066534506,1.8843748654274615,2.890113564110833,0.9127151432588846,1.9385066647768814,0.5370294276004668,0.06633570708024927,1.0121522076232112,2.8419192087233505,-0.14441361425537647,-0.08728570927466417,2.7734709772690467,0.3433465565217566,1.8448894401246179,0.01759300440515721,0.620455335626583,3.1674296287911656,-0.2308303159415439,-0.33569826700761074,-0.7150854503326227,0.45339881438512875,1.6230540347545233,0.07736012888901478,0.2148041007087167,1.4259332344334168,1.4577523485055939,2.3661382945551157,1.30930629826687,0.1299268289500557,0.3914985628491261,1.4833204003876013,2.0422281068348243,-0.46835807548733377,1.652501807932635,-0.17291118239913916,-0.1691000945340242,-0.7296577384206802,0.614942368885713,0.6223848735620512,-1.3864341762594212,0.6787420810051226,0.8762325344282104,-0.17328284167397268,0.66907145593396,0.44567817219326844,1.3536896920775503,-0.014255935716038781,0.07765594120801345,0.7727758843856595,1.9091085327153043,1.475767494469593,1.5368811836667435,1.4055527482782275,0.7645388734207734,0.9243425190000727,1.5926744172451466,0.7573289307690523,0.9049376604463327,1.930769499906853,1.3404896690873,0.7398660900737493,0.2727283959629212,-0.0768456222758942,1.553266037643148,2.2512984811561942,0.9941376954749002,1.0936246416440711,2.891612778024017,0.008868419963934948,2.8522204925595895,0.16976357126343844,1.3300316124376108,1.614372881795362,-0.0675356821035693,0.6844902284996843,1.319616922087131,1.939752887844315,1.9180948651502407,0.3336123588567269,-0.3198443538713296,2.1340956789553998,1.474613834134908,1.0388635539777458,1.2079921830740832,-0.8778115150237618,1.547315881383243,0.10701896982345338,-0.8671667770087406,0.6951709512996991,0.3840502321398199,1.4108817171025816,0.20602984581808492,-1.2232216055316165,-0.08592676172261338,-1.6221068752388277,2.539005920841698,4.471866722210318,0.7219202880908957,2.398678356415152,2.668934646432521,-2.5769414589268878,3.162730411288452,2.1443793138885807,0.9397330795689844,2.0673389408029905,1.3736310718334905,0.7070404432662061,2.8890133235782196,1.5838852828122145,0.000691236488026381,0.5869881871830855,1.9683001473956314,0.7234601008831196,-0.33464698853357167,1.0204130813711498,0.18779298368237118,0.8793250213060164,1.35396385476023,1.414962326714253,1.3277429293148246,1.7811588844729564,0.5433678729909364,0.42961166050385013,0.549983336996145,1.4522714813162556,1.5425383733430236,2.4642940825150834,0.6604044553268322,0.3742214982330263,0.34797788397593354,2.5674241560774327,1.8655557498009836,0.5959450150675774,1.5632159761775957,-0.04607272320381539,0.3545855554078493,-0.3237932712485858,0.4425766198268686,-0.23565338496755528,0.29658909161183045,-0.22981464233544813,0.2076639171839476,2.133925614003342,-0.9400442652904035,-0.21521399727377455,0.02800500323900934,1.1947584468099104,2.263217916703553,-0.1603259196333322,-0.02088243781828525,0.5535477440350516,-0.2676571360061848,0.7964794331762645,-0.24242939801437213,0.6045336696618422,0.07793077032870155,-0.704152349800363,0.4906538755422951,1.2916370882856527,-0.6606887559092298,1.7729414654876687,-1.3485992052426288,1.0478288455465075,0.4856095859685431,-0.1349599901514411,1.413833490105615,1.5356270629484015,-0.6522727850416641,1.9512005638530439,0.1671433130765615,1.4359982845015316,2.1824535127594116,0.25287943679249525,1.2494016316146501,-0.6912027535418694,2.3360815751099064,0.81769552282242,2.0499163911809486,1.2401076866856762,2.478529191894336,0.8737170387714224,0.7935778767988327,0.6788197664449969,0.7745362355961641,2.158295029397511,2.2115832114783,-0.8339680544672723,0.43744991731933036,1.5184098078516917,0.9302983669151433,0.6048298387715785,1.8393904348370311,3.2003617931876494,0.283530241865532,2.6991474832656013,1.9532368894715308,0.24718933998927328,0.5143736121209532,1.1415543607026863,1.7968730252835572,0.14515616286901378,2.7899297063492527,1.4736028069233045,1.124895651069249,1.9216266317992186,2.6951727083322568,1.7950339878858712,1.4006497207610973,2.315090509141048,1.687323808099055,1.1231903004857837,1.1992888766554914,1.0599734643689576,2.515694334146324,2.41636252853609,-0.08821769886013997,0.5503186600959757,1.9858410111982607,-0.18655197639013776,-0.009377474860695179,1.5282226571391577,-0.9546773338143126,1.0665323090703918,0.9008112913782003,1.0407452235023165,1.7643306590263235,0.927966609595036,-0.2935005357164071,3.138946474922379,1.130669225222724,1.4299817116462292,-0.7454938028813236,2.0005700563319166,0.012166907649303393,0.6736900329004258,2.130064246738295,1.6903373699606719,-0.4829282903572576,2.3738267818398304,0.43312878943807653,1.252248566157805],\"type\":\"histogram\"},{\"histfunc\":\"count\",\"histnorm\":\"\",\"marker\":{\"color\":\"rgba(55, 128, 191, 1.0)\",\"line\":{\"color\":\"#4D5663\",\"width\":1.3}},\"name\":\"b\",\"opacity\":0.8,\"orientation\":\"v\",\"x\":[0.6140041860112088,0.6011143198910099,-1.4048273360114276,-0.20171968794122916,-0.13762310803912203,0.7584167241321225,1.1582908220324355,-1.5042414087565028,-0.5313703346868874,-0.05499028403627102,-0.278269055519851,1.540666450201908,-1.3372437122283427,0.7222894103042771,-0.06639487436538506,-0.36429453545618434,0.6347679646932605,-0.2790896179466878,0.6750556182958177,1.3836766054505116,1.3835954356079738,-0.15938652509700954,0.49886467011000546,0.9420468801008787,0.7871752990356272,0.16877551422971354,-0.4002782249492147,0.15365528566084916,1.4935269380017961,0.9897587738183454,-0.11742158744517875,0.6127043854776124,0.6861519397245238,-0.21850338537319433,-1.4621396741745007,-0.42877499940700775,1.1594526977297726,-0.43482237837958043,0.28201138927304614,0.46377733317427106,1.296116907560316,-1.266585500327303,0.25321676762302314,1.669293115012108,-0.7182158673139849,0.07879569614677266,0.2529892027346888,1.985370545506263,-0.47811196318198157,-2.046943024895031,1.511760041697942,1.804686449408406,0.08791469919742563,-0.9822799775542526,1.6492245848889244,1.136190423528202,-0.8065067292550112,1.766917362024378,1.6065917335992048,0.4586547492368775,-0.10244334943985389,1.2431675421157407,-1.5503631882945255,0.26106861254888536,-1.3163946149067054,0.22486534102039502,2.182976743426501,-1.1727491061248074,-1.263713670545322,-0.036692736817397,-1.4088687051368236,1.269768666824066,-0.5922128468674878,1.661947114268446,0.2524806451869489,-0.6136859641376463,-0.3855241076158843,-1.0132379640827636,0.8629466284256727,0.35400677939151537,-0.5761479739876897,-1.43806201573666,2.26904784553591,0.8200298675216332,-0.061328146332157135,-0.12447323544544943,-0.17096300156193195,0.6200583686471088,-0.261011389907288,0.2168905782471042,-0.4647265070388179,-0.5806883332069283,3.058328380958346,-0.04277651153901738,-0.3287068771675042,0.7936421018099471,1.3564114304452417,-1.0500006510103004,-0.08626068198900921,2.2447991529151157,0.09649465695009964,-1.0444473146949445,-0.4930093818800953,-2.5936676161798795,-0.851373782948533,0.5984704831575052,-0.06699825642594189,0.27389735592739783,2.13288588778984,-1.6347445294967722,-0.7049741672162232,0.6366780644638734,-0.45669962028810307,1.0347523119359139,1.071223740747887,1.7008725815472796,-0.2914924138994487,-1.9414369021916975,-1.2001557024045373,0.5814964444329136,-1.8625183091160418,0.2093577728262809,-1.0049980176028135,1.1975516125908532,-0.09562305250217516,-1.3038487724390746,0.5714403669403416,-0.1512549140298337,0.6514355235965352,-0.5489794284367402,0.35904458168877357,-1.3035474734975068,1.824027129663336,-0.45001165472009613,-1.836683054362937,-0.22076861035809398,1.3897692597475886,-0.27060045854072456,-0.8966595243771915,-0.19320948142269734,-0.67169153778742,0.02481227315504937,1.1824345695058185,0.4508019443141031,0.21072121432417895,2.1708122167824593,1.5870397543344423,2.1423251966744057,-1.2296695250796719,0.7624225015354823,-0.34499997849086855,0.33520979187623606,-0.15556236921814715,-0.8247971970276687,-1.2873723628939675,-0.4952830436285387,1.1523969891878532,-0.36744655926042263,-0.3943317020758032,-0.3483884864002464,-0.4356896373382403,0.8773400474881343,-0.15335362795709903,-0.18516041549306994,0.4333884010579354,-0.25716213812128635,1.7541114046299209,-0.09127377567883513,0.6073698341725335,-0.8321552370024459,0.6745599559968414,-0.5888992626624414,-0.6539675865231847,0.5726520365913519,-1.2814623140393402,-0.40633082885595795,0.7749480599520198,2.037314267323697,-0.4719418729068831,-0.3951420866485383,-1.2124655347638136,-0.9497320359662494,-0.8942099765415098,-0.24808691957139392,-0.5637462273178099,1.2298746930380882,0.17580839152281247,1.4460887518049912,0.4831057989378585,-1.706562525123076,-0.41473976100564763,-0.031773614109311864,-0.6636650331701961,-0.4044458385275715,-0.6228916240453328,1.0785952903542189,0.49027723586812777,-0.4298359824391453,0.5059761297958137,0.0408574844323819,0.6845493403840079,0.47725064091789293,1.16934768329822,1.671550407744623,0.13689771039694004,-1.114339182203308,-0.015201175455992819,0.08085130273801741,1.7463999566366086,0.05895211310268005,-0.3520493713961544,0.9133002798286892,-0.429094621199731,1.3711499001642444,-1.0998951926895437,0.11483994665109958,0.8591382602896361,0.8766435426160732,0.5597619030036832,-0.983564282207203,-1.484737781618607,0.3042449596761312,0.085708111983932,-0.24394092741952392,0.7351063036319458,0.9341144608097709,-1.0396704727320876,-0.13460376929644172,-1.023579958148164,-0.29807313110260114,-0.08942087001779955,0.3833234903752413,1.2735231535739415,0.2666278848001388,0.1268722936094674,-1.0413148624524549,0.9326225597667734,0.3766484386465826,0.6615326523712936,1.151061198992994,0.40443743298339957,0.31300705637693244,-0.8901709346362691,0.8578124978762912,-0.39481490140844994,-1.3002003081767772,-0.12706315378757782,0.0011747802360484,-0.9817667355804058,-0.8227651141125725,0.7610376077937611,1.4288843921680683,1.0339197208357132,1.9140731623272786,0.12522193137179055,-0.7193380223977963,0.18633032448089093,0.33805007353287597,-0.7094082174604771,-0.3977581904115866,-1.9939687611866057,-0.5896040684092643,-0.08203621773693526,-1.1020303445785142,-1.2040215362513764,1.3341628896260405,1.5829039790404011,0.3357427547562678,-0.4938584342908103,0.5810671982560971,0.8735201421138254,-1.5116341216211715,-0.9743608233677842,0.7002993095886246,-0.6514152537655046,0.6112806009668499,-0.3728478993073609,0.3254313118540776,0.9615229342482484,-0.864846153393121,0.4596816169785188,-0.4320169158328269,-1.4663844044729892,0.5761815196562664,-0.22693914082054834,-0.9927541955560784,1.9946067575274549,1.5589425026755495,-0.22045817343204147,-0.17879919194639263,1.5586341220193025,-1.005872853678804,0.5667608720729612,0.9046324708033201,0.27231294464419087,-0.1643650810963187,0.07057537019462026,1.5344131206828182,-1.2232522233656555,1.2350989545104771,0.41994664057705455,-0.22134015654903114,-0.6173292582678362,1.7565259818019194,1.1456457917911098,-0.25546718771801447,-0.5410679023882627,-0.7819940582467423,1.2433626898158472,-1.9056688741211931,-1.121015304944675,-0.21938387422390795,1.6104633733890483,-0.1293079095941855,0.017565299981831067,-1.4869368821545286,0.27633129853100186,-1.0691555990330337,-0.48649937811937377,-2.1336627483224184,-0.3642369497791172,0.669254676647351,-0.16854608493879422,1.0463688210249789,-0.5723605601515062,0.8771235576785358,0.510565653025569,-0.45034415943799105,-0.06023017185268359,0.17973027971734049,-0.7107280029496584,-0.8169197175902134,-0.6366228587836208,-0.5252950753281753,-0.9578634007049253,-0.5509078354240531,1.4398329925369755,-1.337419936978173,-1.0804117566030687,-1.1116121006641584,-0.13875728839595233,-0.4569507846455542,1.56611413528381,-1.7194750130774061,-0.2718996545268769,0.948788390571128,-0.7999759508805111,-0.02408394784673429,0.748465551516803,0.32299962369179613,-1.2074295855575086,0.14240410060137948,1.7691308333958753,1.0520929194734163,-0.3344801016446649,0.24947494094949296,1.6936196789699165,0.6366263357812674,0.23522820186062302,-0.9122075044604597,-1.055658113425341,0.1901290064988771,-0.2798911395530404,-0.49738446117224394,0.30919028646695734,0.24574393026920852,-0.11022892317292612,0.12625207811825312,1.4560427297321967,0.39305295943630786,-1.1645004129082477,-0.2748480602229876,-0.5094297324834224,-0.504227073685646,-0.8595711631894118,0.518024166157106,1.0905481616360124,-1.5509623248230182,-0.13715785085413226,0.18488785210037062,-0.14934559001077718,-0.6485807804379239,-0.2800082145707789,-0.495738352201251,0.5368524087985644,0.30527214894112065,0.2499720315521357,0.6976556010589907,-0.41869251896912046,0.673051888020339,-0.5233381512182723,0.4363144541589812,0.10338764515422076,0.312357322353493,-0.4083366595679278,-0.048407873526587784,-1.3834286095728132,-0.1359424983108254,-1.2649293117108409,-1.1026714216219071,-0.8226928207448906,0.49642907830183003,-0.4724967939434434,-0.1339492252819033,1.4998391337156889,-0.42316295424403816,0.3159500097163397,-0.7856276418507018,-0.7701031711848749,-0.07084919806121832,-0.42192703673709114,0.42550864213181,-2.2010627405749257,1.0317479715205948,0.9400099783621753,0.0027178078099900594,0.4327489808604137,0.5025041330927924,-2.146805296922958,1.788864690608627,1.7415105755271634,-0.9367047663079254,0.003597400693042379,1.8198910600469351,-0.8736399581285614,0.43653628717479454,1.390954778679128,-0.39708515923602894,-1.189795978636535,0.0031358819501942467,-1.3249450524476851,1.608284288428968,0.19200446695528678,-0.720826350654826,-0.495311232726259,-0.3042937173767855,-0.23791190862110514,0.08368259653053349,0.03177967818044487,-1.449442798853009,1.171356995322692,0.9222820356880602,-1.1278590357257108,0.7532157882456627,1.4034823452218212,0.4301231732629988,-0.39968727637186513,0.21104608895645482,-0.18127146530601673,-0.25347787674678707,-0.25482769617444206,-0.07185922948069678,-0.767229193660519,0.015836024974354775,0.052314632410957185,-1.0545201128085115,-1.196738874469661,-1.2126465668290909,-0.7827791386171662,0.808027589873833,-0.2623985741750644,-0.4942457046964749,-0.6637839034311329,1.464517520271835,1.3448171545718528,0.6011133693175702,0.1632201543378181,1.2248107799028884,0.7994906223988056,-0.2161736628371949,0.9116688822603318,3.902229836629033,0.7252182608366325,-1.3521321431374147,0.4153433825998339,-0.5737129011179363,-1.6426670020714382,-1.804973948145196,-1.363915099742037,-0.258895043330387,0.5382447248850627,-0.8358012519654198,1.074626388889294,2.0742221145360795,-1.380729633076403,-1.4216607550885543,-0.3175480747927612,1.3666965768306718,0.08871359965887121,1.5844371161748085,-0.7943909524905459,0.9061058209946535,1.820799299525298,-0.4111218939784008,-0.05226160913088098,-1.756087939643851,1.3959793705903842,-1.2278673917493323,-1.4882425560288863,0.6552215207296921],\"type\":\"histogram\"},{\"histfunc\":\"count\",\"histnorm\":\"\",\"marker\":{\"color\":\"rgba(50, 171, 96, 1.0)\",\"line\":{\"color\":\"#4D5663\",\"width\":1.3}},\"name\":\"c\",\"opacity\":0.8,\"orientation\":\"v\",\"x\":[-2.712220337912532,0.12047862188170955,-1.356344955758865,-1.4169690055541806,-3.7585261023717087,-1.845925928961186,-1.8192605938145128,0.27244245505679987,-1.0362372855648307,-2.0319207660291485,-1.7946776451923112,-2.819973071850052,-1.2778546874513002,-2.125338194776986,-0.014003543726880507,-1.813564920105569,0.3204695854020194,-0.04359680562789903,0.901484346003889,-1.9953111385200946,-0.6990722783180142,-2.2796320072094147,0.5030988921244013,0.02858054922045916,1.0558300406037078,-2.4824605804323325,-0.4746150378839603,-0.6838333314220516,0.5351493183325478,-1.5458481012802692,1.4260213877925776,-1.7975282135636514,-2.020809492122967,-0.9821245130476395,-0.18364855838413607,-1.1352206797011788,-2.7692816104360913,-2.2115942294809035,-3.0476913671758683,0.2809994377195326,-0.5406352675144883,0.5053301024326997,-1.2286661109522057,0.720897905233185,2.6571397154975673,-2.2143609195991742,-0.6963942791309885,0.07429861091322776,-1.6373813193308255,-3.3071307827663974,-1.0604934912409314,0.3634472163010405,-1.9470656638314545,0.3050779084554396,-1.4284469346738007,-0.37510847761061095,0.12147461441853902,-1.487281340680659,-0.12007884386450207,-0.23230254883393398,-0.5187668016104969,-1.0671424745478177,-2.403949984800411,-2.203243766167697,-2.933366046447736,-1.0283176302906047,-2.2813290019384502,1.0956028077453976,-0.32317969798861146,-1.2499857777181185,-1.2423851086569766,-1.9260735612676443,-0.7912317324969268,-1.4179239433146726,-1.961408808981567,-2.1996216047916684,-2.967917436330886,-0.8295289509828505,-0.2636663706418717,-1.2422203319289147,-1.150909919436165,-1.7941583401478836,-1.2790804443938073,-2.2100024084864653,-0.5951965087180211,-1.4662367953290394,0.08193125188035144,-1.4722587129302966,0.998765633979174,-0.6774476947022081,-2.2697810739168363,-2.763937239098584,-0.9248912707599555,-1.7285701010018637,-0.8759538616417701,-2.269894719772867,-0.8828934614030335,-1.683369194575984,-1.142679731136562,-0.5788684680536771,-1.766203059210636,-0.6194519229666022,0.5319246410385792,-1.9687896654330395,-2.140873247232973,0.03989888363975713,-0.5293378797717031,-1.7507691419657498,-0.26251050675263754,0.40738518305207405,1.660970700607583,-0.9037033305575625,-2.0085146329526067,-0.041877697427488036,-0.32169430141950783,-0.8997756794057794,-3.14484446202972,-0.11435751200913769,-1.2737082850093315,-3.4656900373671005,-0.37937929107982304,0.8301212614647762,-0.6613143458451674,-1.7686930007774737,-0.8161893535917867,-1.2842867276285554,-2.224479148664132,0.14363576839177372,-1.0678541237507848,-0.27884219546716327,-0.14778625990498506,-1.8261938106242912,0.2577587467079858,-0.11733441951383083,-0.9123997557089496,-1.0914032768639372,-0.4792205610757917,0.034759570659160355,-1.7327833610602448,-1.3740265937413885,-0.7523956280093017,-0.4979938715191702,0.40659048640957085,-1.4421697319266253,-1.0314712795019523,-0.7326356935405776,-0.3525117467441622,-0.9282297295696138,-1.199820619234458,-1.72524638095082,-0.16817572433641326,-1.1026116969744362,-1.345393962507594,-1.0465923302637294,-2.96930503561181,-1.2642747499163856,-2.3004187608189457,-1.0040750529811635,-0.6280156067022835,-2.679285805805643,-0.25733242997835204,-1.464957424276442,-1.3859324674497324,0.9317586354823295,0.27704950642499093,-1.6609415075339802,-1.5810827927174207,-1.0289769864445508,-0.28796622261331384,0.916190384103929,-0.3003404741782023,-0.3829717929875137,-1.3550056445418315,-1.8947391890754388,-1.2313955987498206,-0.5682433216294508,-3.0972788763489025,-0.3472674553706714,-0.24177882947651264,0.2219332988382552,-1.3871699129882769,-1.2760058846035822,-1.2048047194343774,0.5488822169686938,-0.6815395211939469,0.41644934470199324,-0.5581057808013276,-0.19460725773428367,-0.4194297538251833,-0.3841013732678018,-0.9025784673579966,0.17708054025314146,0.10162332010331943,0.5443435532300609,-0.6833585180115477,-1.2990251454429365,-1.151059153735191,-0.13820151660317959,-1.4027910629492804,-2.4494958867824703,-1.5840567448802858,0.03507618890669062,-0.039549811192250095,0.48474386635338806,-0.9333170192552525,-3.2410218175977605,-2.314509159315724,-2.3462148052144176,-2.3904307823927615,-2.188810583912672,-1.084465995756426,0.8738926738633428,0.5685378896659277,-2.191035654191782,-0.7742168524986275,-0.1045852876922545,0.24382996250023603,-1.3327887504758487,-0.9506576764039455,-2.4862007733314098,-0.6364776911936474,-0.376773608989166,-0.768104111741641,-0.7250269395088776,-0.5622718662202296,0.5206563149266403,-0.4980508920834841,-0.35188990566975886,-1.1743788740514958,-0.49537503964537133,-2.640831050983892,-0.79451838287527,1.2861872179590006,-0.9778493593958564,-0.15583890087069074,-1.3530791806359135,-1.4494636759513029,1.1820184500490778,-1.5303475500927073,-0.5377048061295362,-0.6953004988065661,-1.3037792135932076,0.6889134116025419,-2.783548728702896,-2.1499281251929423,-0.868789049699911,-2.107909940023359,-1.9391474364740953,-1.3147463106457686,0.10762472628323749,-1.4071432211680608,-1.3848126684027324,-1.8520117612138727,-0.2729864410216477,-1.9535301234774503,0.3817080296000175,-0.7912524807724253,-1.3070279096584112,0.3154856551400642,-1.5722072806379421,-0.794233692795822,0.4793084129213516,0.20050106879549645,1.373341769440084,0.024300308282067418,-1.5923765445176086,-2.9554834536524606,-0.3594081870196869,-0.32199014228369394,-1.1797196629234912,-0.8335857912302196,-1.9181480242461295,-0.6773792943768072,-1.37851652582105,-0.32062247770200447,-0.07935969304611235,-1.2579387437622103,-1.0774249847330857,-2.4473148236555566,0.04478040129170635,1.9555389835943946,-2.546117073386699,-1.5938210095991554,-1.0702240679279738,-0.12601432260329948,-2.4306804833064204,-3.046457623496457,0.03457506869197302,-0.9126273508627714,-1.3293201280601896,-1.7775194904952962,-2.280508564339949,-1.3862832144591641,0.15138334400062425,-1.6098543883406222,-0.6730441358904635,-0.17830312978262763,-1.4376682854471021,-1.5811612144334986,-3.852428543037999,-1.1173878768291432,0.3585793671535562,-0.5977873790086087,-1.0782457343066034,0.5462015846297279,-2.602187521149351,-0.7636884638379241,-1.112808408979629,-1.5045810200952228,-0.7620972756249412,-0.786898218868572,-1.5174522455967048,-1.5819172300453328,-1.216281417481298,-0.27077895622268844,-0.4775110780667622,-0.23536575520301228,-1.5357365580840718,0.7303407081544642,-2.143392095698807,-0.4230061360982731,-1.817620175402142,0.05961481888395981,-0.9328856166380162,-1.678366074677297,0.2837925292353889,-1.654730243147311,-0.9439929926544871,-1.1917134557492317,0.1507160480822214,0.10070566960213045,-1.0956954725173824,-1.6016391511881491,-2.2344032270579497,-2.005355179221053,-0.7701069557224575,-0.18136869109217058,-1.135764105093032,-3.527254381630708,-3.372999712016471,-1.6625255614020729,0.3262021100310637,-1.0099281245631142,-2.3862953488114345,-1.6408173424447168,-0.3421786412102108,-1.133527350319767,-2.4923331068796513,-1.9073216808216906,0.02371363818926464,-0.15038782346183466,-1.3437017337882922,-0.30434293791897615,0.26217054629434555,-0.9452687234326799,-2.524496197022656,-1.76337982449764,-0.08879713236461106,-0.3231545164118539,-2.198556096700503,-1.5196694572726468,-0.345660046214321,-1.2022816668619714,-0.15851815192567897,-0.740909896541076,-2.743578512882156,-1.0026959137835405,-2.06654469282258,-1.4678986445688509,-2.804793279552292,-0.3941912822164808,-0.690185521106742,-0.1014770312486376,-0.2896580493584139,-0.28816375210920586,-0.35790619717433503,1.0371847936098635,-1.5612173882531533,-1.3431668387802205,-3.2455015747019385,-0.1801864083491621,0.08007509447778838,-1.1682330600806767,-1.049139460420878,-0.8035647117493664,-0.9286032635803373,0.4277540149118695,-1.7455587436665412,0.438421448067017,-0.4451508361701564,-1.063563274728162,-0.6016179483809663,0.018489600533966533,0.05060649452434718,-1.9294336767050027,-0.452406273270483,-2.6396398867658744,0.9960744807775535,-2.4665678999610616,-1.371275939822355,0.6703366267206996,-1.4418277224263043,-0.1812140656017951,-1.553190260829072,-1.978847914601623,0.5421273761075089,-0.7534859311981961,-0.13408895442610735,0.5854404238453643,-1.3612117161326038,-3.776772716474947,-0.5181774000050889,-2.245839529868812,-2.2123092872108563,-0.4408396143271459,-1.5308290503333688,-0.6747233792531483,-1.9364005300094096,-1.5676838336482615,-0.9842846550178627,-0.4793879339878896,-2.245063029214545,-0.9496498212639264,-0.41588694752763544,-1.5617447772004107,-0.49350274749994194,-1.5747806574580574,-2.7713533950183558,-2.9574319220312084,-2.121561721156529,-0.22580523982983236,0.09979245444954454,-1.2673520869830128,-0.115345761028261,-0.24709066012443825,-1.7585197342520789,-0.8434725823508705,-1.5458102589959912,0.07979349203784292,-0.3405905826527367,-1.323965889770657,-0.4032754866474164,-0.9120228742458074,-1.0150604484647965,-2.133997922788151,0.02797898767067286,-0.027976121660561293,-1.4575039481522079,-2.3310518520581534,-2.224751837075363,-0.6424324495586549,0.9345405662038921,-1.4247687226383299,-0.27150763379882215,-1.670030891672572,-1.6013893011042826,-0.8798507175752156,-3.043412917257176,-3.0610034167611397,-1.2915943456314198,-0.738167136762284,0.07774998490049567,-3.5251405807551985,-2.090536149263761,-1.4670284216949627,-0.6538369408556991,-1.039967760146783,-2.3602289549993873,-0.962110689443505,-2.4991788449564085,-1.4547542316183328,-2.6084454531202494,-0.8115657023962324,-2.173411107825445,-0.7156545055852476,-1.6398793386062218,0.2048829344330878,-1.1454151116250422,-0.385158696696816,-0.5487675574065709,-0.631010368033844,-1.629026983516652,0.10856485937651073,-1.57935958413029,0.6979980660630745,-0.6687240159572523,-2.0142573524892544,-1.0129567719905583,-0.6585599570021412,-0.6767003886437744,0.5237610145278875,-1.8294936585836508,-1.3841708076575998,-1.5151179271296318,-0.26947494096882396,-1.5065514028547404,-1.4948301860701825,0.18495017055075214,-1.9412538365424048,-0.4796240089285473],\"type\":\"histogram\"}],                        {\"barmode\":\"overlay\",\"legend\":{\"bgcolor\":\"#F5F6F9\",\"font\":{\"color\":\"#4D5663\"}},\"paper_bgcolor\":\"#F5F6F9\",\"plot_bgcolor\":\"#F5F6F9\",\"title\":{\"font\":{\"color\":\"#4D5663\"}},\"xaxis\":{\"gridcolor\":\"#E1E5ED\",\"showgrid\":true,\"tickfont\":{\"color\":\"#4D5663\"},\"title\":{\"text\":\"\",\"font\":{\"color\":\"#4D5663\"}},\"zerolinecolor\":\"#E1E5ED\"},\"yaxis\":{\"gridcolor\":\"#E1E5ED\",\"showgrid\":true,\"tickfont\":{\"color\":\"#4D5663\"},\"title\":{\"text\":\"\",\"font\":{\"color\":\"#4D5663\"}},\"zerolinecolor\":\"#E1E5ED\"},\"template\":{\"data\":{\"bar\":[{\"error_x\":{\"color\":\"#2a3f5f\"},\"error_y\":{\"color\":\"#2a3f5f\"},\"marker\":{\"line\":{\"color\":\"#E5ECF6\",\"width\":0.5},\"pattern\":{\"fillmode\":\"overlay\",\"size\":10,\"solidity\":0.2}},\"type\":\"bar\"}],\"barpolar\":[{\"marker\":{\"line\":{\"color\":\"#E5ECF6\",\"width\":0.5},\"pattern\":{\"fillmode\":\"overlay\",\"size\":10,\"solidity\":0.2}},\"type\":\"barpolar\"}],\"carpet\":[{\"aaxis\":{\"endlinecolor\":\"#2a3f5f\",\"gridcolor\":\"white\",\"linecolor\":\"white\",\"minorgridcolor\":\"white\",\"startlinecolor\":\"#2a3f5f\"},\"baxis\":{\"endlinecolor\":\"#2a3f5f\",\"gridcolor\":\"white\",\"linecolor\":\"white\",\"minorgridcolor\":\"white\",\"startlinecolor\":\"#2a3f5f\"},\"type\":\"carpet\"}],\"choropleth\":[{\"colorbar\":{\"outlinewidth\":0,\"ticks\":\"\"},\"type\":\"choropleth\"}],\"contour\":[{\"colorbar\":{\"outlinewidth\":0,\"ticks\":\"\"},\"colorscale\":[[0.0,\"#0d0887\"],[0.1111111111111111,\"#46039f\"],[0.2222222222222222,\"#7201a8\"],[0.3333333333333333,\"#9c179e\"],[0.4444444444444444,\"#bd3786\"],[0.5555555555555556,\"#d8576b\"],[0.6666666666666666,\"#ed7953\"],[0.7777777777777778,\"#fb9f3a\"],[0.8888888888888888,\"#fdca26\"],[1.0,\"#f0f921\"]],\"type\":\"contour\"}],\"contourcarpet\":[{\"colorbar\":{\"outlinewidth\":0,\"ticks\":\"\"},\"type\":\"contourcarpet\"}],\"heatmap\":[{\"colorbar\":{\"outlinewidth\":0,\"ticks\":\"\"},\"colorscale\":[[0.0,\"#0d0887\"],[0.1111111111111111,\"#46039f\"],[0.2222222222222222,\"#7201a8\"],[0.3333333333333333,\"#9c179e\"],[0.4444444444444444,\"#bd3786\"],[0.5555555555555556,\"#d8576b\"],[0.6666666666666666,\"#ed7953\"],[0.7777777777777778,\"#fb9f3a\"],[0.8888888888888888,\"#fdca26\"],[1.0,\"#f0f921\"]],\"type\":\"heatmap\"}],\"heatmapgl\":[{\"colorbar\":{\"outlinewidth\":0,\"ticks\":\"\"},\"colorscale\":[[0.0,\"#0d0887\"],[0.1111111111111111,\"#46039f\"],[0.2222222222222222,\"#7201a8\"],[0.3333333333333333,\"#9c179e\"],[0.4444444444444444,\"#bd3786\"],[0.5555555555555556,\"#d8576b\"],[0.6666666666666666,\"#ed7953\"],[0.7777777777777778,\"#fb9f3a\"],[0.8888888888888888,\"#fdca26\"],[1.0,\"#f0f921\"]],\"type\":\"heatmapgl\"}],\"histogram\":[{\"marker\":{\"pattern\":{\"fillmode\":\"overlay\",\"size\":10,\"solidity\":0.2}},\"type\":\"histogram\"}],\"histogram2d\":[{\"colorbar\":{\"outlinewidth\":0,\"ticks\":\"\"},\"colorscale\":[[0.0,\"#0d0887\"],[0.1111111111111111,\"#46039f\"],[0.2222222222222222,\"#7201a8\"],[0.3333333333333333,\"#9c179e\"],[0.4444444444444444,\"#bd3786\"],[0.5555555555555556,\"#d8576b\"],[0.6666666666666666,\"#ed7953\"],[0.7777777777777778,\"#fb9f3a\"],[0.8888888888888888,\"#fdca26\"],[1.0,\"#f0f921\"]],\"type\":\"histogram2d\"}],\"histogram2dcontour\":[{\"colorbar\":{\"outlinewidth\":0,\"ticks\":\"\"},\"colorscale\":[[0.0,\"#0d0887\"],[0.1111111111111111,\"#46039f\"],[0.2222222222222222,\"#7201a8\"],[0.3333333333333333,\"#9c179e\"],[0.4444444444444444,\"#bd3786\"],[0.5555555555555556,\"#d8576b\"],[0.6666666666666666,\"#ed7953\"],[0.7777777777777778,\"#fb9f3a\"],[0.8888888888888888,\"#fdca26\"],[1.0,\"#f0f921\"]],\"type\":\"histogram2dcontour\"}],\"mesh3d\":[{\"colorbar\":{\"outlinewidth\":0,\"ticks\":\"\"},\"type\":\"mesh3d\"}],\"parcoords\":[{\"line\":{\"colorbar\":{\"outlinewidth\":0,\"ticks\":\"\"}},\"type\":\"parcoords\"}],\"pie\":[{\"automargin\":true,\"type\":\"pie\"}],\"scatter\":[{\"marker\":{\"colorbar\":{\"outlinewidth\":0,\"ticks\":\"\"}},\"type\":\"scatter\"}],\"scatter3d\":[{\"line\":{\"colorbar\":{\"outlinewidth\":0,\"ticks\":\"\"}},\"marker\":{\"colorbar\":{\"outlinewidth\":0,\"ticks\":\"\"}},\"type\":\"scatter3d\"}],\"scattercarpet\":[{\"marker\":{\"colorbar\":{\"outlinewidth\":0,\"ticks\":\"\"}},\"type\":\"scattercarpet\"}],\"scattergeo\":[{\"marker\":{\"colorbar\":{\"outlinewidth\":0,\"ticks\":\"\"}},\"type\":\"scattergeo\"}],\"scattergl\":[{\"marker\":{\"colorbar\":{\"outlinewidth\":0,\"ticks\":\"\"}},\"type\":\"scattergl\"}],\"scattermapbox\":[{\"marker\":{\"colorbar\":{\"outlinewidth\":0,\"ticks\":\"\"}},\"type\":\"scattermapbox\"}],\"scatterpolar\":[{\"marker\":{\"colorbar\":{\"outlinewidth\":0,\"ticks\":\"\"}},\"type\":\"scatterpolar\"}],\"scatterpolargl\":[{\"marker\":{\"colorbar\":{\"outlinewidth\":0,\"ticks\":\"\"}},\"type\":\"scatterpolargl\"}],\"scatterternary\":[{\"marker\":{\"colorbar\":{\"outlinewidth\":0,\"ticks\":\"\"}},\"type\":\"scatterternary\"}],\"surface\":[{\"colorbar\":{\"outlinewidth\":0,\"ticks\":\"\"},\"colorscale\":[[0.0,\"#0d0887\"],[0.1111111111111111,\"#46039f\"],[0.2222222222222222,\"#7201a8\"],[0.3333333333333333,\"#9c179e\"],[0.4444444444444444,\"#bd3786\"],[0.5555555555555556,\"#d8576b\"],[0.6666666666666666,\"#ed7953\"],[0.7777777777777778,\"#fb9f3a\"],[0.8888888888888888,\"#fdca26\"],[1.0,\"#f0f921\"]],\"type\":\"surface\"}],\"table\":[{\"cells\":{\"fill\":{\"color\":\"#EBF0F8\"},\"line\":{\"color\":\"white\"}},\"header\":{\"fill\":{\"color\":\"#C8D4E3\"},\"line\":{\"color\":\"white\"}},\"type\":\"table\"}]},\"layout\":{\"annotationdefaults\":{\"arrowcolor\":\"#2a3f5f\",\"arrowhead\":0,\"arrowwidth\":1},\"autotypenumbers\":\"strict\",\"coloraxis\":{\"colorbar\":{\"outlinewidth\":0,\"ticks\":\"\"}},\"colorscale\":{\"diverging\":[[0,\"#8e0152\"],[0.1,\"#c51b7d\"],[0.2,\"#de77ae\"],[0.3,\"#f1b6da\"],[0.4,\"#fde0ef\"],[0.5,\"#f7f7f7\"],[0.6,\"#e6f5d0\"],[0.7,\"#b8e186\"],[0.8,\"#7fbc41\"],[0.9,\"#4d9221\"],[1,\"#276419\"]],\"sequential\":[[0.0,\"#0d0887\"],[0.1111111111111111,\"#46039f\"],[0.2222222222222222,\"#7201a8\"],[0.3333333333333333,\"#9c179e\"],[0.4444444444444444,\"#bd3786\"],[0.5555555555555556,\"#d8576b\"],[0.6666666666666666,\"#ed7953\"],[0.7777777777777778,\"#fb9f3a\"],[0.8888888888888888,\"#fdca26\"],[1.0,\"#f0f921\"]],\"sequentialminus\":[[0.0,\"#0d0887\"],[0.1111111111111111,\"#46039f\"],[0.2222222222222222,\"#7201a8\"],[0.3333333333333333,\"#9c179e\"],[0.4444444444444444,\"#bd3786\"],[0.5555555555555556,\"#d8576b\"],[0.6666666666666666,\"#ed7953\"],[0.7777777777777778,\"#fb9f3a\"],[0.8888888888888888,\"#fdca26\"],[1.0,\"#f0f921\"]]},\"colorway\":[\"#636efa\",\"#EF553B\",\"#00cc96\",\"#ab63fa\",\"#FFA15A\",\"#19d3f3\",\"#FF6692\",\"#B6E880\",\"#FF97FF\",\"#FECB52\"],\"font\":{\"color\":\"#2a3f5f\"},\"geo\":{\"bgcolor\":\"white\",\"lakecolor\":\"white\",\"landcolor\":\"#E5ECF6\",\"showlakes\":true,\"showland\":true,\"subunitcolor\":\"white\"},\"hoverlabel\":{\"align\":\"left\"},\"hovermode\":\"closest\",\"mapbox\":{\"style\":\"light\"},\"paper_bgcolor\":\"white\",\"plot_bgcolor\":\"#E5ECF6\",\"polar\":{\"angularaxis\":{\"gridcolor\":\"white\",\"linecolor\":\"white\",\"ticks\":\"\"},\"bgcolor\":\"#E5ECF6\",\"radialaxis\":{\"gridcolor\":\"white\",\"linecolor\":\"white\",\"ticks\":\"\"}},\"scene\":{\"xaxis\":{\"backgroundcolor\":\"#E5ECF6\",\"gridcolor\":\"white\",\"gridwidth\":2,\"linecolor\":\"white\",\"showbackground\":true,\"ticks\":\"\",\"zerolinecolor\":\"white\"},\"yaxis\":{\"backgroundcolor\":\"#E5ECF6\",\"gridcolor\":\"white\",\"gridwidth\":2,\"linecolor\":\"white\",\"showbackground\":true,\"ticks\":\"\",\"zerolinecolor\":\"white\"},\"zaxis\":{\"backgroundcolor\":\"#E5ECF6\",\"gridcolor\":\"white\",\"gridwidth\":2,\"linecolor\":\"white\",\"showbackground\":true,\"ticks\":\"\",\"zerolinecolor\":\"white\"}},\"shapedefaults\":{\"line\":{\"color\":\"#2a3f5f\"}},\"ternary\":{\"aaxis\":{\"gridcolor\":\"white\",\"linecolor\":\"white\",\"ticks\":\"\"},\"baxis\":{\"gridcolor\":\"white\",\"linecolor\":\"white\",\"ticks\":\"\"},\"bgcolor\":\"#E5ECF6\",\"caxis\":{\"gridcolor\":\"white\",\"linecolor\":\"white\",\"ticks\":\"\"}},\"title\":{\"x\":0.05},\"xaxis\":{\"automargin\":true,\"gridcolor\":\"white\",\"linecolor\":\"white\",\"ticks\":\"\",\"title\":{\"standoff\":15},\"zerolinecolor\":\"white\",\"zerolinewidth\":2},\"yaxis\":{\"automargin\":true,\"gridcolor\":\"white\",\"linecolor\":\"white\",\"ticks\":\"\",\"title\":{\"standoff\":15},\"zerolinecolor\":\"white\",\"zerolinewidth\":2}}}},                        {\"responsive\": true}                    ).then(function(){\n",
       "                            \n",
       "var gd = document.getElementById('a135cbe8-17f9-4d08-a83d-d35c4fdf51cc');\n",
       "var x = new MutationObserver(function (mutations, observer) {{\n",
       "        var display = window.getComputedStyle(gd).display;\n",
       "        if (!display || display === 'none') {{\n",
       "            console.log([gd, 'removed!']);\n",
       "            Plotly.purge(gd);\n",
       "            observer.disconnect();\n",
       "        }}\n",
       "}});\n",
       "\n",
       "// Listen for the removal of the full notebook cells\n",
       "var notebookContainer = gd.closest('#notebook-container');\n",
       "if (notebookContainer) {{\n",
       "    x.observe(notebookContainer, {childList: true});\n",
       "}}\n",
       "\n",
       "// Listen for the clearing of the current output cell\n",
       "var outputEl = gd.closest('.output');\n",
       "if (outputEl) {{\n",
       "    x.observe(outputEl, {childList: true});\n",
       "}}\n",
       "\n",
       "                        })                };                });            </script>        </div>"
      ]
     },
     "metadata": {},
     "output_type": "display_data"
    }
   ],
   "source": [
    "\n",
    "\n",
    "df = pd.DataFrame({'a': np.random.randn(500) + 1,'b': np.random.randn(500),'c': np.random.randn(500) - 1})\n",
    "fig = df.iplot(asFigure=True, kind=\"histogram\")\n",
    "pyo.plot(fig,filename='histogram.html')\n",
    "fig.show()\n",
    "\n"
   ]
  },
  {
   "cell_type": "code",
   "execution_count": 10,
   "id": "09109827",
   "metadata": {},
   "outputs": [
    {
     "data": {
      "application/vnd.plotly.v1+json": {
       "config": {
        "plotlyServerURL": "https://plot.ly"
       },
       "data": [
        {
         "boxpoints": false,
         "line": {
          "width": 1.3
         },
         "marker": {
          "color": "rgba(255, 153, 51, 1.0)"
         },
         "name": "a",
         "orientation": "v",
         "type": "box",
         "y": [
          2.9445523142121415,
          0.8936398144639659,
          1.237437536522542,
          2.5135085673521385,
          2.2163780620549782,
          1.5203934968113972,
          1.226915996222895,
          1.9066280063289534,
          1.095541914076439,
          1.8806050799658725,
          2.2890858535709544,
          -0.46371966155580435,
          0.9547869570412605,
          0.7231025121339334,
          1.0939890763137732,
          0.7472776796438079,
          0.2577780167892155,
          2.2715353657148096,
          1.7464656635393836,
          0.14447553615287567,
          0.6707151663408327,
          1.0180686833200159,
          0.6557752717864367,
          3.302044405606281,
          1.2662833614645752,
          1.5998515591169975,
          0.5095915902716013,
          0.40755773534680184,
          1.094947239436555,
          0.5436117593838807,
          0.06307645759886427,
          1.8852693305678034,
          1.114198778729608,
          -0.6424571645807944,
          1.4389142412568179,
          0.9116253477589045,
          2.4872807683669285,
          0.43952836010714114,
          0.22896414931050957,
          0.8635403859154591,
          1.657124784521415,
          2.654533086700031,
          1.3682242731530405,
          1.112856540993131,
          0.9726616236539031,
          0.6147413093567431,
          0.23511008646719822,
          1.469026897988749,
          1.1432258179946413,
          1.4780639271397964,
          -0.31000528046819054,
          0.28144939424235105,
          -0.8893334389170477,
          0.7384016023848241,
          0.4734898023716315,
          0.3703494950445566,
          3.1420901488375104,
          0.02476039671219621,
          -2.206288938692641,
          2.22028115461151,
          2.3421451755743408,
          0.5371367605580165,
          -0.06131417576790832,
          0.982471278913039,
          3.0686843156198322,
          0.7894684440104949,
          0.2554603182342092,
          1.1893040580570942,
          2.1152620769066943,
          1.63900460428096,
          0.06805311849877238,
          0.9444483335898243,
          3.051878697839374,
          1.037361892595355,
          -0.4347801400193687,
          1.020051211659248,
          0.8929195672990301,
          3.1072637817958078,
          1.352664746718062,
          1.653208359775244,
          1.361882663629345,
          0.28422936367003304,
          -0.07756113625028083,
          0.30780747170226264,
          1.603073989756466,
          0.9141495222358289,
          2.666863385985457,
          1.8739353321968664,
          0.06299196073161362,
          0.8330576389935376,
          2.1620021719340645,
          2.464483206629855,
          1.6439891153838941,
          1.9143042331259172,
          0.29804115092310624,
          -0.36941598277884524,
          1.0656180572878544,
          1.4277606000105918,
          0.2403258021352006,
          1.1658874447173009,
          -0.8817602408371448,
          1.4815757786378931,
          0.7771482714132653,
          3.0009488498935584,
          0.4466225269177092,
          0.3447798864721132,
          0.21859626526895604,
          2.7440698717178895,
          0.580580084897702,
          0.4958661577244228,
          1.2096884658090064,
          1.2940504791645,
          0.4989350874754155,
          0.47476135348336246,
          1.351386807781593,
          -0.06309560047847951,
          0.6172678972423638,
          0.45226008469392587,
          0.6529236856400031,
          2.294222921710916,
          1.0253943541133612,
          0.9909210928543977,
          1.5594618906966402,
          0.8373734883805463,
          2.037565447547001,
          1.0960590979538591,
          3.945268737508589,
          0.093051565669929,
          1.543345595025087,
          0.3729180926650487,
          3.5237647058168418,
          2.301714988216547,
          0.6152803816531791,
          1.3097833847045193,
          0.1888910864725124,
          -0.38041752781906624,
          1.003751658158364,
          0.9733304413188907,
          2.1266610221753273,
          1.0973385820919022,
          0.876752735700705,
          0.9942279989579086,
          0.5521565388046963,
          2.1405484197394724,
          0.2349854231288251,
          1.8990637535981334,
          2.4389732992434823,
          1.4105118107282306,
          1.0318846091124536,
          0.6407666329706506,
          0.8170972743831917,
          1.067622043269769,
          1.3685370368608192,
          3.419313069132271,
          1.0368307772965908,
          1.5024532707604714,
          0.9803158397593517,
          -0.5280482502770856,
          1.262969065353499,
          2.157489769499582,
          2.4424836338627003,
          1.7096943606603452,
          0.622084274982108,
          0.5243379378326095,
          1.2331626547061523,
          0.8032057879849369,
          0.4055052221800196,
          1.6580296866540642,
          -1.242299051931394,
          1.3679765611550174,
          1.142472143788035,
          1.9031279451187952,
          0.7515038726141943,
          -0.5488351578273791,
          -0.37052265058072753,
          -0.4257900282541469,
          0.7911213221105694,
          0.3458603189438578,
          0.9294831151726547,
          -1.232791325087227,
          1.083300014177082,
          -0.17756538678722644,
          0.08559291608772157,
          -0.46581475533958083,
          1.799479995873571,
          1.752242441683642,
          0.9730464057374252,
          -0.07609636924175134,
          0.6875124854439085,
          -0.10813173659511488,
          1.3014650577916904,
          1.9066079884929121,
          -0.6256573697709613,
          0.8503592731509328,
          1.5493210094395415,
          2.5763176408939925,
          -0.14235402956288268,
          1.1765388801336079,
          1.8233800002489782,
          2.588535438350241,
          2.1425187587098886,
          -0.9811021999299583,
          1.153975034772095,
          -0.725894246482766,
          0.9545494531359213,
          1.7473686091414995,
          1.4758365887796705,
          -2.4156077779213927,
          -0.0036867214358380362,
          1.6358474011125905,
          2.3152028476206556,
          0.7561508918614863,
          0.10983366966065411,
          -0.1437264473622899,
          0.8309076550162455,
          0.9865821118992011,
          2.020938047314714,
          -0.5203301044251163,
          2.447028747669212,
          1.4592977789472095,
          0.08640099199182816,
          0.3836122854747447,
          2.1396140164564166,
          0.2977468005470172,
          0.43738497877768856,
          0.9330475036118999,
          1.0708175430495777,
          0.31047020874304865,
          0.005777388364799352,
          -0.24619480492005663,
          1.644634378923191,
          -0.23219863873259028,
          2.2063150263564952,
          0.09392488522904263,
          -0.20382005699435224,
          2.3236807306770073,
          1.0525852185605677,
          1.375203941939659,
          0.6328213900942916,
          2.4780828464786193,
          2.1904641140890027,
          1.8264848190103469,
          1.2839942477874215,
          -0.18402997792359854,
          -0.710323630739194,
          1.2232306193281333,
          -0.8991385609298768,
          1.3465780026712826,
          1.3744342243911998,
          1.5432274541714226,
          0.5744676215840077,
          0.4989374863561947,
          1.4533734110812653,
          0.1600396754281298,
          -0.03664446713353775,
          1.485874632564502,
          -0.7000868360196872,
          2.0394384354886155,
          -0.03745015514925498,
          -1.7224619066534506,
          1.8843748654274615,
          2.890113564110833,
          0.9127151432588846,
          1.9385066647768814,
          0.5370294276004668,
          0.06633570708024927,
          1.0121522076232112,
          2.8419192087233505,
          -0.14441361425537647,
          -0.08728570927466417,
          2.7734709772690467,
          0.3433465565217566,
          1.8448894401246179,
          0.01759300440515721,
          0.620455335626583,
          3.1674296287911656,
          -0.2308303159415439,
          -0.33569826700761074,
          -0.7150854503326227,
          0.45339881438512875,
          1.6230540347545233,
          0.07736012888901478,
          0.2148041007087167,
          1.4259332344334168,
          1.4577523485055939,
          2.3661382945551157,
          1.30930629826687,
          0.1299268289500557,
          0.3914985628491261,
          1.4833204003876013,
          2.0422281068348243,
          -0.46835807548733377,
          1.652501807932635,
          -0.17291118239913916,
          -0.1691000945340242,
          -0.7296577384206802,
          0.614942368885713,
          0.6223848735620512,
          -1.3864341762594212,
          0.6787420810051226,
          0.8762325344282104,
          -0.17328284167397268,
          0.66907145593396,
          0.44567817219326844,
          1.3536896920775503,
          -0.014255935716038781,
          0.07765594120801345,
          0.7727758843856595,
          1.9091085327153043,
          1.475767494469593,
          1.5368811836667435,
          1.4055527482782275,
          0.7645388734207734,
          0.9243425190000727,
          1.5926744172451466,
          0.7573289307690523,
          0.9049376604463327,
          1.930769499906853,
          1.3404896690873,
          0.7398660900737493,
          0.2727283959629212,
          -0.0768456222758942,
          1.553266037643148,
          2.2512984811561942,
          0.9941376954749002,
          1.0936246416440711,
          2.891612778024017,
          0.008868419963934948,
          2.8522204925595895,
          0.16976357126343844,
          1.3300316124376108,
          1.614372881795362,
          -0.0675356821035693,
          0.6844902284996843,
          1.319616922087131,
          1.939752887844315,
          1.9180948651502407,
          0.3336123588567269,
          -0.3198443538713296,
          2.1340956789553998,
          1.474613834134908,
          1.0388635539777458,
          1.2079921830740832,
          -0.8778115150237618,
          1.547315881383243,
          0.10701896982345338,
          -0.8671667770087406,
          0.6951709512996991,
          0.3840502321398199,
          1.4108817171025816,
          0.20602984581808492,
          -1.2232216055316165,
          -0.08592676172261338,
          -1.6221068752388277,
          2.539005920841698,
          4.471866722210318,
          0.7219202880908957,
          2.398678356415152,
          2.668934646432521,
          -2.5769414589268878,
          3.162730411288452,
          2.1443793138885807,
          0.9397330795689844,
          2.0673389408029905,
          1.3736310718334905,
          0.7070404432662061,
          2.8890133235782196,
          1.5838852828122145,
          0.000691236488026381,
          0.5869881871830855,
          1.9683001473956314,
          0.7234601008831196,
          -0.33464698853357167,
          1.0204130813711498,
          0.18779298368237118,
          0.8793250213060164,
          1.35396385476023,
          1.414962326714253,
          1.3277429293148246,
          1.7811588844729564,
          0.5433678729909364,
          0.42961166050385013,
          0.549983336996145,
          1.4522714813162556,
          1.5425383733430236,
          2.4642940825150834,
          0.6604044553268322,
          0.3742214982330263,
          0.34797788397593354,
          2.5674241560774327,
          1.8655557498009836,
          0.5959450150675774,
          1.5632159761775957,
          -0.04607272320381539,
          0.3545855554078493,
          -0.3237932712485858,
          0.4425766198268686,
          -0.23565338496755528,
          0.29658909161183045,
          -0.22981464233544813,
          0.2076639171839476,
          2.133925614003342,
          -0.9400442652904035,
          -0.21521399727377455,
          0.02800500323900934,
          1.1947584468099104,
          2.263217916703553,
          -0.1603259196333322,
          -0.02088243781828525,
          0.5535477440350516,
          -0.2676571360061848,
          0.7964794331762645,
          -0.24242939801437213,
          0.6045336696618422,
          0.07793077032870155,
          -0.704152349800363,
          0.4906538755422951,
          1.2916370882856527,
          -0.6606887559092298,
          1.7729414654876687,
          -1.3485992052426288,
          1.0478288455465075,
          0.4856095859685431,
          -0.1349599901514411,
          1.413833490105615,
          1.5356270629484015,
          -0.6522727850416641,
          1.9512005638530439,
          0.1671433130765615,
          1.4359982845015316,
          2.1824535127594116,
          0.25287943679249525,
          1.2494016316146501,
          -0.6912027535418694,
          2.3360815751099064,
          0.81769552282242,
          2.0499163911809486,
          1.2401076866856762,
          2.478529191894336,
          0.8737170387714224,
          0.7935778767988327,
          0.6788197664449969,
          0.7745362355961641,
          2.158295029397511,
          2.2115832114783,
          -0.8339680544672723,
          0.43744991731933036,
          1.5184098078516917,
          0.9302983669151433,
          0.6048298387715785,
          1.8393904348370311,
          3.2003617931876494,
          0.283530241865532,
          2.6991474832656013,
          1.9532368894715308,
          0.24718933998927328,
          0.5143736121209532,
          1.1415543607026863,
          1.7968730252835572,
          0.14515616286901378,
          2.7899297063492527,
          1.4736028069233045,
          1.124895651069249,
          1.9216266317992186,
          2.6951727083322568,
          1.7950339878858712,
          1.4006497207610973,
          2.315090509141048,
          1.687323808099055,
          1.1231903004857837,
          1.1992888766554914,
          1.0599734643689576,
          2.515694334146324,
          2.41636252853609,
          -0.08821769886013997,
          0.5503186600959757,
          1.9858410111982607,
          -0.18655197639013776,
          -0.009377474860695179,
          1.5282226571391577,
          -0.9546773338143126,
          1.0665323090703918,
          0.9008112913782003,
          1.0407452235023165,
          1.7643306590263235,
          0.927966609595036,
          -0.2935005357164071,
          3.138946474922379,
          1.130669225222724,
          1.4299817116462292,
          -0.7454938028813236,
          2.0005700563319166,
          0.012166907649303393,
          0.6736900329004258,
          2.130064246738295,
          1.6903373699606719,
          -0.4829282903572576,
          2.3738267818398304,
          0.43312878943807653,
          1.252248566157805
         ]
        },
        {
         "boxpoints": false,
         "line": {
          "width": 1.3
         },
         "marker": {
          "color": "rgba(55, 128, 191, 1.0)"
         },
         "name": "b",
         "orientation": "v",
         "type": "box",
         "y": [
          0.6140041860112088,
          0.6011143198910099,
          -1.4048273360114276,
          -0.20171968794122916,
          -0.13762310803912203,
          0.7584167241321225,
          1.1582908220324355,
          -1.5042414087565028,
          -0.5313703346868874,
          -0.05499028403627102,
          -0.278269055519851,
          1.540666450201908,
          -1.3372437122283427,
          0.7222894103042771,
          -0.06639487436538506,
          -0.36429453545618434,
          0.6347679646932605,
          -0.2790896179466878,
          0.6750556182958177,
          1.3836766054505116,
          1.3835954356079738,
          -0.15938652509700954,
          0.49886467011000546,
          0.9420468801008787,
          0.7871752990356272,
          0.16877551422971354,
          -0.4002782249492147,
          0.15365528566084916,
          1.4935269380017961,
          0.9897587738183454,
          -0.11742158744517875,
          0.6127043854776124,
          0.6861519397245238,
          -0.21850338537319433,
          -1.4621396741745007,
          -0.42877499940700775,
          1.1594526977297726,
          -0.43482237837958043,
          0.28201138927304614,
          0.46377733317427106,
          1.296116907560316,
          -1.266585500327303,
          0.25321676762302314,
          1.669293115012108,
          -0.7182158673139849,
          0.07879569614677266,
          0.2529892027346888,
          1.985370545506263,
          -0.47811196318198157,
          -2.046943024895031,
          1.511760041697942,
          1.804686449408406,
          0.08791469919742563,
          -0.9822799775542526,
          1.6492245848889244,
          1.136190423528202,
          -0.8065067292550112,
          1.766917362024378,
          1.6065917335992048,
          0.4586547492368775,
          -0.10244334943985389,
          1.2431675421157407,
          -1.5503631882945255,
          0.26106861254888536,
          -1.3163946149067054,
          0.22486534102039502,
          2.182976743426501,
          -1.1727491061248074,
          -1.263713670545322,
          -0.036692736817397,
          -1.4088687051368236,
          1.269768666824066,
          -0.5922128468674878,
          1.661947114268446,
          0.2524806451869489,
          -0.6136859641376463,
          -0.3855241076158843,
          -1.0132379640827636,
          0.8629466284256727,
          0.35400677939151537,
          -0.5761479739876897,
          -1.43806201573666,
          2.26904784553591,
          0.8200298675216332,
          -0.061328146332157135,
          -0.12447323544544943,
          -0.17096300156193195,
          0.6200583686471088,
          -0.261011389907288,
          0.2168905782471042,
          -0.4647265070388179,
          -0.5806883332069283,
          3.058328380958346,
          -0.04277651153901738,
          -0.3287068771675042,
          0.7936421018099471,
          1.3564114304452417,
          -1.0500006510103004,
          -0.08626068198900921,
          2.2447991529151157,
          0.09649465695009964,
          -1.0444473146949445,
          -0.4930093818800953,
          -2.5936676161798795,
          -0.851373782948533,
          0.5984704831575052,
          -0.06699825642594189,
          0.27389735592739783,
          2.13288588778984,
          -1.6347445294967722,
          -0.7049741672162232,
          0.6366780644638734,
          -0.45669962028810307,
          1.0347523119359139,
          1.071223740747887,
          1.7008725815472796,
          -0.2914924138994487,
          -1.9414369021916975,
          -1.2001557024045373,
          0.5814964444329136,
          -1.8625183091160418,
          0.2093577728262809,
          -1.0049980176028135,
          1.1975516125908532,
          -0.09562305250217516,
          -1.3038487724390746,
          0.5714403669403416,
          -0.1512549140298337,
          0.6514355235965352,
          -0.5489794284367402,
          0.35904458168877357,
          -1.3035474734975068,
          1.824027129663336,
          -0.45001165472009613,
          -1.836683054362937,
          -0.22076861035809398,
          1.3897692597475886,
          -0.27060045854072456,
          -0.8966595243771915,
          -0.19320948142269734,
          -0.67169153778742,
          0.02481227315504937,
          1.1824345695058185,
          0.4508019443141031,
          0.21072121432417895,
          2.1708122167824593,
          1.5870397543344423,
          2.1423251966744057,
          -1.2296695250796719,
          0.7624225015354823,
          -0.34499997849086855,
          0.33520979187623606,
          -0.15556236921814715,
          -0.8247971970276687,
          -1.2873723628939675,
          -0.4952830436285387,
          1.1523969891878532,
          -0.36744655926042263,
          -0.3943317020758032,
          -0.3483884864002464,
          -0.4356896373382403,
          0.8773400474881343,
          -0.15335362795709903,
          -0.18516041549306994,
          0.4333884010579354,
          -0.25716213812128635,
          1.7541114046299209,
          -0.09127377567883513,
          0.6073698341725335,
          -0.8321552370024459,
          0.6745599559968414,
          -0.5888992626624414,
          -0.6539675865231847,
          0.5726520365913519,
          -1.2814623140393402,
          -0.40633082885595795,
          0.7749480599520198,
          2.037314267323697,
          -0.4719418729068831,
          -0.3951420866485383,
          -1.2124655347638136,
          -0.9497320359662494,
          -0.8942099765415098,
          -0.24808691957139392,
          -0.5637462273178099,
          1.2298746930380882,
          0.17580839152281247,
          1.4460887518049912,
          0.4831057989378585,
          -1.706562525123076,
          -0.41473976100564763,
          -0.031773614109311864,
          -0.6636650331701961,
          -0.4044458385275715,
          -0.6228916240453328,
          1.0785952903542189,
          0.49027723586812777,
          -0.4298359824391453,
          0.5059761297958137,
          0.0408574844323819,
          0.6845493403840079,
          0.47725064091789293,
          1.16934768329822,
          1.671550407744623,
          0.13689771039694004,
          -1.114339182203308,
          -0.015201175455992819,
          0.08085130273801741,
          1.7463999566366086,
          0.05895211310268005,
          -0.3520493713961544,
          0.9133002798286892,
          -0.429094621199731,
          1.3711499001642444,
          -1.0998951926895437,
          0.11483994665109958,
          0.8591382602896361,
          0.8766435426160732,
          0.5597619030036832,
          -0.983564282207203,
          -1.484737781618607,
          0.3042449596761312,
          0.085708111983932,
          -0.24394092741952392,
          0.7351063036319458,
          0.9341144608097709,
          -1.0396704727320876,
          -0.13460376929644172,
          -1.023579958148164,
          -0.29807313110260114,
          -0.08942087001779955,
          0.3833234903752413,
          1.2735231535739415,
          0.2666278848001388,
          0.1268722936094674,
          -1.0413148624524549,
          0.9326225597667734,
          0.3766484386465826,
          0.6615326523712936,
          1.151061198992994,
          0.40443743298339957,
          0.31300705637693244,
          -0.8901709346362691,
          0.8578124978762912,
          -0.39481490140844994,
          -1.3002003081767772,
          -0.12706315378757782,
          0.0011747802360484,
          -0.9817667355804058,
          -0.8227651141125725,
          0.7610376077937611,
          1.4288843921680683,
          1.0339197208357132,
          1.9140731623272786,
          0.12522193137179055,
          -0.7193380223977963,
          0.18633032448089093,
          0.33805007353287597,
          -0.7094082174604771,
          -0.3977581904115866,
          -1.9939687611866057,
          -0.5896040684092643,
          -0.08203621773693526,
          -1.1020303445785142,
          -1.2040215362513764,
          1.3341628896260405,
          1.5829039790404011,
          0.3357427547562678,
          -0.4938584342908103,
          0.5810671982560971,
          0.8735201421138254,
          -1.5116341216211715,
          -0.9743608233677842,
          0.7002993095886246,
          -0.6514152537655046,
          0.6112806009668499,
          -0.3728478993073609,
          0.3254313118540776,
          0.9615229342482484,
          -0.864846153393121,
          0.4596816169785188,
          -0.4320169158328269,
          -1.4663844044729892,
          0.5761815196562664,
          -0.22693914082054834,
          -0.9927541955560784,
          1.9946067575274549,
          1.5589425026755495,
          -0.22045817343204147,
          -0.17879919194639263,
          1.5586341220193025,
          -1.005872853678804,
          0.5667608720729612,
          0.9046324708033201,
          0.27231294464419087,
          -0.1643650810963187,
          0.07057537019462026,
          1.5344131206828182,
          -1.2232522233656555,
          1.2350989545104771,
          0.41994664057705455,
          -0.22134015654903114,
          -0.6173292582678362,
          1.7565259818019194,
          1.1456457917911098,
          -0.25546718771801447,
          -0.5410679023882627,
          -0.7819940582467423,
          1.2433626898158472,
          -1.9056688741211931,
          -1.121015304944675,
          -0.21938387422390795,
          1.6104633733890483,
          -0.1293079095941855,
          0.017565299981831067,
          -1.4869368821545286,
          0.27633129853100186,
          -1.0691555990330337,
          -0.48649937811937377,
          -2.1336627483224184,
          -0.3642369497791172,
          0.669254676647351,
          -0.16854608493879422,
          1.0463688210249789,
          -0.5723605601515062,
          0.8771235576785358,
          0.510565653025569,
          -0.45034415943799105,
          -0.06023017185268359,
          0.17973027971734049,
          -0.7107280029496584,
          -0.8169197175902134,
          -0.6366228587836208,
          -0.5252950753281753,
          -0.9578634007049253,
          -0.5509078354240531,
          1.4398329925369755,
          -1.337419936978173,
          -1.0804117566030687,
          -1.1116121006641584,
          -0.13875728839595233,
          -0.4569507846455542,
          1.56611413528381,
          -1.7194750130774061,
          -0.2718996545268769,
          0.948788390571128,
          -0.7999759508805111,
          -0.02408394784673429,
          0.748465551516803,
          0.32299962369179613,
          -1.2074295855575086,
          0.14240410060137948,
          1.7691308333958753,
          1.0520929194734163,
          -0.3344801016446649,
          0.24947494094949296,
          1.6936196789699165,
          0.6366263357812674,
          0.23522820186062302,
          -0.9122075044604597,
          -1.055658113425341,
          0.1901290064988771,
          -0.2798911395530404,
          -0.49738446117224394,
          0.30919028646695734,
          0.24574393026920852,
          -0.11022892317292612,
          0.12625207811825312,
          1.4560427297321967,
          0.39305295943630786,
          -1.1645004129082477,
          -0.2748480602229876,
          -0.5094297324834224,
          -0.504227073685646,
          -0.8595711631894118,
          0.518024166157106,
          1.0905481616360124,
          -1.5509623248230182,
          -0.13715785085413226,
          0.18488785210037062,
          -0.14934559001077718,
          -0.6485807804379239,
          -0.2800082145707789,
          -0.495738352201251,
          0.5368524087985644,
          0.30527214894112065,
          0.2499720315521357,
          0.6976556010589907,
          -0.41869251896912046,
          0.673051888020339,
          -0.5233381512182723,
          0.4363144541589812,
          0.10338764515422076,
          0.312357322353493,
          -0.4083366595679278,
          -0.048407873526587784,
          -1.3834286095728132,
          -0.1359424983108254,
          -1.2649293117108409,
          -1.1026714216219071,
          -0.8226928207448906,
          0.49642907830183003,
          -0.4724967939434434,
          -0.1339492252819033,
          1.4998391337156889,
          -0.42316295424403816,
          0.3159500097163397,
          -0.7856276418507018,
          -0.7701031711848749,
          -0.07084919806121832,
          -0.42192703673709114,
          0.42550864213181,
          -2.2010627405749257,
          1.0317479715205948,
          0.9400099783621753,
          0.0027178078099900594,
          0.4327489808604137,
          0.5025041330927924,
          -2.146805296922958,
          1.788864690608627,
          1.7415105755271634,
          -0.9367047663079254,
          0.003597400693042379,
          1.8198910600469351,
          -0.8736399581285614,
          0.43653628717479454,
          1.390954778679128,
          -0.39708515923602894,
          -1.189795978636535,
          0.0031358819501942467,
          -1.3249450524476851,
          1.608284288428968,
          0.19200446695528678,
          -0.720826350654826,
          -0.495311232726259,
          -0.3042937173767855,
          -0.23791190862110514,
          0.08368259653053349,
          0.03177967818044487,
          -1.449442798853009,
          1.171356995322692,
          0.9222820356880602,
          -1.1278590357257108,
          0.7532157882456627,
          1.4034823452218212,
          0.4301231732629988,
          -0.39968727637186513,
          0.21104608895645482,
          -0.18127146530601673,
          -0.25347787674678707,
          -0.25482769617444206,
          -0.07185922948069678,
          -0.767229193660519,
          0.015836024974354775,
          0.052314632410957185,
          -1.0545201128085115,
          -1.196738874469661,
          -1.2126465668290909,
          -0.7827791386171662,
          0.808027589873833,
          -0.2623985741750644,
          -0.4942457046964749,
          -0.6637839034311329,
          1.464517520271835,
          1.3448171545718528,
          0.6011133693175702,
          0.1632201543378181,
          1.2248107799028884,
          0.7994906223988056,
          -0.2161736628371949,
          0.9116688822603318,
          3.902229836629033,
          0.7252182608366325,
          -1.3521321431374147,
          0.4153433825998339,
          -0.5737129011179363,
          -1.6426670020714382,
          -1.804973948145196,
          -1.363915099742037,
          -0.258895043330387,
          0.5382447248850627,
          -0.8358012519654198,
          1.074626388889294,
          2.0742221145360795,
          -1.380729633076403,
          -1.4216607550885543,
          -0.3175480747927612,
          1.3666965768306718,
          0.08871359965887121,
          1.5844371161748085,
          -0.7943909524905459,
          0.9061058209946535,
          1.820799299525298,
          -0.4111218939784008,
          -0.05226160913088098,
          -1.756087939643851,
          1.3959793705903842,
          -1.2278673917493323,
          -1.4882425560288863,
          0.6552215207296921
         ]
        },
        {
         "boxpoints": false,
         "line": {
          "width": 1.3
         },
         "marker": {
          "color": "rgba(50, 171, 96, 1.0)"
         },
         "name": "c",
         "orientation": "v",
         "type": "box",
         "y": [
          -2.712220337912532,
          0.12047862188170955,
          -1.356344955758865,
          -1.4169690055541806,
          -3.7585261023717087,
          -1.845925928961186,
          -1.8192605938145128,
          0.27244245505679987,
          -1.0362372855648307,
          -2.0319207660291485,
          -1.7946776451923112,
          -2.819973071850052,
          -1.2778546874513002,
          -2.125338194776986,
          -0.014003543726880507,
          -1.813564920105569,
          0.3204695854020194,
          -0.04359680562789903,
          0.901484346003889,
          -1.9953111385200946,
          -0.6990722783180142,
          -2.2796320072094147,
          0.5030988921244013,
          0.02858054922045916,
          1.0558300406037078,
          -2.4824605804323325,
          -0.4746150378839603,
          -0.6838333314220516,
          0.5351493183325478,
          -1.5458481012802692,
          1.4260213877925776,
          -1.7975282135636514,
          -2.020809492122967,
          -0.9821245130476395,
          -0.18364855838413607,
          -1.1352206797011788,
          -2.7692816104360913,
          -2.2115942294809035,
          -3.0476913671758683,
          0.2809994377195326,
          -0.5406352675144883,
          0.5053301024326997,
          -1.2286661109522057,
          0.720897905233185,
          2.6571397154975673,
          -2.2143609195991742,
          -0.6963942791309885,
          0.07429861091322776,
          -1.6373813193308255,
          -3.3071307827663974,
          -1.0604934912409314,
          0.3634472163010405,
          -1.9470656638314545,
          0.3050779084554396,
          -1.4284469346738007,
          -0.37510847761061095,
          0.12147461441853902,
          -1.487281340680659,
          -0.12007884386450207,
          -0.23230254883393398,
          -0.5187668016104969,
          -1.0671424745478177,
          -2.403949984800411,
          -2.203243766167697,
          -2.933366046447736,
          -1.0283176302906047,
          -2.2813290019384502,
          1.0956028077453976,
          -0.32317969798861146,
          -1.2499857777181185,
          -1.2423851086569766,
          -1.9260735612676443,
          -0.7912317324969268,
          -1.4179239433146726,
          -1.961408808981567,
          -2.1996216047916684,
          -2.967917436330886,
          -0.8295289509828505,
          -0.2636663706418717,
          -1.2422203319289147,
          -1.150909919436165,
          -1.7941583401478836,
          -1.2790804443938073,
          -2.2100024084864653,
          -0.5951965087180211,
          -1.4662367953290394,
          0.08193125188035144,
          -1.4722587129302966,
          0.998765633979174,
          -0.6774476947022081,
          -2.2697810739168363,
          -2.763937239098584,
          -0.9248912707599555,
          -1.7285701010018637,
          -0.8759538616417701,
          -2.269894719772867,
          -0.8828934614030335,
          -1.683369194575984,
          -1.142679731136562,
          -0.5788684680536771,
          -1.766203059210636,
          -0.6194519229666022,
          0.5319246410385792,
          -1.9687896654330395,
          -2.140873247232973,
          0.03989888363975713,
          -0.5293378797717031,
          -1.7507691419657498,
          -0.26251050675263754,
          0.40738518305207405,
          1.660970700607583,
          -0.9037033305575625,
          -2.0085146329526067,
          -0.041877697427488036,
          -0.32169430141950783,
          -0.8997756794057794,
          -3.14484446202972,
          -0.11435751200913769,
          -1.2737082850093315,
          -3.4656900373671005,
          -0.37937929107982304,
          0.8301212614647762,
          -0.6613143458451674,
          -1.7686930007774737,
          -0.8161893535917867,
          -1.2842867276285554,
          -2.224479148664132,
          0.14363576839177372,
          -1.0678541237507848,
          -0.27884219546716327,
          -0.14778625990498506,
          -1.8261938106242912,
          0.2577587467079858,
          -0.11733441951383083,
          -0.9123997557089496,
          -1.0914032768639372,
          -0.4792205610757917,
          0.034759570659160355,
          -1.7327833610602448,
          -1.3740265937413885,
          -0.7523956280093017,
          -0.4979938715191702,
          0.40659048640957085,
          -1.4421697319266253,
          -1.0314712795019523,
          -0.7326356935405776,
          -0.3525117467441622,
          -0.9282297295696138,
          -1.199820619234458,
          -1.72524638095082,
          -0.16817572433641326,
          -1.1026116969744362,
          -1.345393962507594,
          -1.0465923302637294,
          -2.96930503561181,
          -1.2642747499163856,
          -2.3004187608189457,
          -1.0040750529811635,
          -0.6280156067022835,
          -2.679285805805643,
          -0.25733242997835204,
          -1.464957424276442,
          -1.3859324674497324,
          0.9317586354823295,
          0.27704950642499093,
          -1.6609415075339802,
          -1.5810827927174207,
          -1.0289769864445508,
          -0.28796622261331384,
          0.916190384103929,
          -0.3003404741782023,
          -0.3829717929875137,
          -1.3550056445418315,
          -1.8947391890754388,
          -1.2313955987498206,
          -0.5682433216294508,
          -3.0972788763489025,
          -0.3472674553706714,
          -0.24177882947651264,
          0.2219332988382552,
          -1.3871699129882769,
          -1.2760058846035822,
          -1.2048047194343774,
          0.5488822169686938,
          -0.6815395211939469,
          0.41644934470199324,
          -0.5581057808013276,
          -0.19460725773428367,
          -0.4194297538251833,
          -0.3841013732678018,
          -0.9025784673579966,
          0.17708054025314146,
          0.10162332010331943,
          0.5443435532300609,
          -0.6833585180115477,
          -1.2990251454429365,
          -1.151059153735191,
          -0.13820151660317959,
          -1.4027910629492804,
          -2.4494958867824703,
          -1.5840567448802858,
          0.03507618890669062,
          -0.039549811192250095,
          0.48474386635338806,
          -0.9333170192552525,
          -3.2410218175977605,
          -2.314509159315724,
          -2.3462148052144176,
          -2.3904307823927615,
          -2.188810583912672,
          -1.084465995756426,
          0.8738926738633428,
          0.5685378896659277,
          -2.191035654191782,
          -0.7742168524986275,
          -0.1045852876922545,
          0.24382996250023603,
          -1.3327887504758487,
          -0.9506576764039455,
          -2.4862007733314098,
          -0.6364776911936474,
          -0.376773608989166,
          -0.768104111741641,
          -0.7250269395088776,
          -0.5622718662202296,
          0.5206563149266403,
          -0.4980508920834841,
          -0.35188990566975886,
          -1.1743788740514958,
          -0.49537503964537133,
          -2.640831050983892,
          -0.79451838287527,
          1.2861872179590006,
          -0.9778493593958564,
          -0.15583890087069074,
          -1.3530791806359135,
          -1.4494636759513029,
          1.1820184500490778,
          -1.5303475500927073,
          -0.5377048061295362,
          -0.6953004988065661,
          -1.3037792135932076,
          0.6889134116025419,
          -2.783548728702896,
          -2.1499281251929423,
          -0.868789049699911,
          -2.107909940023359,
          -1.9391474364740953,
          -1.3147463106457686,
          0.10762472628323749,
          -1.4071432211680608,
          -1.3848126684027324,
          -1.8520117612138727,
          -0.2729864410216477,
          -1.9535301234774503,
          0.3817080296000175,
          -0.7912524807724253,
          -1.3070279096584112,
          0.3154856551400642,
          -1.5722072806379421,
          -0.794233692795822,
          0.4793084129213516,
          0.20050106879549645,
          1.373341769440084,
          0.024300308282067418,
          -1.5923765445176086,
          -2.9554834536524606,
          -0.3594081870196869,
          -0.32199014228369394,
          -1.1797196629234912,
          -0.8335857912302196,
          -1.9181480242461295,
          -0.6773792943768072,
          -1.37851652582105,
          -0.32062247770200447,
          -0.07935969304611235,
          -1.2579387437622103,
          -1.0774249847330857,
          -2.4473148236555566,
          0.04478040129170635,
          1.9555389835943946,
          -2.546117073386699,
          -1.5938210095991554,
          -1.0702240679279738,
          -0.12601432260329948,
          -2.4306804833064204,
          -3.046457623496457,
          0.03457506869197302,
          -0.9126273508627714,
          -1.3293201280601896,
          -1.7775194904952962,
          -2.280508564339949,
          -1.3862832144591641,
          0.15138334400062425,
          -1.6098543883406222,
          -0.6730441358904635,
          -0.17830312978262763,
          -1.4376682854471021,
          -1.5811612144334986,
          -3.852428543037999,
          -1.1173878768291432,
          0.3585793671535562,
          -0.5977873790086087,
          -1.0782457343066034,
          0.5462015846297279,
          -2.602187521149351,
          -0.7636884638379241,
          -1.112808408979629,
          -1.5045810200952228,
          -0.7620972756249412,
          -0.786898218868572,
          -1.5174522455967048,
          -1.5819172300453328,
          -1.216281417481298,
          -0.27077895622268844,
          -0.4775110780667622,
          -0.23536575520301228,
          -1.5357365580840718,
          0.7303407081544642,
          -2.143392095698807,
          -0.4230061360982731,
          -1.817620175402142,
          0.05961481888395981,
          -0.9328856166380162,
          -1.678366074677297,
          0.2837925292353889,
          -1.654730243147311,
          -0.9439929926544871,
          -1.1917134557492317,
          0.1507160480822214,
          0.10070566960213045,
          -1.0956954725173824,
          -1.6016391511881491,
          -2.2344032270579497,
          -2.005355179221053,
          -0.7701069557224575,
          -0.18136869109217058,
          -1.135764105093032,
          -3.527254381630708,
          -3.372999712016471,
          -1.6625255614020729,
          0.3262021100310637,
          -1.0099281245631142,
          -2.3862953488114345,
          -1.6408173424447168,
          -0.3421786412102108,
          -1.133527350319767,
          -2.4923331068796513,
          -1.9073216808216906,
          0.02371363818926464,
          -0.15038782346183466,
          -1.3437017337882922,
          -0.30434293791897615,
          0.26217054629434555,
          -0.9452687234326799,
          -2.524496197022656,
          -1.76337982449764,
          -0.08879713236461106,
          -0.3231545164118539,
          -2.198556096700503,
          -1.5196694572726468,
          -0.345660046214321,
          -1.2022816668619714,
          -0.15851815192567897,
          -0.740909896541076,
          -2.743578512882156,
          -1.0026959137835405,
          -2.06654469282258,
          -1.4678986445688509,
          -2.804793279552292,
          -0.3941912822164808,
          -0.690185521106742,
          -0.1014770312486376,
          -0.2896580493584139,
          -0.28816375210920586,
          -0.35790619717433503,
          1.0371847936098635,
          -1.5612173882531533,
          -1.3431668387802205,
          -3.2455015747019385,
          -0.1801864083491621,
          0.08007509447778838,
          -1.1682330600806767,
          -1.049139460420878,
          -0.8035647117493664,
          -0.9286032635803373,
          0.4277540149118695,
          -1.7455587436665412,
          0.438421448067017,
          -0.4451508361701564,
          -1.063563274728162,
          -0.6016179483809663,
          0.018489600533966533,
          0.05060649452434718,
          -1.9294336767050027,
          -0.452406273270483,
          -2.6396398867658744,
          0.9960744807775535,
          -2.4665678999610616,
          -1.371275939822355,
          0.6703366267206996,
          -1.4418277224263043,
          -0.1812140656017951,
          -1.553190260829072,
          -1.978847914601623,
          0.5421273761075089,
          -0.7534859311981961,
          -0.13408895442610735,
          0.5854404238453643,
          -1.3612117161326038,
          -3.776772716474947,
          -0.5181774000050889,
          -2.245839529868812,
          -2.2123092872108563,
          -0.4408396143271459,
          -1.5308290503333688,
          -0.6747233792531483,
          -1.9364005300094096,
          -1.5676838336482615,
          -0.9842846550178627,
          -0.4793879339878896,
          -2.245063029214545,
          -0.9496498212639264,
          -0.41588694752763544,
          -1.5617447772004107,
          -0.49350274749994194,
          -1.5747806574580574,
          -2.7713533950183558,
          -2.9574319220312084,
          -2.121561721156529,
          -0.22580523982983236,
          0.09979245444954454,
          -1.2673520869830128,
          -0.115345761028261,
          -0.24709066012443825,
          -1.7585197342520789,
          -0.8434725823508705,
          -1.5458102589959912,
          0.07979349203784292,
          -0.3405905826527367,
          -1.323965889770657,
          -0.4032754866474164,
          -0.9120228742458074,
          -1.0150604484647965,
          -2.133997922788151,
          0.02797898767067286,
          -0.027976121660561293,
          -1.4575039481522079,
          -2.3310518520581534,
          -2.224751837075363,
          -0.6424324495586549,
          0.9345405662038921,
          -1.4247687226383299,
          -0.27150763379882215,
          -1.670030891672572,
          -1.6013893011042826,
          -0.8798507175752156,
          -3.043412917257176,
          -3.0610034167611397,
          -1.2915943456314198,
          -0.738167136762284,
          0.07774998490049567,
          -3.5251405807551985,
          -2.090536149263761,
          -1.4670284216949627,
          -0.6538369408556991,
          -1.039967760146783,
          -2.3602289549993873,
          -0.962110689443505,
          -2.4991788449564085,
          -1.4547542316183328,
          -2.6084454531202494,
          -0.8115657023962324,
          -2.173411107825445,
          -0.7156545055852476,
          -1.6398793386062218,
          0.2048829344330878,
          -1.1454151116250422,
          -0.385158696696816,
          -0.5487675574065709,
          -0.631010368033844,
          -1.629026983516652,
          0.10856485937651073,
          -1.57935958413029,
          0.6979980660630745,
          -0.6687240159572523,
          -2.0142573524892544,
          -1.0129567719905583,
          -0.6585599570021412,
          -0.6767003886437744,
          0.5237610145278875,
          -1.8294936585836508,
          -1.3841708076575998,
          -1.5151179271296318,
          -0.26947494096882396,
          -1.5065514028547404,
          -1.4948301860701825,
          0.18495017055075214,
          -1.9412538365424048,
          -0.4796240089285473
         ]
        }
       ],
       "layout": {
        "legend": {
         "bgcolor": "#F5F6F9",
         "font": {
          "color": "#4D5663"
         }
        },
        "paper_bgcolor": "#F5F6F9",
        "plot_bgcolor": "#F5F6F9",
        "template": {
         "data": {
          "bar": [
           {
            "error_x": {
             "color": "#2a3f5f"
            },
            "error_y": {
             "color": "#2a3f5f"
            },
            "marker": {
             "line": {
              "color": "#E5ECF6",
              "width": 0.5
             },
             "pattern": {
              "fillmode": "overlay",
              "size": 10,
              "solidity": 0.2
             }
            },
            "type": "bar"
           }
          ],
          "barpolar": [
           {
            "marker": {
             "line": {
              "color": "#E5ECF6",
              "width": 0.5
             },
             "pattern": {
              "fillmode": "overlay",
              "size": 10,
              "solidity": 0.2
             }
            },
            "type": "barpolar"
           }
          ],
          "carpet": [
           {
            "aaxis": {
             "endlinecolor": "#2a3f5f",
             "gridcolor": "white",
             "linecolor": "white",
             "minorgridcolor": "white",
             "startlinecolor": "#2a3f5f"
            },
            "baxis": {
             "endlinecolor": "#2a3f5f",
             "gridcolor": "white",
             "linecolor": "white",
             "minorgridcolor": "white",
             "startlinecolor": "#2a3f5f"
            },
            "type": "carpet"
           }
          ],
          "choropleth": [
           {
            "colorbar": {
             "outlinewidth": 0,
             "ticks": ""
            },
            "type": "choropleth"
           }
          ],
          "contour": [
           {
            "colorbar": {
             "outlinewidth": 0,
             "ticks": ""
            },
            "colorscale": [
             [
              0,
              "#0d0887"
             ],
             [
              0.1111111111111111,
              "#46039f"
             ],
             [
              0.2222222222222222,
              "#7201a8"
             ],
             [
              0.3333333333333333,
              "#9c179e"
             ],
             [
              0.4444444444444444,
              "#bd3786"
             ],
             [
              0.5555555555555556,
              "#d8576b"
             ],
             [
              0.6666666666666666,
              "#ed7953"
             ],
             [
              0.7777777777777778,
              "#fb9f3a"
             ],
             [
              0.8888888888888888,
              "#fdca26"
             ],
             [
              1,
              "#f0f921"
             ]
            ],
            "type": "contour"
           }
          ],
          "contourcarpet": [
           {
            "colorbar": {
             "outlinewidth": 0,
             "ticks": ""
            },
            "type": "contourcarpet"
           }
          ],
          "heatmap": [
           {
            "colorbar": {
             "outlinewidth": 0,
             "ticks": ""
            },
            "colorscale": [
             [
              0,
              "#0d0887"
             ],
             [
              0.1111111111111111,
              "#46039f"
             ],
             [
              0.2222222222222222,
              "#7201a8"
             ],
             [
              0.3333333333333333,
              "#9c179e"
             ],
             [
              0.4444444444444444,
              "#bd3786"
             ],
             [
              0.5555555555555556,
              "#d8576b"
             ],
             [
              0.6666666666666666,
              "#ed7953"
             ],
             [
              0.7777777777777778,
              "#fb9f3a"
             ],
             [
              0.8888888888888888,
              "#fdca26"
             ],
             [
              1,
              "#f0f921"
             ]
            ],
            "type": "heatmap"
           }
          ],
          "heatmapgl": [
           {
            "colorbar": {
             "outlinewidth": 0,
             "ticks": ""
            },
            "colorscale": [
             [
              0,
              "#0d0887"
             ],
             [
              0.1111111111111111,
              "#46039f"
             ],
             [
              0.2222222222222222,
              "#7201a8"
             ],
             [
              0.3333333333333333,
              "#9c179e"
             ],
             [
              0.4444444444444444,
              "#bd3786"
             ],
             [
              0.5555555555555556,
              "#d8576b"
             ],
             [
              0.6666666666666666,
              "#ed7953"
             ],
             [
              0.7777777777777778,
              "#fb9f3a"
             ],
             [
              0.8888888888888888,
              "#fdca26"
             ],
             [
              1,
              "#f0f921"
             ]
            ],
            "type": "heatmapgl"
           }
          ],
          "histogram": [
           {
            "marker": {
             "pattern": {
              "fillmode": "overlay",
              "size": 10,
              "solidity": 0.2
             }
            },
            "type": "histogram"
           }
          ],
          "histogram2d": [
           {
            "colorbar": {
             "outlinewidth": 0,
             "ticks": ""
            },
            "colorscale": [
             [
              0,
              "#0d0887"
             ],
             [
              0.1111111111111111,
              "#46039f"
             ],
             [
              0.2222222222222222,
              "#7201a8"
             ],
             [
              0.3333333333333333,
              "#9c179e"
             ],
             [
              0.4444444444444444,
              "#bd3786"
             ],
             [
              0.5555555555555556,
              "#d8576b"
             ],
             [
              0.6666666666666666,
              "#ed7953"
             ],
             [
              0.7777777777777778,
              "#fb9f3a"
             ],
             [
              0.8888888888888888,
              "#fdca26"
             ],
             [
              1,
              "#f0f921"
             ]
            ],
            "type": "histogram2d"
           }
          ],
          "histogram2dcontour": [
           {
            "colorbar": {
             "outlinewidth": 0,
             "ticks": ""
            },
            "colorscale": [
             [
              0,
              "#0d0887"
             ],
             [
              0.1111111111111111,
              "#46039f"
             ],
             [
              0.2222222222222222,
              "#7201a8"
             ],
             [
              0.3333333333333333,
              "#9c179e"
             ],
             [
              0.4444444444444444,
              "#bd3786"
             ],
             [
              0.5555555555555556,
              "#d8576b"
             ],
             [
              0.6666666666666666,
              "#ed7953"
             ],
             [
              0.7777777777777778,
              "#fb9f3a"
             ],
             [
              0.8888888888888888,
              "#fdca26"
             ],
             [
              1,
              "#f0f921"
             ]
            ],
            "type": "histogram2dcontour"
           }
          ],
          "mesh3d": [
           {
            "colorbar": {
             "outlinewidth": 0,
             "ticks": ""
            },
            "type": "mesh3d"
           }
          ],
          "parcoords": [
           {
            "line": {
             "colorbar": {
              "outlinewidth": 0,
              "ticks": ""
             }
            },
            "type": "parcoords"
           }
          ],
          "pie": [
           {
            "automargin": true,
            "type": "pie"
           }
          ],
          "scatter": [
           {
            "marker": {
             "colorbar": {
              "outlinewidth": 0,
              "ticks": ""
             }
            },
            "type": "scatter"
           }
          ],
          "scatter3d": [
           {
            "line": {
             "colorbar": {
              "outlinewidth": 0,
              "ticks": ""
             }
            },
            "marker": {
             "colorbar": {
              "outlinewidth": 0,
              "ticks": ""
             }
            },
            "type": "scatter3d"
           }
          ],
          "scattercarpet": [
           {
            "marker": {
             "colorbar": {
              "outlinewidth": 0,
              "ticks": ""
             }
            },
            "type": "scattercarpet"
           }
          ],
          "scattergeo": [
           {
            "marker": {
             "colorbar": {
              "outlinewidth": 0,
              "ticks": ""
             }
            },
            "type": "scattergeo"
           }
          ],
          "scattergl": [
           {
            "marker": {
             "colorbar": {
              "outlinewidth": 0,
              "ticks": ""
             }
            },
            "type": "scattergl"
           }
          ],
          "scattermapbox": [
           {
            "marker": {
             "colorbar": {
              "outlinewidth": 0,
              "ticks": ""
             }
            },
            "type": "scattermapbox"
           }
          ],
          "scatterpolar": [
           {
            "marker": {
             "colorbar": {
              "outlinewidth": 0,
              "ticks": ""
             }
            },
            "type": "scatterpolar"
           }
          ],
          "scatterpolargl": [
           {
            "marker": {
             "colorbar": {
              "outlinewidth": 0,
              "ticks": ""
             }
            },
            "type": "scatterpolargl"
           }
          ],
          "scatterternary": [
           {
            "marker": {
             "colorbar": {
              "outlinewidth": 0,
              "ticks": ""
             }
            },
            "type": "scatterternary"
           }
          ],
          "surface": [
           {
            "colorbar": {
             "outlinewidth": 0,
             "ticks": ""
            },
            "colorscale": [
             [
              0,
              "#0d0887"
             ],
             [
              0.1111111111111111,
              "#46039f"
             ],
             [
              0.2222222222222222,
              "#7201a8"
             ],
             [
              0.3333333333333333,
              "#9c179e"
             ],
             [
              0.4444444444444444,
              "#bd3786"
             ],
             [
              0.5555555555555556,
              "#d8576b"
             ],
             [
              0.6666666666666666,
              "#ed7953"
             ],
             [
              0.7777777777777778,
              "#fb9f3a"
             ],
             [
              0.8888888888888888,
              "#fdca26"
             ],
             [
              1,
              "#f0f921"
             ]
            ],
            "type": "surface"
           }
          ],
          "table": [
           {
            "cells": {
             "fill": {
              "color": "#EBF0F8"
             },
             "line": {
              "color": "white"
             }
            },
            "header": {
             "fill": {
              "color": "#C8D4E3"
             },
             "line": {
              "color": "white"
             }
            },
            "type": "table"
           }
          ]
         },
         "layout": {
          "annotationdefaults": {
           "arrowcolor": "#2a3f5f",
           "arrowhead": 0,
           "arrowwidth": 1
          },
          "autotypenumbers": "strict",
          "coloraxis": {
           "colorbar": {
            "outlinewidth": 0,
            "ticks": ""
           }
          },
          "colorscale": {
           "diverging": [
            [
             0,
             "#8e0152"
            ],
            [
             0.1,
             "#c51b7d"
            ],
            [
             0.2,
             "#de77ae"
            ],
            [
             0.3,
             "#f1b6da"
            ],
            [
             0.4,
             "#fde0ef"
            ],
            [
             0.5,
             "#f7f7f7"
            ],
            [
             0.6,
             "#e6f5d0"
            ],
            [
             0.7,
             "#b8e186"
            ],
            [
             0.8,
             "#7fbc41"
            ],
            [
             0.9,
             "#4d9221"
            ],
            [
             1,
             "#276419"
            ]
           ],
           "sequential": [
            [
             0,
             "#0d0887"
            ],
            [
             0.1111111111111111,
             "#46039f"
            ],
            [
             0.2222222222222222,
             "#7201a8"
            ],
            [
             0.3333333333333333,
             "#9c179e"
            ],
            [
             0.4444444444444444,
             "#bd3786"
            ],
            [
             0.5555555555555556,
             "#d8576b"
            ],
            [
             0.6666666666666666,
             "#ed7953"
            ],
            [
             0.7777777777777778,
             "#fb9f3a"
            ],
            [
             0.8888888888888888,
             "#fdca26"
            ],
            [
             1,
             "#f0f921"
            ]
           ],
           "sequentialminus": [
            [
             0,
             "#0d0887"
            ],
            [
             0.1111111111111111,
             "#46039f"
            ],
            [
             0.2222222222222222,
             "#7201a8"
            ],
            [
             0.3333333333333333,
             "#9c179e"
            ],
            [
             0.4444444444444444,
             "#bd3786"
            ],
            [
             0.5555555555555556,
             "#d8576b"
            ],
            [
             0.6666666666666666,
             "#ed7953"
            ],
            [
             0.7777777777777778,
             "#fb9f3a"
            ],
            [
             0.8888888888888888,
             "#fdca26"
            ],
            [
             1,
             "#f0f921"
            ]
           ]
          },
          "colorway": [
           "#636efa",
           "#EF553B",
           "#00cc96",
           "#ab63fa",
           "#FFA15A",
           "#19d3f3",
           "#FF6692",
           "#B6E880",
           "#FF97FF",
           "#FECB52"
          ],
          "font": {
           "color": "#2a3f5f"
          },
          "geo": {
           "bgcolor": "white",
           "lakecolor": "white",
           "landcolor": "#E5ECF6",
           "showlakes": true,
           "showland": true,
           "subunitcolor": "white"
          },
          "hoverlabel": {
           "align": "left"
          },
          "hovermode": "closest",
          "mapbox": {
           "style": "light"
          },
          "paper_bgcolor": "white",
          "plot_bgcolor": "#E5ECF6",
          "polar": {
           "angularaxis": {
            "gridcolor": "white",
            "linecolor": "white",
            "ticks": ""
           },
           "bgcolor": "#E5ECF6",
           "radialaxis": {
            "gridcolor": "white",
            "linecolor": "white",
            "ticks": ""
           }
          },
          "scene": {
           "xaxis": {
            "backgroundcolor": "#E5ECF6",
            "gridcolor": "white",
            "gridwidth": 2,
            "linecolor": "white",
            "showbackground": true,
            "ticks": "",
            "zerolinecolor": "white"
           },
           "yaxis": {
            "backgroundcolor": "#E5ECF6",
            "gridcolor": "white",
            "gridwidth": 2,
            "linecolor": "white",
            "showbackground": true,
            "ticks": "",
            "zerolinecolor": "white"
           },
           "zaxis": {
            "backgroundcolor": "#E5ECF6",
            "gridcolor": "white",
            "gridwidth": 2,
            "linecolor": "white",
            "showbackground": true,
            "ticks": "",
            "zerolinecolor": "white"
           }
          },
          "shapedefaults": {
           "line": {
            "color": "#2a3f5f"
           }
          },
          "ternary": {
           "aaxis": {
            "gridcolor": "white",
            "linecolor": "white",
            "ticks": ""
           },
           "baxis": {
            "gridcolor": "white",
            "linecolor": "white",
            "ticks": ""
           },
           "bgcolor": "#E5ECF6",
           "caxis": {
            "gridcolor": "white",
            "linecolor": "white",
            "ticks": ""
           }
          },
          "title": {
           "x": 0.05
          },
          "xaxis": {
           "automargin": true,
           "gridcolor": "white",
           "linecolor": "white",
           "ticks": "",
           "title": {
            "standoff": 15
           },
           "zerolinecolor": "white",
           "zerolinewidth": 2
          },
          "yaxis": {
           "automargin": true,
           "gridcolor": "white",
           "linecolor": "white",
           "ticks": "",
           "title": {
            "standoff": 15
           },
           "zerolinecolor": "white",
           "zerolinewidth": 2
          }
         }
        },
        "title": {
         "font": {
          "color": "#4D5663"
         }
        },
        "xaxis": {
         "gridcolor": "#E1E5ED",
         "showgrid": true,
         "tickfont": {
          "color": "#4D5663"
         },
         "title": {
          "font": {
           "color": "#4D5663"
          },
          "text": ""
         },
         "zerolinecolor": "#E1E5ED"
        },
        "yaxis": {
         "gridcolor": "#E1E5ED",
         "showgrid": true,
         "tickfont": {
          "color": "#4D5663"
         },
         "title": {
          "font": {
           "color": "#4D5663"
          },
          "text": ""
         },
         "zerolinecolor": "#E1E5ED"
        }
       }
      },
      "text/html": [
       "<div>                            <div id=\"87fb2669-8742-44c1-a326-2448a22f1913\" class=\"plotly-graph-div\" style=\"height:525px; width:100%;\"></div>            <script type=\"text/javascript\">                require([\"plotly\"], function(Plotly) {                    window.PLOTLYENV=window.PLOTLYENV || {};                                    if (document.getElementById(\"87fb2669-8742-44c1-a326-2448a22f1913\")) {                    Plotly.newPlot(                        \"87fb2669-8742-44c1-a326-2448a22f1913\",                        [{\"boxpoints\":false,\"line\":{\"width\":1.3},\"marker\":{\"color\":\"rgba(255, 153, 51, 1.0)\"},\"name\":\"a\",\"orientation\":\"v\",\"y\":[2.9445523142121415,0.8936398144639659,1.237437536522542,2.5135085673521385,2.2163780620549782,1.5203934968113972,1.226915996222895,1.9066280063289534,1.095541914076439,1.8806050799658725,2.2890858535709544,-0.46371966155580435,0.9547869570412605,0.7231025121339334,1.0939890763137732,0.7472776796438079,0.2577780167892155,2.2715353657148096,1.7464656635393836,0.14447553615287567,0.6707151663408327,1.0180686833200159,0.6557752717864367,3.302044405606281,1.2662833614645752,1.5998515591169975,0.5095915902716013,0.40755773534680184,1.094947239436555,0.5436117593838807,0.06307645759886427,1.8852693305678034,1.114198778729608,-0.6424571645807944,1.4389142412568179,0.9116253477589045,2.4872807683669285,0.43952836010714114,0.22896414931050957,0.8635403859154591,1.657124784521415,2.654533086700031,1.3682242731530405,1.112856540993131,0.9726616236539031,0.6147413093567431,0.23511008646719822,1.469026897988749,1.1432258179946413,1.4780639271397964,-0.31000528046819054,0.28144939424235105,-0.8893334389170477,0.7384016023848241,0.4734898023716315,0.3703494950445566,3.1420901488375104,0.02476039671219621,-2.206288938692641,2.22028115461151,2.3421451755743408,0.5371367605580165,-0.06131417576790832,0.982471278913039,3.0686843156198322,0.7894684440104949,0.2554603182342092,1.1893040580570942,2.1152620769066943,1.63900460428096,0.06805311849877238,0.9444483335898243,3.051878697839374,1.037361892595355,-0.4347801400193687,1.020051211659248,0.8929195672990301,3.1072637817958078,1.352664746718062,1.653208359775244,1.361882663629345,0.28422936367003304,-0.07756113625028083,0.30780747170226264,1.603073989756466,0.9141495222358289,2.666863385985457,1.8739353321968664,0.06299196073161362,0.8330576389935376,2.1620021719340645,2.464483206629855,1.6439891153838941,1.9143042331259172,0.29804115092310624,-0.36941598277884524,1.0656180572878544,1.4277606000105918,0.2403258021352006,1.1658874447173009,-0.8817602408371448,1.4815757786378931,0.7771482714132653,3.0009488498935584,0.4466225269177092,0.3447798864721132,0.21859626526895604,2.7440698717178895,0.580580084897702,0.4958661577244228,1.2096884658090064,1.2940504791645,0.4989350874754155,0.47476135348336246,1.351386807781593,-0.06309560047847951,0.6172678972423638,0.45226008469392587,0.6529236856400031,2.294222921710916,1.0253943541133612,0.9909210928543977,1.5594618906966402,0.8373734883805463,2.037565447547001,1.0960590979538591,3.945268737508589,0.093051565669929,1.543345595025087,0.3729180926650487,3.5237647058168418,2.301714988216547,0.6152803816531791,1.3097833847045193,0.1888910864725124,-0.38041752781906624,1.003751658158364,0.9733304413188907,2.1266610221753273,1.0973385820919022,0.876752735700705,0.9942279989579086,0.5521565388046963,2.1405484197394724,0.2349854231288251,1.8990637535981334,2.4389732992434823,1.4105118107282306,1.0318846091124536,0.6407666329706506,0.8170972743831917,1.067622043269769,1.3685370368608192,3.419313069132271,1.0368307772965908,1.5024532707604714,0.9803158397593517,-0.5280482502770856,1.262969065353499,2.157489769499582,2.4424836338627003,1.7096943606603452,0.622084274982108,0.5243379378326095,1.2331626547061523,0.8032057879849369,0.4055052221800196,1.6580296866540642,-1.242299051931394,1.3679765611550174,1.142472143788035,1.9031279451187952,0.7515038726141943,-0.5488351578273791,-0.37052265058072753,-0.4257900282541469,0.7911213221105694,0.3458603189438578,0.9294831151726547,-1.232791325087227,1.083300014177082,-0.17756538678722644,0.08559291608772157,-0.46581475533958083,1.799479995873571,1.752242441683642,0.9730464057374252,-0.07609636924175134,0.6875124854439085,-0.10813173659511488,1.3014650577916904,1.9066079884929121,-0.6256573697709613,0.8503592731509328,1.5493210094395415,2.5763176408939925,-0.14235402956288268,1.1765388801336079,1.8233800002489782,2.588535438350241,2.1425187587098886,-0.9811021999299583,1.153975034772095,-0.725894246482766,0.9545494531359213,1.7473686091414995,1.4758365887796705,-2.4156077779213927,-0.0036867214358380362,1.6358474011125905,2.3152028476206556,0.7561508918614863,0.10983366966065411,-0.1437264473622899,0.8309076550162455,0.9865821118992011,2.020938047314714,-0.5203301044251163,2.447028747669212,1.4592977789472095,0.08640099199182816,0.3836122854747447,2.1396140164564166,0.2977468005470172,0.43738497877768856,0.9330475036118999,1.0708175430495777,0.31047020874304865,0.005777388364799352,-0.24619480492005663,1.644634378923191,-0.23219863873259028,2.2063150263564952,0.09392488522904263,-0.20382005699435224,2.3236807306770073,1.0525852185605677,1.375203941939659,0.6328213900942916,2.4780828464786193,2.1904641140890027,1.8264848190103469,1.2839942477874215,-0.18402997792359854,-0.710323630739194,1.2232306193281333,-0.8991385609298768,1.3465780026712826,1.3744342243911998,1.5432274541714226,0.5744676215840077,0.4989374863561947,1.4533734110812653,0.1600396754281298,-0.03664446713353775,1.485874632564502,-0.7000868360196872,2.0394384354886155,-0.03745015514925498,-1.7224619066534506,1.8843748654274615,2.890113564110833,0.9127151432588846,1.9385066647768814,0.5370294276004668,0.06633570708024927,1.0121522076232112,2.8419192087233505,-0.14441361425537647,-0.08728570927466417,2.7734709772690467,0.3433465565217566,1.8448894401246179,0.01759300440515721,0.620455335626583,3.1674296287911656,-0.2308303159415439,-0.33569826700761074,-0.7150854503326227,0.45339881438512875,1.6230540347545233,0.07736012888901478,0.2148041007087167,1.4259332344334168,1.4577523485055939,2.3661382945551157,1.30930629826687,0.1299268289500557,0.3914985628491261,1.4833204003876013,2.0422281068348243,-0.46835807548733377,1.652501807932635,-0.17291118239913916,-0.1691000945340242,-0.7296577384206802,0.614942368885713,0.6223848735620512,-1.3864341762594212,0.6787420810051226,0.8762325344282104,-0.17328284167397268,0.66907145593396,0.44567817219326844,1.3536896920775503,-0.014255935716038781,0.07765594120801345,0.7727758843856595,1.9091085327153043,1.475767494469593,1.5368811836667435,1.4055527482782275,0.7645388734207734,0.9243425190000727,1.5926744172451466,0.7573289307690523,0.9049376604463327,1.930769499906853,1.3404896690873,0.7398660900737493,0.2727283959629212,-0.0768456222758942,1.553266037643148,2.2512984811561942,0.9941376954749002,1.0936246416440711,2.891612778024017,0.008868419963934948,2.8522204925595895,0.16976357126343844,1.3300316124376108,1.614372881795362,-0.0675356821035693,0.6844902284996843,1.319616922087131,1.939752887844315,1.9180948651502407,0.3336123588567269,-0.3198443538713296,2.1340956789553998,1.474613834134908,1.0388635539777458,1.2079921830740832,-0.8778115150237618,1.547315881383243,0.10701896982345338,-0.8671667770087406,0.6951709512996991,0.3840502321398199,1.4108817171025816,0.20602984581808492,-1.2232216055316165,-0.08592676172261338,-1.6221068752388277,2.539005920841698,4.471866722210318,0.7219202880908957,2.398678356415152,2.668934646432521,-2.5769414589268878,3.162730411288452,2.1443793138885807,0.9397330795689844,2.0673389408029905,1.3736310718334905,0.7070404432662061,2.8890133235782196,1.5838852828122145,0.000691236488026381,0.5869881871830855,1.9683001473956314,0.7234601008831196,-0.33464698853357167,1.0204130813711498,0.18779298368237118,0.8793250213060164,1.35396385476023,1.414962326714253,1.3277429293148246,1.7811588844729564,0.5433678729909364,0.42961166050385013,0.549983336996145,1.4522714813162556,1.5425383733430236,2.4642940825150834,0.6604044553268322,0.3742214982330263,0.34797788397593354,2.5674241560774327,1.8655557498009836,0.5959450150675774,1.5632159761775957,-0.04607272320381539,0.3545855554078493,-0.3237932712485858,0.4425766198268686,-0.23565338496755528,0.29658909161183045,-0.22981464233544813,0.2076639171839476,2.133925614003342,-0.9400442652904035,-0.21521399727377455,0.02800500323900934,1.1947584468099104,2.263217916703553,-0.1603259196333322,-0.02088243781828525,0.5535477440350516,-0.2676571360061848,0.7964794331762645,-0.24242939801437213,0.6045336696618422,0.07793077032870155,-0.704152349800363,0.4906538755422951,1.2916370882856527,-0.6606887559092298,1.7729414654876687,-1.3485992052426288,1.0478288455465075,0.4856095859685431,-0.1349599901514411,1.413833490105615,1.5356270629484015,-0.6522727850416641,1.9512005638530439,0.1671433130765615,1.4359982845015316,2.1824535127594116,0.25287943679249525,1.2494016316146501,-0.6912027535418694,2.3360815751099064,0.81769552282242,2.0499163911809486,1.2401076866856762,2.478529191894336,0.8737170387714224,0.7935778767988327,0.6788197664449969,0.7745362355961641,2.158295029397511,2.2115832114783,-0.8339680544672723,0.43744991731933036,1.5184098078516917,0.9302983669151433,0.6048298387715785,1.8393904348370311,3.2003617931876494,0.283530241865532,2.6991474832656013,1.9532368894715308,0.24718933998927328,0.5143736121209532,1.1415543607026863,1.7968730252835572,0.14515616286901378,2.7899297063492527,1.4736028069233045,1.124895651069249,1.9216266317992186,2.6951727083322568,1.7950339878858712,1.4006497207610973,2.315090509141048,1.687323808099055,1.1231903004857837,1.1992888766554914,1.0599734643689576,2.515694334146324,2.41636252853609,-0.08821769886013997,0.5503186600959757,1.9858410111982607,-0.18655197639013776,-0.009377474860695179,1.5282226571391577,-0.9546773338143126,1.0665323090703918,0.9008112913782003,1.0407452235023165,1.7643306590263235,0.927966609595036,-0.2935005357164071,3.138946474922379,1.130669225222724,1.4299817116462292,-0.7454938028813236,2.0005700563319166,0.012166907649303393,0.6736900329004258,2.130064246738295,1.6903373699606719,-0.4829282903572576,2.3738267818398304,0.43312878943807653,1.252248566157805],\"type\":\"box\"},{\"boxpoints\":false,\"line\":{\"width\":1.3},\"marker\":{\"color\":\"rgba(55, 128, 191, 1.0)\"},\"name\":\"b\",\"orientation\":\"v\",\"y\":[0.6140041860112088,0.6011143198910099,-1.4048273360114276,-0.20171968794122916,-0.13762310803912203,0.7584167241321225,1.1582908220324355,-1.5042414087565028,-0.5313703346868874,-0.05499028403627102,-0.278269055519851,1.540666450201908,-1.3372437122283427,0.7222894103042771,-0.06639487436538506,-0.36429453545618434,0.6347679646932605,-0.2790896179466878,0.6750556182958177,1.3836766054505116,1.3835954356079738,-0.15938652509700954,0.49886467011000546,0.9420468801008787,0.7871752990356272,0.16877551422971354,-0.4002782249492147,0.15365528566084916,1.4935269380017961,0.9897587738183454,-0.11742158744517875,0.6127043854776124,0.6861519397245238,-0.21850338537319433,-1.4621396741745007,-0.42877499940700775,1.1594526977297726,-0.43482237837958043,0.28201138927304614,0.46377733317427106,1.296116907560316,-1.266585500327303,0.25321676762302314,1.669293115012108,-0.7182158673139849,0.07879569614677266,0.2529892027346888,1.985370545506263,-0.47811196318198157,-2.046943024895031,1.511760041697942,1.804686449408406,0.08791469919742563,-0.9822799775542526,1.6492245848889244,1.136190423528202,-0.8065067292550112,1.766917362024378,1.6065917335992048,0.4586547492368775,-0.10244334943985389,1.2431675421157407,-1.5503631882945255,0.26106861254888536,-1.3163946149067054,0.22486534102039502,2.182976743426501,-1.1727491061248074,-1.263713670545322,-0.036692736817397,-1.4088687051368236,1.269768666824066,-0.5922128468674878,1.661947114268446,0.2524806451869489,-0.6136859641376463,-0.3855241076158843,-1.0132379640827636,0.8629466284256727,0.35400677939151537,-0.5761479739876897,-1.43806201573666,2.26904784553591,0.8200298675216332,-0.061328146332157135,-0.12447323544544943,-0.17096300156193195,0.6200583686471088,-0.261011389907288,0.2168905782471042,-0.4647265070388179,-0.5806883332069283,3.058328380958346,-0.04277651153901738,-0.3287068771675042,0.7936421018099471,1.3564114304452417,-1.0500006510103004,-0.08626068198900921,2.2447991529151157,0.09649465695009964,-1.0444473146949445,-0.4930093818800953,-2.5936676161798795,-0.851373782948533,0.5984704831575052,-0.06699825642594189,0.27389735592739783,2.13288588778984,-1.6347445294967722,-0.7049741672162232,0.6366780644638734,-0.45669962028810307,1.0347523119359139,1.071223740747887,1.7008725815472796,-0.2914924138994487,-1.9414369021916975,-1.2001557024045373,0.5814964444329136,-1.8625183091160418,0.2093577728262809,-1.0049980176028135,1.1975516125908532,-0.09562305250217516,-1.3038487724390746,0.5714403669403416,-0.1512549140298337,0.6514355235965352,-0.5489794284367402,0.35904458168877357,-1.3035474734975068,1.824027129663336,-0.45001165472009613,-1.836683054362937,-0.22076861035809398,1.3897692597475886,-0.27060045854072456,-0.8966595243771915,-0.19320948142269734,-0.67169153778742,0.02481227315504937,1.1824345695058185,0.4508019443141031,0.21072121432417895,2.1708122167824593,1.5870397543344423,2.1423251966744057,-1.2296695250796719,0.7624225015354823,-0.34499997849086855,0.33520979187623606,-0.15556236921814715,-0.8247971970276687,-1.2873723628939675,-0.4952830436285387,1.1523969891878532,-0.36744655926042263,-0.3943317020758032,-0.3483884864002464,-0.4356896373382403,0.8773400474881343,-0.15335362795709903,-0.18516041549306994,0.4333884010579354,-0.25716213812128635,1.7541114046299209,-0.09127377567883513,0.6073698341725335,-0.8321552370024459,0.6745599559968414,-0.5888992626624414,-0.6539675865231847,0.5726520365913519,-1.2814623140393402,-0.40633082885595795,0.7749480599520198,2.037314267323697,-0.4719418729068831,-0.3951420866485383,-1.2124655347638136,-0.9497320359662494,-0.8942099765415098,-0.24808691957139392,-0.5637462273178099,1.2298746930380882,0.17580839152281247,1.4460887518049912,0.4831057989378585,-1.706562525123076,-0.41473976100564763,-0.031773614109311864,-0.6636650331701961,-0.4044458385275715,-0.6228916240453328,1.0785952903542189,0.49027723586812777,-0.4298359824391453,0.5059761297958137,0.0408574844323819,0.6845493403840079,0.47725064091789293,1.16934768329822,1.671550407744623,0.13689771039694004,-1.114339182203308,-0.015201175455992819,0.08085130273801741,1.7463999566366086,0.05895211310268005,-0.3520493713961544,0.9133002798286892,-0.429094621199731,1.3711499001642444,-1.0998951926895437,0.11483994665109958,0.8591382602896361,0.8766435426160732,0.5597619030036832,-0.983564282207203,-1.484737781618607,0.3042449596761312,0.085708111983932,-0.24394092741952392,0.7351063036319458,0.9341144608097709,-1.0396704727320876,-0.13460376929644172,-1.023579958148164,-0.29807313110260114,-0.08942087001779955,0.3833234903752413,1.2735231535739415,0.2666278848001388,0.1268722936094674,-1.0413148624524549,0.9326225597667734,0.3766484386465826,0.6615326523712936,1.151061198992994,0.40443743298339957,0.31300705637693244,-0.8901709346362691,0.8578124978762912,-0.39481490140844994,-1.3002003081767772,-0.12706315378757782,0.0011747802360484,-0.9817667355804058,-0.8227651141125725,0.7610376077937611,1.4288843921680683,1.0339197208357132,1.9140731623272786,0.12522193137179055,-0.7193380223977963,0.18633032448089093,0.33805007353287597,-0.7094082174604771,-0.3977581904115866,-1.9939687611866057,-0.5896040684092643,-0.08203621773693526,-1.1020303445785142,-1.2040215362513764,1.3341628896260405,1.5829039790404011,0.3357427547562678,-0.4938584342908103,0.5810671982560971,0.8735201421138254,-1.5116341216211715,-0.9743608233677842,0.7002993095886246,-0.6514152537655046,0.6112806009668499,-0.3728478993073609,0.3254313118540776,0.9615229342482484,-0.864846153393121,0.4596816169785188,-0.4320169158328269,-1.4663844044729892,0.5761815196562664,-0.22693914082054834,-0.9927541955560784,1.9946067575274549,1.5589425026755495,-0.22045817343204147,-0.17879919194639263,1.5586341220193025,-1.005872853678804,0.5667608720729612,0.9046324708033201,0.27231294464419087,-0.1643650810963187,0.07057537019462026,1.5344131206828182,-1.2232522233656555,1.2350989545104771,0.41994664057705455,-0.22134015654903114,-0.6173292582678362,1.7565259818019194,1.1456457917911098,-0.25546718771801447,-0.5410679023882627,-0.7819940582467423,1.2433626898158472,-1.9056688741211931,-1.121015304944675,-0.21938387422390795,1.6104633733890483,-0.1293079095941855,0.017565299981831067,-1.4869368821545286,0.27633129853100186,-1.0691555990330337,-0.48649937811937377,-2.1336627483224184,-0.3642369497791172,0.669254676647351,-0.16854608493879422,1.0463688210249789,-0.5723605601515062,0.8771235576785358,0.510565653025569,-0.45034415943799105,-0.06023017185268359,0.17973027971734049,-0.7107280029496584,-0.8169197175902134,-0.6366228587836208,-0.5252950753281753,-0.9578634007049253,-0.5509078354240531,1.4398329925369755,-1.337419936978173,-1.0804117566030687,-1.1116121006641584,-0.13875728839595233,-0.4569507846455542,1.56611413528381,-1.7194750130774061,-0.2718996545268769,0.948788390571128,-0.7999759508805111,-0.02408394784673429,0.748465551516803,0.32299962369179613,-1.2074295855575086,0.14240410060137948,1.7691308333958753,1.0520929194734163,-0.3344801016446649,0.24947494094949296,1.6936196789699165,0.6366263357812674,0.23522820186062302,-0.9122075044604597,-1.055658113425341,0.1901290064988771,-0.2798911395530404,-0.49738446117224394,0.30919028646695734,0.24574393026920852,-0.11022892317292612,0.12625207811825312,1.4560427297321967,0.39305295943630786,-1.1645004129082477,-0.2748480602229876,-0.5094297324834224,-0.504227073685646,-0.8595711631894118,0.518024166157106,1.0905481616360124,-1.5509623248230182,-0.13715785085413226,0.18488785210037062,-0.14934559001077718,-0.6485807804379239,-0.2800082145707789,-0.495738352201251,0.5368524087985644,0.30527214894112065,0.2499720315521357,0.6976556010589907,-0.41869251896912046,0.673051888020339,-0.5233381512182723,0.4363144541589812,0.10338764515422076,0.312357322353493,-0.4083366595679278,-0.048407873526587784,-1.3834286095728132,-0.1359424983108254,-1.2649293117108409,-1.1026714216219071,-0.8226928207448906,0.49642907830183003,-0.4724967939434434,-0.1339492252819033,1.4998391337156889,-0.42316295424403816,0.3159500097163397,-0.7856276418507018,-0.7701031711848749,-0.07084919806121832,-0.42192703673709114,0.42550864213181,-2.2010627405749257,1.0317479715205948,0.9400099783621753,0.0027178078099900594,0.4327489808604137,0.5025041330927924,-2.146805296922958,1.788864690608627,1.7415105755271634,-0.9367047663079254,0.003597400693042379,1.8198910600469351,-0.8736399581285614,0.43653628717479454,1.390954778679128,-0.39708515923602894,-1.189795978636535,0.0031358819501942467,-1.3249450524476851,1.608284288428968,0.19200446695528678,-0.720826350654826,-0.495311232726259,-0.3042937173767855,-0.23791190862110514,0.08368259653053349,0.03177967818044487,-1.449442798853009,1.171356995322692,0.9222820356880602,-1.1278590357257108,0.7532157882456627,1.4034823452218212,0.4301231732629988,-0.39968727637186513,0.21104608895645482,-0.18127146530601673,-0.25347787674678707,-0.25482769617444206,-0.07185922948069678,-0.767229193660519,0.015836024974354775,0.052314632410957185,-1.0545201128085115,-1.196738874469661,-1.2126465668290909,-0.7827791386171662,0.808027589873833,-0.2623985741750644,-0.4942457046964749,-0.6637839034311329,1.464517520271835,1.3448171545718528,0.6011133693175702,0.1632201543378181,1.2248107799028884,0.7994906223988056,-0.2161736628371949,0.9116688822603318,3.902229836629033,0.7252182608366325,-1.3521321431374147,0.4153433825998339,-0.5737129011179363,-1.6426670020714382,-1.804973948145196,-1.363915099742037,-0.258895043330387,0.5382447248850627,-0.8358012519654198,1.074626388889294,2.0742221145360795,-1.380729633076403,-1.4216607550885543,-0.3175480747927612,1.3666965768306718,0.08871359965887121,1.5844371161748085,-0.7943909524905459,0.9061058209946535,1.820799299525298,-0.4111218939784008,-0.05226160913088098,-1.756087939643851,1.3959793705903842,-1.2278673917493323,-1.4882425560288863,0.6552215207296921],\"type\":\"box\"},{\"boxpoints\":false,\"line\":{\"width\":1.3},\"marker\":{\"color\":\"rgba(50, 171, 96, 1.0)\"},\"name\":\"c\",\"orientation\":\"v\",\"y\":[-2.712220337912532,0.12047862188170955,-1.356344955758865,-1.4169690055541806,-3.7585261023717087,-1.845925928961186,-1.8192605938145128,0.27244245505679987,-1.0362372855648307,-2.0319207660291485,-1.7946776451923112,-2.819973071850052,-1.2778546874513002,-2.125338194776986,-0.014003543726880507,-1.813564920105569,0.3204695854020194,-0.04359680562789903,0.901484346003889,-1.9953111385200946,-0.6990722783180142,-2.2796320072094147,0.5030988921244013,0.02858054922045916,1.0558300406037078,-2.4824605804323325,-0.4746150378839603,-0.6838333314220516,0.5351493183325478,-1.5458481012802692,1.4260213877925776,-1.7975282135636514,-2.020809492122967,-0.9821245130476395,-0.18364855838413607,-1.1352206797011788,-2.7692816104360913,-2.2115942294809035,-3.0476913671758683,0.2809994377195326,-0.5406352675144883,0.5053301024326997,-1.2286661109522057,0.720897905233185,2.6571397154975673,-2.2143609195991742,-0.6963942791309885,0.07429861091322776,-1.6373813193308255,-3.3071307827663974,-1.0604934912409314,0.3634472163010405,-1.9470656638314545,0.3050779084554396,-1.4284469346738007,-0.37510847761061095,0.12147461441853902,-1.487281340680659,-0.12007884386450207,-0.23230254883393398,-0.5187668016104969,-1.0671424745478177,-2.403949984800411,-2.203243766167697,-2.933366046447736,-1.0283176302906047,-2.2813290019384502,1.0956028077453976,-0.32317969798861146,-1.2499857777181185,-1.2423851086569766,-1.9260735612676443,-0.7912317324969268,-1.4179239433146726,-1.961408808981567,-2.1996216047916684,-2.967917436330886,-0.8295289509828505,-0.2636663706418717,-1.2422203319289147,-1.150909919436165,-1.7941583401478836,-1.2790804443938073,-2.2100024084864653,-0.5951965087180211,-1.4662367953290394,0.08193125188035144,-1.4722587129302966,0.998765633979174,-0.6774476947022081,-2.2697810739168363,-2.763937239098584,-0.9248912707599555,-1.7285701010018637,-0.8759538616417701,-2.269894719772867,-0.8828934614030335,-1.683369194575984,-1.142679731136562,-0.5788684680536771,-1.766203059210636,-0.6194519229666022,0.5319246410385792,-1.9687896654330395,-2.140873247232973,0.03989888363975713,-0.5293378797717031,-1.7507691419657498,-0.26251050675263754,0.40738518305207405,1.660970700607583,-0.9037033305575625,-2.0085146329526067,-0.041877697427488036,-0.32169430141950783,-0.8997756794057794,-3.14484446202972,-0.11435751200913769,-1.2737082850093315,-3.4656900373671005,-0.37937929107982304,0.8301212614647762,-0.6613143458451674,-1.7686930007774737,-0.8161893535917867,-1.2842867276285554,-2.224479148664132,0.14363576839177372,-1.0678541237507848,-0.27884219546716327,-0.14778625990498506,-1.8261938106242912,0.2577587467079858,-0.11733441951383083,-0.9123997557089496,-1.0914032768639372,-0.4792205610757917,0.034759570659160355,-1.7327833610602448,-1.3740265937413885,-0.7523956280093017,-0.4979938715191702,0.40659048640957085,-1.4421697319266253,-1.0314712795019523,-0.7326356935405776,-0.3525117467441622,-0.9282297295696138,-1.199820619234458,-1.72524638095082,-0.16817572433641326,-1.1026116969744362,-1.345393962507594,-1.0465923302637294,-2.96930503561181,-1.2642747499163856,-2.3004187608189457,-1.0040750529811635,-0.6280156067022835,-2.679285805805643,-0.25733242997835204,-1.464957424276442,-1.3859324674497324,0.9317586354823295,0.27704950642499093,-1.6609415075339802,-1.5810827927174207,-1.0289769864445508,-0.28796622261331384,0.916190384103929,-0.3003404741782023,-0.3829717929875137,-1.3550056445418315,-1.8947391890754388,-1.2313955987498206,-0.5682433216294508,-3.0972788763489025,-0.3472674553706714,-0.24177882947651264,0.2219332988382552,-1.3871699129882769,-1.2760058846035822,-1.2048047194343774,0.5488822169686938,-0.6815395211939469,0.41644934470199324,-0.5581057808013276,-0.19460725773428367,-0.4194297538251833,-0.3841013732678018,-0.9025784673579966,0.17708054025314146,0.10162332010331943,0.5443435532300609,-0.6833585180115477,-1.2990251454429365,-1.151059153735191,-0.13820151660317959,-1.4027910629492804,-2.4494958867824703,-1.5840567448802858,0.03507618890669062,-0.039549811192250095,0.48474386635338806,-0.9333170192552525,-3.2410218175977605,-2.314509159315724,-2.3462148052144176,-2.3904307823927615,-2.188810583912672,-1.084465995756426,0.8738926738633428,0.5685378896659277,-2.191035654191782,-0.7742168524986275,-0.1045852876922545,0.24382996250023603,-1.3327887504758487,-0.9506576764039455,-2.4862007733314098,-0.6364776911936474,-0.376773608989166,-0.768104111741641,-0.7250269395088776,-0.5622718662202296,0.5206563149266403,-0.4980508920834841,-0.35188990566975886,-1.1743788740514958,-0.49537503964537133,-2.640831050983892,-0.79451838287527,1.2861872179590006,-0.9778493593958564,-0.15583890087069074,-1.3530791806359135,-1.4494636759513029,1.1820184500490778,-1.5303475500927073,-0.5377048061295362,-0.6953004988065661,-1.3037792135932076,0.6889134116025419,-2.783548728702896,-2.1499281251929423,-0.868789049699911,-2.107909940023359,-1.9391474364740953,-1.3147463106457686,0.10762472628323749,-1.4071432211680608,-1.3848126684027324,-1.8520117612138727,-0.2729864410216477,-1.9535301234774503,0.3817080296000175,-0.7912524807724253,-1.3070279096584112,0.3154856551400642,-1.5722072806379421,-0.794233692795822,0.4793084129213516,0.20050106879549645,1.373341769440084,0.024300308282067418,-1.5923765445176086,-2.9554834536524606,-0.3594081870196869,-0.32199014228369394,-1.1797196629234912,-0.8335857912302196,-1.9181480242461295,-0.6773792943768072,-1.37851652582105,-0.32062247770200447,-0.07935969304611235,-1.2579387437622103,-1.0774249847330857,-2.4473148236555566,0.04478040129170635,1.9555389835943946,-2.546117073386699,-1.5938210095991554,-1.0702240679279738,-0.12601432260329948,-2.4306804833064204,-3.046457623496457,0.03457506869197302,-0.9126273508627714,-1.3293201280601896,-1.7775194904952962,-2.280508564339949,-1.3862832144591641,0.15138334400062425,-1.6098543883406222,-0.6730441358904635,-0.17830312978262763,-1.4376682854471021,-1.5811612144334986,-3.852428543037999,-1.1173878768291432,0.3585793671535562,-0.5977873790086087,-1.0782457343066034,0.5462015846297279,-2.602187521149351,-0.7636884638379241,-1.112808408979629,-1.5045810200952228,-0.7620972756249412,-0.786898218868572,-1.5174522455967048,-1.5819172300453328,-1.216281417481298,-0.27077895622268844,-0.4775110780667622,-0.23536575520301228,-1.5357365580840718,0.7303407081544642,-2.143392095698807,-0.4230061360982731,-1.817620175402142,0.05961481888395981,-0.9328856166380162,-1.678366074677297,0.2837925292353889,-1.654730243147311,-0.9439929926544871,-1.1917134557492317,0.1507160480822214,0.10070566960213045,-1.0956954725173824,-1.6016391511881491,-2.2344032270579497,-2.005355179221053,-0.7701069557224575,-0.18136869109217058,-1.135764105093032,-3.527254381630708,-3.372999712016471,-1.6625255614020729,0.3262021100310637,-1.0099281245631142,-2.3862953488114345,-1.6408173424447168,-0.3421786412102108,-1.133527350319767,-2.4923331068796513,-1.9073216808216906,0.02371363818926464,-0.15038782346183466,-1.3437017337882922,-0.30434293791897615,0.26217054629434555,-0.9452687234326799,-2.524496197022656,-1.76337982449764,-0.08879713236461106,-0.3231545164118539,-2.198556096700503,-1.5196694572726468,-0.345660046214321,-1.2022816668619714,-0.15851815192567897,-0.740909896541076,-2.743578512882156,-1.0026959137835405,-2.06654469282258,-1.4678986445688509,-2.804793279552292,-0.3941912822164808,-0.690185521106742,-0.1014770312486376,-0.2896580493584139,-0.28816375210920586,-0.35790619717433503,1.0371847936098635,-1.5612173882531533,-1.3431668387802205,-3.2455015747019385,-0.1801864083491621,0.08007509447778838,-1.1682330600806767,-1.049139460420878,-0.8035647117493664,-0.9286032635803373,0.4277540149118695,-1.7455587436665412,0.438421448067017,-0.4451508361701564,-1.063563274728162,-0.6016179483809663,0.018489600533966533,0.05060649452434718,-1.9294336767050027,-0.452406273270483,-2.6396398867658744,0.9960744807775535,-2.4665678999610616,-1.371275939822355,0.6703366267206996,-1.4418277224263043,-0.1812140656017951,-1.553190260829072,-1.978847914601623,0.5421273761075089,-0.7534859311981961,-0.13408895442610735,0.5854404238453643,-1.3612117161326038,-3.776772716474947,-0.5181774000050889,-2.245839529868812,-2.2123092872108563,-0.4408396143271459,-1.5308290503333688,-0.6747233792531483,-1.9364005300094096,-1.5676838336482615,-0.9842846550178627,-0.4793879339878896,-2.245063029214545,-0.9496498212639264,-0.41588694752763544,-1.5617447772004107,-0.49350274749994194,-1.5747806574580574,-2.7713533950183558,-2.9574319220312084,-2.121561721156529,-0.22580523982983236,0.09979245444954454,-1.2673520869830128,-0.115345761028261,-0.24709066012443825,-1.7585197342520789,-0.8434725823508705,-1.5458102589959912,0.07979349203784292,-0.3405905826527367,-1.323965889770657,-0.4032754866474164,-0.9120228742458074,-1.0150604484647965,-2.133997922788151,0.02797898767067286,-0.027976121660561293,-1.4575039481522079,-2.3310518520581534,-2.224751837075363,-0.6424324495586549,0.9345405662038921,-1.4247687226383299,-0.27150763379882215,-1.670030891672572,-1.6013893011042826,-0.8798507175752156,-3.043412917257176,-3.0610034167611397,-1.2915943456314198,-0.738167136762284,0.07774998490049567,-3.5251405807551985,-2.090536149263761,-1.4670284216949627,-0.6538369408556991,-1.039967760146783,-2.3602289549993873,-0.962110689443505,-2.4991788449564085,-1.4547542316183328,-2.6084454531202494,-0.8115657023962324,-2.173411107825445,-0.7156545055852476,-1.6398793386062218,0.2048829344330878,-1.1454151116250422,-0.385158696696816,-0.5487675574065709,-0.631010368033844,-1.629026983516652,0.10856485937651073,-1.57935958413029,0.6979980660630745,-0.6687240159572523,-2.0142573524892544,-1.0129567719905583,-0.6585599570021412,-0.6767003886437744,0.5237610145278875,-1.8294936585836508,-1.3841708076575998,-1.5151179271296318,-0.26947494096882396,-1.5065514028547404,-1.4948301860701825,0.18495017055075214,-1.9412538365424048,-0.4796240089285473],\"type\":\"box\"}],                        {\"legend\":{\"bgcolor\":\"#F5F6F9\",\"font\":{\"color\":\"#4D5663\"}},\"paper_bgcolor\":\"#F5F6F9\",\"plot_bgcolor\":\"#F5F6F9\",\"title\":{\"font\":{\"color\":\"#4D5663\"}},\"xaxis\":{\"gridcolor\":\"#E1E5ED\",\"showgrid\":true,\"tickfont\":{\"color\":\"#4D5663\"},\"title\":{\"text\":\"\",\"font\":{\"color\":\"#4D5663\"}},\"zerolinecolor\":\"#E1E5ED\"},\"yaxis\":{\"gridcolor\":\"#E1E5ED\",\"showgrid\":true,\"tickfont\":{\"color\":\"#4D5663\"},\"title\":{\"text\":\"\",\"font\":{\"color\":\"#4D5663\"}},\"zerolinecolor\":\"#E1E5ED\"},\"template\":{\"data\":{\"bar\":[{\"error_x\":{\"color\":\"#2a3f5f\"},\"error_y\":{\"color\":\"#2a3f5f\"},\"marker\":{\"line\":{\"color\":\"#E5ECF6\",\"width\":0.5},\"pattern\":{\"fillmode\":\"overlay\",\"size\":10,\"solidity\":0.2}},\"type\":\"bar\"}],\"barpolar\":[{\"marker\":{\"line\":{\"color\":\"#E5ECF6\",\"width\":0.5},\"pattern\":{\"fillmode\":\"overlay\",\"size\":10,\"solidity\":0.2}},\"type\":\"barpolar\"}],\"carpet\":[{\"aaxis\":{\"endlinecolor\":\"#2a3f5f\",\"gridcolor\":\"white\",\"linecolor\":\"white\",\"minorgridcolor\":\"white\",\"startlinecolor\":\"#2a3f5f\"},\"baxis\":{\"endlinecolor\":\"#2a3f5f\",\"gridcolor\":\"white\",\"linecolor\":\"white\",\"minorgridcolor\":\"white\",\"startlinecolor\":\"#2a3f5f\"},\"type\":\"carpet\"}],\"choropleth\":[{\"colorbar\":{\"outlinewidth\":0,\"ticks\":\"\"},\"type\":\"choropleth\"}],\"contour\":[{\"colorbar\":{\"outlinewidth\":0,\"ticks\":\"\"},\"colorscale\":[[0.0,\"#0d0887\"],[0.1111111111111111,\"#46039f\"],[0.2222222222222222,\"#7201a8\"],[0.3333333333333333,\"#9c179e\"],[0.4444444444444444,\"#bd3786\"],[0.5555555555555556,\"#d8576b\"],[0.6666666666666666,\"#ed7953\"],[0.7777777777777778,\"#fb9f3a\"],[0.8888888888888888,\"#fdca26\"],[1.0,\"#f0f921\"]],\"type\":\"contour\"}],\"contourcarpet\":[{\"colorbar\":{\"outlinewidth\":0,\"ticks\":\"\"},\"type\":\"contourcarpet\"}],\"heatmap\":[{\"colorbar\":{\"outlinewidth\":0,\"ticks\":\"\"},\"colorscale\":[[0.0,\"#0d0887\"],[0.1111111111111111,\"#46039f\"],[0.2222222222222222,\"#7201a8\"],[0.3333333333333333,\"#9c179e\"],[0.4444444444444444,\"#bd3786\"],[0.5555555555555556,\"#d8576b\"],[0.6666666666666666,\"#ed7953\"],[0.7777777777777778,\"#fb9f3a\"],[0.8888888888888888,\"#fdca26\"],[1.0,\"#f0f921\"]],\"type\":\"heatmap\"}],\"heatmapgl\":[{\"colorbar\":{\"outlinewidth\":0,\"ticks\":\"\"},\"colorscale\":[[0.0,\"#0d0887\"],[0.1111111111111111,\"#46039f\"],[0.2222222222222222,\"#7201a8\"],[0.3333333333333333,\"#9c179e\"],[0.4444444444444444,\"#bd3786\"],[0.5555555555555556,\"#d8576b\"],[0.6666666666666666,\"#ed7953\"],[0.7777777777777778,\"#fb9f3a\"],[0.8888888888888888,\"#fdca26\"],[1.0,\"#f0f921\"]],\"type\":\"heatmapgl\"}],\"histogram\":[{\"marker\":{\"pattern\":{\"fillmode\":\"overlay\",\"size\":10,\"solidity\":0.2}},\"type\":\"histogram\"}],\"histogram2d\":[{\"colorbar\":{\"outlinewidth\":0,\"ticks\":\"\"},\"colorscale\":[[0.0,\"#0d0887\"],[0.1111111111111111,\"#46039f\"],[0.2222222222222222,\"#7201a8\"],[0.3333333333333333,\"#9c179e\"],[0.4444444444444444,\"#bd3786\"],[0.5555555555555556,\"#d8576b\"],[0.6666666666666666,\"#ed7953\"],[0.7777777777777778,\"#fb9f3a\"],[0.8888888888888888,\"#fdca26\"],[1.0,\"#f0f921\"]],\"type\":\"histogram2d\"}],\"histogram2dcontour\":[{\"colorbar\":{\"outlinewidth\":0,\"ticks\":\"\"},\"colorscale\":[[0.0,\"#0d0887\"],[0.1111111111111111,\"#46039f\"],[0.2222222222222222,\"#7201a8\"],[0.3333333333333333,\"#9c179e\"],[0.4444444444444444,\"#bd3786\"],[0.5555555555555556,\"#d8576b\"],[0.6666666666666666,\"#ed7953\"],[0.7777777777777778,\"#fb9f3a\"],[0.8888888888888888,\"#fdca26\"],[1.0,\"#f0f921\"]],\"type\":\"histogram2dcontour\"}],\"mesh3d\":[{\"colorbar\":{\"outlinewidth\":0,\"ticks\":\"\"},\"type\":\"mesh3d\"}],\"parcoords\":[{\"line\":{\"colorbar\":{\"outlinewidth\":0,\"ticks\":\"\"}},\"type\":\"parcoords\"}],\"pie\":[{\"automargin\":true,\"type\":\"pie\"}],\"scatter\":[{\"marker\":{\"colorbar\":{\"outlinewidth\":0,\"ticks\":\"\"}},\"type\":\"scatter\"}],\"scatter3d\":[{\"line\":{\"colorbar\":{\"outlinewidth\":0,\"ticks\":\"\"}},\"marker\":{\"colorbar\":{\"outlinewidth\":0,\"ticks\":\"\"}},\"type\":\"scatter3d\"}],\"scattercarpet\":[{\"marker\":{\"colorbar\":{\"outlinewidth\":0,\"ticks\":\"\"}},\"type\":\"scattercarpet\"}],\"scattergeo\":[{\"marker\":{\"colorbar\":{\"outlinewidth\":0,\"ticks\":\"\"}},\"type\":\"scattergeo\"}],\"scattergl\":[{\"marker\":{\"colorbar\":{\"outlinewidth\":0,\"ticks\":\"\"}},\"type\":\"scattergl\"}],\"scattermapbox\":[{\"marker\":{\"colorbar\":{\"outlinewidth\":0,\"ticks\":\"\"}},\"type\":\"scattermapbox\"}],\"scatterpolar\":[{\"marker\":{\"colorbar\":{\"outlinewidth\":0,\"ticks\":\"\"}},\"type\":\"scatterpolar\"}],\"scatterpolargl\":[{\"marker\":{\"colorbar\":{\"outlinewidth\":0,\"ticks\":\"\"}},\"type\":\"scatterpolargl\"}],\"scatterternary\":[{\"marker\":{\"colorbar\":{\"outlinewidth\":0,\"ticks\":\"\"}},\"type\":\"scatterternary\"}],\"surface\":[{\"colorbar\":{\"outlinewidth\":0,\"ticks\":\"\"},\"colorscale\":[[0.0,\"#0d0887\"],[0.1111111111111111,\"#46039f\"],[0.2222222222222222,\"#7201a8\"],[0.3333333333333333,\"#9c179e\"],[0.4444444444444444,\"#bd3786\"],[0.5555555555555556,\"#d8576b\"],[0.6666666666666666,\"#ed7953\"],[0.7777777777777778,\"#fb9f3a\"],[0.8888888888888888,\"#fdca26\"],[1.0,\"#f0f921\"]],\"type\":\"surface\"}],\"table\":[{\"cells\":{\"fill\":{\"color\":\"#EBF0F8\"},\"line\":{\"color\":\"white\"}},\"header\":{\"fill\":{\"color\":\"#C8D4E3\"},\"line\":{\"color\":\"white\"}},\"type\":\"table\"}]},\"layout\":{\"annotationdefaults\":{\"arrowcolor\":\"#2a3f5f\",\"arrowhead\":0,\"arrowwidth\":1},\"autotypenumbers\":\"strict\",\"coloraxis\":{\"colorbar\":{\"outlinewidth\":0,\"ticks\":\"\"}},\"colorscale\":{\"diverging\":[[0,\"#8e0152\"],[0.1,\"#c51b7d\"],[0.2,\"#de77ae\"],[0.3,\"#f1b6da\"],[0.4,\"#fde0ef\"],[0.5,\"#f7f7f7\"],[0.6,\"#e6f5d0\"],[0.7,\"#b8e186\"],[0.8,\"#7fbc41\"],[0.9,\"#4d9221\"],[1,\"#276419\"]],\"sequential\":[[0.0,\"#0d0887\"],[0.1111111111111111,\"#46039f\"],[0.2222222222222222,\"#7201a8\"],[0.3333333333333333,\"#9c179e\"],[0.4444444444444444,\"#bd3786\"],[0.5555555555555556,\"#d8576b\"],[0.6666666666666666,\"#ed7953\"],[0.7777777777777778,\"#fb9f3a\"],[0.8888888888888888,\"#fdca26\"],[1.0,\"#f0f921\"]],\"sequentialminus\":[[0.0,\"#0d0887\"],[0.1111111111111111,\"#46039f\"],[0.2222222222222222,\"#7201a8\"],[0.3333333333333333,\"#9c179e\"],[0.4444444444444444,\"#bd3786\"],[0.5555555555555556,\"#d8576b\"],[0.6666666666666666,\"#ed7953\"],[0.7777777777777778,\"#fb9f3a\"],[0.8888888888888888,\"#fdca26\"],[1.0,\"#f0f921\"]]},\"colorway\":[\"#636efa\",\"#EF553B\",\"#00cc96\",\"#ab63fa\",\"#FFA15A\",\"#19d3f3\",\"#FF6692\",\"#B6E880\",\"#FF97FF\",\"#FECB52\"],\"font\":{\"color\":\"#2a3f5f\"},\"geo\":{\"bgcolor\":\"white\",\"lakecolor\":\"white\",\"landcolor\":\"#E5ECF6\",\"showlakes\":true,\"showland\":true,\"subunitcolor\":\"white\"},\"hoverlabel\":{\"align\":\"left\"},\"hovermode\":\"closest\",\"mapbox\":{\"style\":\"light\"},\"paper_bgcolor\":\"white\",\"plot_bgcolor\":\"#E5ECF6\",\"polar\":{\"angularaxis\":{\"gridcolor\":\"white\",\"linecolor\":\"white\",\"ticks\":\"\"},\"bgcolor\":\"#E5ECF6\",\"radialaxis\":{\"gridcolor\":\"white\",\"linecolor\":\"white\",\"ticks\":\"\"}},\"scene\":{\"xaxis\":{\"backgroundcolor\":\"#E5ECF6\",\"gridcolor\":\"white\",\"gridwidth\":2,\"linecolor\":\"white\",\"showbackground\":true,\"ticks\":\"\",\"zerolinecolor\":\"white\"},\"yaxis\":{\"backgroundcolor\":\"#E5ECF6\",\"gridcolor\":\"white\",\"gridwidth\":2,\"linecolor\":\"white\",\"showbackground\":true,\"ticks\":\"\",\"zerolinecolor\":\"white\"},\"zaxis\":{\"backgroundcolor\":\"#E5ECF6\",\"gridcolor\":\"white\",\"gridwidth\":2,\"linecolor\":\"white\",\"showbackground\":true,\"ticks\":\"\",\"zerolinecolor\":\"white\"}},\"shapedefaults\":{\"line\":{\"color\":\"#2a3f5f\"}},\"ternary\":{\"aaxis\":{\"gridcolor\":\"white\",\"linecolor\":\"white\",\"ticks\":\"\"},\"baxis\":{\"gridcolor\":\"white\",\"linecolor\":\"white\",\"ticks\":\"\"},\"bgcolor\":\"#E5ECF6\",\"caxis\":{\"gridcolor\":\"white\",\"linecolor\":\"white\",\"ticks\":\"\"}},\"title\":{\"x\":0.05},\"xaxis\":{\"automargin\":true,\"gridcolor\":\"white\",\"linecolor\":\"white\",\"ticks\":\"\",\"title\":{\"standoff\":15},\"zerolinecolor\":\"white\",\"zerolinewidth\":2},\"yaxis\":{\"automargin\":true,\"gridcolor\":\"white\",\"linecolor\":\"white\",\"ticks\":\"\",\"title\":{\"standoff\":15},\"zerolinecolor\":\"white\",\"zerolinewidth\":2}}}},                        {\"responsive\": true}                    ).then(function(){\n",
       "                            \n",
       "var gd = document.getElementById('87fb2669-8742-44c1-a326-2448a22f1913');\n",
       "var x = new MutationObserver(function (mutations, observer) {{\n",
       "        var display = window.getComputedStyle(gd).display;\n",
       "        if (!display || display === 'none') {{\n",
       "            console.log([gd, 'removed!']);\n",
       "            Plotly.purge(gd);\n",
       "            observer.disconnect();\n",
       "        }}\n",
       "}});\n",
       "\n",
       "// Listen for the removal of the full notebook cells\n",
       "var notebookContainer = gd.closest('#notebook-container');\n",
       "if (notebookContainer) {{\n",
       "    x.observe(notebookContainer, {childList: true});\n",
       "}}\n",
       "\n",
       "// Listen for the clearing of the current output cell\n",
       "var outputEl = gd.closest('.output');\n",
       "if (outputEl) {{\n",
       "    x.observe(outputEl, {childList: true});\n",
       "}}\n",
       "\n",
       "                        })                };                });            </script>        </div>"
      ]
     },
     "metadata": {},
     "output_type": "display_data"
    }
   ],
   "source": [
    "fig = df.iplot(asFigure=True, kind=\"box\")\n",
    "pyo.plot(fig,filename='boxplot.html')\n",
    "fig.show()"
   ]
  },
  {
   "cell_type": "code",
   "execution_count": 11,
   "id": "92341a7a",
   "metadata": {},
   "outputs": [
    {
     "data": {
      "application/vnd.plotly.v1+json": {
       "config": {
        "plotlyServerURL": "https://plot.ly"
       },
       "data": [
        {
         "fill": "tozeroy",
         "fillcolor": "rgba(255, 153, 51, 0.3)",
         "line": {
          "color": "rgba(255, 153, 51, 1.0)",
          "dash": "solid",
          "shape": "linear",
          "width": 1.3
         },
         "mode": "lines",
         "name": "LBR.WY",
         "text": "",
         "type": "scatter",
         "x": [
          "2015-01-01",
          "2015-01-02",
          "2015-01-03",
          "2015-01-04",
          "2015-01-05",
          "2015-01-06",
          "2015-01-07",
          "2015-01-08",
          "2015-01-09",
          "2015-01-10",
          "2015-01-11",
          "2015-01-12",
          "2015-01-13",
          "2015-01-14",
          "2015-01-15",
          "2015-01-16",
          "2015-01-17",
          "2015-01-18",
          "2015-01-19",
          "2015-01-20",
          "2015-01-21",
          "2015-01-22",
          "2015-01-23",
          "2015-01-24",
          "2015-01-25",
          "2015-01-26",
          "2015-01-27",
          "2015-01-28",
          "2015-01-29",
          "2015-01-30",
          "2015-01-31",
          "2015-02-01",
          "2015-02-02",
          "2015-02-03",
          "2015-02-04",
          "2015-02-05",
          "2015-02-06",
          "2015-02-07",
          "2015-02-08",
          "2015-02-09",
          "2015-02-10",
          "2015-02-11",
          "2015-02-12",
          "2015-02-13",
          "2015-02-14",
          "2015-02-15",
          "2015-02-16",
          "2015-02-17",
          "2015-02-18",
          "2015-02-19",
          "2015-02-20",
          "2015-02-21",
          "2015-02-22",
          "2015-02-23",
          "2015-02-24",
          "2015-02-25",
          "2015-02-26",
          "2015-02-27",
          "2015-02-28",
          "2015-03-01",
          "2015-03-02",
          "2015-03-03",
          "2015-03-04",
          "2015-03-05",
          "2015-03-06",
          "2015-03-07",
          "2015-03-08",
          "2015-03-09",
          "2015-03-10",
          "2015-03-11",
          "2015-03-12",
          "2015-03-13",
          "2015-03-14",
          "2015-03-15",
          "2015-03-16",
          "2015-03-17",
          "2015-03-18",
          "2015-03-19",
          "2015-03-20",
          "2015-03-21",
          "2015-03-22",
          "2015-03-23",
          "2015-03-24",
          "2015-03-25",
          "2015-03-26",
          "2015-03-27",
          "2015-03-28",
          "2015-03-29",
          "2015-03-30",
          "2015-03-31",
          "2015-04-01",
          "2015-04-02",
          "2015-04-03",
          "2015-04-04",
          "2015-04-05",
          "2015-04-06",
          "2015-04-07",
          "2015-04-08",
          "2015-04-09",
          "2015-04-10"
         ],
         "xaxis": "x",
         "y": [
          -0.11230767780112463,
          -1.1761267071827024,
          -3.4128840649603456,
          -2.309425843109868,
          -2.92018366246973,
          -4.179480052197347,
          -3.600203573767418,
          -3.4322729494334934,
          -2.923277631131775,
          -4.411690973278205,
          -3.351972289325209,
          -2.920089357378229,
          -2.60731605859374,
          -3.012510792243233,
          -3.514513545742,
          -2.992015450640742,
          -2.450359699733233,
          -3.081700358507281,
          -2.2370391446024396,
          -3.4522971686457797,
          -2.2725457061630365,
          -0.8900185220766617,
          -0.08121343287996463,
          -0.05672134629330826,
          1.4618435580670883,
          1.6767063539880511,
          2.7050548821901264,
          2.4743679767671956,
          2.874235010379107,
          3.2674580725475715,
          2.9826114591867614,
          2.6842928637561645,
          2.0999090592681515,
          -0.6738670257958339,
          0.27951374339947854,
          0.3913852272209307,
          -0.1369116930424713,
          -0.24289813996191878,
          -0.5592975857880707,
          0.11144427849883332,
          1.2070441979155846,
          1.8365057213757172,
          1.0273984247074803,
          1.5019291329742614,
          1.7696885701627942,
          1.6647138899121727,
          1.9178486382601239,
          3.5536092445667182,
          4.369809598694526,
          4.16874491452183,
          5.02615171563986,
          5.209670465740327,
          5.552079115449705,
          6.410091876333485,
          6.622670174529964,
          5.151122071380034,
          6.794510186113808,
          9.276189739157548,
          8.606146137076061,
          9.508272667940314,
          10.130635801295043,
          11.36129753436214,
          12.468040319026656,
          13.7353086318087,
          15.187624433144261,
          14.420252954118391,
          14.635955503379554,
          14.09245523702267,
          13.485928320431938,
          13.696372349132206,
          15.688722675199136,
          16.601746693681516,
          16.865031001641444,
          18.105103122390947,
          19.143727508909564,
          17.890635724748975,
          17.055383085729893,
          16.636880261855467,
          16.068937540378112,
          17.321188085668084,
          16.97971856389278,
          17.132032822763552,
          16.9352547019081,
          15.664732378632857,
          14.468931510908703,
          14.402652946690159,
          13.79850544813422,
          15.71384425241778,
          16.23766424009635,
          16.71989664870416,
          18.68391512284776,
          17.907085353706695,
          18.882649459704478,
          19.766743052805,
          19.81872155443846,
          20.292692961520373,
          20.758638879550066,
          21.142391573290457,
          21.766388025273518,
          22.572657770100317
         ],
         "yaxis": "y"
        },
        {
         "fill": "tozeroy",
         "fillcolor": "rgba(55, 128, 191, 0.3)",
         "line": {
          "color": "rgba(55, 128, 191, 1.0)",
          "dash": "solid",
          "shape": "linear",
          "width": 1.3
         },
         "mode": "lines",
         "name": "XVK.HG",
         "text": "",
         "type": "scatter",
         "x": [
          "2015-01-01",
          "2015-01-02",
          "2015-01-03",
          "2015-01-04",
          "2015-01-05",
          "2015-01-06",
          "2015-01-07",
          "2015-01-08",
          "2015-01-09",
          "2015-01-10",
          "2015-01-11",
          "2015-01-12",
          "2015-01-13",
          "2015-01-14",
          "2015-01-15",
          "2015-01-16",
          "2015-01-17",
          "2015-01-18",
          "2015-01-19",
          "2015-01-20",
          "2015-01-21",
          "2015-01-22",
          "2015-01-23",
          "2015-01-24",
          "2015-01-25",
          "2015-01-26",
          "2015-01-27",
          "2015-01-28",
          "2015-01-29",
          "2015-01-30",
          "2015-01-31",
          "2015-02-01",
          "2015-02-02",
          "2015-02-03",
          "2015-02-04",
          "2015-02-05",
          "2015-02-06",
          "2015-02-07",
          "2015-02-08",
          "2015-02-09",
          "2015-02-10",
          "2015-02-11",
          "2015-02-12",
          "2015-02-13",
          "2015-02-14",
          "2015-02-15",
          "2015-02-16",
          "2015-02-17",
          "2015-02-18",
          "2015-02-19",
          "2015-02-20",
          "2015-02-21",
          "2015-02-22",
          "2015-02-23",
          "2015-02-24",
          "2015-02-25",
          "2015-02-26",
          "2015-02-27",
          "2015-02-28",
          "2015-03-01",
          "2015-03-02",
          "2015-03-03",
          "2015-03-04",
          "2015-03-05",
          "2015-03-06",
          "2015-03-07",
          "2015-03-08",
          "2015-03-09",
          "2015-03-10",
          "2015-03-11",
          "2015-03-12",
          "2015-03-13",
          "2015-03-14",
          "2015-03-15",
          "2015-03-16",
          "2015-03-17",
          "2015-03-18",
          "2015-03-19",
          "2015-03-20",
          "2015-03-21",
          "2015-03-22",
          "2015-03-23",
          "2015-03-24",
          "2015-03-25",
          "2015-03-26",
          "2015-03-27",
          "2015-03-28",
          "2015-03-29",
          "2015-03-30",
          "2015-03-31",
          "2015-04-01",
          "2015-04-02",
          "2015-04-03",
          "2015-04-04",
          "2015-04-05",
          "2015-04-06",
          "2015-04-07",
          "2015-04-08",
          "2015-04-09",
          "2015-04-10"
         ],
         "xaxis": "x2",
         "y": [
          -0.17731877217194497,
          -1.4483873859213983,
          -1.228414201765724,
          -0.19228261959693738,
          -1.6625204642152858,
          -1.7423281212819668,
          -1.9145576410620304,
          -0.9556696367093316,
          -0.6760372774027417,
          -0.7080927345084422,
          -0.8690954463627312,
          -0.5380150753069772,
          -1.5380669910769187,
          -2.1657447362763937,
          -3.9199800997702106,
          -3.765345353883525,
          -1.8234512616098713,
          -2.1524597658434694,
          -3.4212882177146042,
          -1.63806114185343,
          -1.7235823792270937,
          -2.461594919436954,
          -1.4495659663816234,
          -0.8157043495647924,
          -0.7064334101098504,
          -0.2957766959599854,
          -1.1964436651700052,
          -1.1563555232647051,
          -0.5092905979242507,
          1.2077161653292605,
          1.48998879466536,
          1.4751387921063093,
          0.3519130297732005,
          -0.5729996187361135,
          -0.8408993764874066,
          -1.3363524901771189,
          -2.4020382181423816,
          -3.146276282512812,
          -2.781501728201313,
          -3.4159582531745656,
          -3.0992460264587613,
          -2.258547486548835,
          -2.6487508834136815,
          -2.0543580233459653,
          -2.9540033387682985,
          -1.1195617539875156,
          -1.1041886361948134,
          -2.551995323095495,
          -1.9580373700462046,
          -2.4284500502596376,
          -1.6421167327612656,
          -1.0647499546353982,
          0.27226279136951104,
          -0.25754829038622684,
          -1.0736002680369754,
          -0.710739898449134,
          -0.382986521717203,
          -0.7159441968300432,
          -1.0961511448025205,
          -0.9012340545902179,
          -2.332743569521159,
          -2.326135865415458,
          -1.5949885836048932,
          -1.1759278453996844,
          -0.46987388044271206,
          -1.148896258801082,
          -2.519385692979626,
          -1.2343279467639163,
          -0.37751514000089714,
          -0.12858880533615633,
          0.19361778851303016,
          0.08109075270967017,
          0.6328920834429468,
          0.3706590917379541,
          0.39523463101699685,
          1.9225769711211882,
          1.834350621990984,
          1.5887447985370085,
          2.29716717357274,
          4.649379464398094,
          4.7606636654699885,
          5.76509515766062,
          6.987367470411911,
          7.103644796797102,
          6.932625101562097,
          6.124840245593345,
          5.520247054705839,
          6.101557709763686,
          4.48583593949591,
          5.341668541860299,
          5.641572817284036,
          6.558840779125044,
          7.246418816329876,
          6.3582089841720215,
          5.961599591529678,
          7.510950620985404,
          8.472307100373563,
          9.066862432258949,
          7.6872120436110345,
          9.25932700733803
         ],
         "yaxis": "y2"
        },
        {
         "fill": "tozeroy",
         "fillcolor": "rgba(50, 171, 96, 0.3)",
         "line": {
          "color": "rgba(50, 171, 96, 1.0)",
          "dash": "solid",
          "shape": "linear",
          "width": 1.3
         },
         "mode": "lines",
         "name": "KRP.KI",
         "text": "",
         "type": "scatter",
         "x": [
          "2015-01-01",
          "2015-01-02",
          "2015-01-03",
          "2015-01-04",
          "2015-01-05",
          "2015-01-06",
          "2015-01-07",
          "2015-01-08",
          "2015-01-09",
          "2015-01-10",
          "2015-01-11",
          "2015-01-12",
          "2015-01-13",
          "2015-01-14",
          "2015-01-15",
          "2015-01-16",
          "2015-01-17",
          "2015-01-18",
          "2015-01-19",
          "2015-01-20",
          "2015-01-21",
          "2015-01-22",
          "2015-01-23",
          "2015-01-24",
          "2015-01-25",
          "2015-01-26",
          "2015-01-27",
          "2015-01-28",
          "2015-01-29",
          "2015-01-30",
          "2015-01-31",
          "2015-02-01",
          "2015-02-02",
          "2015-02-03",
          "2015-02-04",
          "2015-02-05",
          "2015-02-06",
          "2015-02-07",
          "2015-02-08",
          "2015-02-09",
          "2015-02-10",
          "2015-02-11",
          "2015-02-12",
          "2015-02-13",
          "2015-02-14",
          "2015-02-15",
          "2015-02-16",
          "2015-02-17",
          "2015-02-18",
          "2015-02-19",
          "2015-02-20",
          "2015-02-21",
          "2015-02-22",
          "2015-02-23",
          "2015-02-24",
          "2015-02-25",
          "2015-02-26",
          "2015-02-27",
          "2015-02-28",
          "2015-03-01",
          "2015-03-02",
          "2015-03-03",
          "2015-03-04",
          "2015-03-05",
          "2015-03-06",
          "2015-03-07",
          "2015-03-08",
          "2015-03-09",
          "2015-03-10",
          "2015-03-11",
          "2015-03-12",
          "2015-03-13",
          "2015-03-14",
          "2015-03-15",
          "2015-03-16",
          "2015-03-17",
          "2015-03-18",
          "2015-03-19",
          "2015-03-20",
          "2015-03-21",
          "2015-03-22",
          "2015-03-23",
          "2015-03-24",
          "2015-03-25",
          "2015-03-26",
          "2015-03-27",
          "2015-03-28",
          "2015-03-29",
          "2015-03-30",
          "2015-03-31",
          "2015-04-01",
          "2015-04-02",
          "2015-04-03",
          "2015-04-04",
          "2015-04-05",
          "2015-04-06",
          "2015-04-07",
          "2015-04-08",
          "2015-04-09",
          "2015-04-10"
         ],
         "xaxis": "x3",
         "y": [
          -1.5334596832272418,
          -1.1017798502770484,
          -0.460315605290777,
          1.5809825759575529,
          -0.31953777020299423,
          1.1566688090288606,
          1.0478469479121346,
          0.2875446812121777,
          -1.5314424106134128,
          -0.8505997250934831,
          -0.7904316853206209,
          0.7812018631435936,
          1.2674516040484596,
          -0.9151718741733497,
          -0.808154228436904,
          -2.399767117113896,
          -2.4457568798855984,
          -0.37847337707622675,
          0.43483499613694,
          -0.13432275588129416,
          -1.060937836289098,
          0.05171771359355071,
          1.3453749143111968,
          1.3745017049169688,
          0.597109062698347,
          0.27777673427121946,
          1.1497797505592875,
          1.98406435935295,
          1.8536281829969092,
          0.9368586390331517,
          0.49519729602128587,
          0.4798971729904742,
          2.283102135519597,
          3.9117087586201986,
          4.78462461655529,
          5.654898294562508,
          6.228320765496162,
          6.017441134272981,
          5.209274502436159,
          6.733418682837399,
          5.8775822188513835,
          5.129878723025093,
          3.356115079131235,
          3.2216530775924106,
          3.4837909139845684,
          3.053204074687262,
          2.332452932517213,
          1.9959246874360366,
          2.5899346933494205,
          3.229513211743858,
          5.505786082412838,
          5.7654228972638375,
          6.3095377232800995,
          5.697250062824673,
          5.406678019129971,
          5.225341463444515,
          4.637225192834997,
          3.8657320421762966,
          3.27278559002892,
          5.244914634930188,
          5.275079787399055,
          4.885226783355755,
          3.8482138681486835,
          3.8698456087086814,
          3.5211787032390993,
          1.5864420771759504,
          0.9860637491042057,
          0.6156895039216541,
          2.024366983812544,
          2.7481942257336454,
          3.2058158452190315,
          2.0784559605637742,
          2.1513419611915676,
          1.1262542666279558,
          1.7635959189516022,
          2.9713514461257815,
          3.15578913593568,
          3.8856762730382557,
          4.278127866993516,
          2.7494940748289496,
          2.31238064944347,
          1.2746079528644485,
          1.9000060586718117,
          2.2376986023525656,
          3.0993131306282717,
          2.0768993874930652,
          -0.2107743358234111,
          0.7482431269010217,
          1.2239130426524234,
          0.1424526918842446,
          0.49796356843258466,
          0.5110098721971982,
          1.0776512192110637,
          2.8440699707478037,
          4.42940340649608,
          4.59538877594149,
          4.663574053196861,
          5.399156328308074,
          5.875841907445145,
          6.591228797453229
         ],
         "yaxis": "y3"
        },
        {
         "fill": "tozeroy",
         "fillcolor": "rgba(128, 0, 128, 0.3)",
         "line": {
          "color": "rgba(128, 0, 128, 1.0)",
          "dash": "solid",
          "shape": "linear",
          "width": 1.3
         },
         "mode": "lines",
         "name": "UVZ.AH",
         "text": "",
         "type": "scatter",
         "x": [
          "2015-01-01",
          "2015-01-02",
          "2015-01-03",
          "2015-01-04",
          "2015-01-05",
          "2015-01-06",
          "2015-01-07",
          "2015-01-08",
          "2015-01-09",
          "2015-01-10",
          "2015-01-11",
          "2015-01-12",
          "2015-01-13",
          "2015-01-14",
          "2015-01-15",
          "2015-01-16",
          "2015-01-17",
          "2015-01-18",
          "2015-01-19",
          "2015-01-20",
          "2015-01-21",
          "2015-01-22",
          "2015-01-23",
          "2015-01-24",
          "2015-01-25",
          "2015-01-26",
          "2015-01-27",
          "2015-01-28",
          "2015-01-29",
          "2015-01-30",
          "2015-01-31",
          "2015-02-01",
          "2015-02-02",
          "2015-02-03",
          "2015-02-04",
          "2015-02-05",
          "2015-02-06",
          "2015-02-07",
          "2015-02-08",
          "2015-02-09",
          "2015-02-10",
          "2015-02-11",
          "2015-02-12",
          "2015-02-13",
          "2015-02-14",
          "2015-02-15",
          "2015-02-16",
          "2015-02-17",
          "2015-02-18",
          "2015-02-19",
          "2015-02-20",
          "2015-02-21",
          "2015-02-22",
          "2015-02-23",
          "2015-02-24",
          "2015-02-25",
          "2015-02-26",
          "2015-02-27",
          "2015-02-28",
          "2015-03-01",
          "2015-03-02",
          "2015-03-03",
          "2015-03-04",
          "2015-03-05",
          "2015-03-06",
          "2015-03-07",
          "2015-03-08",
          "2015-03-09",
          "2015-03-10",
          "2015-03-11",
          "2015-03-12",
          "2015-03-13",
          "2015-03-14",
          "2015-03-15",
          "2015-03-16",
          "2015-03-17",
          "2015-03-18",
          "2015-03-19",
          "2015-03-20",
          "2015-03-21",
          "2015-03-22",
          "2015-03-23",
          "2015-03-24",
          "2015-03-25",
          "2015-03-26",
          "2015-03-27",
          "2015-03-28",
          "2015-03-29",
          "2015-03-30",
          "2015-03-31",
          "2015-04-01",
          "2015-04-02",
          "2015-04-03",
          "2015-04-04",
          "2015-04-05",
          "2015-04-06",
          "2015-04-07",
          "2015-04-08",
          "2015-04-09",
          "2015-04-10"
         ],
         "xaxis": "x4",
         "y": [
          -0.6558710971168659,
          -0.5807426442603125,
          -2.4064100783392077,
          -2.0046758896438965,
          -2.7121262686574275,
          -0.45887514836181786,
          0.6497085154052815,
          0.843020045997834,
          1.5703558219962799,
          -0.8496890239692714,
          -1.7030489617625535,
          -1.3584058776675678,
          -0.8743161502743803,
          0.440330368682775,
          0.35627579733454373,
          -0.36859967896228585,
          0.035434705342037964,
          -0.0960157844675539,
          -0.30563775128178094,
          -1.4187314202790697,
          -1.0556017352759404,
          -0.7996676572343475,
          -0.7269527421364864,
          -0.9085663911226861,
          -1.840362138779137,
          -1.234270007470362,
          -1.0532611876175102,
          -2.7412044488226006,
          -2.4556342900607677,
          -3.1457881022660334,
          -2.4722690832811356,
          -2.0804639952737194,
          -2.1365323568011125,
          -0.9406011240975007,
          -1.5615851996150163,
          -2.9582314656753277,
          -1.4803668216687507,
          -1.4540866883777637,
          -0.8197568609551786,
          -1.5499229736190077,
          -2.71344918208034,
          -1.651539203320013,
          -1.1063095471788151,
          -0.17767837549499377,
          -0.2366779881476002,
          -1.0843670676646682,
          -2.7833712458168955,
          -2.5008994698809106,
          -3.8566986625266733,
          -4.680145076304453,
          -5.691907102800089,
          -4.748627122387022,
          -4.686850868068088,
          -4.929864796081534,
          -5.01469723359658,
          -3.6868289929678673,
          -4.784055368054236,
          -3.957382948127918,
          -4.276872051787604,
          -4.187896446607055,
          -4.124222913869533,
          -5.9473407919874575,
          -7.633858381959648,
          -8.596209677325966,
          -9.434461413097491,
          -9.508162318498409,
          -9.014437319279976,
          -8.939534312099488,
          -8.265321099368816,
          -8.727384807136136,
          -8.379452833949735,
          -7.881528767306679,
          -6.899381624245094,
          -7.800097632378829,
          -7.854924410588554,
          -6.93931506825497,
          -8.334964489520983,
          -7.17439045736914,
          -9.013458089303343,
          -8.902731963025108,
          -10.553697706344291,
          -10.164834238345835,
          -9.39845074374287,
          -10.060998296096999,
          -10.040726411041945,
          -9.510252979177622,
          -9.309471198755656,
          -7.72417742177983,
          -7.710326046601881,
          -10.515588669400238,
          -8.225300128361384,
          -7.915353950918112,
          -8.892058359408265,
          -6.415576952792088,
          -7.630191765761921,
          -8.461642798148427,
          -8.557579243546915,
          -7.950594637678866,
          -7.352790755615796,
          -7.533334087995187
         ],
         "yaxis": "y4"
        },
        {
         "fill": "tozeroy",
         "fillcolor": "rgba(219, 64, 82, 0.3)",
         "line": {
          "color": "rgba(219, 64, 82, 1.0)",
          "dash": "solid",
          "shape": "linear",
          "width": 1.3
         },
         "mode": "lines",
         "name": "KMZ.OR",
         "text": "",
         "type": "scatter",
         "x": [
          "2015-01-01",
          "2015-01-02",
          "2015-01-03",
          "2015-01-04",
          "2015-01-05",
          "2015-01-06",
          "2015-01-07",
          "2015-01-08",
          "2015-01-09",
          "2015-01-10",
          "2015-01-11",
          "2015-01-12",
          "2015-01-13",
          "2015-01-14",
          "2015-01-15",
          "2015-01-16",
          "2015-01-17",
          "2015-01-18",
          "2015-01-19",
          "2015-01-20",
          "2015-01-21",
          "2015-01-22",
          "2015-01-23",
          "2015-01-24",
          "2015-01-25",
          "2015-01-26",
          "2015-01-27",
          "2015-01-28",
          "2015-01-29",
          "2015-01-30",
          "2015-01-31",
          "2015-02-01",
          "2015-02-02",
          "2015-02-03",
          "2015-02-04",
          "2015-02-05",
          "2015-02-06",
          "2015-02-07",
          "2015-02-08",
          "2015-02-09",
          "2015-02-10",
          "2015-02-11",
          "2015-02-12",
          "2015-02-13",
          "2015-02-14",
          "2015-02-15",
          "2015-02-16",
          "2015-02-17",
          "2015-02-18",
          "2015-02-19",
          "2015-02-20",
          "2015-02-21",
          "2015-02-22",
          "2015-02-23",
          "2015-02-24",
          "2015-02-25",
          "2015-02-26",
          "2015-02-27",
          "2015-02-28",
          "2015-03-01",
          "2015-03-02",
          "2015-03-03",
          "2015-03-04",
          "2015-03-05",
          "2015-03-06",
          "2015-03-07",
          "2015-03-08",
          "2015-03-09",
          "2015-03-10",
          "2015-03-11",
          "2015-03-12",
          "2015-03-13",
          "2015-03-14",
          "2015-03-15",
          "2015-03-16",
          "2015-03-17",
          "2015-03-18",
          "2015-03-19",
          "2015-03-20",
          "2015-03-21",
          "2015-03-22",
          "2015-03-23",
          "2015-03-24",
          "2015-03-25",
          "2015-03-26",
          "2015-03-27",
          "2015-03-28",
          "2015-03-29",
          "2015-03-30",
          "2015-03-31",
          "2015-04-01",
          "2015-04-02",
          "2015-04-03",
          "2015-04-04",
          "2015-04-05",
          "2015-04-06",
          "2015-04-07",
          "2015-04-08",
          "2015-04-09",
          "2015-04-10"
         ],
         "xaxis": "x5",
         "y": [
          -1.3263277310363952,
          -0.44545980283954756,
          -2.0374348073995256,
          -2.4365747351429325,
          -1.251178571960396,
          -0.10312186467373263,
          0.780166830719492,
          0.8844678439007905,
          3.0415761573786066,
          3.381280038592968,
          4.643569254342215,
          4.885032068929505,
          4.12479023137324,
          3.741710382638172,
          3.908212228389907,
          4.908820275877617,
          5.756500931250631,
          7.02786297708574,
          7.463975859310138,
          8.756139616944008,
          9.42652705415135,
          9.772845798526685,
          11.021074962152184,
          10.766199332516967,
          12.641243756751539,
          12.319997476852574,
          12.585534942527847,
          12.402024085583221,
          11.197711739067548,
          12.690599967134883,
          10.813966230482057,
          11.734211688760922,
          11.131337133505372,
          13.91020908044226,
          14.37534502127577,
          14.753687177398902,
          15.021761208256061,
          15.04665991789794,
          16.614254061104454,
          17.856081592587866,
          17.664671554267986,
          17.08859594621878,
          16.69169950690869,
          16.44401775598507,
          16.261883572153597,
          13.870922830630992,
          11.156157507929068,
          12.344657199533502,
          12.026165268435824,
          10.598339955175042,
          10.994877663929074,
          10.918204815824106,
          10.176060757621697,
          10.915225204968575,
          13.150042359122335,
          14.2064257036339,
          12.971261282232541,
          12.936499504682446,
          12.595690085138552,
          12.175382175691158,
          12.901837712230186,
          11.626724809607593,
          11.819694735754677,
          10.661543383888079,
          11.5865328810326,
          12.470640475746197,
          11.566617168071597,
          11.030451344318468,
          10.771049084318271,
          9.478636917054699,
          8.736125989672894,
          9.95557161444914,
          9.490217381288222,
          10.460513293311875,
          10.130009615501267,
          9.781286887590168,
          9.220252652631206,
          9.286236491262969,
          10.205725627616834,
          10.691536021143055,
          12.117849356897713,
          12.328992722621118,
          12.37021702508759,
          15.472911338980047,
          16.0452586106704,
          15.749722053315532,
          17.28832052601399,
          17.223516673423333,
          16.792685478525975,
          17.105192671298646,
          16.09883644365824,
          16.603696955028063,
          16.54503376777978,
          15.767102601981293,
          16.331932941389223,
          15.202681102958998,
          15.276038096041844,
          15.671708802430278,
          14.446030716844495,
          16.416667552021188
         ],
         "yaxis": "y5"
        }
       ],
       "layout": {
        "legend": {
         "bgcolor": "#F5F6F9",
         "font": {
          "color": "#4D5663"
         }
        },
        "paper_bgcolor": "#F5F6F9",
        "plot_bgcolor": "#F5F6F9",
        "template": {
         "data": {
          "bar": [
           {
            "error_x": {
             "color": "#2a3f5f"
            },
            "error_y": {
             "color": "#2a3f5f"
            },
            "marker": {
             "line": {
              "color": "#E5ECF6",
              "width": 0.5
             },
             "pattern": {
              "fillmode": "overlay",
              "size": 10,
              "solidity": 0.2
             }
            },
            "type": "bar"
           }
          ],
          "barpolar": [
           {
            "marker": {
             "line": {
              "color": "#E5ECF6",
              "width": 0.5
             },
             "pattern": {
              "fillmode": "overlay",
              "size": 10,
              "solidity": 0.2
             }
            },
            "type": "barpolar"
           }
          ],
          "carpet": [
           {
            "aaxis": {
             "endlinecolor": "#2a3f5f",
             "gridcolor": "white",
             "linecolor": "white",
             "minorgridcolor": "white",
             "startlinecolor": "#2a3f5f"
            },
            "baxis": {
             "endlinecolor": "#2a3f5f",
             "gridcolor": "white",
             "linecolor": "white",
             "minorgridcolor": "white",
             "startlinecolor": "#2a3f5f"
            },
            "type": "carpet"
           }
          ],
          "choropleth": [
           {
            "colorbar": {
             "outlinewidth": 0,
             "ticks": ""
            },
            "type": "choropleth"
           }
          ],
          "contour": [
           {
            "colorbar": {
             "outlinewidth": 0,
             "ticks": ""
            },
            "colorscale": [
             [
              0,
              "#0d0887"
             ],
             [
              0.1111111111111111,
              "#46039f"
             ],
             [
              0.2222222222222222,
              "#7201a8"
             ],
             [
              0.3333333333333333,
              "#9c179e"
             ],
             [
              0.4444444444444444,
              "#bd3786"
             ],
             [
              0.5555555555555556,
              "#d8576b"
             ],
             [
              0.6666666666666666,
              "#ed7953"
             ],
             [
              0.7777777777777778,
              "#fb9f3a"
             ],
             [
              0.8888888888888888,
              "#fdca26"
             ],
             [
              1,
              "#f0f921"
             ]
            ],
            "type": "contour"
           }
          ],
          "contourcarpet": [
           {
            "colorbar": {
             "outlinewidth": 0,
             "ticks": ""
            },
            "type": "contourcarpet"
           }
          ],
          "heatmap": [
           {
            "colorbar": {
             "outlinewidth": 0,
             "ticks": ""
            },
            "colorscale": [
             [
              0,
              "#0d0887"
             ],
             [
              0.1111111111111111,
              "#46039f"
             ],
             [
              0.2222222222222222,
              "#7201a8"
             ],
             [
              0.3333333333333333,
              "#9c179e"
             ],
             [
              0.4444444444444444,
              "#bd3786"
             ],
             [
              0.5555555555555556,
              "#d8576b"
             ],
             [
              0.6666666666666666,
              "#ed7953"
             ],
             [
              0.7777777777777778,
              "#fb9f3a"
             ],
             [
              0.8888888888888888,
              "#fdca26"
             ],
             [
              1,
              "#f0f921"
             ]
            ],
            "type": "heatmap"
           }
          ],
          "heatmapgl": [
           {
            "colorbar": {
             "outlinewidth": 0,
             "ticks": ""
            },
            "colorscale": [
             [
              0,
              "#0d0887"
             ],
             [
              0.1111111111111111,
              "#46039f"
             ],
             [
              0.2222222222222222,
              "#7201a8"
             ],
             [
              0.3333333333333333,
              "#9c179e"
             ],
             [
              0.4444444444444444,
              "#bd3786"
             ],
             [
              0.5555555555555556,
              "#d8576b"
             ],
             [
              0.6666666666666666,
              "#ed7953"
             ],
             [
              0.7777777777777778,
              "#fb9f3a"
             ],
             [
              0.8888888888888888,
              "#fdca26"
             ],
             [
              1,
              "#f0f921"
             ]
            ],
            "type": "heatmapgl"
           }
          ],
          "histogram": [
           {
            "marker": {
             "pattern": {
              "fillmode": "overlay",
              "size": 10,
              "solidity": 0.2
             }
            },
            "type": "histogram"
           }
          ],
          "histogram2d": [
           {
            "colorbar": {
             "outlinewidth": 0,
             "ticks": ""
            },
            "colorscale": [
             [
              0,
              "#0d0887"
             ],
             [
              0.1111111111111111,
              "#46039f"
             ],
             [
              0.2222222222222222,
              "#7201a8"
             ],
             [
              0.3333333333333333,
              "#9c179e"
             ],
             [
              0.4444444444444444,
              "#bd3786"
             ],
             [
              0.5555555555555556,
              "#d8576b"
             ],
             [
              0.6666666666666666,
              "#ed7953"
             ],
             [
              0.7777777777777778,
              "#fb9f3a"
             ],
             [
              0.8888888888888888,
              "#fdca26"
             ],
             [
              1,
              "#f0f921"
             ]
            ],
            "type": "histogram2d"
           }
          ],
          "histogram2dcontour": [
           {
            "colorbar": {
             "outlinewidth": 0,
             "ticks": ""
            },
            "colorscale": [
             [
              0,
              "#0d0887"
             ],
             [
              0.1111111111111111,
              "#46039f"
             ],
             [
              0.2222222222222222,
              "#7201a8"
             ],
             [
              0.3333333333333333,
              "#9c179e"
             ],
             [
              0.4444444444444444,
              "#bd3786"
             ],
             [
              0.5555555555555556,
              "#d8576b"
             ],
             [
              0.6666666666666666,
              "#ed7953"
             ],
             [
              0.7777777777777778,
              "#fb9f3a"
             ],
             [
              0.8888888888888888,
              "#fdca26"
             ],
             [
              1,
              "#f0f921"
             ]
            ],
            "type": "histogram2dcontour"
           }
          ],
          "mesh3d": [
           {
            "colorbar": {
             "outlinewidth": 0,
             "ticks": ""
            },
            "type": "mesh3d"
           }
          ],
          "parcoords": [
           {
            "line": {
             "colorbar": {
              "outlinewidth": 0,
              "ticks": ""
             }
            },
            "type": "parcoords"
           }
          ],
          "pie": [
           {
            "automargin": true,
            "type": "pie"
           }
          ],
          "scatter": [
           {
            "marker": {
             "colorbar": {
              "outlinewidth": 0,
              "ticks": ""
             }
            },
            "type": "scatter"
           }
          ],
          "scatter3d": [
           {
            "line": {
             "colorbar": {
              "outlinewidth": 0,
              "ticks": ""
             }
            },
            "marker": {
             "colorbar": {
              "outlinewidth": 0,
              "ticks": ""
             }
            },
            "type": "scatter3d"
           }
          ],
          "scattercarpet": [
           {
            "marker": {
             "colorbar": {
              "outlinewidth": 0,
              "ticks": ""
             }
            },
            "type": "scattercarpet"
           }
          ],
          "scattergeo": [
           {
            "marker": {
             "colorbar": {
              "outlinewidth": 0,
              "ticks": ""
             }
            },
            "type": "scattergeo"
           }
          ],
          "scattergl": [
           {
            "marker": {
             "colorbar": {
              "outlinewidth": 0,
              "ticks": ""
             }
            },
            "type": "scattergl"
           }
          ],
          "scattermapbox": [
           {
            "marker": {
             "colorbar": {
              "outlinewidth": 0,
              "ticks": ""
             }
            },
            "type": "scattermapbox"
           }
          ],
          "scatterpolar": [
           {
            "marker": {
             "colorbar": {
              "outlinewidth": 0,
              "ticks": ""
             }
            },
            "type": "scatterpolar"
           }
          ],
          "scatterpolargl": [
           {
            "marker": {
             "colorbar": {
              "outlinewidth": 0,
              "ticks": ""
             }
            },
            "type": "scatterpolargl"
           }
          ],
          "scatterternary": [
           {
            "marker": {
             "colorbar": {
              "outlinewidth": 0,
              "ticks": ""
             }
            },
            "type": "scatterternary"
           }
          ],
          "surface": [
           {
            "colorbar": {
             "outlinewidth": 0,
             "ticks": ""
            },
            "colorscale": [
             [
              0,
              "#0d0887"
             ],
             [
              0.1111111111111111,
              "#46039f"
             ],
             [
              0.2222222222222222,
              "#7201a8"
             ],
             [
              0.3333333333333333,
              "#9c179e"
             ],
             [
              0.4444444444444444,
              "#bd3786"
             ],
             [
              0.5555555555555556,
              "#d8576b"
             ],
             [
              0.6666666666666666,
              "#ed7953"
             ],
             [
              0.7777777777777778,
              "#fb9f3a"
             ],
             [
              0.8888888888888888,
              "#fdca26"
             ],
             [
              1,
              "#f0f921"
             ]
            ],
            "type": "surface"
           }
          ],
          "table": [
           {
            "cells": {
             "fill": {
              "color": "#EBF0F8"
             },
             "line": {
              "color": "white"
             }
            },
            "header": {
             "fill": {
              "color": "#C8D4E3"
             },
             "line": {
              "color": "white"
             }
            },
            "type": "table"
           }
          ]
         },
         "layout": {
          "annotationdefaults": {
           "arrowcolor": "#2a3f5f",
           "arrowhead": 0,
           "arrowwidth": 1
          },
          "autotypenumbers": "strict",
          "coloraxis": {
           "colorbar": {
            "outlinewidth": 0,
            "ticks": ""
           }
          },
          "colorscale": {
           "diverging": [
            [
             0,
             "#8e0152"
            ],
            [
             0.1,
             "#c51b7d"
            ],
            [
             0.2,
             "#de77ae"
            ],
            [
             0.3,
             "#f1b6da"
            ],
            [
             0.4,
             "#fde0ef"
            ],
            [
             0.5,
             "#f7f7f7"
            ],
            [
             0.6,
             "#e6f5d0"
            ],
            [
             0.7,
             "#b8e186"
            ],
            [
             0.8,
             "#7fbc41"
            ],
            [
             0.9,
             "#4d9221"
            ],
            [
             1,
             "#276419"
            ]
           ],
           "sequential": [
            [
             0,
             "#0d0887"
            ],
            [
             0.1111111111111111,
             "#46039f"
            ],
            [
             0.2222222222222222,
             "#7201a8"
            ],
            [
             0.3333333333333333,
             "#9c179e"
            ],
            [
             0.4444444444444444,
             "#bd3786"
            ],
            [
             0.5555555555555556,
             "#d8576b"
            ],
            [
             0.6666666666666666,
             "#ed7953"
            ],
            [
             0.7777777777777778,
             "#fb9f3a"
            ],
            [
             0.8888888888888888,
             "#fdca26"
            ],
            [
             1,
             "#f0f921"
            ]
           ],
           "sequentialminus": [
            [
             0,
             "#0d0887"
            ],
            [
             0.1111111111111111,
             "#46039f"
            ],
            [
             0.2222222222222222,
             "#7201a8"
            ],
            [
             0.3333333333333333,
             "#9c179e"
            ],
            [
             0.4444444444444444,
             "#bd3786"
            ],
            [
             0.5555555555555556,
             "#d8576b"
            ],
            [
             0.6666666666666666,
             "#ed7953"
            ],
            [
             0.7777777777777778,
             "#fb9f3a"
            ],
            [
             0.8888888888888888,
             "#fdca26"
            ],
            [
             1,
             "#f0f921"
            ]
           ]
          },
          "colorway": [
           "#636efa",
           "#EF553B",
           "#00cc96",
           "#ab63fa",
           "#FFA15A",
           "#19d3f3",
           "#FF6692",
           "#B6E880",
           "#FF97FF",
           "#FECB52"
          ],
          "font": {
           "color": "#2a3f5f"
          },
          "geo": {
           "bgcolor": "white",
           "lakecolor": "white",
           "landcolor": "#E5ECF6",
           "showlakes": true,
           "showland": true,
           "subunitcolor": "white"
          },
          "hoverlabel": {
           "align": "left"
          },
          "hovermode": "closest",
          "mapbox": {
           "style": "light"
          },
          "paper_bgcolor": "white",
          "plot_bgcolor": "#E5ECF6",
          "polar": {
           "angularaxis": {
            "gridcolor": "white",
            "linecolor": "white",
            "ticks": ""
           },
           "bgcolor": "#E5ECF6",
           "radialaxis": {
            "gridcolor": "white",
            "linecolor": "white",
            "ticks": ""
           }
          },
          "scene": {
           "xaxis": {
            "backgroundcolor": "#E5ECF6",
            "gridcolor": "white",
            "gridwidth": 2,
            "linecolor": "white",
            "showbackground": true,
            "ticks": "",
            "zerolinecolor": "white"
           },
           "yaxis": {
            "backgroundcolor": "#E5ECF6",
            "gridcolor": "white",
            "gridwidth": 2,
            "linecolor": "white",
            "showbackground": true,
            "ticks": "",
            "zerolinecolor": "white"
           },
           "zaxis": {
            "backgroundcolor": "#E5ECF6",
            "gridcolor": "white",
            "gridwidth": 2,
            "linecolor": "white",
            "showbackground": true,
            "ticks": "",
            "zerolinecolor": "white"
           }
          },
          "shapedefaults": {
           "line": {
            "color": "#2a3f5f"
           }
          },
          "ternary": {
           "aaxis": {
            "gridcolor": "white",
            "linecolor": "white",
            "ticks": ""
           },
           "baxis": {
            "gridcolor": "white",
            "linecolor": "white",
            "ticks": ""
           },
           "bgcolor": "#E5ECF6",
           "caxis": {
            "gridcolor": "white",
            "linecolor": "white",
            "ticks": ""
           }
          },
          "title": {
           "x": 0.05
          },
          "xaxis": {
           "automargin": true,
           "gridcolor": "white",
           "linecolor": "white",
           "ticks": "",
           "title": {
            "standoff": 15
           },
           "zerolinecolor": "white",
           "zerolinewidth": 2
          },
          "yaxis": {
           "automargin": true,
           "gridcolor": "white",
           "linecolor": "white",
           "ticks": "",
           "title": {
            "standoff": 15
           },
           "zerolinecolor": "white",
           "zerolinewidth": 2
          }
         }
        },
        "title": {
         "font": {
          "color": "#4D5663"
         }
        },
        "xaxis": {
         "anchor": "y",
         "domain": [
          0,
          1
         ],
         "gridcolor": "#E1E5ED",
         "matches": "x5",
         "showgrid": true,
         "showticklabels": false,
         "tickfont": {
          "color": "#4D5663"
         },
         "title": {
          "font": {
           "color": "#4D5663"
          },
          "text": ""
         },
         "zerolinecolor": "#E1E5ED"
        },
        "xaxis2": {
         "anchor": "y2",
         "domain": [
          0,
          1
         ],
         "gridcolor": "#E1E5ED",
         "matches": "x5",
         "showgrid": true,
         "showticklabels": false,
         "tickfont": {
          "color": "#4D5663"
         },
         "title": {
          "font": {
           "color": "#4D5663"
          },
          "text": ""
         },
         "zerolinecolor": "#E1E5ED"
        },
        "xaxis3": {
         "anchor": "y3",
         "domain": [
          0,
          1
         ],
         "gridcolor": "#E1E5ED",
         "matches": "x5",
         "showgrid": true,
         "showticklabels": false,
         "tickfont": {
          "color": "#4D5663"
         },
         "title": {
          "font": {
           "color": "#4D5663"
          },
          "text": ""
         },
         "zerolinecolor": "#E1E5ED"
        },
        "xaxis4": {
         "anchor": "y4",
         "domain": [
          0,
          1
         ],
         "gridcolor": "#E1E5ED",
         "matches": "x5",
         "showgrid": true,
         "showticklabels": false,
         "tickfont": {
          "color": "#4D5663"
         },
         "title": {
          "font": {
           "color": "#4D5663"
          },
          "text": ""
         },
         "zerolinecolor": "#E1E5ED"
        },
        "xaxis5": {
         "anchor": "y5",
         "domain": [
          0,
          1
         ],
         "gridcolor": "#E1E5ED",
         "showgrid": true,
         "tickfont": {
          "color": "#4D5663"
         },
         "title": {
          "font": {
           "color": "#4D5663"
          },
          "text": ""
         },
         "zerolinecolor": "#E1E5ED"
        },
        "yaxis": {
         "anchor": "x",
         "domain": [
          0.848,
          1
         ],
         "gridcolor": "#E1E5ED",
         "showgrid": true,
         "tickfont": {
          "color": "#4D5663"
         },
         "title": {
          "font": {
           "color": "#4D5663"
          },
          "text": ""
         },
         "zerolinecolor": "#E1E5ED"
        },
        "yaxis2": {
         "anchor": "x2",
         "domain": [
          0.6359999999999999,
          0.7879999999999999
         ],
         "gridcolor": "#E1E5ED",
         "showgrid": true,
         "tickfont": {
          "color": "#4D5663"
         },
         "title": {
          "font": {
           "color": "#4D5663"
          },
          "text": ""
         },
         "zerolinecolor": "#E1E5ED"
        },
        "yaxis3": {
         "anchor": "x3",
         "domain": [
          0.424,
          0.576
         ],
         "gridcolor": "#E1E5ED",
         "showgrid": true,
         "tickfont": {
          "color": "#4D5663"
         },
         "title": {
          "font": {
           "color": "#4D5663"
          },
          "text": ""
         },
         "zerolinecolor": "#E1E5ED"
        },
        "yaxis4": {
         "anchor": "x4",
         "domain": [
          0.212,
          0.364
         ],
         "gridcolor": "#E1E5ED",
         "showgrid": true,
         "tickfont": {
          "color": "#4D5663"
         },
         "title": {
          "font": {
           "color": "#4D5663"
          },
          "text": ""
         },
         "zerolinecolor": "#E1E5ED"
        },
        "yaxis5": {
         "anchor": "x5",
         "domain": [
          0,
          0.152
         ],
         "gridcolor": "#E1E5ED",
         "showgrid": true,
         "tickfont": {
          "color": "#4D5663"
         },
         "title": {
          "font": {
           "color": "#4D5663"
          },
          "text": ""
         },
         "zerolinecolor": "#E1E5ED"
        }
       }
      },
      "text/html": [
       "<div>                            <div id=\"9945ec52-581f-4a89-be7c-9c7090a48823\" class=\"plotly-graph-div\" style=\"height:525px; width:100%;\"></div>            <script type=\"text/javascript\">                require([\"plotly\"], function(Plotly) {                    window.PLOTLYENV=window.PLOTLYENV || {};                                    if (document.getElementById(\"9945ec52-581f-4a89-be7c-9c7090a48823\")) {                    Plotly.newPlot(                        \"9945ec52-581f-4a89-be7c-9c7090a48823\",                        [{\"fill\":\"tozeroy\",\"fillcolor\":\"rgba(255, 153, 51, 0.3)\",\"line\":{\"color\":\"rgba(255, 153, 51, 1.0)\",\"dash\":\"solid\",\"shape\":\"linear\",\"width\":1.3},\"mode\":\"lines\",\"name\":\"LBR.WY\",\"text\":\"\",\"x\":[\"2015-01-01\",\"2015-01-02\",\"2015-01-03\",\"2015-01-04\",\"2015-01-05\",\"2015-01-06\",\"2015-01-07\",\"2015-01-08\",\"2015-01-09\",\"2015-01-10\",\"2015-01-11\",\"2015-01-12\",\"2015-01-13\",\"2015-01-14\",\"2015-01-15\",\"2015-01-16\",\"2015-01-17\",\"2015-01-18\",\"2015-01-19\",\"2015-01-20\",\"2015-01-21\",\"2015-01-22\",\"2015-01-23\",\"2015-01-24\",\"2015-01-25\",\"2015-01-26\",\"2015-01-27\",\"2015-01-28\",\"2015-01-29\",\"2015-01-30\",\"2015-01-31\",\"2015-02-01\",\"2015-02-02\",\"2015-02-03\",\"2015-02-04\",\"2015-02-05\",\"2015-02-06\",\"2015-02-07\",\"2015-02-08\",\"2015-02-09\",\"2015-02-10\",\"2015-02-11\",\"2015-02-12\",\"2015-02-13\",\"2015-02-14\",\"2015-02-15\",\"2015-02-16\",\"2015-02-17\",\"2015-02-18\",\"2015-02-19\",\"2015-02-20\",\"2015-02-21\",\"2015-02-22\",\"2015-02-23\",\"2015-02-24\",\"2015-02-25\",\"2015-02-26\",\"2015-02-27\",\"2015-02-28\",\"2015-03-01\",\"2015-03-02\",\"2015-03-03\",\"2015-03-04\",\"2015-03-05\",\"2015-03-06\",\"2015-03-07\",\"2015-03-08\",\"2015-03-09\",\"2015-03-10\",\"2015-03-11\",\"2015-03-12\",\"2015-03-13\",\"2015-03-14\",\"2015-03-15\",\"2015-03-16\",\"2015-03-17\",\"2015-03-18\",\"2015-03-19\",\"2015-03-20\",\"2015-03-21\",\"2015-03-22\",\"2015-03-23\",\"2015-03-24\",\"2015-03-25\",\"2015-03-26\",\"2015-03-27\",\"2015-03-28\",\"2015-03-29\",\"2015-03-30\",\"2015-03-31\",\"2015-04-01\",\"2015-04-02\",\"2015-04-03\",\"2015-04-04\",\"2015-04-05\",\"2015-04-06\",\"2015-04-07\",\"2015-04-08\",\"2015-04-09\",\"2015-04-10\"],\"xaxis\":\"x\",\"y\":[-0.11230767780112463,-1.1761267071827024,-3.4128840649603456,-2.309425843109868,-2.92018366246973,-4.179480052197347,-3.600203573767418,-3.4322729494334934,-2.923277631131775,-4.411690973278205,-3.351972289325209,-2.920089357378229,-2.60731605859374,-3.012510792243233,-3.514513545742,-2.992015450640742,-2.450359699733233,-3.081700358507281,-2.2370391446024396,-3.4522971686457797,-2.2725457061630365,-0.8900185220766617,-0.08121343287996463,-0.05672134629330826,1.4618435580670883,1.6767063539880511,2.7050548821901264,2.4743679767671956,2.874235010379107,3.2674580725475715,2.9826114591867614,2.6842928637561645,2.0999090592681515,-0.6738670257958339,0.27951374339947854,0.3913852272209307,-0.1369116930424713,-0.24289813996191878,-0.5592975857880707,0.11144427849883332,1.2070441979155846,1.8365057213757172,1.0273984247074803,1.5019291329742614,1.7696885701627942,1.6647138899121727,1.9178486382601239,3.5536092445667182,4.369809598694526,4.16874491452183,5.02615171563986,5.209670465740327,5.552079115449705,6.410091876333485,6.622670174529964,5.151122071380034,6.794510186113808,9.276189739157548,8.606146137076061,9.508272667940314,10.130635801295043,11.36129753436214,12.468040319026656,13.7353086318087,15.187624433144261,14.420252954118391,14.635955503379554,14.09245523702267,13.485928320431938,13.696372349132206,15.688722675199136,16.601746693681516,16.865031001641444,18.105103122390947,19.143727508909564,17.890635724748975,17.055383085729893,16.636880261855467,16.068937540378112,17.321188085668084,16.97971856389278,17.132032822763552,16.9352547019081,15.664732378632857,14.468931510908703,14.402652946690159,13.79850544813422,15.71384425241778,16.23766424009635,16.71989664870416,18.68391512284776,17.907085353706695,18.882649459704478,19.766743052805,19.81872155443846,20.292692961520373,20.758638879550066,21.142391573290457,21.766388025273518,22.572657770100317],\"yaxis\":\"y\",\"type\":\"scatter\"},{\"fill\":\"tozeroy\",\"fillcolor\":\"rgba(55, 128, 191, 0.3)\",\"line\":{\"color\":\"rgba(55, 128, 191, 1.0)\",\"dash\":\"solid\",\"shape\":\"linear\",\"width\":1.3},\"mode\":\"lines\",\"name\":\"XVK.HG\",\"text\":\"\",\"x\":[\"2015-01-01\",\"2015-01-02\",\"2015-01-03\",\"2015-01-04\",\"2015-01-05\",\"2015-01-06\",\"2015-01-07\",\"2015-01-08\",\"2015-01-09\",\"2015-01-10\",\"2015-01-11\",\"2015-01-12\",\"2015-01-13\",\"2015-01-14\",\"2015-01-15\",\"2015-01-16\",\"2015-01-17\",\"2015-01-18\",\"2015-01-19\",\"2015-01-20\",\"2015-01-21\",\"2015-01-22\",\"2015-01-23\",\"2015-01-24\",\"2015-01-25\",\"2015-01-26\",\"2015-01-27\",\"2015-01-28\",\"2015-01-29\",\"2015-01-30\",\"2015-01-31\",\"2015-02-01\",\"2015-02-02\",\"2015-02-03\",\"2015-02-04\",\"2015-02-05\",\"2015-02-06\",\"2015-02-07\",\"2015-02-08\",\"2015-02-09\",\"2015-02-10\",\"2015-02-11\",\"2015-02-12\",\"2015-02-13\",\"2015-02-14\",\"2015-02-15\",\"2015-02-16\",\"2015-02-17\",\"2015-02-18\",\"2015-02-19\",\"2015-02-20\",\"2015-02-21\",\"2015-02-22\",\"2015-02-23\",\"2015-02-24\",\"2015-02-25\",\"2015-02-26\",\"2015-02-27\",\"2015-02-28\",\"2015-03-01\",\"2015-03-02\",\"2015-03-03\",\"2015-03-04\",\"2015-03-05\",\"2015-03-06\",\"2015-03-07\",\"2015-03-08\",\"2015-03-09\",\"2015-03-10\",\"2015-03-11\",\"2015-03-12\",\"2015-03-13\",\"2015-03-14\",\"2015-03-15\",\"2015-03-16\",\"2015-03-17\",\"2015-03-18\",\"2015-03-19\",\"2015-03-20\",\"2015-03-21\",\"2015-03-22\",\"2015-03-23\",\"2015-03-24\",\"2015-03-25\",\"2015-03-26\",\"2015-03-27\",\"2015-03-28\",\"2015-03-29\",\"2015-03-30\",\"2015-03-31\",\"2015-04-01\",\"2015-04-02\",\"2015-04-03\",\"2015-04-04\",\"2015-04-05\",\"2015-04-06\",\"2015-04-07\",\"2015-04-08\",\"2015-04-09\",\"2015-04-10\"],\"xaxis\":\"x2\",\"y\":[-0.17731877217194497,-1.4483873859213983,-1.228414201765724,-0.19228261959693738,-1.6625204642152858,-1.7423281212819668,-1.9145576410620304,-0.9556696367093316,-0.6760372774027417,-0.7080927345084422,-0.8690954463627312,-0.5380150753069772,-1.5380669910769187,-2.1657447362763937,-3.9199800997702106,-3.765345353883525,-1.8234512616098713,-2.1524597658434694,-3.4212882177146042,-1.63806114185343,-1.7235823792270937,-2.461594919436954,-1.4495659663816234,-0.8157043495647924,-0.7064334101098504,-0.2957766959599854,-1.1964436651700052,-1.1563555232647051,-0.5092905979242507,1.2077161653292605,1.48998879466536,1.4751387921063093,0.3519130297732005,-0.5729996187361135,-0.8408993764874066,-1.3363524901771189,-2.4020382181423816,-3.146276282512812,-2.781501728201313,-3.4159582531745656,-3.0992460264587613,-2.258547486548835,-2.6487508834136815,-2.0543580233459653,-2.9540033387682985,-1.1195617539875156,-1.1041886361948134,-2.551995323095495,-1.9580373700462046,-2.4284500502596376,-1.6421167327612656,-1.0647499546353982,0.27226279136951104,-0.25754829038622684,-1.0736002680369754,-0.710739898449134,-0.382986521717203,-0.7159441968300432,-1.0961511448025205,-0.9012340545902179,-2.332743569521159,-2.326135865415458,-1.5949885836048932,-1.1759278453996844,-0.46987388044271206,-1.148896258801082,-2.519385692979626,-1.2343279467639163,-0.37751514000089714,-0.12858880533615633,0.19361778851303016,0.08109075270967017,0.6328920834429468,0.3706590917379541,0.39523463101699685,1.9225769711211882,1.834350621990984,1.5887447985370085,2.29716717357274,4.649379464398094,4.7606636654699885,5.76509515766062,6.987367470411911,7.103644796797102,6.932625101562097,6.124840245593345,5.520247054705839,6.101557709763686,4.48583593949591,5.341668541860299,5.641572817284036,6.558840779125044,7.246418816329876,6.3582089841720215,5.961599591529678,7.510950620985404,8.472307100373563,9.066862432258949,7.6872120436110345,9.25932700733803],\"yaxis\":\"y2\",\"type\":\"scatter\"},{\"fill\":\"tozeroy\",\"fillcolor\":\"rgba(50, 171, 96, 0.3)\",\"line\":{\"color\":\"rgba(50, 171, 96, 1.0)\",\"dash\":\"solid\",\"shape\":\"linear\",\"width\":1.3},\"mode\":\"lines\",\"name\":\"KRP.KI\",\"text\":\"\",\"x\":[\"2015-01-01\",\"2015-01-02\",\"2015-01-03\",\"2015-01-04\",\"2015-01-05\",\"2015-01-06\",\"2015-01-07\",\"2015-01-08\",\"2015-01-09\",\"2015-01-10\",\"2015-01-11\",\"2015-01-12\",\"2015-01-13\",\"2015-01-14\",\"2015-01-15\",\"2015-01-16\",\"2015-01-17\",\"2015-01-18\",\"2015-01-19\",\"2015-01-20\",\"2015-01-21\",\"2015-01-22\",\"2015-01-23\",\"2015-01-24\",\"2015-01-25\",\"2015-01-26\",\"2015-01-27\",\"2015-01-28\",\"2015-01-29\",\"2015-01-30\",\"2015-01-31\",\"2015-02-01\",\"2015-02-02\",\"2015-02-03\",\"2015-02-04\",\"2015-02-05\",\"2015-02-06\",\"2015-02-07\",\"2015-02-08\",\"2015-02-09\",\"2015-02-10\",\"2015-02-11\",\"2015-02-12\",\"2015-02-13\",\"2015-02-14\",\"2015-02-15\",\"2015-02-16\",\"2015-02-17\",\"2015-02-18\",\"2015-02-19\",\"2015-02-20\",\"2015-02-21\",\"2015-02-22\",\"2015-02-23\",\"2015-02-24\",\"2015-02-25\",\"2015-02-26\",\"2015-02-27\",\"2015-02-28\",\"2015-03-01\",\"2015-03-02\",\"2015-03-03\",\"2015-03-04\",\"2015-03-05\",\"2015-03-06\",\"2015-03-07\",\"2015-03-08\",\"2015-03-09\",\"2015-03-10\",\"2015-03-11\",\"2015-03-12\",\"2015-03-13\",\"2015-03-14\",\"2015-03-15\",\"2015-03-16\",\"2015-03-17\",\"2015-03-18\",\"2015-03-19\",\"2015-03-20\",\"2015-03-21\",\"2015-03-22\",\"2015-03-23\",\"2015-03-24\",\"2015-03-25\",\"2015-03-26\",\"2015-03-27\",\"2015-03-28\",\"2015-03-29\",\"2015-03-30\",\"2015-03-31\",\"2015-04-01\",\"2015-04-02\",\"2015-04-03\",\"2015-04-04\",\"2015-04-05\",\"2015-04-06\",\"2015-04-07\",\"2015-04-08\",\"2015-04-09\",\"2015-04-10\"],\"xaxis\":\"x3\",\"y\":[-1.5334596832272418,-1.1017798502770484,-0.460315605290777,1.5809825759575529,-0.31953777020299423,1.1566688090288606,1.0478469479121346,0.2875446812121777,-1.5314424106134128,-0.8505997250934831,-0.7904316853206209,0.7812018631435936,1.2674516040484596,-0.9151718741733497,-0.808154228436904,-2.399767117113896,-2.4457568798855984,-0.37847337707622675,0.43483499613694,-0.13432275588129416,-1.060937836289098,0.05171771359355071,1.3453749143111968,1.3745017049169688,0.597109062698347,0.27777673427121946,1.1497797505592875,1.98406435935295,1.8536281829969092,0.9368586390331517,0.49519729602128587,0.4798971729904742,2.283102135519597,3.9117087586201986,4.78462461655529,5.654898294562508,6.228320765496162,6.017441134272981,5.209274502436159,6.733418682837399,5.8775822188513835,5.129878723025093,3.356115079131235,3.2216530775924106,3.4837909139845684,3.053204074687262,2.332452932517213,1.9959246874360366,2.5899346933494205,3.229513211743858,5.505786082412838,5.7654228972638375,6.3095377232800995,5.697250062824673,5.406678019129971,5.225341463444515,4.637225192834997,3.8657320421762966,3.27278559002892,5.244914634930188,5.275079787399055,4.885226783355755,3.8482138681486835,3.8698456087086814,3.5211787032390993,1.5864420771759504,0.9860637491042057,0.6156895039216541,2.024366983812544,2.7481942257336454,3.2058158452190315,2.0784559605637742,2.1513419611915676,1.1262542666279558,1.7635959189516022,2.9713514461257815,3.15578913593568,3.8856762730382557,4.278127866993516,2.7494940748289496,2.31238064944347,1.2746079528644485,1.9000060586718117,2.2376986023525656,3.0993131306282717,2.0768993874930652,-0.2107743358234111,0.7482431269010217,1.2239130426524234,0.1424526918842446,0.49796356843258466,0.5110098721971982,1.0776512192110637,2.8440699707478037,4.42940340649608,4.59538877594149,4.663574053196861,5.399156328308074,5.875841907445145,6.591228797453229],\"yaxis\":\"y3\",\"type\":\"scatter\"},{\"fill\":\"tozeroy\",\"fillcolor\":\"rgba(128, 0, 128, 0.3)\",\"line\":{\"color\":\"rgba(128, 0, 128, 1.0)\",\"dash\":\"solid\",\"shape\":\"linear\",\"width\":1.3},\"mode\":\"lines\",\"name\":\"UVZ.AH\",\"text\":\"\",\"x\":[\"2015-01-01\",\"2015-01-02\",\"2015-01-03\",\"2015-01-04\",\"2015-01-05\",\"2015-01-06\",\"2015-01-07\",\"2015-01-08\",\"2015-01-09\",\"2015-01-10\",\"2015-01-11\",\"2015-01-12\",\"2015-01-13\",\"2015-01-14\",\"2015-01-15\",\"2015-01-16\",\"2015-01-17\",\"2015-01-18\",\"2015-01-19\",\"2015-01-20\",\"2015-01-21\",\"2015-01-22\",\"2015-01-23\",\"2015-01-24\",\"2015-01-25\",\"2015-01-26\",\"2015-01-27\",\"2015-01-28\",\"2015-01-29\",\"2015-01-30\",\"2015-01-31\",\"2015-02-01\",\"2015-02-02\",\"2015-02-03\",\"2015-02-04\",\"2015-02-05\",\"2015-02-06\",\"2015-02-07\",\"2015-02-08\",\"2015-02-09\",\"2015-02-10\",\"2015-02-11\",\"2015-02-12\",\"2015-02-13\",\"2015-02-14\",\"2015-02-15\",\"2015-02-16\",\"2015-02-17\",\"2015-02-18\",\"2015-02-19\",\"2015-02-20\",\"2015-02-21\",\"2015-02-22\",\"2015-02-23\",\"2015-02-24\",\"2015-02-25\",\"2015-02-26\",\"2015-02-27\",\"2015-02-28\",\"2015-03-01\",\"2015-03-02\",\"2015-03-03\",\"2015-03-04\",\"2015-03-05\",\"2015-03-06\",\"2015-03-07\",\"2015-03-08\",\"2015-03-09\",\"2015-03-10\",\"2015-03-11\",\"2015-03-12\",\"2015-03-13\",\"2015-03-14\",\"2015-03-15\",\"2015-03-16\",\"2015-03-17\",\"2015-03-18\",\"2015-03-19\",\"2015-03-20\",\"2015-03-21\",\"2015-03-22\",\"2015-03-23\",\"2015-03-24\",\"2015-03-25\",\"2015-03-26\",\"2015-03-27\",\"2015-03-28\",\"2015-03-29\",\"2015-03-30\",\"2015-03-31\",\"2015-04-01\",\"2015-04-02\",\"2015-04-03\",\"2015-04-04\",\"2015-04-05\",\"2015-04-06\",\"2015-04-07\",\"2015-04-08\",\"2015-04-09\",\"2015-04-10\"],\"xaxis\":\"x4\",\"y\":[-0.6558710971168659,-0.5807426442603125,-2.4064100783392077,-2.0046758896438965,-2.7121262686574275,-0.45887514836181786,0.6497085154052815,0.843020045997834,1.5703558219962799,-0.8496890239692714,-1.7030489617625535,-1.3584058776675678,-0.8743161502743803,0.440330368682775,0.35627579733454373,-0.36859967896228585,0.035434705342037964,-0.0960157844675539,-0.30563775128178094,-1.4187314202790697,-1.0556017352759404,-0.7996676572343475,-0.7269527421364864,-0.9085663911226861,-1.840362138779137,-1.234270007470362,-1.0532611876175102,-2.7412044488226006,-2.4556342900607677,-3.1457881022660334,-2.4722690832811356,-2.0804639952737194,-2.1365323568011125,-0.9406011240975007,-1.5615851996150163,-2.9582314656753277,-1.4803668216687507,-1.4540866883777637,-0.8197568609551786,-1.5499229736190077,-2.71344918208034,-1.651539203320013,-1.1063095471788151,-0.17767837549499377,-0.2366779881476002,-1.0843670676646682,-2.7833712458168955,-2.5008994698809106,-3.8566986625266733,-4.680145076304453,-5.691907102800089,-4.748627122387022,-4.686850868068088,-4.929864796081534,-5.01469723359658,-3.6868289929678673,-4.784055368054236,-3.957382948127918,-4.276872051787604,-4.187896446607055,-4.124222913869533,-5.9473407919874575,-7.633858381959648,-8.596209677325966,-9.434461413097491,-9.508162318498409,-9.014437319279976,-8.939534312099488,-8.265321099368816,-8.727384807136136,-8.379452833949735,-7.881528767306679,-6.899381624245094,-7.800097632378829,-7.854924410588554,-6.93931506825497,-8.334964489520983,-7.17439045736914,-9.013458089303343,-8.902731963025108,-10.553697706344291,-10.164834238345835,-9.39845074374287,-10.060998296096999,-10.040726411041945,-9.510252979177622,-9.309471198755656,-7.72417742177983,-7.710326046601881,-10.515588669400238,-8.225300128361384,-7.915353950918112,-8.892058359408265,-6.415576952792088,-7.630191765761921,-8.461642798148427,-8.557579243546915,-7.950594637678866,-7.352790755615796,-7.533334087995187],\"yaxis\":\"y4\",\"type\":\"scatter\"},{\"fill\":\"tozeroy\",\"fillcolor\":\"rgba(219, 64, 82, 0.3)\",\"line\":{\"color\":\"rgba(219, 64, 82, 1.0)\",\"dash\":\"solid\",\"shape\":\"linear\",\"width\":1.3},\"mode\":\"lines\",\"name\":\"KMZ.OR\",\"text\":\"\",\"x\":[\"2015-01-01\",\"2015-01-02\",\"2015-01-03\",\"2015-01-04\",\"2015-01-05\",\"2015-01-06\",\"2015-01-07\",\"2015-01-08\",\"2015-01-09\",\"2015-01-10\",\"2015-01-11\",\"2015-01-12\",\"2015-01-13\",\"2015-01-14\",\"2015-01-15\",\"2015-01-16\",\"2015-01-17\",\"2015-01-18\",\"2015-01-19\",\"2015-01-20\",\"2015-01-21\",\"2015-01-22\",\"2015-01-23\",\"2015-01-24\",\"2015-01-25\",\"2015-01-26\",\"2015-01-27\",\"2015-01-28\",\"2015-01-29\",\"2015-01-30\",\"2015-01-31\",\"2015-02-01\",\"2015-02-02\",\"2015-02-03\",\"2015-02-04\",\"2015-02-05\",\"2015-02-06\",\"2015-02-07\",\"2015-02-08\",\"2015-02-09\",\"2015-02-10\",\"2015-02-11\",\"2015-02-12\",\"2015-02-13\",\"2015-02-14\",\"2015-02-15\",\"2015-02-16\",\"2015-02-17\",\"2015-02-18\",\"2015-02-19\",\"2015-02-20\",\"2015-02-21\",\"2015-02-22\",\"2015-02-23\",\"2015-02-24\",\"2015-02-25\",\"2015-02-26\",\"2015-02-27\",\"2015-02-28\",\"2015-03-01\",\"2015-03-02\",\"2015-03-03\",\"2015-03-04\",\"2015-03-05\",\"2015-03-06\",\"2015-03-07\",\"2015-03-08\",\"2015-03-09\",\"2015-03-10\",\"2015-03-11\",\"2015-03-12\",\"2015-03-13\",\"2015-03-14\",\"2015-03-15\",\"2015-03-16\",\"2015-03-17\",\"2015-03-18\",\"2015-03-19\",\"2015-03-20\",\"2015-03-21\",\"2015-03-22\",\"2015-03-23\",\"2015-03-24\",\"2015-03-25\",\"2015-03-26\",\"2015-03-27\",\"2015-03-28\",\"2015-03-29\",\"2015-03-30\",\"2015-03-31\",\"2015-04-01\",\"2015-04-02\",\"2015-04-03\",\"2015-04-04\",\"2015-04-05\",\"2015-04-06\",\"2015-04-07\",\"2015-04-08\",\"2015-04-09\",\"2015-04-10\"],\"xaxis\":\"x5\",\"y\":[-1.3263277310363952,-0.44545980283954756,-2.0374348073995256,-2.4365747351429325,-1.251178571960396,-0.10312186467373263,0.780166830719492,0.8844678439007905,3.0415761573786066,3.381280038592968,4.643569254342215,4.885032068929505,4.12479023137324,3.741710382638172,3.908212228389907,4.908820275877617,5.756500931250631,7.02786297708574,7.463975859310138,8.756139616944008,9.42652705415135,9.772845798526685,11.021074962152184,10.766199332516967,12.641243756751539,12.319997476852574,12.585534942527847,12.402024085583221,11.197711739067548,12.690599967134883,10.813966230482057,11.734211688760922,11.131337133505372,13.91020908044226,14.37534502127577,14.753687177398902,15.021761208256061,15.04665991789794,16.614254061104454,17.856081592587866,17.664671554267986,17.08859594621878,16.69169950690869,16.44401775598507,16.261883572153597,13.870922830630992,11.156157507929068,12.344657199533502,12.026165268435824,10.598339955175042,10.994877663929074,10.918204815824106,10.176060757621697,10.915225204968575,13.150042359122335,14.2064257036339,12.971261282232541,12.936499504682446,12.595690085138552,12.175382175691158,12.901837712230186,11.626724809607593,11.819694735754677,10.661543383888079,11.5865328810326,12.470640475746197,11.566617168071597,11.030451344318468,10.771049084318271,9.478636917054699,8.736125989672894,9.95557161444914,9.490217381288222,10.460513293311875,10.130009615501267,9.781286887590168,9.220252652631206,9.286236491262969,10.205725627616834,10.691536021143055,12.117849356897713,12.328992722621118,12.37021702508759,15.472911338980047,16.0452586106704,15.749722053315532,17.28832052601399,17.223516673423333,16.792685478525975,17.105192671298646,16.09883644365824,16.603696955028063,16.54503376777978,15.767102601981293,16.331932941389223,15.202681102958998,15.276038096041844,15.671708802430278,14.446030716844495,16.416667552021188],\"yaxis\":\"y5\",\"type\":\"scatter\"}],                        {\"legend\":{\"bgcolor\":\"#F5F6F9\",\"font\":{\"color\":\"#4D5663\"}},\"paper_bgcolor\":\"#F5F6F9\",\"plot_bgcolor\":\"#F5F6F9\",\"template\":{\"data\":{\"barpolar\":[{\"marker\":{\"line\":{\"color\":\"#E5ECF6\",\"width\":0.5},\"pattern\":{\"fillmode\":\"overlay\",\"size\":10,\"solidity\":0.2}},\"type\":\"barpolar\"}],\"bar\":[{\"error_x\":{\"color\":\"#2a3f5f\"},\"error_y\":{\"color\":\"#2a3f5f\"},\"marker\":{\"line\":{\"color\":\"#E5ECF6\",\"width\":0.5},\"pattern\":{\"fillmode\":\"overlay\",\"size\":10,\"solidity\":0.2}},\"type\":\"bar\"}],\"carpet\":[{\"aaxis\":{\"endlinecolor\":\"#2a3f5f\",\"gridcolor\":\"white\",\"linecolor\":\"white\",\"minorgridcolor\":\"white\",\"startlinecolor\":\"#2a3f5f\"},\"baxis\":{\"endlinecolor\":\"#2a3f5f\",\"gridcolor\":\"white\",\"linecolor\":\"white\",\"minorgridcolor\":\"white\",\"startlinecolor\":\"#2a3f5f\"},\"type\":\"carpet\"}],\"choropleth\":[{\"colorbar\":{\"outlinewidth\":0,\"ticks\":\"\"},\"type\":\"choropleth\"}],\"contourcarpet\":[{\"colorbar\":{\"outlinewidth\":0,\"ticks\":\"\"},\"type\":\"contourcarpet\"}],\"contour\":[{\"colorbar\":{\"outlinewidth\":0,\"ticks\":\"\"},\"colorscale\":[[0.0,\"#0d0887\"],[0.1111111111111111,\"#46039f\"],[0.2222222222222222,\"#7201a8\"],[0.3333333333333333,\"#9c179e\"],[0.4444444444444444,\"#bd3786\"],[0.5555555555555556,\"#d8576b\"],[0.6666666666666666,\"#ed7953\"],[0.7777777777777778,\"#fb9f3a\"],[0.8888888888888888,\"#fdca26\"],[1.0,\"#f0f921\"]],\"type\":\"contour\"}],\"heatmapgl\":[{\"colorbar\":{\"outlinewidth\":0,\"ticks\":\"\"},\"colorscale\":[[0.0,\"#0d0887\"],[0.1111111111111111,\"#46039f\"],[0.2222222222222222,\"#7201a8\"],[0.3333333333333333,\"#9c179e\"],[0.4444444444444444,\"#bd3786\"],[0.5555555555555556,\"#d8576b\"],[0.6666666666666666,\"#ed7953\"],[0.7777777777777778,\"#fb9f3a\"],[0.8888888888888888,\"#fdca26\"],[1.0,\"#f0f921\"]],\"type\":\"heatmapgl\"}],\"heatmap\":[{\"colorbar\":{\"outlinewidth\":0,\"ticks\":\"\"},\"colorscale\":[[0.0,\"#0d0887\"],[0.1111111111111111,\"#46039f\"],[0.2222222222222222,\"#7201a8\"],[0.3333333333333333,\"#9c179e\"],[0.4444444444444444,\"#bd3786\"],[0.5555555555555556,\"#d8576b\"],[0.6666666666666666,\"#ed7953\"],[0.7777777777777778,\"#fb9f3a\"],[0.8888888888888888,\"#fdca26\"],[1.0,\"#f0f921\"]],\"type\":\"heatmap\"}],\"histogram2dcontour\":[{\"colorbar\":{\"outlinewidth\":0,\"ticks\":\"\"},\"colorscale\":[[0.0,\"#0d0887\"],[0.1111111111111111,\"#46039f\"],[0.2222222222222222,\"#7201a8\"],[0.3333333333333333,\"#9c179e\"],[0.4444444444444444,\"#bd3786\"],[0.5555555555555556,\"#d8576b\"],[0.6666666666666666,\"#ed7953\"],[0.7777777777777778,\"#fb9f3a\"],[0.8888888888888888,\"#fdca26\"],[1.0,\"#f0f921\"]],\"type\":\"histogram2dcontour\"}],\"histogram2d\":[{\"colorbar\":{\"outlinewidth\":0,\"ticks\":\"\"},\"colorscale\":[[0.0,\"#0d0887\"],[0.1111111111111111,\"#46039f\"],[0.2222222222222222,\"#7201a8\"],[0.3333333333333333,\"#9c179e\"],[0.4444444444444444,\"#bd3786\"],[0.5555555555555556,\"#d8576b\"],[0.6666666666666666,\"#ed7953\"],[0.7777777777777778,\"#fb9f3a\"],[0.8888888888888888,\"#fdca26\"],[1.0,\"#f0f921\"]],\"type\":\"histogram2d\"}],\"histogram\":[{\"marker\":{\"pattern\":{\"fillmode\":\"overlay\",\"size\":10,\"solidity\":0.2}},\"type\":\"histogram\"}],\"mesh3d\":[{\"colorbar\":{\"outlinewidth\":0,\"ticks\":\"\"},\"type\":\"mesh3d\"}],\"parcoords\":[{\"line\":{\"colorbar\":{\"outlinewidth\":0,\"ticks\":\"\"}},\"type\":\"parcoords\"}],\"pie\":[{\"automargin\":true,\"type\":\"pie\"}],\"scatter3d\":[{\"line\":{\"colorbar\":{\"outlinewidth\":0,\"ticks\":\"\"}},\"marker\":{\"colorbar\":{\"outlinewidth\":0,\"ticks\":\"\"}},\"type\":\"scatter3d\"}],\"scattercarpet\":[{\"marker\":{\"colorbar\":{\"outlinewidth\":0,\"ticks\":\"\"}},\"type\":\"scattercarpet\"}],\"scattergeo\":[{\"marker\":{\"colorbar\":{\"outlinewidth\":0,\"ticks\":\"\"}},\"type\":\"scattergeo\"}],\"scattergl\":[{\"marker\":{\"colorbar\":{\"outlinewidth\":0,\"ticks\":\"\"}},\"type\":\"scattergl\"}],\"scattermapbox\":[{\"marker\":{\"colorbar\":{\"outlinewidth\":0,\"ticks\":\"\"}},\"type\":\"scattermapbox\"}],\"scatterpolargl\":[{\"marker\":{\"colorbar\":{\"outlinewidth\":0,\"ticks\":\"\"}},\"type\":\"scatterpolargl\"}],\"scatterpolar\":[{\"marker\":{\"colorbar\":{\"outlinewidth\":0,\"ticks\":\"\"}},\"type\":\"scatterpolar\"}],\"scatter\":[{\"marker\":{\"colorbar\":{\"outlinewidth\":0,\"ticks\":\"\"}},\"type\":\"scatter\"}],\"scatterternary\":[{\"marker\":{\"colorbar\":{\"outlinewidth\":0,\"ticks\":\"\"}},\"type\":\"scatterternary\"}],\"surface\":[{\"colorbar\":{\"outlinewidth\":0,\"ticks\":\"\"},\"colorscale\":[[0.0,\"#0d0887\"],[0.1111111111111111,\"#46039f\"],[0.2222222222222222,\"#7201a8\"],[0.3333333333333333,\"#9c179e\"],[0.4444444444444444,\"#bd3786\"],[0.5555555555555556,\"#d8576b\"],[0.6666666666666666,\"#ed7953\"],[0.7777777777777778,\"#fb9f3a\"],[0.8888888888888888,\"#fdca26\"],[1.0,\"#f0f921\"]],\"type\":\"surface\"}],\"table\":[{\"cells\":{\"fill\":{\"color\":\"#EBF0F8\"},\"line\":{\"color\":\"white\"}},\"header\":{\"fill\":{\"color\":\"#C8D4E3\"},\"line\":{\"color\":\"white\"}},\"type\":\"table\"}]},\"layout\":{\"annotationdefaults\":{\"arrowcolor\":\"#2a3f5f\",\"arrowhead\":0,\"arrowwidth\":1},\"autotypenumbers\":\"strict\",\"coloraxis\":{\"colorbar\":{\"outlinewidth\":0,\"ticks\":\"\"}},\"colorscale\":{\"diverging\":[[0,\"#8e0152\"],[0.1,\"#c51b7d\"],[0.2,\"#de77ae\"],[0.3,\"#f1b6da\"],[0.4,\"#fde0ef\"],[0.5,\"#f7f7f7\"],[0.6,\"#e6f5d0\"],[0.7,\"#b8e186\"],[0.8,\"#7fbc41\"],[0.9,\"#4d9221\"],[1,\"#276419\"]],\"sequential\":[[0.0,\"#0d0887\"],[0.1111111111111111,\"#46039f\"],[0.2222222222222222,\"#7201a8\"],[0.3333333333333333,\"#9c179e\"],[0.4444444444444444,\"#bd3786\"],[0.5555555555555556,\"#d8576b\"],[0.6666666666666666,\"#ed7953\"],[0.7777777777777778,\"#fb9f3a\"],[0.8888888888888888,\"#fdca26\"],[1.0,\"#f0f921\"]],\"sequentialminus\":[[0.0,\"#0d0887\"],[0.1111111111111111,\"#46039f\"],[0.2222222222222222,\"#7201a8\"],[0.3333333333333333,\"#9c179e\"],[0.4444444444444444,\"#bd3786\"],[0.5555555555555556,\"#d8576b\"],[0.6666666666666666,\"#ed7953\"],[0.7777777777777778,\"#fb9f3a\"],[0.8888888888888888,\"#fdca26\"],[1.0,\"#f0f921\"]]},\"colorway\":[\"#636efa\",\"#EF553B\",\"#00cc96\",\"#ab63fa\",\"#FFA15A\",\"#19d3f3\",\"#FF6692\",\"#B6E880\",\"#FF97FF\",\"#FECB52\"],\"font\":{\"color\":\"#2a3f5f\"},\"geo\":{\"bgcolor\":\"white\",\"lakecolor\":\"white\",\"landcolor\":\"#E5ECF6\",\"showlakes\":true,\"showland\":true,\"subunitcolor\":\"white\"},\"hoverlabel\":{\"align\":\"left\"},\"hovermode\":\"closest\",\"mapbox\":{\"style\":\"light\"},\"paper_bgcolor\":\"white\",\"plot_bgcolor\":\"#E5ECF6\",\"polar\":{\"angularaxis\":{\"gridcolor\":\"white\",\"linecolor\":\"white\",\"ticks\":\"\"},\"bgcolor\":\"#E5ECF6\",\"radialaxis\":{\"gridcolor\":\"white\",\"linecolor\":\"white\",\"ticks\":\"\"}},\"scene\":{\"xaxis\":{\"backgroundcolor\":\"#E5ECF6\",\"gridcolor\":\"white\",\"gridwidth\":2,\"linecolor\":\"white\",\"showbackground\":true,\"ticks\":\"\",\"zerolinecolor\":\"white\"},\"yaxis\":{\"backgroundcolor\":\"#E5ECF6\",\"gridcolor\":\"white\",\"gridwidth\":2,\"linecolor\":\"white\",\"showbackground\":true,\"ticks\":\"\",\"zerolinecolor\":\"white\"},\"zaxis\":{\"backgroundcolor\":\"#E5ECF6\",\"gridcolor\":\"white\",\"gridwidth\":2,\"linecolor\":\"white\",\"showbackground\":true,\"ticks\":\"\",\"zerolinecolor\":\"white\"}},\"shapedefaults\":{\"line\":{\"color\":\"#2a3f5f\"}},\"ternary\":{\"aaxis\":{\"gridcolor\":\"white\",\"linecolor\":\"white\",\"ticks\":\"\"},\"baxis\":{\"gridcolor\":\"white\",\"linecolor\":\"white\",\"ticks\":\"\"},\"bgcolor\":\"#E5ECF6\",\"caxis\":{\"gridcolor\":\"white\",\"linecolor\":\"white\",\"ticks\":\"\"}},\"title\":{\"x\":0.05},\"xaxis\":{\"automargin\":true,\"gridcolor\":\"white\",\"linecolor\":\"white\",\"ticks\":\"\",\"title\":{\"standoff\":15},\"zerolinecolor\":\"white\",\"zerolinewidth\":2},\"yaxis\":{\"automargin\":true,\"gridcolor\":\"white\",\"linecolor\":\"white\",\"ticks\":\"\",\"title\":{\"standoff\":15},\"zerolinecolor\":\"white\",\"zerolinewidth\":2}}},\"title\":{\"font\":{\"color\":\"#4D5663\"}},\"xaxis\":{\"anchor\":\"y\",\"domain\":[0.0,1.0],\"gridcolor\":\"#E1E5ED\",\"matches\":\"x5\",\"showgrid\":true,\"showticklabels\":false,\"tickfont\":{\"color\":\"#4D5663\"},\"title\":{\"text\":\"\",\"font\":{\"color\":\"#4D5663\"}},\"zerolinecolor\":\"#E1E5ED\"},\"yaxis\":{\"anchor\":\"x\",\"domain\":[0.848,1.0],\"gridcolor\":\"#E1E5ED\",\"showgrid\":true,\"tickfont\":{\"color\":\"#4D5663\"},\"title\":{\"text\":\"\",\"font\":{\"color\":\"#4D5663\"}},\"zerolinecolor\":\"#E1E5ED\"},\"xaxis2\":{\"anchor\":\"y2\",\"domain\":[0.0,1.0],\"gridcolor\":\"#E1E5ED\",\"matches\":\"x5\",\"showgrid\":true,\"showticklabels\":false,\"tickfont\":{\"color\":\"#4D5663\"},\"title\":{\"text\":\"\",\"font\":{\"color\":\"#4D5663\"}},\"zerolinecolor\":\"#E1E5ED\"},\"yaxis2\":{\"anchor\":\"x2\",\"domain\":[0.6359999999999999,0.7879999999999999],\"gridcolor\":\"#E1E5ED\",\"showgrid\":true,\"tickfont\":{\"color\":\"#4D5663\"},\"title\":{\"text\":\"\",\"font\":{\"color\":\"#4D5663\"}},\"zerolinecolor\":\"#E1E5ED\"},\"xaxis3\":{\"anchor\":\"y3\",\"domain\":[0.0,1.0],\"gridcolor\":\"#E1E5ED\",\"matches\":\"x5\",\"showgrid\":true,\"showticklabels\":false,\"tickfont\":{\"color\":\"#4D5663\"},\"title\":{\"text\":\"\",\"font\":{\"color\":\"#4D5663\"}},\"zerolinecolor\":\"#E1E5ED\"},\"yaxis3\":{\"anchor\":\"x3\",\"domain\":[0.424,0.576],\"gridcolor\":\"#E1E5ED\",\"showgrid\":true,\"tickfont\":{\"color\":\"#4D5663\"},\"title\":{\"text\":\"\",\"font\":{\"color\":\"#4D5663\"}},\"zerolinecolor\":\"#E1E5ED\"},\"xaxis4\":{\"anchor\":\"y4\",\"domain\":[0.0,1.0],\"gridcolor\":\"#E1E5ED\",\"matches\":\"x5\",\"showgrid\":true,\"showticklabels\":false,\"tickfont\":{\"color\":\"#4D5663\"},\"title\":{\"text\":\"\",\"font\":{\"color\":\"#4D5663\"}},\"zerolinecolor\":\"#E1E5ED\"},\"yaxis4\":{\"anchor\":\"x4\",\"domain\":[0.212,0.364],\"gridcolor\":\"#E1E5ED\",\"showgrid\":true,\"tickfont\":{\"color\":\"#4D5663\"},\"title\":{\"text\":\"\",\"font\":{\"color\":\"#4D5663\"}},\"zerolinecolor\":\"#E1E5ED\"},\"xaxis5\":{\"anchor\":\"y5\",\"domain\":[0.0,1.0],\"gridcolor\":\"#E1E5ED\",\"showgrid\":true,\"tickfont\":{\"color\":\"#4D5663\"},\"title\":{\"text\":\"\",\"font\":{\"color\":\"#4D5663\"}},\"zerolinecolor\":\"#E1E5ED\"},\"yaxis5\":{\"anchor\":\"x5\",\"domain\":[0.0,0.152],\"gridcolor\":\"#E1E5ED\",\"showgrid\":true,\"tickfont\":{\"color\":\"#4D5663\"},\"title\":{\"text\":\"\",\"font\":{\"color\":\"#4D5663\"}},\"zerolinecolor\":\"#E1E5ED\"}},                        {\"responsive\": true}                    ).then(function(){\n",
       "                            \n",
       "var gd = document.getElementById('9945ec52-581f-4a89-be7c-9c7090a48823');\n",
       "var x = new MutationObserver(function (mutations, observer) {{\n",
       "        var display = window.getComputedStyle(gd).display;\n",
       "        if (!display || display === 'none') {{\n",
       "            console.log([gd, 'removed!']);\n",
       "            Plotly.purge(gd);\n",
       "            observer.disconnect();\n",
       "        }}\n",
       "}});\n",
       "\n",
       "// Listen for the removal of the full notebook cells\n",
       "var notebookContainer = gd.closest('#notebook-container');\n",
       "if (notebookContainer) {{\n",
       "    x.observe(notebookContainer, {childList: true});\n",
       "}}\n",
       "\n",
       "// Listen for the clearing of the current output cell\n",
       "var outputEl = gd.closest('.output');\n",
       "if (outputEl) {{\n",
       "    x.observe(outputEl, {childList: true});\n",
       "}}\n",
       "\n",
       "                        })                };                });            </script>        </div>"
      ]
     },
     "metadata": {},
     "output_type": "display_data"
    }
   ],
   "source": [
    "\n",
    "\n",
    "df=cf.datagen.lines(5)\n",
    "fig = df.iplot(asFigure=True, subplots=True, shape=(5,1), shared_xaxes=True, fill=True)\n",
    "pyo.plot(fig,filename='timeseries.html')\n",
    "fig.show()\n",
    "\n"
   ]
  },
  {
   "cell_type": "code",
   "execution_count": null,
   "id": "8e709fad",
   "metadata": {},
   "outputs": [],
   "source": []
  }
 ],
 "metadata": {
  "kernelspec": {
   "display_name": "Python 3 (ipykernel)",
   "language": "python",
   "name": "python3"
  },
  "language_info": {
   "codemirror_mode": {
    "name": "ipython",
    "version": 3
   },
   "file_extension": ".py",
   "mimetype": "text/x-python",
   "name": "python",
   "nbconvert_exporter": "python",
   "pygments_lexer": "ipython3",
   "version": "3.9.12"
  }
 },
 "nbformat": 4,
 "nbformat_minor": 5
}
